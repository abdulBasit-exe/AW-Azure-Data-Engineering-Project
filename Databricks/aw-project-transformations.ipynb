{
 "cells": [
  {
   "cell_type": "markdown",
   "metadata": {
    "application/vnd.databricks.v1+cell": {
     "cellMetadata": {
      "byteLimit": 2048000,
      "rowLimit": 10000
     },
     "inputWidgets": {},
     "nuid": "64b22440-8c24-4ce4-b6a9-6a3b2999a995",
     "showTitle": false,
     "tableResultSettingsMap": {},
     "title": ""
    }
   },
   "source": [
    "# Bronze Layer"
   ]
  },
  {
   "cell_type": "code",
   "execution_count": null,
   "metadata": {
    "application/vnd.databricks.v1+cell": {
     "cellMetadata": {
      "byteLimit": 2048000,
      "rowLimit": 10000
     },
     "inputWidgets": {},
     "nuid": "d8d6b269-a21e-485d-be91-5a03bc54bdd2",
     "showTitle": false,
     "tableResultSettingsMap": {},
     "title": ""
    }
   },
   "outputs": [],
   "source": [
    "from pyspark.sql.functions import *"
   ]
  },
  {
   "cell_type": "markdown",
   "metadata": {
    "application/vnd.databricks.v1+cell": {
     "cellMetadata": {
      "byteLimit": 2048000,
      "rowLimit": 10000
     },
     "inputWidgets": {},
     "nuid": "ef2d84da-4b94-46d2-8ab6-e03c842f2d2f",
     "showTitle": false,
     "tableResultSettingsMap": {},
     "title": ""
    }
   },
   "source": [
    "## Creating Access to ADLS "
   ]
  },
  {
   "cell_type": "code",
   "execution_count": null,
   "metadata": {
    "application/vnd.databricks.v1+cell": {
     "cellMetadata": {
      "byteLimit": 2048000,
      "rowLimit": 10000
     },
     "inputWidgets": {},
     "nuid": "f8dc3400-ed3b-48d6-be62-d43ab74ddb52",
     "showTitle": false,
     "tableResultSettingsMap": {},
     "title": ""
    }
   },
   "outputs": [],
   "source": [
    "# Set your storage account name and access key\n",
    "storage_account_name = \"awdataprojectbasit\"\n",
    "storage_account_key = \"****************************************************==\"\n",
    "container_name = \"<your-container-name>\"\n",
    "file_path = \"<your-file-path>\"  # e.g., \"folder/data.csv\"\n",
    "\n",
    "# Set Spark config to use the access key\n",
    "spark.conf.set(f\"fs.azure.account.key.{storage_account_name}.dfs.core.windows.net\", storage_account_key)\n"
   ]
  },
  {
   "cell_type": "markdown",
   "metadata": {
    "application/vnd.databricks.v1+cell": {
     "cellMetadata": {
      "byteLimit": 2048000,
      "rowLimit": 10000
     },
     "inputWidgets": {},
     "nuid": "22486798-bd4f-4e91-aa0d-482962535999",
     "showTitle": false,
     "tableResultSettingsMap": {},
     "title": ""
    }
   },
   "source": [
    "### Data Loading using dbutils"
   ]
  },
  {
   "cell_type": "code",
   "execution_count": null,
   "metadata": {
    "application/vnd.databricks.v1+cell": {
     "cellMetadata": {
      "byteLimit": 2048000,
      "rowLimit": 10000
     },
     "inputWidgets": {},
     "nuid": "7725ae1a-ef0c-4b97-8f8b-a8b4e5aecd1d",
     "showTitle": false,
     "tableResultSettingsMap": {},
     "title": ""
    }
   },
   "outputs": [
    {
     "data": {
      "text/plain": [
       "[FileInfo(path='abfss://bronze@awdataprojectbasit.dfs.core.windows.net/calendar/', name='calendar/', size=0, modificationTime=1748349088000),\n",
       " FileInfo(path='abfss://bronze@awdataprojectbasit.dfs.core.windows.net/customers/', name='customers/', size=0, modificationTime=1748349108000),\n",
       " FileInfo(path='abfss://bronze@awdataprojectbasit.dfs.core.windows.net/product-categories/', name='product-categories/', size=0, modificationTime=1748350083000),\n",
       " FileInfo(path='abfss://bronze@awdataprojectbasit.dfs.core.windows.net/product-subcategories/', name='product-subcategories/', size=0, modificationTime=1748349125000),\n",
       " FileInfo(path='abfss://bronze@awdataprojectbasit.dfs.core.windows.net/products/', name='products/', size=0, modificationTime=1748349159000),\n",
       " FileInfo(path='abfss://bronze@awdataprojectbasit.dfs.core.windows.net/returns/', name='returns/', size=0, modificationTime=1748349176000),\n",
       " FileInfo(path='abfss://bronze@awdataprojectbasit.dfs.core.windows.net/sales-2015/', name='sales-2015/', size=0, modificationTime=1748349193000),\n",
       " FileInfo(path='abfss://bronze@awdataprojectbasit.dfs.core.windows.net/sales-2016/', name='sales-2016/', size=0, modificationTime=1748365875000),\n",
       " FileInfo(path='abfss://bronze@awdataprojectbasit.dfs.core.windows.net/sales-2017/', name='sales-2017/', size=0, modificationTime=1748349212000),\n",
       " FileInfo(path='abfss://bronze@awdataprojectbasit.dfs.core.windows.net/territories/', name='territories/', size=0, modificationTime=1748349229000)]"
      ]
     },
     "execution_count": 3,
     "metadata": {},
     "output_type": "execute_result"
    }
   ],
   "source": [
    "dbutils.fs.ls(\"abfss://bronze@awdataprojectbasit.dfs.core.windows.net/\")"
   ]
  },
  {
   "cell_type": "markdown",
   "metadata": {
    "application/vnd.databricks.v1+cell": {
     "cellMetadata": {
      "byteLimit": 2048000,
      "rowLimit": 10000
     },
     "inputWidgets": {},
     "nuid": "fa1845fc-5154-4732-a4f5-66c5f7840f56",
     "showTitle": false,
     "tableResultSettingsMap": {},
     "title": ""
    }
   },
   "source": [
    "### Creating Dataframes"
   ]
  },
  {
   "cell_type": "code",
   "execution_count": null,
   "metadata": {
    "application/vnd.databricks.v1+cell": {
     "cellMetadata": {
      "byteLimit": 2048000,
      "rowLimit": 10000
     },
     "inputWidgets": {},
     "nuid": "0f0f5059-7f0b-44f9-9c57-f6af1c1358b8",
     "showTitle": false,
     "tableResultSettingsMap": {},
     "title": ""
    }
   },
   "outputs": [],
   "source": [
    "df_calender = spark.read.format(\"csv\").option(\"header\", \"true\").option(\"inferSchema\", True).load(\"abfss://bronze@awdataprojectbasit.dfs.core.windows.net/calendar/\")"
   ]
  },
  {
   "cell_type": "code",
   "execution_count": null,
   "metadata": {
    "application/vnd.databricks.v1+cell": {
     "cellMetadata": {
      "byteLimit": 2048000,
      "rowLimit": 10000
     },
     "inputWidgets": {},
     "nuid": "e97f8d1e-e97d-4c4c-aa3b-8423443fd019",
     "showTitle": false,
     "tableResultSettingsMap": {},
     "title": ""
    }
   },
   "outputs": [
    {
     "data": {
      "text/html": [
       "<style scoped>\n",
       "  .table-result-container {\n",
       "    max-height: 300px;\n",
       "    overflow: auto;\n",
       "  }\n",
       "  table, th, td {\n",
       "    border: 1px solid black;\n",
       "    border-collapse: collapse;\n",
       "  }\n",
       "  th, td {\n",
       "    padding: 5px;\n",
       "  }\n",
       "  th {\n",
       "    text-align: left;\n",
       "  }\n",
       "</style><div class='table-result-container'><table class='table-result'><thead style='background-color: white'><tr><th>Date</th></tr></thead><tbody><tr><td>2015-01-01</td></tr><tr><td>2015-01-02</td></tr><tr><td>2015-01-03</td></tr><tr><td>2015-01-04</td></tr><tr><td>2015-01-05</td></tr><tr><td>2015-01-06</td></tr><tr><td>2015-01-07</td></tr><tr><td>2015-01-08</td></tr><tr><td>2015-01-09</td></tr><tr><td>2015-01-10</td></tr><tr><td>2015-01-11</td></tr><tr><td>2015-01-12</td></tr><tr><td>2015-01-13</td></tr><tr><td>2015-01-14</td></tr><tr><td>2015-01-15</td></tr><tr><td>2015-01-16</td></tr><tr><td>2015-01-17</td></tr><tr><td>2015-01-18</td></tr><tr><td>2015-01-19</td></tr><tr><td>2015-01-20</td></tr><tr><td>2015-01-21</td></tr><tr><td>2015-01-22</td></tr><tr><td>2015-01-23</td></tr><tr><td>2015-01-24</td></tr><tr><td>2015-01-25</td></tr><tr><td>2015-01-26</td></tr><tr><td>2015-01-27</td></tr><tr><td>2015-01-28</td></tr><tr><td>2015-01-29</td></tr><tr><td>2015-01-30</td></tr><tr><td>2015-01-31</td></tr><tr><td>2015-02-01</td></tr><tr><td>2015-02-02</td></tr><tr><td>2015-02-03</td></tr><tr><td>2015-02-04</td></tr><tr><td>2015-02-05</td></tr><tr><td>2015-02-06</td></tr><tr><td>2015-02-07</td></tr><tr><td>2015-02-08</td></tr><tr><td>2015-02-09</td></tr><tr><td>2015-02-10</td></tr><tr><td>2015-02-11</td></tr><tr><td>2015-02-12</td></tr><tr><td>2015-02-13</td></tr><tr><td>2015-02-14</td></tr><tr><td>2015-02-15</td></tr><tr><td>2015-02-16</td></tr><tr><td>2015-02-17</td></tr><tr><td>2015-02-18</td></tr><tr><td>2015-02-19</td></tr><tr><td>2015-02-20</td></tr><tr><td>2015-02-21</td></tr><tr><td>2015-02-22</td></tr><tr><td>2015-02-23</td></tr><tr><td>2015-02-24</td></tr><tr><td>2015-02-25</td></tr><tr><td>2015-02-26</td></tr><tr><td>2015-02-27</td></tr><tr><td>2015-02-28</td></tr><tr><td>2015-03-01</td></tr><tr><td>2015-03-02</td></tr><tr><td>2015-03-03</td></tr><tr><td>2015-03-04</td></tr><tr><td>2015-03-05</td></tr><tr><td>2015-03-06</td></tr><tr><td>2015-03-07</td></tr><tr><td>2015-03-08</td></tr><tr><td>2015-03-09</td></tr><tr><td>2015-03-10</td></tr><tr><td>2015-03-11</td></tr><tr><td>2015-03-12</td></tr><tr><td>2015-03-13</td></tr><tr><td>2015-03-14</td></tr><tr><td>2015-03-15</td></tr><tr><td>2015-03-16</td></tr><tr><td>2015-03-17</td></tr><tr><td>2015-03-18</td></tr><tr><td>2015-03-19</td></tr><tr><td>2015-03-20</td></tr><tr><td>2015-03-21</td></tr><tr><td>2015-03-22</td></tr><tr><td>2015-03-23</td></tr><tr><td>2015-03-24</td></tr><tr><td>2015-03-25</td></tr><tr><td>2015-03-26</td></tr><tr><td>2015-03-27</td></tr><tr><td>2015-03-28</td></tr><tr><td>2015-03-29</td></tr><tr><td>2015-03-30</td></tr><tr><td>2015-03-31</td></tr><tr><td>2015-04-01</td></tr><tr><td>2015-04-02</td></tr><tr><td>2015-04-03</td></tr><tr><td>2015-04-04</td></tr><tr><td>2015-04-05</td></tr><tr><td>2015-04-06</td></tr><tr><td>2015-04-07</td></tr><tr><td>2015-04-08</td></tr><tr><td>2015-04-09</td></tr><tr><td>2015-04-10</td></tr><tr><td>2015-04-11</td></tr><tr><td>2015-04-12</td></tr><tr><td>2015-04-13</td></tr><tr><td>2015-04-14</td></tr><tr><td>2015-04-15</td></tr><tr><td>2015-04-16</td></tr><tr><td>2015-04-17</td></tr><tr><td>2015-04-18</td></tr><tr><td>2015-04-19</td></tr><tr><td>2015-04-20</td></tr><tr><td>2015-04-21</td></tr><tr><td>2015-04-22</td></tr><tr><td>2015-04-23</td></tr><tr><td>2015-04-24</td></tr><tr><td>2015-04-25</td></tr><tr><td>2015-04-26</td></tr><tr><td>2015-04-27</td></tr><tr><td>2015-04-28</td></tr><tr><td>2015-04-29</td></tr><tr><td>2015-04-30</td></tr><tr><td>2015-05-01</td></tr><tr><td>2015-05-02</td></tr><tr><td>2015-05-03</td></tr><tr><td>2015-05-04</td></tr><tr><td>2015-05-05</td></tr><tr><td>2015-05-06</td></tr><tr><td>2015-05-07</td></tr><tr><td>2015-05-08</td></tr><tr><td>2015-05-09</td></tr><tr><td>2015-05-10</td></tr><tr><td>2015-05-11</td></tr><tr><td>2015-05-12</td></tr><tr><td>2015-05-13</td></tr><tr><td>2015-05-14</td></tr><tr><td>2015-05-15</td></tr><tr><td>2015-05-16</td></tr><tr><td>2015-05-17</td></tr><tr><td>2015-05-18</td></tr><tr><td>2015-05-19</td></tr><tr><td>2015-05-20</td></tr><tr><td>2015-05-21</td></tr><tr><td>2015-05-22</td></tr><tr><td>2015-05-23</td></tr><tr><td>2015-05-24</td></tr><tr><td>2015-05-25</td></tr><tr><td>2015-05-26</td></tr><tr><td>2015-05-27</td></tr><tr><td>2015-05-28</td></tr><tr><td>2015-05-29</td></tr><tr><td>2015-05-30</td></tr><tr><td>2015-05-31</td></tr><tr><td>2015-06-01</td></tr><tr><td>2015-06-02</td></tr><tr><td>2015-06-03</td></tr><tr><td>2015-06-04</td></tr><tr><td>2015-06-05</td></tr><tr><td>2015-06-06</td></tr><tr><td>2015-06-07</td></tr><tr><td>2015-06-08</td></tr><tr><td>2015-06-09</td></tr><tr><td>2015-06-10</td></tr><tr><td>2015-06-11</td></tr><tr><td>2015-06-12</td></tr><tr><td>2015-06-13</td></tr><tr><td>2015-06-14</td></tr><tr><td>2015-06-15</td></tr><tr><td>2015-06-16</td></tr><tr><td>2015-06-17</td></tr><tr><td>2015-06-18</td></tr><tr><td>2015-06-19</td></tr><tr><td>2015-06-20</td></tr><tr><td>2015-06-21</td></tr><tr><td>2015-06-22</td></tr><tr><td>2015-06-23</td></tr><tr><td>2015-06-24</td></tr><tr><td>2015-06-25</td></tr><tr><td>2015-06-26</td></tr><tr><td>2015-06-27</td></tr><tr><td>2015-06-28</td></tr><tr><td>2015-06-29</td></tr><tr><td>2015-06-30</td></tr><tr><td>2015-07-01</td></tr><tr><td>2015-07-02</td></tr><tr><td>2015-07-03</td></tr><tr><td>2015-07-04</td></tr><tr><td>2015-07-05</td></tr><tr><td>2015-07-06</td></tr><tr><td>2015-07-07</td></tr><tr><td>2015-07-08</td></tr><tr><td>2015-07-09</td></tr><tr><td>2015-07-10</td></tr><tr><td>2015-07-11</td></tr><tr><td>2015-07-12</td></tr><tr><td>2015-07-13</td></tr><tr><td>2015-07-14</td></tr><tr><td>2015-07-15</td></tr><tr><td>2015-07-16</td></tr><tr><td>2015-07-17</td></tr><tr><td>2015-07-18</td></tr><tr><td>2015-07-19</td></tr><tr><td>2015-07-20</td></tr><tr><td>2015-07-21</td></tr><tr><td>2015-07-22</td></tr><tr><td>2015-07-23</td></tr><tr><td>2015-07-24</td></tr><tr><td>2015-07-25</td></tr><tr><td>2015-07-26</td></tr><tr><td>2015-07-27</td></tr><tr><td>2015-07-28</td></tr><tr><td>2015-07-29</td></tr><tr><td>2015-07-30</td></tr><tr><td>2015-07-31</td></tr><tr><td>2015-08-01</td></tr><tr><td>2015-08-02</td></tr><tr><td>2015-08-03</td></tr><tr><td>2015-08-04</td></tr><tr><td>2015-08-05</td></tr><tr><td>2015-08-06</td></tr><tr><td>2015-08-07</td></tr><tr><td>2015-08-08</td></tr><tr><td>2015-08-09</td></tr><tr><td>2015-08-10</td></tr><tr><td>2015-08-11</td></tr><tr><td>2015-08-12</td></tr><tr><td>2015-08-13</td></tr><tr><td>2015-08-14</td></tr><tr><td>2015-08-15</td></tr><tr><td>2015-08-16</td></tr><tr><td>2015-08-17</td></tr><tr><td>2015-08-18</td></tr><tr><td>2015-08-19</td></tr><tr><td>2015-08-20</td></tr><tr><td>2015-08-21</td></tr><tr><td>2015-08-22</td></tr><tr><td>2015-08-23</td></tr><tr><td>2015-08-24</td></tr><tr><td>2015-08-25</td></tr><tr><td>2015-08-26</td></tr><tr><td>2015-08-27</td></tr><tr><td>2015-08-28</td></tr><tr><td>2015-08-29</td></tr><tr><td>2015-08-30</td></tr><tr><td>2015-08-31</td></tr><tr><td>2015-09-01</td></tr><tr><td>2015-09-02</td></tr><tr><td>2015-09-03</td></tr><tr><td>2015-09-04</td></tr><tr><td>2015-09-05</td></tr><tr><td>2015-09-06</td></tr><tr><td>2015-09-07</td></tr><tr><td>2015-09-08</td></tr><tr><td>2015-09-09</td></tr><tr><td>2015-09-10</td></tr><tr><td>2015-09-11</td></tr><tr><td>2015-09-12</td></tr><tr><td>2015-09-13</td></tr><tr><td>2015-09-14</td></tr><tr><td>2015-09-15</td></tr><tr><td>2015-09-16</td></tr><tr><td>2015-09-17</td></tr><tr><td>2015-09-18</td></tr><tr><td>2015-09-19</td></tr><tr><td>2015-09-20</td></tr><tr><td>2015-09-21</td></tr><tr><td>2015-09-22</td></tr><tr><td>2015-09-23</td></tr><tr><td>2015-09-24</td></tr><tr><td>2015-09-25</td></tr><tr><td>2015-09-26</td></tr><tr><td>2015-09-27</td></tr><tr><td>2015-09-28</td></tr><tr><td>2015-09-29</td></tr><tr><td>2015-09-30</td></tr><tr><td>2015-10-01</td></tr><tr><td>2015-10-02</td></tr><tr><td>2015-10-03</td></tr><tr><td>2015-10-04</td></tr><tr><td>2015-10-05</td></tr><tr><td>2015-10-06</td></tr><tr><td>2015-10-07</td></tr><tr><td>2015-10-08</td></tr><tr><td>2015-10-09</td></tr><tr><td>2015-10-10</td></tr><tr><td>2015-10-11</td></tr><tr><td>2015-10-12</td></tr><tr><td>2015-10-13</td></tr><tr><td>2015-10-14</td></tr><tr><td>2015-10-15</td></tr><tr><td>2015-10-16</td></tr><tr><td>2015-10-17</td></tr><tr><td>2015-10-18</td></tr><tr><td>2015-10-19</td></tr><tr><td>2015-10-20</td></tr><tr><td>2015-10-21</td></tr><tr><td>2015-10-22</td></tr><tr><td>2015-10-23</td></tr><tr><td>2015-10-24</td></tr><tr><td>2015-10-25</td></tr><tr><td>2015-10-26</td></tr><tr><td>2015-10-27</td></tr><tr><td>2015-10-28</td></tr><tr><td>2015-10-29</td></tr><tr><td>2015-10-30</td></tr><tr><td>2015-10-31</td></tr><tr><td>2015-11-01</td></tr><tr><td>2015-11-02</td></tr><tr><td>2015-11-03</td></tr><tr><td>2015-11-04</td></tr><tr><td>2015-11-05</td></tr><tr><td>2015-11-06</td></tr><tr><td>2015-11-07</td></tr><tr><td>2015-11-08</td></tr><tr><td>2015-11-09</td></tr><tr><td>2015-11-10</td></tr><tr><td>2015-11-11</td></tr><tr><td>2015-11-12</td></tr><tr><td>2015-11-13</td></tr><tr><td>2015-11-14</td></tr><tr><td>2015-11-15</td></tr><tr><td>2015-11-16</td></tr><tr><td>2015-11-17</td></tr><tr><td>2015-11-18</td></tr><tr><td>2015-11-19</td></tr><tr><td>2015-11-20</td></tr><tr><td>2015-11-21</td></tr><tr><td>2015-11-22</td></tr><tr><td>2015-11-23</td></tr><tr><td>2015-11-24</td></tr><tr><td>2015-11-25</td></tr><tr><td>2015-11-26</td></tr><tr><td>2015-11-27</td></tr><tr><td>2015-11-28</td></tr><tr><td>2015-11-29</td></tr><tr><td>2015-11-30</td></tr><tr><td>2015-12-01</td></tr><tr><td>2015-12-02</td></tr><tr><td>2015-12-03</td></tr><tr><td>2015-12-04</td></tr><tr><td>2015-12-05</td></tr><tr><td>2015-12-06</td></tr><tr><td>2015-12-07</td></tr><tr><td>2015-12-08</td></tr><tr><td>2015-12-09</td></tr><tr><td>2015-12-10</td></tr><tr><td>2015-12-11</td></tr><tr><td>2015-12-12</td></tr><tr><td>2015-12-13</td></tr><tr><td>2015-12-14</td></tr><tr><td>2015-12-15</td></tr><tr><td>2015-12-16</td></tr><tr><td>2015-12-17</td></tr><tr><td>2015-12-18</td></tr><tr><td>2015-12-19</td></tr><tr><td>2015-12-20</td></tr><tr><td>2015-12-21</td></tr><tr><td>2015-12-22</td></tr><tr><td>2015-12-23</td></tr><tr><td>2015-12-24</td></tr><tr><td>2015-12-25</td></tr><tr><td>2015-12-26</td></tr><tr><td>2015-12-27</td></tr><tr><td>2015-12-28</td></tr><tr><td>2015-12-29</td></tr><tr><td>2015-12-30</td></tr><tr><td>2015-12-31</td></tr><tr><td>2016-01-01</td></tr><tr><td>2016-01-02</td></tr><tr><td>2016-01-03</td></tr><tr><td>2016-01-04</td></tr><tr><td>2016-01-05</td></tr><tr><td>2016-01-06</td></tr><tr><td>2016-01-07</td></tr><tr><td>2016-01-08</td></tr><tr><td>2016-01-09</td></tr><tr><td>2016-01-10</td></tr><tr><td>2016-01-11</td></tr><tr><td>2016-01-12</td></tr><tr><td>2016-01-13</td></tr><tr><td>2016-01-14</td></tr><tr><td>2016-01-15</td></tr><tr><td>2016-01-16</td></tr><tr><td>2016-01-17</td></tr><tr><td>2016-01-18</td></tr><tr><td>2016-01-19</td></tr><tr><td>2016-01-20</td></tr><tr><td>2016-01-21</td></tr><tr><td>2016-01-22</td></tr><tr><td>2016-01-23</td></tr><tr><td>2016-01-24</td></tr><tr><td>2016-01-25</td></tr><tr><td>2016-01-26</td></tr><tr><td>2016-01-27</td></tr><tr><td>2016-01-28</td></tr><tr><td>2016-01-29</td></tr><tr><td>2016-01-30</td></tr><tr><td>2016-01-31</td></tr><tr><td>2016-02-01</td></tr><tr><td>2016-02-02</td></tr><tr><td>2016-02-03</td></tr><tr><td>2016-02-04</td></tr><tr><td>2016-02-05</td></tr><tr><td>2016-02-06</td></tr><tr><td>2016-02-07</td></tr><tr><td>2016-02-08</td></tr><tr><td>2016-02-09</td></tr><tr><td>2016-02-10</td></tr><tr><td>2016-02-11</td></tr><tr><td>2016-02-12</td></tr><tr><td>2016-02-13</td></tr><tr><td>2016-02-14</td></tr><tr><td>2016-02-15</td></tr><tr><td>2016-02-16</td></tr><tr><td>2016-02-17</td></tr><tr><td>2016-02-18</td></tr><tr><td>2016-02-19</td></tr><tr><td>2016-02-20</td></tr><tr><td>2016-02-21</td></tr><tr><td>2016-02-22</td></tr><tr><td>2016-02-23</td></tr><tr><td>2016-02-24</td></tr><tr><td>2016-02-25</td></tr><tr><td>2016-02-26</td></tr><tr><td>2016-02-27</td></tr><tr><td>2016-02-28</td></tr><tr><td>2016-02-29</td></tr><tr><td>2016-03-01</td></tr><tr><td>2016-03-02</td></tr><tr><td>2016-03-03</td></tr><tr><td>2016-03-04</td></tr><tr><td>2016-03-05</td></tr><tr><td>2016-03-06</td></tr><tr><td>2016-03-07</td></tr><tr><td>2016-03-08</td></tr><tr><td>2016-03-09</td></tr><tr><td>2016-03-10</td></tr><tr><td>2016-03-11</td></tr><tr><td>2016-03-12</td></tr><tr><td>2016-03-13</td></tr><tr><td>2016-03-14</td></tr><tr><td>2016-03-15</td></tr><tr><td>2016-03-16</td></tr><tr><td>2016-03-17</td></tr><tr><td>2016-03-18</td></tr><tr><td>2016-03-19</td></tr><tr><td>2016-03-20</td></tr><tr><td>2016-03-21</td></tr><tr><td>2016-03-22</td></tr><tr><td>2016-03-23</td></tr><tr><td>2016-03-24</td></tr><tr><td>2016-03-25</td></tr><tr><td>2016-03-26</td></tr><tr><td>2016-03-27</td></tr><tr><td>2016-03-28</td></tr><tr><td>2016-03-29</td></tr><tr><td>2016-03-30</td></tr><tr><td>2016-03-31</td></tr><tr><td>2016-04-01</td></tr><tr><td>2016-04-02</td></tr><tr><td>2016-04-03</td></tr><tr><td>2016-04-04</td></tr><tr><td>2016-04-05</td></tr><tr><td>2016-04-06</td></tr><tr><td>2016-04-07</td></tr><tr><td>2016-04-08</td></tr><tr><td>2016-04-09</td></tr><tr><td>2016-04-10</td></tr><tr><td>2016-04-11</td></tr><tr><td>2016-04-12</td></tr><tr><td>2016-04-13</td></tr><tr><td>2016-04-14</td></tr><tr><td>2016-04-15</td></tr><tr><td>2016-04-16</td></tr><tr><td>2016-04-17</td></tr><tr><td>2016-04-18</td></tr><tr><td>2016-04-19</td></tr><tr><td>2016-04-20</td></tr><tr><td>2016-04-21</td></tr><tr><td>2016-04-22</td></tr><tr><td>2016-04-23</td></tr><tr><td>2016-04-24</td></tr><tr><td>2016-04-25</td></tr><tr><td>2016-04-26</td></tr><tr><td>2016-04-27</td></tr><tr><td>2016-04-28</td></tr><tr><td>2016-04-29</td></tr><tr><td>2016-04-30</td></tr><tr><td>2016-05-01</td></tr><tr><td>2016-05-02</td></tr><tr><td>2016-05-03</td></tr><tr><td>2016-05-04</td></tr><tr><td>2016-05-05</td></tr><tr><td>2016-05-06</td></tr><tr><td>2016-05-07</td></tr><tr><td>2016-05-08</td></tr><tr><td>2016-05-09</td></tr><tr><td>2016-05-10</td></tr><tr><td>2016-05-11</td></tr><tr><td>2016-05-12</td></tr><tr><td>2016-05-13</td></tr><tr><td>2016-05-14</td></tr><tr><td>2016-05-15</td></tr><tr><td>2016-05-16</td></tr><tr><td>2016-05-17</td></tr><tr><td>2016-05-18</td></tr><tr><td>2016-05-19</td></tr><tr><td>2016-05-20</td></tr><tr><td>2016-05-21</td></tr><tr><td>2016-05-22</td></tr><tr><td>2016-05-23</td></tr><tr><td>2016-05-24</td></tr><tr><td>2016-05-25</td></tr><tr><td>2016-05-26</td></tr><tr><td>2016-05-27</td></tr><tr><td>2016-05-28</td></tr><tr><td>2016-05-29</td></tr><tr><td>2016-05-30</td></tr><tr><td>2016-05-31</td></tr><tr><td>2016-06-01</td></tr><tr><td>2016-06-02</td></tr><tr><td>2016-06-03</td></tr><tr><td>2016-06-04</td></tr><tr><td>2016-06-05</td></tr><tr><td>2016-06-06</td></tr><tr><td>2016-06-07</td></tr><tr><td>2016-06-08</td></tr><tr><td>2016-06-09</td></tr><tr><td>2016-06-10</td></tr><tr><td>2016-06-11</td></tr><tr><td>2016-06-12</td></tr><tr><td>2016-06-13</td></tr><tr><td>2016-06-14</td></tr><tr><td>2016-06-15</td></tr><tr><td>2016-06-16</td></tr><tr><td>2016-06-17</td></tr><tr><td>2016-06-18</td></tr><tr><td>2016-06-19</td></tr><tr><td>2016-06-20</td></tr><tr><td>2016-06-21</td></tr><tr><td>2016-06-22</td></tr><tr><td>2016-06-23</td></tr><tr><td>2016-06-24</td></tr><tr><td>2016-06-25</td></tr><tr><td>2016-06-26</td></tr><tr><td>2016-06-27</td></tr><tr><td>2016-06-28</td></tr><tr><td>2016-06-29</td></tr><tr><td>2016-06-30</td></tr><tr><td>2016-07-01</td></tr><tr><td>2016-07-02</td></tr><tr><td>2016-07-03</td></tr><tr><td>2016-07-04</td></tr><tr><td>2016-07-05</td></tr><tr><td>2016-07-06</td></tr><tr><td>2016-07-07</td></tr><tr><td>2016-07-08</td></tr><tr><td>2016-07-09</td></tr><tr><td>2016-07-10</td></tr><tr><td>2016-07-11</td></tr><tr><td>2016-07-12</td></tr><tr><td>2016-07-13</td></tr><tr><td>2016-07-14</td></tr><tr><td>2016-07-15</td></tr><tr><td>2016-07-16</td></tr><tr><td>2016-07-17</td></tr><tr><td>2016-07-18</td></tr><tr><td>2016-07-19</td></tr><tr><td>2016-07-20</td></tr><tr><td>2016-07-21</td></tr><tr><td>2016-07-22</td></tr><tr><td>2016-07-23</td></tr><tr><td>2016-07-24</td></tr><tr><td>2016-07-25</td></tr><tr><td>2016-07-26</td></tr><tr><td>2016-07-27</td></tr><tr><td>2016-07-28</td></tr><tr><td>2016-07-29</td></tr><tr><td>2016-07-30</td></tr><tr><td>2016-07-31</td></tr><tr><td>2016-08-01</td></tr><tr><td>2016-08-02</td></tr><tr><td>2016-08-03</td></tr><tr><td>2016-08-04</td></tr><tr><td>2016-08-05</td></tr><tr><td>2016-08-06</td></tr><tr><td>2016-08-07</td></tr><tr><td>2016-08-08</td></tr><tr><td>2016-08-09</td></tr><tr><td>2016-08-10</td></tr><tr><td>2016-08-11</td></tr><tr><td>2016-08-12</td></tr><tr><td>2016-08-13</td></tr><tr><td>2016-08-14</td></tr><tr><td>2016-08-15</td></tr><tr><td>2016-08-16</td></tr><tr><td>2016-08-17</td></tr><tr><td>2016-08-18</td></tr><tr><td>2016-08-19</td></tr><tr><td>2016-08-20</td></tr><tr><td>2016-08-21</td></tr><tr><td>2016-08-22</td></tr><tr><td>2016-08-23</td></tr><tr><td>2016-08-24</td></tr><tr><td>2016-08-25</td></tr><tr><td>2016-08-26</td></tr><tr><td>2016-08-27</td></tr><tr><td>2016-08-28</td></tr><tr><td>2016-08-29</td></tr><tr><td>2016-08-30</td></tr><tr><td>2016-08-31</td></tr><tr><td>2016-09-01</td></tr><tr><td>2016-09-02</td></tr><tr><td>2016-09-03</td></tr><tr><td>2016-09-04</td></tr><tr><td>2016-09-05</td></tr><tr><td>2016-09-06</td></tr><tr><td>2016-09-07</td></tr><tr><td>2016-09-08</td></tr><tr><td>2016-09-09</td></tr><tr><td>2016-09-10</td></tr><tr><td>2016-09-11</td></tr><tr><td>2016-09-12</td></tr><tr><td>2016-09-13</td></tr><tr><td>2016-09-14</td></tr><tr><td>2016-09-15</td></tr><tr><td>2016-09-16</td></tr><tr><td>2016-09-17</td></tr><tr><td>2016-09-18</td></tr><tr><td>2016-09-19</td></tr><tr><td>2016-09-20</td></tr><tr><td>2016-09-21</td></tr><tr><td>2016-09-22</td></tr><tr><td>2016-09-23</td></tr><tr><td>2016-09-24</td></tr><tr><td>2016-09-25</td></tr><tr><td>2016-09-26</td></tr><tr><td>2016-09-27</td></tr><tr><td>2016-09-28</td></tr><tr><td>2016-09-29</td></tr><tr><td>2016-09-30</td></tr><tr><td>2016-10-01</td></tr><tr><td>2016-10-02</td></tr><tr><td>2016-10-03</td></tr><tr><td>2016-10-04</td></tr><tr><td>2016-10-05</td></tr><tr><td>2016-10-06</td></tr><tr><td>2016-10-07</td></tr><tr><td>2016-10-08</td></tr><tr><td>2016-10-09</td></tr><tr><td>2016-10-10</td></tr><tr><td>2016-10-11</td></tr><tr><td>2016-10-12</td></tr><tr><td>2016-10-13</td></tr><tr><td>2016-10-14</td></tr><tr><td>2016-10-15</td></tr><tr><td>2016-10-16</td></tr><tr><td>2016-10-17</td></tr><tr><td>2016-10-18</td></tr><tr><td>2016-10-19</td></tr><tr><td>2016-10-20</td></tr><tr><td>2016-10-21</td></tr><tr><td>2016-10-22</td></tr><tr><td>2016-10-23</td></tr><tr><td>2016-10-24</td></tr><tr><td>2016-10-25</td></tr><tr><td>2016-10-26</td></tr><tr><td>2016-10-27</td></tr><tr><td>2016-10-28</td></tr><tr><td>2016-10-29</td></tr><tr><td>2016-10-30</td></tr><tr><td>2016-10-31</td></tr><tr><td>2016-11-01</td></tr><tr><td>2016-11-02</td></tr><tr><td>2016-11-03</td></tr><tr><td>2016-11-04</td></tr><tr><td>2016-11-05</td></tr><tr><td>2016-11-06</td></tr><tr><td>2016-11-07</td></tr><tr><td>2016-11-08</td></tr><tr><td>2016-11-09</td></tr><tr><td>2016-11-10</td></tr><tr><td>2016-11-11</td></tr><tr><td>2016-11-12</td></tr><tr><td>2016-11-13</td></tr><tr><td>2016-11-14</td></tr><tr><td>2016-11-15</td></tr><tr><td>2016-11-16</td></tr><tr><td>2016-11-17</td></tr><tr><td>2016-11-18</td></tr><tr><td>2016-11-19</td></tr><tr><td>2016-11-20</td></tr><tr><td>2016-11-21</td></tr><tr><td>2016-11-22</td></tr><tr><td>2016-11-23</td></tr><tr><td>2016-11-24</td></tr><tr><td>2016-11-25</td></tr><tr><td>2016-11-26</td></tr><tr><td>2016-11-27</td></tr><tr><td>2016-11-28</td></tr><tr><td>2016-11-29</td></tr><tr><td>2016-11-30</td></tr><tr><td>2016-12-01</td></tr><tr><td>2016-12-02</td></tr><tr><td>2016-12-03</td></tr><tr><td>2016-12-04</td></tr><tr><td>2016-12-05</td></tr><tr><td>2016-12-06</td></tr><tr><td>2016-12-07</td></tr><tr><td>2016-12-08</td></tr><tr><td>2016-12-09</td></tr><tr><td>2016-12-10</td></tr><tr><td>2016-12-11</td></tr><tr><td>2016-12-12</td></tr><tr><td>2016-12-13</td></tr><tr><td>2016-12-14</td></tr><tr><td>2016-12-15</td></tr><tr><td>2016-12-16</td></tr><tr><td>2016-12-17</td></tr><tr><td>2016-12-18</td></tr><tr><td>2016-12-19</td></tr><tr><td>2016-12-20</td></tr><tr><td>2016-12-21</td></tr><tr><td>2016-12-22</td></tr><tr><td>2016-12-23</td></tr><tr><td>2016-12-24</td></tr><tr><td>2016-12-25</td></tr><tr><td>2016-12-26</td></tr><tr><td>2016-12-27</td></tr><tr><td>2016-12-28</td></tr><tr><td>2016-12-29</td></tr><tr><td>2016-12-30</td></tr><tr><td>2016-12-31</td></tr><tr><td>2017-01-01</td></tr><tr><td>2017-01-02</td></tr><tr><td>2017-01-03</td></tr><tr><td>2017-01-04</td></tr><tr><td>2017-01-05</td></tr><tr><td>2017-01-06</td></tr><tr><td>2017-01-07</td></tr><tr><td>2017-01-08</td></tr><tr><td>2017-01-09</td></tr><tr><td>2017-01-10</td></tr><tr><td>2017-01-11</td></tr><tr><td>2017-01-12</td></tr><tr><td>2017-01-13</td></tr><tr><td>2017-01-14</td></tr><tr><td>2017-01-15</td></tr><tr><td>2017-01-16</td></tr><tr><td>2017-01-17</td></tr><tr><td>2017-01-18</td></tr><tr><td>2017-01-19</td></tr><tr><td>2017-01-20</td></tr><tr><td>2017-01-21</td></tr><tr><td>2017-01-22</td></tr><tr><td>2017-01-23</td></tr><tr><td>2017-01-24</td></tr><tr><td>2017-01-25</td></tr><tr><td>2017-01-26</td></tr><tr><td>2017-01-27</td></tr><tr><td>2017-01-28</td></tr><tr><td>2017-01-29</td></tr><tr><td>2017-01-30</td></tr><tr><td>2017-01-31</td></tr><tr><td>2017-02-01</td></tr><tr><td>2017-02-02</td></tr><tr><td>2017-02-03</td></tr><tr><td>2017-02-04</td></tr><tr><td>2017-02-05</td></tr><tr><td>2017-02-06</td></tr><tr><td>2017-02-07</td></tr><tr><td>2017-02-08</td></tr><tr><td>2017-02-09</td></tr><tr><td>2017-02-10</td></tr><tr><td>2017-02-11</td></tr><tr><td>2017-02-12</td></tr><tr><td>2017-02-13</td></tr><tr><td>2017-02-14</td></tr><tr><td>2017-02-15</td></tr><tr><td>2017-02-16</td></tr><tr><td>2017-02-17</td></tr><tr><td>2017-02-18</td></tr><tr><td>2017-02-19</td></tr><tr><td>2017-02-20</td></tr><tr><td>2017-02-21</td></tr><tr><td>2017-02-22</td></tr><tr><td>2017-02-23</td></tr><tr><td>2017-02-24</td></tr><tr><td>2017-02-25</td></tr><tr><td>2017-02-26</td></tr><tr><td>2017-02-27</td></tr><tr><td>2017-02-28</td></tr><tr><td>2017-03-01</td></tr><tr><td>2017-03-02</td></tr><tr><td>2017-03-03</td></tr><tr><td>2017-03-04</td></tr><tr><td>2017-03-05</td></tr><tr><td>2017-03-06</td></tr><tr><td>2017-03-07</td></tr><tr><td>2017-03-08</td></tr><tr><td>2017-03-09</td></tr><tr><td>2017-03-10</td></tr><tr><td>2017-03-11</td></tr><tr><td>2017-03-12</td></tr><tr><td>2017-03-13</td></tr><tr><td>2017-03-14</td></tr><tr><td>2017-03-15</td></tr><tr><td>2017-03-16</td></tr><tr><td>2017-03-17</td></tr><tr><td>2017-03-18</td></tr><tr><td>2017-03-19</td></tr><tr><td>2017-03-20</td></tr><tr><td>2017-03-21</td></tr><tr><td>2017-03-22</td></tr><tr><td>2017-03-23</td></tr><tr><td>2017-03-24</td></tr><tr><td>2017-03-25</td></tr><tr><td>2017-03-26</td></tr><tr><td>2017-03-27</td></tr><tr><td>2017-03-28</td></tr><tr><td>2017-03-29</td></tr><tr><td>2017-03-30</td></tr><tr><td>2017-03-31</td></tr><tr><td>2017-04-01</td></tr><tr><td>2017-04-02</td></tr><tr><td>2017-04-03</td></tr><tr><td>2017-04-04</td></tr><tr><td>2017-04-05</td></tr><tr><td>2017-04-06</td></tr><tr><td>2017-04-07</td></tr><tr><td>2017-04-08</td></tr><tr><td>2017-04-09</td></tr><tr><td>2017-04-10</td></tr><tr><td>2017-04-11</td></tr><tr><td>2017-04-12</td></tr><tr><td>2017-04-13</td></tr><tr><td>2017-04-14</td></tr><tr><td>2017-04-15</td></tr><tr><td>2017-04-16</td></tr><tr><td>2017-04-17</td></tr><tr><td>2017-04-18</td></tr><tr><td>2017-04-19</td></tr><tr><td>2017-04-20</td></tr><tr><td>2017-04-21</td></tr><tr><td>2017-04-22</td></tr><tr><td>2017-04-23</td></tr><tr><td>2017-04-24</td></tr><tr><td>2017-04-25</td></tr><tr><td>2017-04-26</td></tr><tr><td>2017-04-27</td></tr><tr><td>2017-04-28</td></tr><tr><td>2017-04-29</td></tr><tr><td>2017-04-30</td></tr><tr><td>2017-05-01</td></tr><tr><td>2017-05-02</td></tr><tr><td>2017-05-03</td></tr><tr><td>2017-05-04</td></tr><tr><td>2017-05-05</td></tr><tr><td>2017-05-06</td></tr><tr><td>2017-05-07</td></tr><tr><td>2017-05-08</td></tr><tr><td>2017-05-09</td></tr><tr><td>2017-05-10</td></tr><tr><td>2017-05-11</td></tr><tr><td>2017-05-12</td></tr><tr><td>2017-05-13</td></tr><tr><td>2017-05-14</td></tr><tr><td>2017-05-15</td></tr><tr><td>2017-05-16</td></tr><tr><td>2017-05-17</td></tr><tr><td>2017-05-18</td></tr><tr><td>2017-05-19</td></tr><tr><td>2017-05-20</td></tr><tr><td>2017-05-21</td></tr><tr><td>2017-05-22</td></tr><tr><td>2017-05-23</td></tr><tr><td>2017-05-24</td></tr><tr><td>2017-05-25</td></tr><tr><td>2017-05-26</td></tr><tr><td>2017-05-27</td></tr><tr><td>2017-05-28</td></tr><tr><td>2017-05-29</td></tr><tr><td>2017-05-30</td></tr><tr><td>2017-05-31</td></tr><tr><td>2017-06-01</td></tr><tr><td>2017-06-02</td></tr><tr><td>2017-06-03</td></tr><tr><td>2017-06-04</td></tr><tr><td>2017-06-05</td></tr><tr><td>2017-06-06</td></tr><tr><td>2017-06-07</td></tr><tr><td>2017-06-08</td></tr><tr><td>2017-06-09</td></tr><tr><td>2017-06-10</td></tr><tr><td>2017-06-11</td></tr><tr><td>2017-06-12</td></tr><tr><td>2017-06-13</td></tr><tr><td>2017-06-14</td></tr><tr><td>2017-06-15</td></tr><tr><td>2017-06-16</td></tr><tr><td>2017-06-17</td></tr><tr><td>2017-06-18</td></tr><tr><td>2017-06-19</td></tr><tr><td>2017-06-20</td></tr><tr><td>2017-06-21</td></tr><tr><td>2017-06-22</td></tr><tr><td>2017-06-23</td></tr><tr><td>2017-06-24</td></tr><tr><td>2017-06-25</td></tr><tr><td>2017-06-26</td></tr><tr><td>2017-06-27</td></tr><tr><td>2017-06-28</td></tr><tr><td>2017-06-29</td></tr><tr><td>2017-06-30</td></tr></tbody></table></div>"
      ]
     },
     "metadata": {
      "application/vnd.databricks.v1+output": {
       "addedWidgets": {},
       "aggData": [],
       "aggError": "",
       "aggOverflow": false,
       "aggSchema": [],
       "aggSeriesLimitReached": false,
       "aggType": "",
       "arguments": {},
       "columnCustomDisplayInfos": {},
       "data": [
        [
         "2015-01-01"
        ],
        [
         "2015-01-02"
        ],
        [
         "2015-01-03"
        ],
        [
         "2015-01-04"
        ],
        [
         "2015-01-05"
        ],
        [
         "2015-01-06"
        ],
        [
         "2015-01-07"
        ],
        [
         "2015-01-08"
        ],
        [
         "2015-01-09"
        ],
        [
         "2015-01-10"
        ],
        [
         "2015-01-11"
        ],
        [
         "2015-01-12"
        ],
        [
         "2015-01-13"
        ],
        [
         "2015-01-14"
        ],
        [
         "2015-01-15"
        ],
        [
         "2015-01-16"
        ],
        [
         "2015-01-17"
        ],
        [
         "2015-01-18"
        ],
        [
         "2015-01-19"
        ],
        [
         "2015-01-20"
        ],
        [
         "2015-01-21"
        ],
        [
         "2015-01-22"
        ],
        [
         "2015-01-23"
        ],
        [
         "2015-01-24"
        ],
        [
         "2015-01-25"
        ],
        [
         "2015-01-26"
        ],
        [
         "2015-01-27"
        ],
        [
         "2015-01-28"
        ],
        [
         "2015-01-29"
        ],
        [
         "2015-01-30"
        ],
        [
         "2015-01-31"
        ],
        [
         "2015-02-01"
        ],
        [
         "2015-02-02"
        ],
        [
         "2015-02-03"
        ],
        [
         "2015-02-04"
        ],
        [
         "2015-02-05"
        ],
        [
         "2015-02-06"
        ],
        [
         "2015-02-07"
        ],
        [
         "2015-02-08"
        ],
        [
         "2015-02-09"
        ],
        [
         "2015-02-10"
        ],
        [
         "2015-02-11"
        ],
        [
         "2015-02-12"
        ],
        [
         "2015-02-13"
        ],
        [
         "2015-02-14"
        ],
        [
         "2015-02-15"
        ],
        [
         "2015-02-16"
        ],
        [
         "2015-02-17"
        ],
        [
         "2015-02-18"
        ],
        [
         "2015-02-19"
        ],
        [
         "2015-02-20"
        ],
        [
         "2015-02-21"
        ],
        [
         "2015-02-22"
        ],
        [
         "2015-02-23"
        ],
        [
         "2015-02-24"
        ],
        [
         "2015-02-25"
        ],
        [
         "2015-02-26"
        ],
        [
         "2015-02-27"
        ],
        [
         "2015-02-28"
        ],
        [
         "2015-03-01"
        ],
        [
         "2015-03-02"
        ],
        [
         "2015-03-03"
        ],
        [
         "2015-03-04"
        ],
        [
         "2015-03-05"
        ],
        [
         "2015-03-06"
        ],
        [
         "2015-03-07"
        ],
        [
         "2015-03-08"
        ],
        [
         "2015-03-09"
        ],
        [
         "2015-03-10"
        ],
        [
         "2015-03-11"
        ],
        [
         "2015-03-12"
        ],
        [
         "2015-03-13"
        ],
        [
         "2015-03-14"
        ],
        [
         "2015-03-15"
        ],
        [
         "2015-03-16"
        ],
        [
         "2015-03-17"
        ],
        [
         "2015-03-18"
        ],
        [
         "2015-03-19"
        ],
        [
         "2015-03-20"
        ],
        [
         "2015-03-21"
        ],
        [
         "2015-03-22"
        ],
        [
         "2015-03-23"
        ],
        [
         "2015-03-24"
        ],
        [
         "2015-03-25"
        ],
        [
         "2015-03-26"
        ],
        [
         "2015-03-27"
        ],
        [
         "2015-03-28"
        ],
        [
         "2015-03-29"
        ],
        [
         "2015-03-30"
        ],
        [
         "2015-03-31"
        ],
        [
         "2015-04-01"
        ],
        [
         "2015-04-02"
        ],
        [
         "2015-04-03"
        ],
        [
         "2015-04-04"
        ],
        [
         "2015-04-05"
        ],
        [
         "2015-04-06"
        ],
        [
         "2015-04-07"
        ],
        [
         "2015-04-08"
        ],
        [
         "2015-04-09"
        ],
        [
         "2015-04-10"
        ],
        [
         "2015-04-11"
        ],
        [
         "2015-04-12"
        ],
        [
         "2015-04-13"
        ],
        [
         "2015-04-14"
        ],
        [
         "2015-04-15"
        ],
        [
         "2015-04-16"
        ],
        [
         "2015-04-17"
        ],
        [
         "2015-04-18"
        ],
        [
         "2015-04-19"
        ],
        [
         "2015-04-20"
        ],
        [
         "2015-04-21"
        ],
        [
         "2015-04-22"
        ],
        [
         "2015-04-23"
        ],
        [
         "2015-04-24"
        ],
        [
         "2015-04-25"
        ],
        [
         "2015-04-26"
        ],
        [
         "2015-04-27"
        ],
        [
         "2015-04-28"
        ],
        [
         "2015-04-29"
        ],
        [
         "2015-04-30"
        ],
        [
         "2015-05-01"
        ],
        [
         "2015-05-02"
        ],
        [
         "2015-05-03"
        ],
        [
         "2015-05-04"
        ],
        [
         "2015-05-05"
        ],
        [
         "2015-05-06"
        ],
        [
         "2015-05-07"
        ],
        [
         "2015-05-08"
        ],
        [
         "2015-05-09"
        ],
        [
         "2015-05-10"
        ],
        [
         "2015-05-11"
        ],
        [
         "2015-05-12"
        ],
        [
         "2015-05-13"
        ],
        [
         "2015-05-14"
        ],
        [
         "2015-05-15"
        ],
        [
         "2015-05-16"
        ],
        [
         "2015-05-17"
        ],
        [
         "2015-05-18"
        ],
        [
         "2015-05-19"
        ],
        [
         "2015-05-20"
        ],
        [
         "2015-05-21"
        ],
        [
         "2015-05-22"
        ],
        [
         "2015-05-23"
        ],
        [
         "2015-05-24"
        ],
        [
         "2015-05-25"
        ],
        [
         "2015-05-26"
        ],
        [
         "2015-05-27"
        ],
        [
         "2015-05-28"
        ],
        [
         "2015-05-29"
        ],
        [
         "2015-05-30"
        ],
        [
         "2015-05-31"
        ],
        [
         "2015-06-01"
        ],
        [
         "2015-06-02"
        ],
        [
         "2015-06-03"
        ],
        [
         "2015-06-04"
        ],
        [
         "2015-06-05"
        ],
        [
         "2015-06-06"
        ],
        [
         "2015-06-07"
        ],
        [
         "2015-06-08"
        ],
        [
         "2015-06-09"
        ],
        [
         "2015-06-10"
        ],
        [
         "2015-06-11"
        ],
        [
         "2015-06-12"
        ],
        [
         "2015-06-13"
        ],
        [
         "2015-06-14"
        ],
        [
         "2015-06-15"
        ],
        [
         "2015-06-16"
        ],
        [
         "2015-06-17"
        ],
        [
         "2015-06-18"
        ],
        [
         "2015-06-19"
        ],
        [
         "2015-06-20"
        ],
        [
         "2015-06-21"
        ],
        [
         "2015-06-22"
        ],
        [
         "2015-06-23"
        ],
        [
         "2015-06-24"
        ],
        [
         "2015-06-25"
        ],
        [
         "2015-06-26"
        ],
        [
         "2015-06-27"
        ],
        [
         "2015-06-28"
        ],
        [
         "2015-06-29"
        ],
        [
         "2015-06-30"
        ],
        [
         "2015-07-01"
        ],
        [
         "2015-07-02"
        ],
        [
         "2015-07-03"
        ],
        [
         "2015-07-04"
        ],
        [
         "2015-07-05"
        ],
        [
         "2015-07-06"
        ],
        [
         "2015-07-07"
        ],
        [
         "2015-07-08"
        ],
        [
         "2015-07-09"
        ],
        [
         "2015-07-10"
        ],
        [
         "2015-07-11"
        ],
        [
         "2015-07-12"
        ],
        [
         "2015-07-13"
        ],
        [
         "2015-07-14"
        ],
        [
         "2015-07-15"
        ],
        [
         "2015-07-16"
        ],
        [
         "2015-07-17"
        ],
        [
         "2015-07-18"
        ],
        [
         "2015-07-19"
        ],
        [
         "2015-07-20"
        ],
        [
         "2015-07-21"
        ],
        [
         "2015-07-22"
        ],
        [
         "2015-07-23"
        ],
        [
         "2015-07-24"
        ],
        [
         "2015-07-25"
        ],
        [
         "2015-07-26"
        ],
        [
         "2015-07-27"
        ],
        [
         "2015-07-28"
        ],
        [
         "2015-07-29"
        ],
        [
         "2015-07-30"
        ],
        [
         "2015-07-31"
        ],
        [
         "2015-08-01"
        ],
        [
         "2015-08-02"
        ],
        [
         "2015-08-03"
        ],
        [
         "2015-08-04"
        ],
        [
         "2015-08-05"
        ],
        [
         "2015-08-06"
        ],
        [
         "2015-08-07"
        ],
        [
         "2015-08-08"
        ],
        [
         "2015-08-09"
        ],
        [
         "2015-08-10"
        ],
        [
         "2015-08-11"
        ],
        [
         "2015-08-12"
        ],
        [
         "2015-08-13"
        ],
        [
         "2015-08-14"
        ],
        [
         "2015-08-15"
        ],
        [
         "2015-08-16"
        ],
        [
         "2015-08-17"
        ],
        [
         "2015-08-18"
        ],
        [
         "2015-08-19"
        ],
        [
         "2015-08-20"
        ],
        [
         "2015-08-21"
        ],
        [
         "2015-08-22"
        ],
        [
         "2015-08-23"
        ],
        [
         "2015-08-24"
        ],
        [
         "2015-08-25"
        ],
        [
         "2015-08-26"
        ],
        [
         "2015-08-27"
        ],
        [
         "2015-08-28"
        ],
        [
         "2015-08-29"
        ],
        [
         "2015-08-30"
        ],
        [
         "2015-08-31"
        ],
        [
         "2015-09-01"
        ],
        [
         "2015-09-02"
        ],
        [
         "2015-09-03"
        ],
        [
         "2015-09-04"
        ],
        [
         "2015-09-05"
        ],
        [
         "2015-09-06"
        ],
        [
         "2015-09-07"
        ],
        [
         "2015-09-08"
        ],
        [
         "2015-09-09"
        ],
        [
         "2015-09-10"
        ],
        [
         "2015-09-11"
        ],
        [
         "2015-09-12"
        ],
        [
         "2015-09-13"
        ],
        [
         "2015-09-14"
        ],
        [
         "2015-09-15"
        ],
        [
         "2015-09-16"
        ],
        [
         "2015-09-17"
        ],
        [
         "2015-09-18"
        ],
        [
         "2015-09-19"
        ],
        [
         "2015-09-20"
        ],
        [
         "2015-09-21"
        ],
        [
         "2015-09-22"
        ],
        [
         "2015-09-23"
        ],
        [
         "2015-09-24"
        ],
        [
         "2015-09-25"
        ],
        [
         "2015-09-26"
        ],
        [
         "2015-09-27"
        ],
        [
         "2015-09-28"
        ],
        [
         "2015-09-29"
        ],
        [
         "2015-09-30"
        ],
        [
         "2015-10-01"
        ],
        [
         "2015-10-02"
        ],
        [
         "2015-10-03"
        ],
        [
         "2015-10-04"
        ],
        [
         "2015-10-05"
        ],
        [
         "2015-10-06"
        ],
        [
         "2015-10-07"
        ],
        [
         "2015-10-08"
        ],
        [
         "2015-10-09"
        ],
        [
         "2015-10-10"
        ],
        [
         "2015-10-11"
        ],
        [
         "2015-10-12"
        ],
        [
         "2015-10-13"
        ],
        [
         "2015-10-14"
        ],
        [
         "2015-10-15"
        ],
        [
         "2015-10-16"
        ],
        [
         "2015-10-17"
        ],
        [
         "2015-10-18"
        ],
        [
         "2015-10-19"
        ],
        [
         "2015-10-20"
        ],
        [
         "2015-10-21"
        ],
        [
         "2015-10-22"
        ],
        [
         "2015-10-23"
        ],
        [
         "2015-10-24"
        ],
        [
         "2015-10-25"
        ],
        [
         "2015-10-26"
        ],
        [
         "2015-10-27"
        ],
        [
         "2015-10-28"
        ],
        [
         "2015-10-29"
        ],
        [
         "2015-10-30"
        ],
        [
         "2015-10-31"
        ],
        [
         "2015-11-01"
        ],
        [
         "2015-11-02"
        ],
        [
         "2015-11-03"
        ],
        [
         "2015-11-04"
        ],
        [
         "2015-11-05"
        ],
        [
         "2015-11-06"
        ],
        [
         "2015-11-07"
        ],
        [
         "2015-11-08"
        ],
        [
         "2015-11-09"
        ],
        [
         "2015-11-10"
        ],
        [
         "2015-11-11"
        ],
        [
         "2015-11-12"
        ],
        [
         "2015-11-13"
        ],
        [
         "2015-11-14"
        ],
        [
         "2015-11-15"
        ],
        [
         "2015-11-16"
        ],
        [
         "2015-11-17"
        ],
        [
         "2015-11-18"
        ],
        [
         "2015-11-19"
        ],
        [
         "2015-11-20"
        ],
        [
         "2015-11-21"
        ],
        [
         "2015-11-22"
        ],
        [
         "2015-11-23"
        ],
        [
         "2015-11-24"
        ],
        [
         "2015-11-25"
        ],
        [
         "2015-11-26"
        ],
        [
         "2015-11-27"
        ],
        [
         "2015-11-28"
        ],
        [
         "2015-11-29"
        ],
        [
         "2015-11-30"
        ],
        [
         "2015-12-01"
        ],
        [
         "2015-12-02"
        ],
        [
         "2015-12-03"
        ],
        [
         "2015-12-04"
        ],
        [
         "2015-12-05"
        ],
        [
         "2015-12-06"
        ],
        [
         "2015-12-07"
        ],
        [
         "2015-12-08"
        ],
        [
         "2015-12-09"
        ],
        [
         "2015-12-10"
        ],
        [
         "2015-12-11"
        ],
        [
         "2015-12-12"
        ],
        [
         "2015-12-13"
        ],
        [
         "2015-12-14"
        ],
        [
         "2015-12-15"
        ],
        [
         "2015-12-16"
        ],
        [
         "2015-12-17"
        ],
        [
         "2015-12-18"
        ],
        [
         "2015-12-19"
        ],
        [
         "2015-12-20"
        ],
        [
         "2015-12-21"
        ],
        [
         "2015-12-22"
        ],
        [
         "2015-12-23"
        ],
        [
         "2015-12-24"
        ],
        [
         "2015-12-25"
        ],
        [
         "2015-12-26"
        ],
        [
         "2015-12-27"
        ],
        [
         "2015-12-28"
        ],
        [
         "2015-12-29"
        ],
        [
         "2015-12-30"
        ],
        [
         "2015-12-31"
        ],
        [
         "2016-01-01"
        ],
        [
         "2016-01-02"
        ],
        [
         "2016-01-03"
        ],
        [
         "2016-01-04"
        ],
        [
         "2016-01-05"
        ],
        [
         "2016-01-06"
        ],
        [
         "2016-01-07"
        ],
        [
         "2016-01-08"
        ],
        [
         "2016-01-09"
        ],
        [
         "2016-01-10"
        ],
        [
         "2016-01-11"
        ],
        [
         "2016-01-12"
        ],
        [
         "2016-01-13"
        ],
        [
         "2016-01-14"
        ],
        [
         "2016-01-15"
        ],
        [
         "2016-01-16"
        ],
        [
         "2016-01-17"
        ],
        [
         "2016-01-18"
        ],
        [
         "2016-01-19"
        ],
        [
         "2016-01-20"
        ],
        [
         "2016-01-21"
        ],
        [
         "2016-01-22"
        ],
        [
         "2016-01-23"
        ],
        [
         "2016-01-24"
        ],
        [
         "2016-01-25"
        ],
        [
         "2016-01-26"
        ],
        [
         "2016-01-27"
        ],
        [
         "2016-01-28"
        ],
        [
         "2016-01-29"
        ],
        [
         "2016-01-30"
        ],
        [
         "2016-01-31"
        ],
        [
         "2016-02-01"
        ],
        [
         "2016-02-02"
        ],
        [
         "2016-02-03"
        ],
        [
         "2016-02-04"
        ],
        [
         "2016-02-05"
        ],
        [
         "2016-02-06"
        ],
        [
         "2016-02-07"
        ],
        [
         "2016-02-08"
        ],
        [
         "2016-02-09"
        ],
        [
         "2016-02-10"
        ],
        [
         "2016-02-11"
        ],
        [
         "2016-02-12"
        ],
        [
         "2016-02-13"
        ],
        [
         "2016-02-14"
        ],
        [
         "2016-02-15"
        ],
        [
         "2016-02-16"
        ],
        [
         "2016-02-17"
        ],
        [
         "2016-02-18"
        ],
        [
         "2016-02-19"
        ],
        [
         "2016-02-20"
        ],
        [
         "2016-02-21"
        ],
        [
         "2016-02-22"
        ],
        [
         "2016-02-23"
        ],
        [
         "2016-02-24"
        ],
        [
         "2016-02-25"
        ],
        [
         "2016-02-26"
        ],
        [
         "2016-02-27"
        ],
        [
         "2016-02-28"
        ],
        [
         "2016-02-29"
        ],
        [
         "2016-03-01"
        ],
        [
         "2016-03-02"
        ],
        [
         "2016-03-03"
        ],
        [
         "2016-03-04"
        ],
        [
         "2016-03-05"
        ],
        [
         "2016-03-06"
        ],
        [
         "2016-03-07"
        ],
        [
         "2016-03-08"
        ],
        [
         "2016-03-09"
        ],
        [
         "2016-03-10"
        ],
        [
         "2016-03-11"
        ],
        [
         "2016-03-12"
        ],
        [
         "2016-03-13"
        ],
        [
         "2016-03-14"
        ],
        [
         "2016-03-15"
        ],
        [
         "2016-03-16"
        ],
        [
         "2016-03-17"
        ],
        [
         "2016-03-18"
        ],
        [
         "2016-03-19"
        ],
        [
         "2016-03-20"
        ],
        [
         "2016-03-21"
        ],
        [
         "2016-03-22"
        ],
        [
         "2016-03-23"
        ],
        [
         "2016-03-24"
        ],
        [
         "2016-03-25"
        ],
        [
         "2016-03-26"
        ],
        [
         "2016-03-27"
        ],
        [
         "2016-03-28"
        ],
        [
         "2016-03-29"
        ],
        [
         "2016-03-30"
        ],
        [
         "2016-03-31"
        ],
        [
         "2016-04-01"
        ],
        [
         "2016-04-02"
        ],
        [
         "2016-04-03"
        ],
        [
         "2016-04-04"
        ],
        [
         "2016-04-05"
        ],
        [
         "2016-04-06"
        ],
        [
         "2016-04-07"
        ],
        [
         "2016-04-08"
        ],
        [
         "2016-04-09"
        ],
        [
         "2016-04-10"
        ],
        [
         "2016-04-11"
        ],
        [
         "2016-04-12"
        ],
        [
         "2016-04-13"
        ],
        [
         "2016-04-14"
        ],
        [
         "2016-04-15"
        ],
        [
         "2016-04-16"
        ],
        [
         "2016-04-17"
        ],
        [
         "2016-04-18"
        ],
        [
         "2016-04-19"
        ],
        [
         "2016-04-20"
        ],
        [
         "2016-04-21"
        ],
        [
         "2016-04-22"
        ],
        [
         "2016-04-23"
        ],
        [
         "2016-04-24"
        ],
        [
         "2016-04-25"
        ],
        [
         "2016-04-26"
        ],
        [
         "2016-04-27"
        ],
        [
         "2016-04-28"
        ],
        [
         "2016-04-29"
        ],
        [
         "2016-04-30"
        ],
        [
         "2016-05-01"
        ],
        [
         "2016-05-02"
        ],
        [
         "2016-05-03"
        ],
        [
         "2016-05-04"
        ],
        [
         "2016-05-05"
        ],
        [
         "2016-05-06"
        ],
        [
         "2016-05-07"
        ],
        [
         "2016-05-08"
        ],
        [
         "2016-05-09"
        ],
        [
         "2016-05-10"
        ],
        [
         "2016-05-11"
        ],
        [
         "2016-05-12"
        ],
        [
         "2016-05-13"
        ],
        [
         "2016-05-14"
        ],
        [
         "2016-05-15"
        ],
        [
         "2016-05-16"
        ],
        [
         "2016-05-17"
        ],
        [
         "2016-05-18"
        ],
        [
         "2016-05-19"
        ],
        [
         "2016-05-20"
        ],
        [
         "2016-05-21"
        ],
        [
         "2016-05-22"
        ],
        [
         "2016-05-23"
        ],
        [
         "2016-05-24"
        ],
        [
         "2016-05-25"
        ],
        [
         "2016-05-26"
        ],
        [
         "2016-05-27"
        ],
        [
         "2016-05-28"
        ],
        [
         "2016-05-29"
        ],
        [
         "2016-05-30"
        ],
        [
         "2016-05-31"
        ],
        [
         "2016-06-01"
        ],
        [
         "2016-06-02"
        ],
        [
         "2016-06-03"
        ],
        [
         "2016-06-04"
        ],
        [
         "2016-06-05"
        ],
        [
         "2016-06-06"
        ],
        [
         "2016-06-07"
        ],
        [
         "2016-06-08"
        ],
        [
         "2016-06-09"
        ],
        [
         "2016-06-10"
        ],
        [
         "2016-06-11"
        ],
        [
         "2016-06-12"
        ],
        [
         "2016-06-13"
        ],
        [
         "2016-06-14"
        ],
        [
         "2016-06-15"
        ],
        [
         "2016-06-16"
        ],
        [
         "2016-06-17"
        ],
        [
         "2016-06-18"
        ],
        [
         "2016-06-19"
        ],
        [
         "2016-06-20"
        ],
        [
         "2016-06-21"
        ],
        [
         "2016-06-22"
        ],
        [
         "2016-06-23"
        ],
        [
         "2016-06-24"
        ],
        [
         "2016-06-25"
        ],
        [
         "2016-06-26"
        ],
        [
         "2016-06-27"
        ],
        [
         "2016-06-28"
        ],
        [
         "2016-06-29"
        ],
        [
         "2016-06-30"
        ],
        [
         "2016-07-01"
        ],
        [
         "2016-07-02"
        ],
        [
         "2016-07-03"
        ],
        [
         "2016-07-04"
        ],
        [
         "2016-07-05"
        ],
        [
         "2016-07-06"
        ],
        [
         "2016-07-07"
        ],
        [
         "2016-07-08"
        ],
        [
         "2016-07-09"
        ],
        [
         "2016-07-10"
        ],
        [
         "2016-07-11"
        ],
        [
         "2016-07-12"
        ],
        [
         "2016-07-13"
        ],
        [
         "2016-07-14"
        ],
        [
         "2016-07-15"
        ],
        [
         "2016-07-16"
        ],
        [
         "2016-07-17"
        ],
        [
         "2016-07-18"
        ],
        [
         "2016-07-19"
        ],
        [
         "2016-07-20"
        ],
        [
         "2016-07-21"
        ],
        [
         "2016-07-22"
        ],
        [
         "2016-07-23"
        ],
        [
         "2016-07-24"
        ],
        [
         "2016-07-25"
        ],
        [
         "2016-07-26"
        ],
        [
         "2016-07-27"
        ],
        [
         "2016-07-28"
        ],
        [
         "2016-07-29"
        ],
        [
         "2016-07-30"
        ],
        [
         "2016-07-31"
        ],
        [
         "2016-08-01"
        ],
        [
         "2016-08-02"
        ],
        [
         "2016-08-03"
        ],
        [
         "2016-08-04"
        ],
        [
         "2016-08-05"
        ],
        [
         "2016-08-06"
        ],
        [
         "2016-08-07"
        ],
        [
         "2016-08-08"
        ],
        [
         "2016-08-09"
        ],
        [
         "2016-08-10"
        ],
        [
         "2016-08-11"
        ],
        [
         "2016-08-12"
        ],
        [
         "2016-08-13"
        ],
        [
         "2016-08-14"
        ],
        [
         "2016-08-15"
        ],
        [
         "2016-08-16"
        ],
        [
         "2016-08-17"
        ],
        [
         "2016-08-18"
        ],
        [
         "2016-08-19"
        ],
        [
         "2016-08-20"
        ],
        [
         "2016-08-21"
        ],
        [
         "2016-08-22"
        ],
        [
         "2016-08-23"
        ],
        [
         "2016-08-24"
        ],
        [
         "2016-08-25"
        ],
        [
         "2016-08-26"
        ],
        [
         "2016-08-27"
        ],
        [
         "2016-08-28"
        ],
        [
         "2016-08-29"
        ],
        [
         "2016-08-30"
        ],
        [
         "2016-08-31"
        ],
        [
         "2016-09-01"
        ],
        [
         "2016-09-02"
        ],
        [
         "2016-09-03"
        ],
        [
         "2016-09-04"
        ],
        [
         "2016-09-05"
        ],
        [
         "2016-09-06"
        ],
        [
         "2016-09-07"
        ],
        [
         "2016-09-08"
        ],
        [
         "2016-09-09"
        ],
        [
         "2016-09-10"
        ],
        [
         "2016-09-11"
        ],
        [
         "2016-09-12"
        ],
        [
         "2016-09-13"
        ],
        [
         "2016-09-14"
        ],
        [
         "2016-09-15"
        ],
        [
         "2016-09-16"
        ],
        [
         "2016-09-17"
        ],
        [
         "2016-09-18"
        ],
        [
         "2016-09-19"
        ],
        [
         "2016-09-20"
        ],
        [
         "2016-09-21"
        ],
        [
         "2016-09-22"
        ],
        [
         "2016-09-23"
        ],
        [
         "2016-09-24"
        ],
        [
         "2016-09-25"
        ],
        [
         "2016-09-26"
        ],
        [
         "2016-09-27"
        ],
        [
         "2016-09-28"
        ],
        [
         "2016-09-29"
        ],
        [
         "2016-09-30"
        ],
        [
         "2016-10-01"
        ],
        [
         "2016-10-02"
        ],
        [
         "2016-10-03"
        ],
        [
         "2016-10-04"
        ],
        [
         "2016-10-05"
        ],
        [
         "2016-10-06"
        ],
        [
         "2016-10-07"
        ],
        [
         "2016-10-08"
        ],
        [
         "2016-10-09"
        ],
        [
         "2016-10-10"
        ],
        [
         "2016-10-11"
        ],
        [
         "2016-10-12"
        ],
        [
         "2016-10-13"
        ],
        [
         "2016-10-14"
        ],
        [
         "2016-10-15"
        ],
        [
         "2016-10-16"
        ],
        [
         "2016-10-17"
        ],
        [
         "2016-10-18"
        ],
        [
         "2016-10-19"
        ],
        [
         "2016-10-20"
        ],
        [
         "2016-10-21"
        ],
        [
         "2016-10-22"
        ],
        [
         "2016-10-23"
        ],
        [
         "2016-10-24"
        ],
        [
         "2016-10-25"
        ],
        [
         "2016-10-26"
        ],
        [
         "2016-10-27"
        ],
        [
         "2016-10-28"
        ],
        [
         "2016-10-29"
        ],
        [
         "2016-10-30"
        ],
        [
         "2016-10-31"
        ],
        [
         "2016-11-01"
        ],
        [
         "2016-11-02"
        ],
        [
         "2016-11-03"
        ],
        [
         "2016-11-04"
        ],
        [
         "2016-11-05"
        ],
        [
         "2016-11-06"
        ],
        [
         "2016-11-07"
        ],
        [
         "2016-11-08"
        ],
        [
         "2016-11-09"
        ],
        [
         "2016-11-10"
        ],
        [
         "2016-11-11"
        ],
        [
         "2016-11-12"
        ],
        [
         "2016-11-13"
        ],
        [
         "2016-11-14"
        ],
        [
         "2016-11-15"
        ],
        [
         "2016-11-16"
        ],
        [
         "2016-11-17"
        ],
        [
         "2016-11-18"
        ],
        [
         "2016-11-19"
        ],
        [
         "2016-11-20"
        ],
        [
         "2016-11-21"
        ],
        [
         "2016-11-22"
        ],
        [
         "2016-11-23"
        ],
        [
         "2016-11-24"
        ],
        [
         "2016-11-25"
        ],
        [
         "2016-11-26"
        ],
        [
         "2016-11-27"
        ],
        [
         "2016-11-28"
        ],
        [
         "2016-11-29"
        ],
        [
         "2016-11-30"
        ],
        [
         "2016-12-01"
        ],
        [
         "2016-12-02"
        ],
        [
         "2016-12-03"
        ],
        [
         "2016-12-04"
        ],
        [
         "2016-12-05"
        ],
        [
         "2016-12-06"
        ],
        [
         "2016-12-07"
        ],
        [
         "2016-12-08"
        ],
        [
         "2016-12-09"
        ],
        [
         "2016-12-10"
        ],
        [
         "2016-12-11"
        ],
        [
         "2016-12-12"
        ],
        [
         "2016-12-13"
        ],
        [
         "2016-12-14"
        ],
        [
         "2016-12-15"
        ],
        [
         "2016-12-16"
        ],
        [
         "2016-12-17"
        ],
        [
         "2016-12-18"
        ],
        [
         "2016-12-19"
        ],
        [
         "2016-12-20"
        ],
        [
         "2016-12-21"
        ],
        [
         "2016-12-22"
        ],
        [
         "2016-12-23"
        ],
        [
         "2016-12-24"
        ],
        [
         "2016-12-25"
        ],
        [
         "2016-12-26"
        ],
        [
         "2016-12-27"
        ],
        [
         "2016-12-28"
        ],
        [
         "2016-12-29"
        ],
        [
         "2016-12-30"
        ],
        [
         "2016-12-31"
        ],
        [
         "2017-01-01"
        ],
        [
         "2017-01-02"
        ],
        [
         "2017-01-03"
        ],
        [
         "2017-01-04"
        ],
        [
         "2017-01-05"
        ],
        [
         "2017-01-06"
        ],
        [
         "2017-01-07"
        ],
        [
         "2017-01-08"
        ],
        [
         "2017-01-09"
        ],
        [
         "2017-01-10"
        ],
        [
         "2017-01-11"
        ],
        [
         "2017-01-12"
        ],
        [
         "2017-01-13"
        ],
        [
         "2017-01-14"
        ],
        [
         "2017-01-15"
        ],
        [
         "2017-01-16"
        ],
        [
         "2017-01-17"
        ],
        [
         "2017-01-18"
        ],
        [
         "2017-01-19"
        ],
        [
         "2017-01-20"
        ],
        [
         "2017-01-21"
        ],
        [
         "2017-01-22"
        ],
        [
         "2017-01-23"
        ],
        [
         "2017-01-24"
        ],
        [
         "2017-01-25"
        ],
        [
         "2017-01-26"
        ],
        [
         "2017-01-27"
        ],
        [
         "2017-01-28"
        ],
        [
         "2017-01-29"
        ],
        [
         "2017-01-30"
        ],
        [
         "2017-01-31"
        ],
        [
         "2017-02-01"
        ],
        [
         "2017-02-02"
        ],
        [
         "2017-02-03"
        ],
        [
         "2017-02-04"
        ],
        [
         "2017-02-05"
        ],
        [
         "2017-02-06"
        ],
        [
         "2017-02-07"
        ],
        [
         "2017-02-08"
        ],
        [
         "2017-02-09"
        ],
        [
         "2017-02-10"
        ],
        [
         "2017-02-11"
        ],
        [
         "2017-02-12"
        ],
        [
         "2017-02-13"
        ],
        [
         "2017-02-14"
        ],
        [
         "2017-02-15"
        ],
        [
         "2017-02-16"
        ],
        [
         "2017-02-17"
        ],
        [
         "2017-02-18"
        ],
        [
         "2017-02-19"
        ],
        [
         "2017-02-20"
        ],
        [
         "2017-02-21"
        ],
        [
         "2017-02-22"
        ],
        [
         "2017-02-23"
        ],
        [
         "2017-02-24"
        ],
        [
         "2017-02-25"
        ],
        [
         "2017-02-26"
        ],
        [
         "2017-02-27"
        ],
        [
         "2017-02-28"
        ],
        [
         "2017-03-01"
        ],
        [
         "2017-03-02"
        ],
        [
         "2017-03-03"
        ],
        [
         "2017-03-04"
        ],
        [
         "2017-03-05"
        ],
        [
         "2017-03-06"
        ],
        [
         "2017-03-07"
        ],
        [
         "2017-03-08"
        ],
        [
         "2017-03-09"
        ],
        [
         "2017-03-10"
        ],
        [
         "2017-03-11"
        ],
        [
         "2017-03-12"
        ],
        [
         "2017-03-13"
        ],
        [
         "2017-03-14"
        ],
        [
         "2017-03-15"
        ],
        [
         "2017-03-16"
        ],
        [
         "2017-03-17"
        ],
        [
         "2017-03-18"
        ],
        [
         "2017-03-19"
        ],
        [
         "2017-03-20"
        ],
        [
         "2017-03-21"
        ],
        [
         "2017-03-22"
        ],
        [
         "2017-03-23"
        ],
        [
         "2017-03-24"
        ],
        [
         "2017-03-25"
        ],
        [
         "2017-03-26"
        ],
        [
         "2017-03-27"
        ],
        [
         "2017-03-28"
        ],
        [
         "2017-03-29"
        ],
        [
         "2017-03-30"
        ],
        [
         "2017-03-31"
        ],
        [
         "2017-04-01"
        ],
        [
         "2017-04-02"
        ],
        [
         "2017-04-03"
        ],
        [
         "2017-04-04"
        ],
        [
         "2017-04-05"
        ],
        [
         "2017-04-06"
        ],
        [
         "2017-04-07"
        ],
        [
         "2017-04-08"
        ],
        [
         "2017-04-09"
        ],
        [
         "2017-04-10"
        ],
        [
         "2017-04-11"
        ],
        [
         "2017-04-12"
        ],
        [
         "2017-04-13"
        ],
        [
         "2017-04-14"
        ],
        [
         "2017-04-15"
        ],
        [
         "2017-04-16"
        ],
        [
         "2017-04-17"
        ],
        [
         "2017-04-18"
        ],
        [
         "2017-04-19"
        ],
        [
         "2017-04-20"
        ],
        [
         "2017-04-21"
        ],
        [
         "2017-04-22"
        ],
        [
         "2017-04-23"
        ],
        [
         "2017-04-24"
        ],
        [
         "2017-04-25"
        ],
        [
         "2017-04-26"
        ],
        [
         "2017-04-27"
        ],
        [
         "2017-04-28"
        ],
        [
         "2017-04-29"
        ],
        [
         "2017-04-30"
        ],
        [
         "2017-05-01"
        ],
        [
         "2017-05-02"
        ],
        [
         "2017-05-03"
        ],
        [
         "2017-05-04"
        ],
        [
         "2017-05-05"
        ],
        [
         "2017-05-06"
        ],
        [
         "2017-05-07"
        ],
        [
         "2017-05-08"
        ],
        [
         "2017-05-09"
        ],
        [
         "2017-05-10"
        ],
        [
         "2017-05-11"
        ],
        [
         "2017-05-12"
        ],
        [
         "2017-05-13"
        ],
        [
         "2017-05-14"
        ],
        [
         "2017-05-15"
        ],
        [
         "2017-05-16"
        ],
        [
         "2017-05-17"
        ],
        [
         "2017-05-18"
        ],
        [
         "2017-05-19"
        ],
        [
         "2017-05-20"
        ],
        [
         "2017-05-21"
        ],
        [
         "2017-05-22"
        ],
        [
         "2017-05-23"
        ],
        [
         "2017-05-24"
        ],
        [
         "2017-05-25"
        ],
        [
         "2017-05-26"
        ],
        [
         "2017-05-27"
        ],
        [
         "2017-05-28"
        ],
        [
         "2017-05-29"
        ],
        [
         "2017-05-30"
        ],
        [
         "2017-05-31"
        ],
        [
         "2017-06-01"
        ],
        [
         "2017-06-02"
        ],
        [
         "2017-06-03"
        ],
        [
         "2017-06-04"
        ],
        [
         "2017-06-05"
        ],
        [
         "2017-06-06"
        ],
        [
         "2017-06-07"
        ],
        [
         "2017-06-08"
        ],
        [
         "2017-06-09"
        ],
        [
         "2017-06-10"
        ],
        [
         "2017-06-11"
        ],
        [
         "2017-06-12"
        ],
        [
         "2017-06-13"
        ],
        [
         "2017-06-14"
        ],
        [
         "2017-06-15"
        ],
        [
         "2017-06-16"
        ],
        [
         "2017-06-17"
        ],
        [
         "2017-06-18"
        ],
        [
         "2017-06-19"
        ],
        [
         "2017-06-20"
        ],
        [
         "2017-06-21"
        ],
        [
         "2017-06-22"
        ],
        [
         "2017-06-23"
        ],
        [
         "2017-06-24"
        ],
        [
         "2017-06-25"
        ],
        [
         "2017-06-26"
        ],
        [
         "2017-06-27"
        ],
        [
         "2017-06-28"
        ],
        [
         "2017-06-29"
        ],
        [
         "2017-06-30"
        ]
       ],
       "datasetInfos": [],
       "dbfsResultPath": null,
       "isJsonSchema": true,
       "metadata": {},
       "overflow": false,
       "plotOptions": {
        "customPlotOptions": {},
        "displayType": "table",
        "pivotAggregation": null,
        "pivotColumns": null,
        "xColumns": null,
        "yColumns": null
       },
       "removedWidgets": [],
       "schema": [
        {
         "metadata": "{\"__detected_date_formats\":\"M/d/yyyy\"}",
         "name": "Date",
         "type": "\"date\""
        }
       ],
       "type": "table"
      }
     },
     "output_type": "display_data"
    }
   ],
   "source": [
    "display(df_calender)"
   ]
  },
  {
   "cell_type": "code",
   "execution_count": null,
   "metadata": {
    "application/vnd.databricks.v1+cell": {
     "cellMetadata": {
      "byteLimit": 2048000,
      "rowLimit": 10000
     },
     "inputWidgets": {},
     "nuid": "b8876628-1bfe-4115-a65f-2e55081a3167",
     "showTitle": false,
     "tableResultSettingsMap": {},
     "title": ""
    }
   },
   "outputs": [],
   "source": [
    "df_customers = spark.read.format(\"csv\").option(\"header\", \"true\").option(\"inferSchema\", True).load(\"abfss://bronze@awdataprojectbasit.dfs.core.windows.net/customers/\")"
   ]
  },
  {
   "cell_type": "code",
   "execution_count": null,
   "metadata": {
    "application/vnd.databricks.v1+cell": {
     "cellMetadata": {
      "byteLimit": 2048000,
      "rowLimit": 10000
     },
     "inputWidgets": {},
     "nuid": "04f6c4ff-a660-44d4-87ec-0cca5d46f2b3",
     "showTitle": false,
     "tableResultSettingsMap": {},
     "title": ""
    }
   },
   "outputs": [
    {
     "name": "stdout",
     "output_type": "stream",
     "text": [
      "root\n",
      " |-- CustomerKey: integer (nullable = true)\n",
      " |-- Prefix: string (nullable = true)\n",
      " |-- FirstName: string (nullable = true)\n",
      " |-- LastName: string (nullable = true)\n",
      " |-- BirthDate: date (nullable = true)\n",
      " |-- MaritalStatus: string (nullable = true)\n",
      " |-- Gender: string (nullable = true)\n",
      " |-- EmailAddress: string (nullable = true)\n",
      " |-- AnnualIncome: string (nullable = true)\n",
      " |-- TotalChildren: integer (nullable = true)\n",
      " |-- EducationLevel: string (nullable = true)\n",
      " |-- Occupation: string (nullable = true)\n",
      " |-- HomeOwner: string (nullable = true)\n",
      "\n"
     ]
    }
   ],
   "source": [
    "df_customers.printSchema()"
   ]
  },
  {
   "cell_type": "code",
   "execution_count": null,
   "metadata": {
    "application/vnd.databricks.v1+cell": {
     "cellMetadata": {
      "byteLimit": 2048000,
      "rowLimit": 10000
     },
     "inputWidgets": {},
     "nuid": "b03fe5ba-f9ad-478c-802a-1a20164a37e5",
     "showTitle": false,
     "tableResultSettingsMap": {},
     "title": ""
    }
   },
   "outputs": [],
   "source": [
    "df_product_categories = spark.read.format(\"csv\").option(\"header\", \"true\").option(\"inferSchema\", True).load(\"abfss://bronze@awdataprojectbasit.dfs.core.windows.net/product-categories/\")"
   ]
  },
  {
   "cell_type": "code",
   "execution_count": null,
   "metadata": {
    "application/vnd.databricks.v1+cell": {
     "cellMetadata": {
      "byteLimit": 2048000,
      "rowLimit": 10000
     },
     "inputWidgets": {},
     "nuid": "abdc6063-a293-4536-bca7-3226cb0d1e1d",
     "showTitle": false,
     "tableResultSettingsMap": {},
     "title": ""
    }
   },
   "outputs": [
    {
     "name": "stdout",
     "output_type": "stream",
     "text": [
      "root\n",
      " |-- ProductCategoryKey: integer (nullable = true)\n",
      " |-- CategoryName: string (nullable = true)\n",
      "\n"
     ]
    }
   ],
   "source": [
    "df_product_categories.printSchema()"
   ]
  },
  {
   "cell_type": "code",
   "execution_count": null,
   "metadata": {
    "application/vnd.databricks.v1+cell": {
     "cellMetadata": {
      "byteLimit": 2048000,
      "rowLimit": 10000
     },
     "inputWidgets": {},
     "nuid": "512bea82-3554-4fc7-b793-e382c0e9cac9",
     "showTitle": false,
     "tableResultSettingsMap": {},
     "title": ""
    }
   },
   "outputs": [],
   "source": [
    "df_product_subcategories = spark.read.format(\"csv\").option(\"header\", \"true\").option(\"inferSchema\", True).load(\"abfss://bronze@awdataprojectbasit.dfs.core.windows.net/product-subcategories/\")"
   ]
  },
  {
   "cell_type": "code",
   "execution_count": null,
   "metadata": {
    "application/vnd.databricks.v1+cell": {
     "cellMetadata": {
      "byteLimit": 2048000,
      "rowLimit": 10000
     },
     "inputWidgets": {},
     "nuid": "2ea90c07-e1da-4b07-a601-9e11cf8d3039",
     "showTitle": false,
     "tableResultSettingsMap": {},
     "title": ""
    }
   },
   "outputs": [
    {
     "data": {
      "text/html": [
       "<style scoped>\n",
       "  .table-result-container {\n",
       "    max-height: 300px;\n",
       "    overflow: auto;\n",
       "  }\n",
       "  table, th, td {\n",
       "    border: 1px solid black;\n",
       "    border-collapse: collapse;\n",
       "  }\n",
       "  th, td {\n",
       "    padding: 5px;\n",
       "  }\n",
       "  th {\n",
       "    text-align: left;\n",
       "  }\n",
       "</style><div class='table-result-container'><table class='table-result'><thead style='background-color: white'><tr><th>ProductSubcategoryKey</th><th>SubcategoryName</th><th>ProductCategoryKey</th></tr></thead><tbody><tr><td>1</td><td>Mountain Bikes</td><td>1</td></tr><tr><td>2</td><td>Road Bikes</td><td>1</td></tr><tr><td>3</td><td>Touring Bikes</td><td>1</td></tr><tr><td>4</td><td>Handlebars</td><td>2</td></tr><tr><td>5</td><td>Bottom Brackets</td><td>2</td></tr><tr><td>6</td><td>Brakes</td><td>2</td></tr><tr><td>7</td><td>Chains</td><td>2</td></tr><tr><td>8</td><td>Cranksets</td><td>2</td></tr><tr><td>9</td><td>Derailleurs</td><td>2</td></tr><tr><td>10</td><td>Forks</td><td>2</td></tr><tr><td>11</td><td>Headsets</td><td>2</td></tr><tr><td>12</td><td>Mountain Frames</td><td>2</td></tr><tr><td>13</td><td>Pedals</td><td>2</td></tr><tr><td>14</td><td>Road Frames</td><td>2</td></tr><tr><td>15</td><td>Saddles</td><td>2</td></tr><tr><td>16</td><td>Touring Frames</td><td>2</td></tr><tr><td>17</td><td>Wheels</td><td>2</td></tr><tr><td>18</td><td>Bib-Shorts</td><td>3</td></tr><tr><td>19</td><td>Caps</td><td>3</td></tr><tr><td>20</td><td>Gloves</td><td>3</td></tr><tr><td>21</td><td>Jerseys</td><td>3</td></tr><tr><td>22</td><td>Shorts</td><td>3</td></tr><tr><td>23</td><td>Socks</td><td>3</td></tr><tr><td>24</td><td>Tights</td><td>3</td></tr><tr><td>25</td><td>Vests</td><td>3</td></tr><tr><td>26</td><td>Bike Racks</td><td>4</td></tr><tr><td>27</td><td>Bike Stands</td><td>4</td></tr><tr><td>28</td><td>Bottles and Cages</td><td>4</td></tr><tr><td>29</td><td>Cleaners</td><td>4</td></tr><tr><td>30</td><td>Fenders</td><td>4</td></tr><tr><td>31</td><td>Helmets</td><td>4</td></tr><tr><td>32</td><td>Hydration Packs</td><td>4</td></tr><tr><td>33</td><td>Lights</td><td>4</td></tr><tr><td>34</td><td>Locks</td><td>4</td></tr><tr><td>35</td><td>Panniers</td><td>4</td></tr><tr><td>36</td><td>Pumps</td><td>4</td></tr><tr><td>37</td><td>Tires and Tubes</td><td>4</td></tr></tbody></table></div>"
      ]
     },
     "metadata": {
      "application/vnd.databricks.v1+output": {
       "addedWidgets": {},
       "aggData": [],
       "aggError": "",
       "aggOverflow": false,
       "aggSchema": [],
       "aggSeriesLimitReached": false,
       "aggType": "",
       "arguments": {},
       "columnCustomDisplayInfos": {},
       "data": [
        [
         1,
         "Mountain Bikes",
         1
        ],
        [
         2,
         "Road Bikes",
         1
        ],
        [
         3,
         "Touring Bikes",
         1
        ],
        [
         4,
         "Handlebars",
         2
        ],
        [
         5,
         "Bottom Brackets",
         2
        ],
        [
         6,
         "Brakes",
         2
        ],
        [
         7,
         "Chains",
         2
        ],
        [
         8,
         "Cranksets",
         2
        ],
        [
         9,
         "Derailleurs",
         2
        ],
        [
         10,
         "Forks",
         2
        ],
        [
         11,
         "Headsets",
         2
        ],
        [
         12,
         "Mountain Frames",
         2
        ],
        [
         13,
         "Pedals",
         2
        ],
        [
         14,
         "Road Frames",
         2
        ],
        [
         15,
         "Saddles",
         2
        ],
        [
         16,
         "Touring Frames",
         2
        ],
        [
         17,
         "Wheels",
         2
        ],
        [
         18,
         "Bib-Shorts",
         3
        ],
        [
         19,
         "Caps",
         3
        ],
        [
         20,
         "Gloves",
         3
        ],
        [
         21,
         "Jerseys",
         3
        ],
        [
         22,
         "Shorts",
         3
        ],
        [
         23,
         "Socks",
         3
        ],
        [
         24,
         "Tights",
         3
        ],
        [
         25,
         "Vests",
         3
        ],
        [
         26,
         "Bike Racks",
         4
        ],
        [
         27,
         "Bike Stands",
         4
        ],
        [
         28,
         "Bottles and Cages",
         4
        ],
        [
         29,
         "Cleaners",
         4
        ],
        [
         30,
         "Fenders",
         4
        ],
        [
         31,
         "Helmets",
         4
        ],
        [
         32,
         "Hydration Packs",
         4
        ],
        [
         33,
         "Lights",
         4
        ],
        [
         34,
         "Locks",
         4
        ],
        [
         35,
         "Panniers",
         4
        ],
        [
         36,
         "Pumps",
         4
        ],
        [
         37,
         "Tires and Tubes",
         4
        ]
       ],
       "datasetInfos": [],
       "dbfsResultPath": null,
       "isJsonSchema": true,
       "metadata": {},
       "overflow": false,
       "plotOptions": {
        "customPlotOptions": {},
        "displayType": "table",
        "pivotAggregation": null,
        "pivotColumns": null,
        "xColumns": null,
        "yColumns": null
       },
       "removedWidgets": [],
       "schema": [
        {
         "metadata": "{}",
         "name": "ProductSubcategoryKey",
         "type": "\"integer\""
        },
        {
         "metadata": "{}",
         "name": "SubcategoryName",
         "type": "\"string\""
        },
        {
         "metadata": "{}",
         "name": "ProductCategoryKey",
         "type": "\"integer\""
        }
       ],
       "type": "table"
      }
     },
     "output_type": "display_data"
    }
   ],
   "source": [
    "display(df_product_subcategories)"
   ]
  },
  {
   "cell_type": "code",
   "execution_count": null,
   "metadata": {
    "application/vnd.databricks.v1+cell": {
     "cellMetadata": {
      "byteLimit": 2048000,
      "rowLimit": 10000
     },
     "inputWidgets": {},
     "nuid": "716884bd-706e-452a-b6cf-8cc451fd8cd3",
     "showTitle": false,
     "tableResultSettingsMap": {},
     "title": ""
    }
   },
   "outputs": [],
   "source": [
    "df_products = spark.read.format(\"csv\").option(\"header\", \"true\").option(\"inferSchema\", True).load(\"abfss://bronze@awdataprojectbasit.dfs.core.windows.net/products/\")"
   ]
  },
  {
   "cell_type": "code",
   "execution_count": null,
   "metadata": {
    "application/vnd.databricks.v1+cell": {
     "cellMetadata": {
      "byteLimit": 2048000,
      "rowLimit": 10000
     },
     "inputWidgets": {},
     "nuid": "8662582c-c69e-41d2-b26e-d6cb5ca468b1",
     "showTitle": false,
     "tableResultSettingsMap": {},
     "title": ""
    }
   },
   "outputs": [
    {
     "data": {
      "text/plain": [
       "293"
      ]
     },
     "execution_count": 46,
     "metadata": {},
     "output_type": "execute_result"
    }
   ],
   "source": [
    "df_products.count()"
   ]
  },
  {
   "cell_type": "code",
   "execution_count": null,
   "metadata": {
    "application/vnd.databricks.v1+cell": {
     "cellMetadata": {
      "byteLimit": 2048000,
      "rowLimit": 10000
     },
     "inputWidgets": {},
     "nuid": "f6d978d7-47d7-4c84-b28d-2b61f96237fc",
     "showTitle": false,
     "tableResultSettingsMap": {},
     "title": ""
    }
   },
   "outputs": [
    {
     "name": "stdout",
     "output_type": "stream",
     "text": [
      "+----------+---------------------+----------+--------------------+--------------------+--------------------+------------+-----------+------------+-----------+------------+\n",
      "|ProductKey|ProductSubcategoryKey|ProductSKU|         ProductName|           ModelName|  ProductDescription|ProductColor|ProductSize|ProductStyle|ProductCost|ProductPrice|\n",
      "+----------+---------------------+----------+--------------------+--------------------+--------------------+------------+-----------+------------+-----------+------------+\n",
      "|       214|                   31| HL-U509-R|Sport-100 Helmet,...|           Sport-100|Universal fit, we...|         Red|          0|           0|    13.0863|       34.99|\n",
      "|       215|                   31|   HL-U509|Sport-100 Helmet,...|           Sport-100|Universal fit, we...|       Black|          0|           0|    12.0278|     33.6442|\n",
      "|       218|                   23| SO-B909-M|Mountain Bike Soc...| Mountain Bike Socks|Combination of na...|       White|          M|           U|     3.3963|         9.5|\n",
      "|       219|                   23| SO-B909-L|Mountain Bike Soc...| Mountain Bike Socks|Combination of na...|       White|          L|           U|     3.3963|         9.5|\n",
      "|       220|                   31| HL-U509-B|Sport-100 Helmet,...|           Sport-100|Universal fit, we...|        Blue|          0|           0|    12.0278|     33.6442|\n",
      "|       223|                   19|   CA-1098|        AWC Logo Cap|         Cycling Cap|Traditional style...|       Multi|          0|           U|     5.7052|      8.6442|\n",
      "|       226|                   21| LJ-0192-S|Long-Sleeve Logo ...|Long-Sleeve Logo ...|Unisex long-sleev...|       Multi|          S|           U|    31.7244|     48.0673|\n",
      "|       229|                   21| LJ-0192-M|Long-Sleeve Logo ...|Long-Sleeve Logo ...|Unisex long-sleev...|       Multi|          M|           U|    31.7244|     48.0673|\n",
      "|       232|                   21| LJ-0192-L|Long-Sleeve Logo ...|Long-Sleeve Logo ...|Unisex long-sleev...|       Multi|          L|           U|    31.7244|     48.0673|\n",
      "|       235|                   21| LJ-0192-X|Long-Sleeve Logo ...|Long-Sleeve Logo ...|Unisex long-sleev...|       Multi|         XL|           U|    31.7244|     48.0673|\n",
      "+----------+---------------------+----------+--------------------+--------------------+--------------------+------------+-----------+------------+-----------+------------+\n",
      "only showing top 10 rows\n",
      "\n"
     ]
    }
   ],
   "source": [
    "df_products.show(10)"
   ]
  },
  {
   "cell_type": "code",
   "execution_count": null,
   "metadata": {
    "application/vnd.databricks.v1+cell": {
     "cellMetadata": {
      "byteLimit": 2048000,
      "rowLimit": 10000
     },
     "inputWidgets": {},
     "nuid": "524da35f-f13f-420d-8ab3-aef253fd0c9b",
     "showTitle": false,
     "tableResultSettingsMap": {},
     "title": ""
    }
   },
   "outputs": [],
   "source": [
    "df_returns = spark.read.format(\"csv\").option(\"header\", \"true\").option(\"inferSchema\", True).load(\"abfss://bronze@awdataprojectbasit.dfs.core.windows.net/returns/\")"
   ]
  },
  {
   "cell_type": "code",
   "execution_count": null,
   "metadata": {
    "application/vnd.databricks.v1+cell": {
     "cellMetadata": {
      "byteLimit": 2048000,
      "rowLimit": 10000
     },
     "inputWidgets": {},
     "nuid": "584a852f-603e-4147-962f-f40aa735b7cf",
     "showTitle": false,
     "tableResultSettingsMap": {},
     "title": ""
    }
   },
   "outputs": [
    {
     "name": "stdout",
     "output_type": "stream",
     "text": [
      "+----------+------------+----------+--------------+\n",
      "|ReturnDate|TerritoryKey|ProductKey|ReturnQuantity|\n",
      "+----------+------------+----------+--------------+\n",
      "|2015-01-18|           9|       312|             1|\n",
      "|2015-01-18|          10|       310|             1|\n",
      "|2015-01-21|           8|       346|             1|\n",
      "|2015-01-22|           4|       311|             1|\n",
      "|2015-02-02|           6|       312|             1|\n",
      "|2015-02-15|           1|       312|             1|\n",
      "|2015-02-19|           9|       311|             1|\n",
      "|2015-02-24|           8|       314|             1|\n",
      "|2015-03-08|           8|       350|             1|\n",
      "|2015-03-13|           9|       350|             1|\n",
      "+----------+------------+----------+--------------+\n",
      "only showing top 10 rows\n",
      "\n"
     ]
    }
   ],
   "source": [
    "df_returns.show(10)\n",
    "     "
   ]
  },
  {
   "cell_type": "code",
   "execution_count": null,
   "metadata": {
    "application/vnd.databricks.v1+cell": {
     "cellMetadata": {
      "byteLimit": 2048000,
      "rowLimit": 10000
     },
     "inputWidgets": {},
     "nuid": "09ba778f-0119-4040-be6e-cdae6ce256de",
     "showTitle": false,
     "tableResultSettingsMap": {},
     "title": ""
    }
   },
   "outputs": [
    {
     "data": {
      "text/plain": [
       "1809"
      ]
     },
     "execution_count": 50,
     "metadata": {},
     "output_type": "execute_result"
    }
   ],
   "source": [
    "df_returns.count()"
   ]
  },
  {
   "cell_type": "code",
   "execution_count": null,
   "metadata": {
    "application/vnd.databricks.v1+cell": {
     "cellMetadata": {
      "byteLimit": 2048000,
      "rowLimit": 10000
     },
     "inputWidgets": {},
     "nuid": "d2fc0955-4c93-4420-b6ba-f11f176d3adb",
     "showTitle": false,
     "tableResultSettingsMap": {},
     "title": ""
    }
   },
   "outputs": [],
   "source": [
    "df_sales_2015 = spark.read.format(\"csv\").option(\"header\", \"true\").option(\"inferSchema\", True).load(\"abfss://bronze@awdataprojectbasit.dfs.core.windows.net/sales-2015/\")"
   ]
  },
  {
   "cell_type": "code",
   "execution_count": null,
   "metadata": {
    "application/vnd.databricks.v1+cell": {
     "cellMetadata": {},
     "inputWidgets": {},
     "nuid": "b7b54d8e-a6e8-41f2-83b4-71df4bd719af",
     "showTitle": false,
     "tableResultSettingsMap": {},
     "title": ""
    }
   },
   "outputs": [],
   "source": []
  },
  {
   "cell_type": "code",
   "execution_count": null,
   "metadata": {
    "application/vnd.databricks.v1+cell": {
     "cellMetadata": {},
     "inputWidgets": {},
     "nuid": "eadb686e-4737-447d-a874-6327381ab1ad",
     "showTitle": true,
     "tableResultSettingsMap": {},
     "title": ""
    }
   },
   "outputs": [],
   "source": []
  },
  {
   "cell_type": "code",
   "execution_count": null,
   "metadata": {
    "application/vnd.databricks.v1+cell": {
     "cellMetadata": {},
     "inputWidgets": {},
     "nuid": "130313f4-2e48-4e74-be5f-2b6d9afb33b0",
     "showTitle": false,
     "tableResultSettingsMap": {},
     "title": ""
    }
   },
   "outputs": [],
   "source": []
  },
  {
   "cell_type": "code",
   "execution_count": null,
   "metadata": {
    "application/vnd.databricks.v1+cell": {
     "cellMetadata": {},
     "inputWidgets": {},
     "nuid": "12abccd7-166a-4417-aec0-84145c2a8ad3",
     "showTitle": false,
     "tableResultSettingsMap": {},
     "title": ""
    }
   },
   "outputs": [],
   "source": []
  },
  {
   "cell_type": "code",
   "execution_count": null,
   "metadata": {
    "application/vnd.databricks.v1+cell": {
     "cellMetadata": {
      "byteLimit": 2048000,
      "rowLimit": 10000
     },
     "inputWidgets": {},
     "nuid": "00e80dab-4861-488e-aae6-78f5c04084cb",
     "showTitle": false,
     "tableResultSettingsMap": {},
     "title": ""
    }
   },
   "outputs": [
    {
     "data": {
      "text/plain": [
       "2630"
      ]
     },
     "execution_count": 5,
     "metadata": {},
     "output_type": "execute_result"
    }
   ],
   "source": [
    "df_sales_2015.count()"
   ]
  },
  {
   "cell_type": "code",
   "execution_count": null,
   "metadata": {
    "application/vnd.databricks.v1+cell": {
     "cellMetadata": {
      "byteLimit": 2048000,
      "rowLimit": 10000
     },
     "inputWidgets": {},
     "nuid": "6299e7e6-0b7b-4e8b-99ea-9c32fb1cdd6e",
     "showTitle": false,
     "tableResultSettingsMap": {},
     "title": ""
    }
   },
   "outputs": [
    {
     "name": "stdout",
     "output_type": "stream",
     "text": [
      "+----------+----------+-----------+----------+-----------+------------+-------------+-------------+\n",
      "| OrderDate| StockDate|OrderNumber|ProductKey|CustomerKey|TerritoryKey|OrderLineItem|OrderQuantity|\n",
      "+----------+----------+-----------+----------+-----------+------------+-------------+-------------+\n",
      "|2015-01-01|2001-09-21|    SO45080|       332|      14657|           1|            1|            1|\n",
      "|2015-01-01|2001-12-05|    SO45079|       312|      29255|           4|            1|            1|\n",
      "|2015-01-01|2001-10-29|    SO45082|       350|      11455|           9|            1|            1|\n",
      "|2015-01-01|2001-11-16|    SO45081|       338|      26782|           6|            1|            1|\n",
      "|2015-01-02|2001-12-15|    SO45083|       312|      14947|          10|            1|            1|\n",
      "|2015-01-02|2001-10-12|    SO45084|       310|      29143|           4|            1|            1|\n",
      "|2015-01-02|2001-12-18|    SO45086|       314|      18747|           9|            1|            1|\n",
      "|2015-01-02|2001-10-09|    SO45085|       312|      18746|           9|            1|            1|\n",
      "|2015-01-03|2001-10-03|    SO45093|       312|      18906|           9|            1|            1|\n",
      "|2015-01-03|2001-09-29|    SO45090|       310|      29170|           4|            1|            1|\n",
      "+----------+----------+-----------+----------+-----------+------------+-------------+-------------+\n",
      "only showing top 10 rows\n",
      "\n"
     ]
    }
   ],
   "source": [
    "df_sales_2015.show(10)"
   ]
  },
  {
   "cell_type": "code",
   "execution_count": null,
   "metadata": {
    "application/vnd.databricks.v1+cell": {
     "cellMetadata": {
      "byteLimit": 2048000,
      "rowLimit": 10000
     },
     "inputWidgets": {},
     "nuid": "97f73dec-6b44-4986-a2ca-142bd9a03e6e",
     "showTitle": false,
     "tableResultSettingsMap": {},
     "title": ""
    }
   },
   "outputs": [],
   "source": [
    "df_sales_2016 = spark.read.format(\"csv\").option(\"header\", \"true\").option(\"inferSchema\", True).load(\"abfss://bronze@awdataprojectbasit.dfs.core.windows.net/sales-2016/\")"
   ]
  },
  {
   "cell_type": "code",
   "execution_count": null,
   "metadata": {
    "application/vnd.databricks.v1+cell": {
     "cellMetadata": {
      "byteLimit": 2048000,
      "rowLimit": 10000
     },
     "inputWidgets": {},
     "nuid": "a785977f-4bc4-4d51-b9b8-275a12112fe1",
     "showTitle": false,
     "tableResultSettingsMap": {},
     "title": ""
    }
   },
   "outputs": [
    {
     "data": {
      "text/plain": [
       "23935"
      ]
     },
     "execution_count": 8,
     "metadata": {},
     "output_type": "execute_result"
    }
   ],
   "source": [
    "df_sales_2016.count()"
   ]
  },
  {
   "cell_type": "code",
   "execution_count": null,
   "metadata": {
    "application/vnd.databricks.v1+cell": {
     "cellMetadata": {
      "byteLimit": 2048000,
      "rowLimit": 10000
     },
     "inputWidgets": {},
     "nuid": "6a59552e-6aa3-45c4-8e25-f467b6d48e8b",
     "showTitle": false,
     "tableResultSettingsMap": {},
     "title": ""
    }
   },
   "outputs": [
    {
     "name": "stdout",
     "output_type": "stream",
     "text": [
      "+----------+----------+-----------+----------+-----------+------------+-------------+-------------+\n",
      "| OrderDate| StockDate|OrderNumber|ProductKey|CustomerKey|TerritoryKey|OrderLineItem|OrderQuantity|\n",
      "+----------+----------+-----------+----------+-----------+------------+-------------+-------------+\n",
      "|2016-01-01|2002-10-17|    SO48797|       385|      14335|           1|            1|            1|\n",
      "|2016-01-01|2002-09-30|    SO48802|       383|      24923|           9|            1|            1|\n",
      "|2016-01-01|2002-11-29|    SO48801|       326|      15493|           1|            1|            1|\n",
      "|2016-01-01|2002-11-16|    SO48799|       352|      26708|           4|            1|            1|\n",
      "|2016-01-01|2002-12-16|    SO48798|       369|      23332|           9|            1|            1|\n",
      "|2016-01-01|2002-12-02|    SO48800|       342|      15491|           5|            1|            1|\n",
      "|2016-01-01|2002-10-19|    SO48795|       375|      16538|           8|            1|            1|\n",
      "|2016-01-01|2002-11-23|    SO48796|       375|      15094|           7|            1|            1|\n",
      "|2016-01-02|2002-12-01|    SO48804|       356|      12276|           8|            1|            1|\n",
      "|2016-01-02|2002-09-12|    SO48814|       360|      13647|           9|            1|            1|\n",
      "+----------+----------+-----------+----------+-----------+------------+-------------+-------------+\n",
      "only showing top 10 rows\n",
      "\n"
     ]
    }
   ],
   "source": [
    "df_sales_2016.show(10)"
   ]
  },
  {
   "cell_type": "code",
   "execution_count": null,
   "metadata": {
    "application/vnd.databricks.v1+cell": {
     "cellMetadata": {
      "byteLimit": 2048000,
      "rowLimit": 10000
     },
     "inputWidgets": {},
     "nuid": "2b9bbbf2-b7c9-4721-bf03-9efa945e822d",
     "showTitle": false,
     "tableResultSettingsMap": {},
     "title": ""
    }
   },
   "outputs": [],
   "source": [
    "df_sales_2017 = spark.read.format(\"csv\").option(\"header\", \"true\").option(\"inferSchema\", True).load(\"abfss://bronze@awdataprojectbasit.dfs.core.windows.net/sales-2017/\")"
   ]
  },
  {
   "cell_type": "code",
   "execution_count": null,
   "metadata": {
    "application/vnd.databricks.v1+cell": {
     "cellMetadata": {
      "byteLimit": 2048000,
      "rowLimit": 10000
     },
     "inputWidgets": {},
     "nuid": "20d0f2af-9ce9-44d0-9984-4bd3b0f4b4bd",
     "showTitle": false,
     "tableResultSettingsMap": {},
     "title": ""
    }
   },
   "outputs": [
    {
     "data": {
      "text/plain": [
       "29481"
      ]
     },
     "execution_count": 11,
     "metadata": {},
     "output_type": "execute_result"
    }
   ],
   "source": [
    "df_sales_2017.count()"
   ]
  },
  {
   "cell_type": "code",
   "execution_count": null,
   "metadata": {
    "application/vnd.databricks.v1+cell": {
     "cellMetadata": {
      "byteLimit": 2048000,
      "rowLimit": 10000
     },
     "inputWidgets": {},
     "nuid": "02f19d57-3bd5-40fe-b422-89fc3e9fd845",
     "showTitle": false,
     "tableResultSettingsMap": {},
     "title": ""
    }
   },
   "outputs": [
    {
     "name": "stdout",
     "output_type": "stream",
     "text": [
      "+----------+----------+-----------+----------+-----------+------------+-------------+-------------+\n",
      "| OrderDate| StockDate|OrderNumber|ProductKey|CustomerKey|TerritoryKey|OrderLineItem|OrderQuantity|\n",
      "+----------+----------+-----------+----------+-----------+------------+-------------+-------------+\n",
      "|2017-01-01|2003-12-13|    SO61285|       529|      23791|           1|            2|            2|\n",
      "|2017-01-01|2003-09-24|    SO61285|       214|      23791|           1|            3|            1|\n",
      "|2017-01-01|2003-09-04|    SO61285|       540|      23791|           1|            1|            1|\n",
      "|2017-01-01|2003-09-28|    SO61301|       529|      16747|           1|            2|            2|\n",
      "|2017-01-01|2003-10-21|    SO61301|       377|      16747|           1|            1|            1|\n",
      "|2017-01-01|2003-10-23|    SO61301|       540|      16747|           1|            3|            1|\n",
      "|2017-01-01|2003-09-04|    SO61269|       215|      11792|           4|            1|            1|\n",
      "|2017-01-01|2003-10-21|    SO61269|       229|      11792|           4|            2|            1|\n",
      "|2017-01-01|2003-10-24|    SO61286|       528|      11530|           6|            2|            2|\n",
      "|2017-01-01|2003-09-27|    SO61286|       536|      11530|           6|            1|            2|\n",
      "+----------+----------+-----------+----------+-----------+------------+-------------+-------------+\n",
      "only showing top 10 rows\n",
      "\n"
     ]
    }
   ],
   "source": [
    "df_sales_2017.show(10)"
   ]
  },
  {
   "cell_type": "code",
   "execution_count": null,
   "metadata": {
    "application/vnd.databricks.v1+cell": {
     "cellMetadata": {
      "byteLimit": 2048000,
      "rowLimit": 10000
     },
     "inputWidgets": {},
     "nuid": "0483379f-deb5-4d2f-8a2a-b27e12e887e0",
     "showTitle": false,
     "tableResultSettingsMap": {},
     "title": ""
    }
   },
   "outputs": [],
   "source": [
    "df_territories = spark.read.format(\"csv\").option(\"header\", \"true\").option(\"inferSchema\", True).load(\"abfss://bronze@awdataprojectbasit.dfs.core.windows.net/territories/\")"
   ]
  },
  {
   "cell_type": "code",
   "execution_count": null,
   "metadata": {
    "application/vnd.databricks.v1+cell": {
     "cellMetadata": {
      "byteLimit": 2048000,
      "rowLimit": 10000
     },
     "inputWidgets": {},
     "nuid": "34324161-b13d-40ca-9aab-6a7523393296",
     "showTitle": false,
     "tableResultSettingsMap": {},
     "title": ""
    }
   },
   "outputs": [
    {
     "data": {
      "text/plain": [
       "10"
      ]
     },
     "execution_count": 61,
     "metadata": {},
     "output_type": "execute_result"
    }
   ],
   "source": [
    "df_territories.count()"
   ]
  },
  {
   "cell_type": "code",
   "execution_count": null,
   "metadata": {
    "application/vnd.databricks.v1+cell": {
     "cellMetadata": {
      "byteLimit": 2048000,
      "rowLimit": 10000
     },
     "inputWidgets": {},
     "nuid": "5ec8fbe0-1060-4ed8-a22b-4d7f94148739",
     "showTitle": false,
     "tableResultSettingsMap": {},
     "title": ""
    }
   },
   "outputs": [
    {
     "name": "stdout",
     "output_type": "stream",
     "text": [
      "root\n",
      " |-- SalesTerritoryKey: integer (nullable = true)\n",
      " |-- Region: string (nullable = true)\n",
      " |-- Country: string (nullable = true)\n",
      " |-- Continent: string (nullable = true)\n",
      "\n"
     ]
    }
   ],
   "source": [
    "df_territories.printSchema()"
   ]
  },
  {
   "cell_type": "code",
   "execution_count": null,
   "metadata": {
    "application/vnd.databricks.v1+cell": {
     "cellMetadata": {
      "byteLimit": 2048000,
      "rowLimit": 10000
     },
     "inputWidgets": {},
     "nuid": "7bf587ff-ece3-4332-a25f-f845a814dc4c",
     "showTitle": false,
     "tableResultSettingsMap": {},
     "title": ""
    }
   },
   "outputs": [
    {
     "name": "stdout",
     "output_type": "stream",
     "text": [
      "+-----------------+--------------+--------------+-------------+\n",
      "|SalesTerritoryKey|        Region|       Country|    Continent|\n",
      "+-----------------+--------------+--------------+-------------+\n",
      "|                1|     Northwest| United States|North America|\n",
      "|                2|     Northeast| United States|North America|\n",
      "|                3|       Central| United States|North America|\n",
      "|                4|     Southwest| United States|North America|\n",
      "|                5|     Southeast| United States|North America|\n",
      "|                6|        Canada|        Canada|North America|\n",
      "|                7|        France|        France|       Europe|\n",
      "|                8|       Germany|       Germany|       Europe|\n",
      "|                9|     Australia|     Australia|      Pacific|\n",
      "|               10|United Kingdom|United Kingdom|       Europe|\n",
      "+-----------------+--------------+--------------+-------------+\n",
      "\n"
     ]
    }
   ],
   "source": [
    "df_territories.show(10)"
   ]
  },
  {
   "cell_type": "markdown",
   "metadata": {
    "application/vnd.databricks.v1+cell": {
     "cellMetadata": {
      "byteLimit": 2048000,
      "rowLimit": 10000
     },
     "inputWidgets": {},
     "nuid": "e4185d95-0e98-47d5-8902-287b7a417f6a",
     "showTitle": false,
     "tableResultSettingsMap": {},
     "title": ""
    }
   },
   "source": [
    "## Transformations"
   ]
  },
  {
   "cell_type": "markdown",
   "metadata": {
    "application/vnd.databricks.v1+cell": {
     "cellMetadata": {
      "byteLimit": 2048000,
      "rowLimit": 10000
     },
     "inputWidgets": {},
     "nuid": "517cc229-3424-4ad8-918a-7b041629aa4b",
     "showTitle": false,
     "tableResultSettingsMap": {},
     "title": ""
    }
   },
   "source": [
    "#### Calender"
   ]
  },
  {
   "cell_type": "code",
   "execution_count": null,
   "metadata": {
    "application/vnd.databricks.v1+cell": {
     "cellMetadata": {
      "byteLimit": 2048000,
      "rowLimit": 10000
     },
     "inputWidgets": {},
     "nuid": "0e73f656-893a-4d11-a6a9-698774dcb891",
     "showTitle": false,
     "tableResultSettingsMap": {},
     "title": ""
    }
   },
   "outputs": [
    {
     "name": "stdout",
     "output_type": "stream",
     "text": [
      "+----------+---+-----+----+\n",
      "|      Date|day|month|year|\n",
      "+----------+---+-----+----+\n",
      "|2015-01-01|  1|    1|2015|\n",
      "|2015-01-02|  2|    1|2015|\n",
      "|2015-01-03|  3|    1|2015|\n",
      "|2015-01-04|  4|    1|2015|\n",
      "|2015-01-05|  5|    1|2015|\n",
      "|2015-01-06|  6|    1|2015|\n",
      "|2015-01-07|  7|    1|2015|\n",
      "|2015-01-08|  8|    1|2015|\n",
      "|2015-01-09|  9|    1|2015|\n",
      "|2015-01-10| 10|    1|2015|\n",
      "|2015-01-11| 11|    1|2015|\n",
      "|2015-01-12| 12|    1|2015|\n",
      "|2015-01-13| 13|    1|2015|\n",
      "|2015-01-14| 14|    1|2015|\n",
      "|2015-01-15| 15|    1|2015|\n",
      "|2015-01-16| 16|    1|2015|\n",
      "|2015-01-17| 17|    1|2015|\n",
      "|2015-01-18| 18|    1|2015|\n",
      "|2015-01-19| 19|    1|2015|\n",
      "|2015-01-20| 20|    1|2015|\n",
      "+----------+---+-----+----+\n",
      "only showing top 20 rows\n",
      "\n"
     ]
    }
   ],
   "source": [
    "df_calender = df_calender.withColumn(\"day\", dayofmonth(\"Date\")) \\\n",
    "           .withColumn(\"month\", month(\"Date\")) \\\n",
    "           .withColumn(\"year\", year(\"Date\"))\n",
    "df_calender.show()"
   ]
  },
  {
   "cell_type": "code",
   "execution_count": null,
   "metadata": {
    "application/vnd.databricks.v1+cell": {
     "cellMetadata": {
      "byteLimit": 2048000,
      "rowLimit": 10000
     },
     "inputWidgets": {},
     "nuid": "65e5d296-77be-44e2-b36a-ca1517a4df7c",
     "showTitle": false,
     "tableResultSettingsMap": {},
     "title": ""
    }
   },
   "outputs": [
    {
     "name": "stdout",
     "output_type": "stream",
     "text": [
      "root\n",
      " |-- Date: date (nullable = true)\n",
      " |-- day: integer (nullable = true)\n",
      " |-- month: integer (nullable = true)\n",
      " |-- year: integer (nullable = true)\n",
      "\n"
     ]
    }
   ],
   "source": [
    "df_calender.printSchema()"
   ]
  },
  {
   "cell_type": "code",
   "execution_count": null,
   "metadata": {
    "application/vnd.databricks.v1+cell": {
     "cellMetadata": {
      "byteLimit": 2048000,
      "rowLimit": 10000
     },
     "inputWidgets": {},
     "nuid": "9c3e5867-8027-4c64-8e06-329abad7f791",
     "showTitle": false,
     "tableResultSettingsMap": {},
     "title": ""
    }
   },
   "outputs": [],
   "source": [
    "df_calender.write.format('parquet')\\\n",
    "                 .mode('append')\\\n",
    "                 .option('path', \"abfss://silver@awdataprojectbasit.dfs.core.windows.net/Calender/\")\\\n",
    "                 .save()"
   ]
  },
  {
   "cell_type": "markdown",
   "metadata": {
    "application/vnd.databricks.v1+cell": {
     "cellMetadata": {},
     "inputWidgets": {},
     "nuid": "5607fb84-d512-4ce3-a317-1374e5a65d7f",
     "showTitle": false,
     "tableResultSettingsMap": {},
     "title": ""
    }
   },
   "source": [
    "#### Customer "
   ]
  },
  {
   "cell_type": "code",
   "execution_count": null,
   "metadata": {
    "application/vnd.databricks.v1+cell": {
     "cellMetadata": {
      "byteLimit": 2048000,
      "rowLimit": 10000
     },
     "inputWidgets": {},
     "nuid": "4491edb9-3bc0-43cc-a37e-406ffbf82ee6",
     "showTitle": false,
     "tableResultSettingsMap": {},
     "title": ""
    }
   },
   "outputs": [
    {
     "name": "stdout",
     "output_type": "stream",
     "text": [
      "+-----------+------+---------+--------+----------+-------------+------+--------------------+------------+-------------+--------------+------------+---------+\n",
      "|CustomerKey|Prefix|FirstName|LastName| BirthDate|MaritalStatus|Gender|        EmailAddress|AnnualIncome|TotalChildren|EducationLevel|  Occupation|HomeOwner|\n",
      "+-----------+------+---------+--------+----------+-------------+------+--------------------+------------+-------------+--------------+------------+---------+\n",
      "|      11000|   MR.|      JON|    YANG|1966-04-08|            M|     M|jon24@adventure-w...|    $90,000 |            2|     Bachelors|Professional|        Y|\n",
      "|      11001|   MR.|   EUGENE|   HUANG|1965-05-14|            S|     M|eugene10@adventur...|    $60,000 |            3|     Bachelors|Professional|        N|\n",
      "|      11002|   MR.|    RUBEN|  TORRES|1965-08-12|            M|     M|ruben35@adventure...|    $60,000 |            3|     Bachelors|Professional|        Y|\n",
      "|      11003|   MS.|  CHRISTY|     ZHU|1968-02-15|            S|     F|christy12@adventu...|    $70,000 |            0|     Bachelors|Professional|        N|\n",
      "|      11004|  MRS.|ELIZABETH| JOHNSON|1968-08-08|            S|     F|elizabeth5@advent...|    $80,000 |            5|     Bachelors|Professional|        Y|\n",
      "|      11005|   MR.|    JULIO|    RUIZ|1965-08-05|            S|     M|julio1@adventure-...|    $70,000 |            0|     Bachelors|Professional|        Y|\n",
      "|      11007|   MR.|    MARCO|   MEHTA|1964-05-09|            M|     M|marco14@adventure...|    $60,000 |            3|     Bachelors|Professional|        Y|\n",
      "|      11008|  MRS.|    ROBIN| VERHOFF|1964-07-07|            S|     F|rob4@adventure-wo...|    $60,000 |            4|     Bachelors|Professional|        Y|\n",
      "|      11009|   MR.|  SHANNON| CARLSON|1964-04-01|            S|     M|shannon38@adventu...|    $70,000 |            0|     Bachelors|Professional|        N|\n",
      "|      11010|   MS.|JACQUELYN|  SUAREZ|1964-02-06|            S|     F|jacquelyn20@adven...|    $70,000 |            0|     Bachelors|Professional|        N|\n",
      "+-----------+------+---------+--------+----------+-------------+------+--------------------+------------+-------------+--------------+------------+---------+\n",
      "only showing top 10 rows\n",
      "\n"
     ]
    }
   ],
   "source": [
    "df_customers.show(10)"
   ]
  },
  {
   "cell_type": "code",
   "execution_count": null,
   "metadata": {
    "application/vnd.databricks.v1+cell": {
     "cellMetadata": {
      "byteLimit": 2048000,
      "rowLimit": 10000
     },
     "inputWidgets": {},
     "nuid": "3e3129ee-9804-4b1b-a943-5e85e5f60760",
     "showTitle": false,
     "tableResultSettingsMap": {},
     "title": ""
    }
   },
   "outputs": [],
   "source": [
    "df_customers = df_customers.withColumn('fullName', concat_ws(' ', col('Prefix'),col('FirstName'), col('LastName')))"
   ]
  },
  {
   "cell_type": "code",
   "execution_count": null,
   "metadata": {
    "application/vnd.databricks.v1+cell": {
     "cellMetadata": {
      "byteLimit": 2048000,
      "rowLimit": 10000
     },
     "inputWidgets": {},
     "nuid": "0b6e2171-888b-4d25-a278-d4db1d7d2992",
     "showTitle": false,
     "tableResultSettingsMap": {},
     "title": ""
    }
   },
   "outputs": [
    {
     "name": "stdout",
     "output_type": "stream",
     "text": [
      "+-----------+------+---------+--------+----------+-------------+------+--------------------+------------+-------------+--------------+------------+---------+--------------------+\n",
      "|CustomerKey|Prefix|FirstName|LastName| BirthDate|MaritalStatus|Gender|        EmailAddress|AnnualIncome|TotalChildren|EducationLevel|  Occupation|HomeOwner|            fullName|\n",
      "+-----------+------+---------+--------+----------+-------------+------+--------------------+------------+-------------+--------------+------------+---------+--------------------+\n",
      "|      11000|   MR.|      JON|    YANG|1966-04-08|            M|     M|jon24@adventure-w...|    $90,000 |            2|     Bachelors|Professional|        Y|        MR. JON YANG|\n",
      "|      11001|   MR.|   EUGENE|   HUANG|1965-05-14|            S|     M|eugene10@adventur...|    $60,000 |            3|     Bachelors|Professional|        N|    MR. EUGENE HUANG|\n",
      "|      11002|   MR.|    RUBEN|  TORRES|1965-08-12|            M|     M|ruben35@adventure...|    $60,000 |            3|     Bachelors|Professional|        Y|    MR. RUBEN TORRES|\n",
      "|      11003|   MS.|  CHRISTY|     ZHU|1968-02-15|            S|     F|christy12@adventu...|    $70,000 |            0|     Bachelors|Professional|        N|     MS. CHRISTY ZHU|\n",
      "|      11004|  MRS.|ELIZABETH| JOHNSON|1968-08-08|            S|     F|elizabeth5@advent...|    $80,000 |            5|     Bachelors|Professional|        Y|MRS. ELIZABETH JO...|\n",
      "|      11005|   MR.|    JULIO|    RUIZ|1965-08-05|            S|     M|julio1@adventure-...|    $70,000 |            0|     Bachelors|Professional|        Y|      MR. JULIO RUIZ|\n",
      "|      11007|   MR.|    MARCO|   MEHTA|1964-05-09|            M|     M|marco14@adventure...|    $60,000 |            3|     Bachelors|Professional|        Y|     MR. MARCO MEHTA|\n",
      "|      11008|  MRS.|    ROBIN| VERHOFF|1964-07-07|            S|     F|rob4@adventure-wo...|    $60,000 |            4|     Bachelors|Professional|        Y|  MRS. ROBIN VERHOFF|\n",
      "|      11009|   MR.|  SHANNON| CARLSON|1964-04-01|            S|     M|shannon38@adventu...|    $70,000 |            0|     Bachelors|Professional|        N| MR. SHANNON CARLSON|\n",
      "|      11010|   MS.|JACQUELYN|  SUAREZ|1964-02-06|            S|     F|jacquelyn20@adven...|    $70,000 |            0|     Bachelors|Professional|        N|MS. JACQUELYN SUAREZ|\n",
      "+-----------+------+---------+--------+----------+-------------+------+--------------------+------------+-------------+--------------+------------+---------+--------------------+\n",
      "only showing top 10 rows\n",
      "\n"
     ]
    }
   ],
   "source": [
    "df_customers.show(10)\n"
   ]
  },
  {
   "cell_type": "code",
   "execution_count": null,
   "metadata": {
    "application/vnd.databricks.v1+cell": {
     "cellMetadata": {
      "byteLimit": 2048000,
      "rowLimit": 10000
     },
     "inputWidgets": {},
     "nuid": "fa6fe2a3-2974-4447-a02f-77794c25143d",
     "showTitle": false,
     "tableResultSettingsMap": {},
     "title": ""
    }
   },
   "outputs": [],
   "source": [
    "df_customers.write.format('parquet')\\\n",
    "                 .mode('append')\\\n",
    "                 .option('path', \"abfss://silver@awdataprojectbasit.dfs.core.windows.net/Customers/\")\\\n",
    "                 .save()"
   ]
  },
  {
   "cell_type": "code",
   "execution_count": null,
   "metadata": {
    "application/vnd.databricks.v1+cell": {
     "cellMetadata": {
      "byteLimit": 2048000,
      "rowLimit": 10000
     },
     "inputWidgets": {},
     "nuid": "a6ef19bc-0e82-4543-9575-c7f583e25cb4",
     "showTitle": false,
     "tableResultSettingsMap": {},
     "title": ""
    }
   },
   "outputs": [
    {
     "data": {
      "text/html": [
       "<style scoped>\n",
       "  .table-result-container {\n",
       "    max-height: 300px;\n",
       "    overflow: auto;\n",
       "  }\n",
       "  table, th, td {\n",
       "    border: 1px solid black;\n",
       "    border-collapse: collapse;\n",
       "  }\n",
       "  th, td {\n",
       "    padding: 5px;\n",
       "  }\n",
       "  th {\n",
       "    text-align: left;\n",
       "  }\n",
       "</style><div class='table-result-container'><table class='table-result'><thead style='background-color: white'><tr><th>ProductSubcategoryKey</th><th>SubcategoryName</th><th>ProductCategoryKey</th></tr></thead><tbody><tr><td>1</td><td>Mountain Bikes</td><td>1</td></tr><tr><td>2</td><td>Road Bikes</td><td>1</td></tr><tr><td>3</td><td>Touring Bikes</td><td>1</td></tr><tr><td>4</td><td>Handlebars</td><td>2</td></tr><tr><td>5</td><td>Bottom Brackets</td><td>2</td></tr><tr><td>6</td><td>Brakes</td><td>2</td></tr><tr><td>7</td><td>Chains</td><td>2</td></tr><tr><td>8</td><td>Cranksets</td><td>2</td></tr><tr><td>9</td><td>Derailleurs</td><td>2</td></tr><tr><td>10</td><td>Forks</td><td>2</td></tr><tr><td>11</td><td>Headsets</td><td>2</td></tr><tr><td>12</td><td>Mountain Frames</td><td>2</td></tr><tr><td>13</td><td>Pedals</td><td>2</td></tr><tr><td>14</td><td>Road Frames</td><td>2</td></tr><tr><td>15</td><td>Saddles</td><td>2</td></tr><tr><td>16</td><td>Touring Frames</td><td>2</td></tr><tr><td>17</td><td>Wheels</td><td>2</td></tr><tr><td>18</td><td>Bib-Shorts</td><td>3</td></tr><tr><td>19</td><td>Caps</td><td>3</td></tr><tr><td>20</td><td>Gloves</td><td>3</td></tr><tr><td>21</td><td>Jerseys</td><td>3</td></tr><tr><td>22</td><td>Shorts</td><td>3</td></tr><tr><td>23</td><td>Socks</td><td>3</td></tr><tr><td>24</td><td>Tights</td><td>3</td></tr><tr><td>25</td><td>Vests</td><td>3</td></tr><tr><td>26</td><td>Bike Racks</td><td>4</td></tr><tr><td>27</td><td>Bike Stands</td><td>4</td></tr><tr><td>28</td><td>Bottles and Cages</td><td>4</td></tr><tr><td>29</td><td>Cleaners</td><td>4</td></tr><tr><td>30</td><td>Fenders</td><td>4</td></tr><tr><td>31</td><td>Helmets</td><td>4</td></tr><tr><td>32</td><td>Hydration Packs</td><td>4</td></tr><tr><td>33</td><td>Lights</td><td>4</td></tr><tr><td>34</td><td>Locks</td><td>4</td></tr><tr><td>35</td><td>Panniers</td><td>4</td></tr><tr><td>36</td><td>Pumps</td><td>4</td></tr><tr><td>37</td><td>Tires and Tubes</td><td>4</td></tr></tbody></table></div>"
      ]
     },
     "metadata": {
      "application/vnd.databricks.v1+output": {
       "addedWidgets": {},
       "aggData": [],
       "aggError": "",
       "aggOverflow": false,
       "aggSchema": [],
       "aggSeriesLimitReached": false,
       "aggType": "",
       "arguments": {},
       "columnCustomDisplayInfos": {},
       "data": [
        [
         1,
         "Mountain Bikes",
         1
        ],
        [
         2,
         "Road Bikes",
         1
        ],
        [
         3,
         "Touring Bikes",
         1
        ],
        [
         4,
         "Handlebars",
         2
        ],
        [
         5,
         "Bottom Brackets",
         2
        ],
        [
         6,
         "Brakes",
         2
        ],
        [
         7,
         "Chains",
         2
        ],
        [
         8,
         "Cranksets",
         2
        ],
        [
         9,
         "Derailleurs",
         2
        ],
        [
         10,
         "Forks",
         2
        ],
        [
         11,
         "Headsets",
         2
        ],
        [
         12,
         "Mountain Frames",
         2
        ],
        [
         13,
         "Pedals",
         2
        ],
        [
         14,
         "Road Frames",
         2
        ],
        [
         15,
         "Saddles",
         2
        ],
        [
         16,
         "Touring Frames",
         2
        ],
        [
         17,
         "Wheels",
         2
        ],
        [
         18,
         "Bib-Shorts",
         3
        ],
        [
         19,
         "Caps",
         3
        ],
        [
         20,
         "Gloves",
         3
        ],
        [
         21,
         "Jerseys",
         3
        ],
        [
         22,
         "Shorts",
         3
        ],
        [
         23,
         "Socks",
         3
        ],
        [
         24,
         "Tights",
         3
        ],
        [
         25,
         "Vests",
         3
        ],
        [
         26,
         "Bike Racks",
         4
        ],
        [
         27,
         "Bike Stands",
         4
        ],
        [
         28,
         "Bottles and Cages",
         4
        ],
        [
         29,
         "Cleaners",
         4
        ],
        [
         30,
         "Fenders",
         4
        ],
        [
         31,
         "Helmets",
         4
        ],
        [
         32,
         "Hydration Packs",
         4
        ],
        [
         33,
         "Lights",
         4
        ],
        [
         34,
         "Locks",
         4
        ],
        [
         35,
         "Panniers",
         4
        ],
        [
         36,
         "Pumps",
         4
        ],
        [
         37,
         "Tires and Tubes",
         4
        ]
       ],
       "datasetInfos": [],
       "dbfsResultPath": null,
       "isJsonSchema": true,
       "metadata": {},
       "overflow": false,
       "plotOptions": {
        "customPlotOptions": {},
        "displayType": "table",
        "pivotAggregation": null,
        "pivotColumns": null,
        "xColumns": null,
        "yColumns": null
       },
       "removedWidgets": [],
       "schema": [
        {
         "metadata": "{}",
         "name": "ProductSubcategoryKey",
         "type": "\"integer\""
        },
        {
         "metadata": "{}",
         "name": "SubcategoryName",
         "type": "\"string\""
        },
        {
         "metadata": "{}",
         "name": "ProductCategoryKey",
         "type": "\"integer\""
        }
       ],
       "type": "table"
      }
     },
     "output_type": "display_data"
    }
   ],
   "source": [
    "df_product_subcategories.display()"
   ]
  },
  {
   "cell_type": "code",
   "execution_count": null,
   "metadata": {
    "application/vnd.databricks.v1+cell": {
     "cellMetadata": {
      "byteLimit": 2048000,
      "rowLimit": 10000
     },
     "inputWidgets": {},
     "nuid": "ad22a9ee-7cb7-4014-b535-d6e6a9b4fe25",
     "showTitle": false,
     "tableResultSettingsMap": {},
     "title": ""
    }
   },
   "outputs": [],
   "source": [
    "df_product_categories.write.format('parquet')\\\n",
    "                 .mode('append')\\\n",
    "                 .option('path', \"abfss://silver@awdataprojectbasit.dfs.core.windows.net/product-categories/\")\\\n",
    "                 .save()"
   ]
  },
  {
   "cell_type": "code",
   "execution_count": null,
   "metadata": {
    "application/vnd.databricks.v1+cell": {
     "cellMetadata": {
      "byteLimit": 2048000,
      "rowLimit": 10000
     },
     "inputWidgets": {},
     "nuid": "93b72794-f07e-4ac0-92d3-08b883749272",
     "showTitle": false,
     "tableResultSettingsMap": {},
     "title": ""
    }
   },
   "outputs": [
    {
     "name": "stdout",
     "output_type": "stream",
     "text": [
      "root\n",
      " |-- ProductKey: integer (nullable = true)\n",
      " |-- ProductSubcategoryKey: integer (nullable = true)\n",
      " |-- ProductSKU: string (nullable = true)\n",
      " |-- ProductName: string (nullable = true)\n",
      " |-- ModelName: string (nullable = true)\n",
      " |-- ProductDescription: string (nullable = true)\n",
      " |-- ProductColor: string (nullable = true)\n",
      " |-- ProductSize: string (nullable = true)\n",
      " |-- ProductStyle: string (nullable = true)\n",
      " |-- ProductCost: double (nullable = true)\n",
      " |-- ProductPrice: double (nullable = true)\n",
      "\n"
     ]
    }
   ],
   "source": [
    "df_products.printSchema()"
   ]
  },
  {
   "cell_type": "code",
   "execution_count": null,
   "metadata": {
    "application/vnd.databricks.v1+cell": {
     "cellMetadata": {
      "byteLimit": 2048000,
      "rowLimit": 10000
     },
     "inputWidgets": {},
     "nuid": "394453ca-d747-4eaa-a16f-d266e7cae4cb",
     "showTitle": false,
     "tableResultSettingsMap": {},
     "title": ""
    }
   },
   "outputs": [
    {
     "name": "stdout",
     "output_type": "stream",
     "text": [
      "+----------+---------------------+----------+--------------------+--------------------+--------------------+------------+-----------+------------+-----------+------------+\n",
      "|ProductKey|ProductSubcategoryKey|ProductSKU|         ProductName|           ModelName|  ProductDescription|ProductColor|ProductSize|ProductStyle|ProductCost|ProductPrice|\n",
      "+----------+---------------------+----------+--------------------+--------------------+--------------------+------------+-----------+------------+-----------+------------+\n",
      "|       214|                   31| HL-U509-R|Sport-100 Helmet,...|           Sport-100|Universal fit, we...|         Red|          0|           0|    13.0863|       34.99|\n",
      "|       215|                   31|   HL-U509|Sport-100 Helmet,...|           Sport-100|Universal fit, we...|       Black|          0|           0|    12.0278|     33.6442|\n",
      "|       218|                   23| SO-B909-M|Mountain Bike Soc...| Mountain Bike Socks|Combination of na...|       White|          M|           U|     3.3963|         9.5|\n",
      "|       219|                   23| SO-B909-L|Mountain Bike Soc...| Mountain Bike Socks|Combination of na...|       White|          L|           U|     3.3963|         9.5|\n",
      "|       220|                   31| HL-U509-B|Sport-100 Helmet,...|           Sport-100|Universal fit, we...|        Blue|          0|           0|    12.0278|     33.6442|\n",
      "|       223|                   19|   CA-1098|        AWC Logo Cap|         Cycling Cap|Traditional style...|       Multi|          0|           U|     5.7052|      8.6442|\n",
      "|       226|                   21| LJ-0192-S|Long-Sleeve Logo ...|Long-Sleeve Logo ...|Unisex long-sleev...|       Multi|          S|           U|    31.7244|     48.0673|\n",
      "|       229|                   21| LJ-0192-M|Long-Sleeve Logo ...|Long-Sleeve Logo ...|Unisex long-sleev...|       Multi|          M|           U|    31.7244|     48.0673|\n",
      "|       232|                   21| LJ-0192-L|Long-Sleeve Logo ...|Long-Sleeve Logo ...|Unisex long-sleev...|       Multi|          L|           U|    31.7244|     48.0673|\n",
      "|       235|                   21| LJ-0192-X|Long-Sleeve Logo ...|Long-Sleeve Logo ...|Unisex long-sleev...|       Multi|         XL|           U|    31.7244|     48.0673|\n",
      "+----------+---------------------+----------+--------------------+--------------------+--------------------+------------+-----------+------------+-----------+------------+\n",
      "only showing top 10 rows\n",
      "\n"
     ]
    }
   ],
   "source": [
    "df_products.show(10)"
   ]
  },
  {
   "cell_type": "code",
   "execution_count": null,
   "metadata": {
    "application/vnd.databricks.v1+cell": {
     "cellMetadata": {
      "byteLimit": 2048000,
      "rowLimit": 10000
     },
     "inputWidgets": {},
     "nuid": "2de31641-9dbc-4080-9e1e-57aa0b8e4638",
     "showTitle": false,
     "tableResultSettingsMap": {},
     "title": ""
    }
   },
   "outputs": [],
   "source": [
    "df_products=df_products.withColumn(\"Profit\", col(\"ProductPrice\") - col(\"ProductCost\"))\\\n",
    "            .withColumn(\"Profit Percentage\", (col(\"Profit\") / col(\"ProductCost\")) * 100)\\\n",
    "            "
   ]
  },
  {
   "cell_type": "code",
   "execution_count": null,
   "metadata": {
    "application/vnd.databricks.v1+cell": {
     "cellMetadata": {
      "byteLimit": 2048000,
      "rowLimit": 10000
     },
     "inputWidgets": {},
     "nuid": "34752796-eecb-4974-bc72-7499fb5cce65",
     "showTitle": false,
     "tableResultSettingsMap": {},
     "title": ""
    }
   },
   "outputs": [],
   "source": [
    "df_products= df_products.withColumn(\"SKU_Prefix\", split(\"ProductSKU\", \"-\").getItem(0))"
   ]
  },
  {
   "cell_type": "code",
   "execution_count": null,
   "metadata": {
    "application/vnd.databricks.v1+cell": {
     "cellMetadata": {
      "byteLimit": 2048000,
      "rowLimit": 10000
     },
     "inputWidgets": {},
     "nuid": "f599bca3-9494-4c79-bc10-d6263b9e9b0a",
     "showTitle": false,
     "tableResultSettingsMap": {},
     "title": ""
    }
   },
   "outputs": [
    {
     "data": {
      "text/html": [
       "<style scoped>\n",
       "  .table-result-container {\n",
       "    max-height: 300px;\n",
       "    overflow: auto;\n",
       "  }\n",
       "  table, th, td {\n",
       "    border: 1px solid black;\n",
       "    border-collapse: collapse;\n",
       "  }\n",
       "  th, td {\n",
       "    padding: 5px;\n",
       "  }\n",
       "  th {\n",
       "    text-align: left;\n",
       "  }\n",
       "</style><div class='table-result-container'><table class='table-result'><thead style='background-color: white'><tr><th>ProductKey</th><th>ProductSubcategoryKey</th><th>ProductSKU</th><th>ProductName</th><th>ModelName</th><th>ProductDescription</th><th>ProductColor</th><th>ProductSize</th><th>ProductStyle</th><th>ProductCost</th><th>ProductPrice</th><th>Profit</th><th>Profit Percentage</th><th>SKU_Prefix</th></tr></thead><tbody><tr><td>214</td><td>31</td><td>HL-U509-R</td><td>Sport-100 Helmet, Red</td><td>Sport-100</td><td>Universal fit, well-vented, lightweight , snap-on visor.</td><td>Red</td><td>0</td><td>0</td><td>13.0863</td><td>34.99</td><td>21.9037</td><td>167.37886186316987</td><td>HL</td></tr><tr><td>215</td><td>31</td><td>HL-U509</td><td>Sport-100 Helmet, Black</td><td>Sport-100</td><td>Universal fit, well-vented, lightweight , snap-on visor.</td><td>Black</td><td>0</td><td>0</td><td>12.0278</td><td>33.6442</td><td>21.6164</td><td>179.72031460449958</td><td>HL</td></tr><tr><td>218</td><td>23</td><td>SO-B909-M</td><td>Mountain Bike Socks, M</td><td>Mountain Bike Socks</td><td>Combination of natural and synthetic fibers stays dry and provides just the right cushioning.</td><td>White</td><td>M</td><td>U</td><td>3.3963</td><td>9.5</td><td>6.1037</td><td>179.71616170538528</td><td>SO</td></tr><tr><td>219</td><td>23</td><td>SO-B909-L</td><td>Mountain Bike Socks, L</td><td>Mountain Bike Socks</td><td>Combination of natural and synthetic fibers stays dry and provides just the right cushioning.</td><td>White</td><td>L</td><td>U</td><td>3.3963</td><td>9.5</td><td>6.1037</td><td>179.71616170538528</td><td>SO</td></tr><tr><td>220</td><td>31</td><td>HL-U509-B</td><td>Sport-100 Helmet, Blue</td><td>Sport-100</td><td>Universal fit, well-vented, lightweight , snap-on visor.</td><td>Blue</td><td>0</td><td>0</td><td>12.0278</td><td>33.6442</td><td>21.6164</td><td>179.72031460449958</td><td>HL</td></tr><tr><td>223</td><td>19</td><td>CA-1098</td><td>AWC Logo Cap</td><td>Cycling Cap</td><td>Traditional style with a flip-up brim; one-size fits all.</td><td>Multi</td><td>0</td><td>U</td><td>5.7052</td><td>8.6442</td><td>2.939</td><td>51.51440790857463</td><td>CA</td></tr><tr><td>226</td><td>21</td><td>LJ-0192-S</td><td>Long-Sleeve Logo Jersey, S</td><td>Long-Sleeve Logo Jersey</td><td>Unisex long-sleeve AWC logo microfiber cycling jersey</td><td>Multi</td><td>S</td><td>U</td><td>31.7244</td><td>48.0673</td><td>16.342900000000004</td><td>51.51523748282081</td><td>LJ</td></tr><tr><td>229</td><td>21</td><td>LJ-0192-M</td><td>Long-Sleeve Logo Jersey, M</td><td>Long-Sleeve Logo Jersey</td><td>Unisex long-sleeve AWC logo microfiber cycling jersey</td><td>Multi</td><td>M</td><td>U</td><td>31.7244</td><td>48.0673</td><td>16.342900000000004</td><td>51.51523748282081</td><td>LJ</td></tr><tr><td>232</td><td>21</td><td>LJ-0192-L</td><td>Long-Sleeve Logo Jersey, L</td><td>Long-Sleeve Logo Jersey</td><td>Unisex long-sleeve AWC logo microfiber cycling jersey</td><td>Multi</td><td>L</td><td>U</td><td>31.7244</td><td>48.0673</td><td>16.342900000000004</td><td>51.51523748282081</td><td>LJ</td></tr><tr><td>235</td><td>21</td><td>LJ-0192-X</td><td>Long-Sleeve Logo Jersey, XL</td><td>Long-Sleeve Logo Jersey</td><td>Unisex long-sleeve AWC logo microfiber cycling jersey</td><td>Multi</td><td>XL</td><td>U</td><td>31.7244</td><td>48.0673</td><td>16.342900000000004</td><td>51.51523748282081</td><td>LJ</td></tr><tr><td>238</td><td>14</td><td>FR-R92R-62</td><td>HL Road Frame - Red, 62</td><td>HL Road Frame</td><td>Our lightest and best quality aluminum frame made from the newest alloy; it is welded and heat-treated for strength. Our innovative design results in maximum comfort and performance.</td><td>Red</td><td>62</td><td>U</td><td>747.9682</td><td>1263.4598</td><td>515.4916000000001</td><td>68.91891928025817</td><td>FR</td></tr><tr><td>241</td><td>14</td><td>FR-R92R-44</td><td>HL Road Frame - Red, 44</td><td>HL Road Frame</td><td>Our lightest and best quality aluminum frame made from the newest alloy; it is welded and heat-treated for strength. Our innovative design results in maximum comfort and performance.</td><td>Red</td><td>44</td><td>U</td><td>747.9682</td><td>1263.4598</td><td>515.4916000000001</td><td>68.91891928025817</td><td>FR</td></tr><tr><td>244</td><td>14</td><td>FR-R92R-48</td><td>HL Road Frame - Red, 48</td><td>HL Road Frame</td><td>Our lightest and best quality aluminum frame made from the newest alloy; it is welded and heat-treated for strength. Our innovative design results in maximum comfort and performance.</td><td>Red</td><td>48</td><td>U</td><td>747.9682</td><td>1263.4598</td><td>515.4916000000001</td><td>68.91891928025817</td><td>FR</td></tr><tr><td>247</td><td>14</td><td>FR-R92R-52</td><td>HL Road Frame - Red, 52</td><td>HL Road Frame</td><td>Our lightest and best quality aluminum frame made from the newest alloy; it is welded and heat-treated for strength. Our innovative design results in maximum comfort and performance.</td><td>Red</td><td>52</td><td>U</td><td>747.9682</td><td>1263.4598</td><td>515.4916000000001</td><td>68.91891928025817</td><td>FR</td></tr><tr><td>250</td><td>14</td><td>FR-R92R-56</td><td>HL Road Frame - Red, 56</td><td>HL Road Frame</td><td>Our lightest and best quality aluminum frame made from the newest alloy; it is welded and heat-treated for strength. Our innovative design results in maximum comfort and performance.</td><td>Red</td><td>56</td><td>U</td><td>747.9682</td><td>1263.4598</td><td>515.4916000000001</td><td>68.91891928025817</td><td>FR</td></tr><tr><td>253</td><td>14</td><td>FR-R38B-58</td><td>LL Road Frame - Black, 58</td><td>LL Road Frame</td><td>The LL Frame provides a safe comfortable ride, while offering superior bump absorption in a value-priced aluminum frame.</td><td>Black</td><td>58</td><td>U</td><td>176.1997</td><td>297.6346</td><td>121.43489999999997</td><td>68.91890281311487</td><td>FR</td></tr><tr><td>256</td><td>14</td><td>FR-R38B-60</td><td>LL Road Frame - Black, 60</td><td>LL Road Frame</td><td>The LL Frame provides a safe comfortable ride, while offering superior bump absorption in a value-priced aluminum frame.</td><td>Black</td><td>60</td><td>U</td><td>176.1997</td><td>297.6346</td><td>121.43489999999997</td><td>68.91890281311487</td><td>FR</td></tr><tr><td>259</td><td>14</td><td>FR-R38B-62</td><td>LL Road Frame - Black, 62</td><td>LL Road Frame</td><td>The LL Frame provides a safe comfortable ride, while offering superior bump absorption in a value-priced aluminum frame.</td><td>Black</td><td>62</td><td>U</td><td>176.1997</td><td>297.6346</td><td>121.43489999999997</td><td>68.91890281311487</td><td>FR</td></tr><tr><td>262</td><td>14</td><td>FR-R38R-44</td><td>LL Road Frame - Red, 44</td><td>LL Road Frame</td><td>The LL Frame provides a safe comfortable ride, while offering superior bump absorption in a value-priced aluminum frame.</td><td>Red</td><td>44</td><td>U</td><td>181.4857</td><td>306.5636</td><td>125.0779</td><td>68.91887349802217</td><td>FR</td></tr><tr><td>264</td><td>14</td><td>FR-R38R-48</td><td>LL Road Frame - Red, 48</td><td>LL Road Frame</td><td>The LL Frame provides a safe comfortable ride, while offering superior bump absorption in a value-priced aluminum frame.</td><td>Red</td><td>48</td><td>U</td><td>181.4857</td><td>306.5636</td><td>125.0779</td><td>68.91887349802217</td><td>FR</td></tr><tr><td>266</td><td>14</td><td>FR-R38R-52</td><td>LL Road Frame - Red, 52</td><td>LL Road Frame</td><td>The LL Frame provides a safe comfortable ride, while offering superior bump absorption in a value-priced aluminum frame.</td><td>Red</td><td>52</td><td>U</td><td>181.4857</td><td>306.5636</td><td>125.0779</td><td>68.91887349802217</td><td>FR</td></tr><tr><td>268</td><td>14</td><td>FR-R38R-58</td><td>LL Road Frame - Red, 58</td><td>LL Road Frame</td><td>The LL Frame provides a safe comfortable ride, while offering superior bump absorption in a value-priced aluminum frame.</td><td>Red</td><td>58</td><td>U</td><td>181.4857</td><td>306.5636</td><td>125.0779</td><td>68.91887349802217</td><td>FR</td></tr><tr><td>270</td><td>14</td><td>FR-R38R-60</td><td>LL Road Frame - Red, 60</td><td>LL Road Frame</td><td>The LL Frame provides a safe comfortable ride, while offering superior bump absorption in a value-priced aluminum frame.</td><td>Red</td><td>60</td><td>U</td><td>181.4857</td><td>306.5636</td><td>125.0779</td><td>68.91887349802217</td><td>FR</td></tr><tr><td>272</td><td>14</td><td>FR-R38R-62</td><td>LL Road Frame - Red, 62</td><td>LL Road Frame</td><td>The LL Frame provides a safe comfortable ride, while offering superior bump absorption in a value-priced aluminum frame.</td><td>Red</td><td>62</td><td>U</td><td>181.4857</td><td>306.5636</td><td>125.0779</td><td>68.91887349802217</td><td>FR</td></tr><tr><td>274</td><td>14</td><td>FR-R72R-44</td><td>ML Road Frame - Red, 44</td><td>ML Road Frame</td><td>Made from the same aluminum alloy as our top-of-the line HL frame, the ML features a lightweight down-tube milled to the perfect diameter for optimal strength. Men's version.</td><td>Red</td><td>44</td><td>U</td><td>352.1394</td><td>594.83</td><td>242.69060000000002</td><td>68.918899731186</td><td>FR</td></tr><tr><td>275</td><td>14</td><td>FR-R72R-48</td><td>ML Road Frame - Red, 48</td><td>ML Road Frame</td><td>Made from the same aluminum alloy as our top-of-the line HL frame, the ML features a lightweight down-tube milled to the perfect diameter for optimal strength. Men's version.</td><td>Red</td><td>48</td><td>U</td><td>352.1394</td><td>594.83</td><td>242.69060000000002</td><td>68.918899731186</td><td>FR</td></tr><tr><td>276</td><td>14</td><td>FR-R72R-52</td><td>ML Road Frame - Red, 52</td><td>ML Road Frame</td><td>Made from the same aluminum alloy as our top-of-the line HL frame, the ML features a lightweight down-tube milled to the perfect diameter for optimal strength. Men's version.</td><td>Red</td><td>52</td><td>U</td><td>352.1394</td><td>594.83</td><td>242.69060000000002</td><td>68.918899731186</td><td>FR</td></tr><tr><td>277</td><td>14</td><td>FR-R72R-58</td><td>ML Road Frame - Red, 58</td><td>ML Road Frame</td><td>Made from the same aluminum alloy as our top-of-the line HL frame, the ML features a lightweight down-tube milled to the perfect diameter for optimal strength. Men's version.</td><td>Red</td><td>58</td><td>U</td><td>352.1394</td><td>594.83</td><td>242.69060000000002</td><td>68.918899731186</td><td>FR</td></tr><tr><td>278</td><td>14</td><td>FR-R72R-60</td><td>ML Road Frame - Red, 60</td><td>ML Road Frame</td><td>Made from the same aluminum alloy as our top-of-the line HL frame, the ML features a lightweight down-tube milled to the perfect diameter for optimal strength. Men's version.</td><td>Red</td><td>60</td><td>U</td><td>352.1394</td><td>594.83</td><td>242.69060000000002</td><td>68.918899731186</td><td>FR</td></tr><tr><td>279</td><td>14</td><td>FR-R38B-44</td><td>LL Road Frame - Black, 44</td><td>LL Road Frame</td><td>The LL Frame provides a safe comfortable ride, while offering superior bump absorption in a value-priced aluminum frame.</td><td>Black</td><td>44</td><td>U</td><td>176.1997</td><td>297.6346</td><td>121.43489999999997</td><td>68.91890281311487</td><td>FR</td></tr><tr><td>282</td><td>14</td><td>FR-R38B-48</td><td>LL Road Frame - Black, 48</td><td>LL Road Frame</td><td>The LL Frame provides a safe comfortable ride, while offering superior bump absorption in a value-priced aluminum frame.</td><td>Black</td><td>48</td><td>U</td><td>176.1997</td><td>297.6346</td><td>121.43489999999997</td><td>68.91890281311487</td><td>FR</td></tr><tr><td>285</td><td>14</td><td>FR-R38B-52</td><td>LL Road Frame - Black, 52</td><td>LL Road Frame</td><td>The LL Frame provides a safe comfortable ride, while offering superior bump absorption in a value-priced aluminum frame.</td><td>Black</td><td>52</td><td>U</td><td>176.1997</td><td>297.6346</td><td>121.43489999999997</td><td>68.91890281311487</td><td>FR</td></tr><tr><td>288</td><td>12</td><td>FR-M94S-42</td><td>HL Mountain Frame - Silver, 42</td><td>HL Mountain Frame</td><td>Each frame is hand-crafted in our Bothell facility to the optimum diameter and wall-thickness required of a premium mountain frame. The heat-treated welded aluminum frame has a larger diameter tube that absorbs the bumps.</td><td>Silver</td><td>42</td><td>U</td><td>623.8403</td><td>1204.3248</td><td>580.4845000000001</td><td>93.05017646343146</td><td>FR</td></tr><tr><td>291</td><td>12</td><td>FR-M94S-44</td><td>HL Mountain Frame - Silver, 44</td><td>HL Mountain Frame</td><td>Each frame is hand-crafted in our Bothell facility to the optimum diameter and wall-thickness required of a premium mountain frame. The heat-treated welded aluminum frame has a larger diameter tube that absorbs the bumps.</td><td>Silver</td><td>44</td><td>U</td><td>706.811</td><td>1364.5</td><td>657.689</td><td>93.05019305019304</td><td>FR</td></tr><tr><td>292</td><td>12</td><td>FR-M94S-52</td><td>HL Mountain Frame - Silver, 48</td><td>HL Mountain Frame</td><td>Each frame is hand-crafted in our Bothell facility to the optimum diameter and wall-thickness required of a premium mountain frame. The heat-treated welded aluminum frame has a larger diameter tube that absorbs the bumps.</td><td>Silver</td><td>48</td><td>U</td><td>706.811</td><td>1364.5</td><td>657.689</td><td>93.05019305019304</td><td>FR</td></tr><tr><td>293</td><td>12</td><td>FR-M94S-46</td><td>HL Mountain Frame - Silver, 46</td><td>HL Mountain Frame</td><td>Each frame is hand-crafted in our Bothell facility to the optimum diameter and wall-thickness required of a premium mountain frame. The heat-treated welded aluminum frame has a larger diameter tube that absorbs the bumps.</td><td>Silver</td><td>46</td><td>U</td><td>623.8403</td><td>1204.3248</td><td>580.4845000000001</td><td>93.05017646343146</td><td>FR</td></tr><tr><td>296</td><td>12</td><td>FR-M94B-42</td><td>HL Mountain Frame - Black, 42</td><td>HL Mountain Frame</td><td>Each frame is hand-crafted in our Bothell facility to the optimum diameter and wall-thickness required of a premium mountain frame. The heat-treated welded aluminum frame has a larger diameter tube that absorbs the bumps.</td><td>Black</td><td>42</td><td>U</td><td>617.0281</td><td>1191.1739</td><td>574.1458</td><td>93.05018685534743</td><td>FR</td></tr><tr><td>299</td><td>12</td><td>FR-M94B-44</td><td>HL Mountain Frame - Black, 44</td><td>HL Mountain Frame</td><td>Each frame is hand-crafted in our Bothell facility to the optimum diameter and wall-thickness required of a premium mountain frame. The heat-treated welded aluminum frame has a larger diameter tube that absorbs the bumps.</td><td>Black</td><td>44</td><td>U</td><td>699.0928</td><td>1349.6</td><td>650.5071999999999</td><td>93.05019305019303</td><td>FR</td></tr><tr><td>300</td><td>12</td><td>FR-M94B-48</td><td>HL Mountain Frame - Black, 48</td><td>HL Mountain Frame</td><td>Each frame is hand-crafted in our Bothell facility to the optimum diameter and wall-thickness required of a premium mountain frame. The heat-treated welded aluminum frame has a larger diameter tube that absorbs the bumps.</td><td>Black</td><td>48</td><td>U</td><td>699.0928</td><td>1349.6</td><td>650.5071999999999</td><td>93.05019305019303</td><td>FR</td></tr><tr><td>301</td><td>12</td><td>FR-M94B-46</td><td>HL Mountain Frame - Black, 46</td><td>HL Mountain Frame</td><td>Each frame is hand-crafted in our Bothell facility to the optimum diameter and wall-thickness required of a premium mountain frame. The heat-treated welded aluminum frame has a larger diameter tube that absorbs the bumps.</td><td>Black</td><td>46</td><td>U</td><td>617.0281</td><td>1191.1739</td><td>574.1458</td><td>93.05018685534743</td><td>FR</td></tr><tr><td>304</td><td>12</td><td>FR-M94B-38</td><td>HL Mountain Frame - Black, 38</td><td>HL Mountain Frame</td><td>Each frame is hand-crafted in our Bothell facility to the optimum diameter and wall-thickness required of a premium mountain frame. The heat-treated welded aluminum frame has a larger diameter tube that absorbs the bumps.</td><td>Black</td><td>38</td><td>U</td><td>617.0281</td><td>1191.1739</td><td>574.1458</td><td>93.05018685534743</td><td>FR</td></tr><tr><td>307</td><td>12</td><td>FR-M94S-38</td><td>HL Mountain Frame - Silver, 38</td><td>HL Mountain Frame</td><td>Each frame is hand-crafted in our Bothell facility to the optimum diameter and wall-thickness required of a premium mountain frame. The heat-treated welded aluminum frame has a larger diameter tube that absorbs the bumps.</td><td>Silver</td><td>38</td><td>U</td><td>623.8403</td><td>1204.3248</td><td>580.4845000000001</td><td>93.05017646343146</td><td>FR</td></tr><tr><td>310</td><td>2</td><td>BK-R93R-62</td><td>Road-150 Red, 62</td><td>Road-150</td><td>This bike is ridden by race winners. Developed with the Adventure Works Cycles professional race team, it has a extremely light heat-treated aluminum frame, and steering that allows precision control.</td><td>Red</td><td>62</td><td>U</td><td>2171.2942</td><td>3578.27</td><td>1406.9758000000002</td><td>64.7989480191123</td><td>BK</td></tr><tr><td>311</td><td>2</td><td>BK-R93R-44</td><td>Road-150 Red, 44</td><td>Road-150</td><td>This bike is ridden by race winners. Developed with the Adventure Works Cycles professional race team, it has a extremely light heat-treated aluminum frame, and steering that allows precision control.</td><td>Red</td><td>44</td><td>U</td><td>2171.2942</td><td>3578.27</td><td>1406.9758000000002</td><td>64.7989480191123</td><td>BK</td></tr><tr><td>312</td><td>2</td><td>BK-R93R-48</td><td>Road-150 Red, 48</td><td>Road-150</td><td>This bike is ridden by race winners. Developed with the Adventure Works Cycles professional race team, it has a extremely light heat-treated aluminum frame, and steering that allows precision control.</td><td>Red</td><td>48</td><td>U</td><td>2171.2942</td><td>3578.27</td><td>1406.9758000000002</td><td>64.7989480191123</td><td>BK</td></tr><tr><td>313</td><td>2</td><td>BK-R93R-52</td><td>Road-150 Red, 52</td><td>Road-150</td><td>This bike is ridden by race winners. Developed with the Adventure Works Cycles professional race team, it has a extremely light heat-treated aluminum frame, and steering that allows precision control.</td><td>Red</td><td>52</td><td>U</td><td>2171.2942</td><td>3578.27</td><td>1406.9758000000002</td><td>64.7989480191123</td><td>BK</td></tr><tr><td>314</td><td>2</td><td>BK-R93R-56</td><td>Road-150 Red, 56</td><td>Road-150</td><td>This bike is ridden by race winners. Developed with the Adventure Works Cycles professional race team, it has a extremely light heat-treated aluminum frame, and steering that allows precision control.</td><td>Red</td><td>56</td><td>U</td><td>2171.2942</td><td>3578.27</td><td>1406.9758000000002</td><td>64.7989480191123</td><td>BK</td></tr><tr><td>315</td><td>2</td><td>BK-R68R-58</td><td>Road-450 Red, 58</td><td>Road-450</td><td>A true multi-sport bike that offers streamlined riding and a revolutionary design. Aerodynamic design lets you ride with the pros, and the gearing will conquer hilly roads.</td><td>Red</td><td>58</td><td>U</td><td>884.7083</td><td>1457.99</td><td>573.2817</td><td>64.79895124754678</td><td>BK</td></tr><tr><td>316</td><td>2</td><td>BK-R68R-60</td><td>Road-450 Red, 60</td><td>Road-450</td><td>A true multi-sport bike that offers streamlined riding and a revolutionary design. Aerodynamic design lets you ride with the pros, and the gearing will conquer hilly roads.</td><td>Red</td><td>60</td><td>U</td><td>884.7083</td><td>1457.99</td><td>573.2817</td><td>64.79895124754678</td><td>BK</td></tr><tr><td>317</td><td>2</td><td>BK-R68R-44</td><td>Road-450 Red, 44</td><td>Road-450</td><td>A true multi-sport bike that offers streamlined riding and a revolutionary design. Aerodynamic design lets you ride with the pros, and the gearing will conquer hilly roads.</td><td>Red</td><td>44</td><td>U</td><td>884.7083</td><td>1457.99</td><td>573.2817</td><td>64.79895124754678</td><td>BK</td></tr><tr><td>318</td><td>2</td><td>BK-R68R-48</td><td>Road-450 Red, 48</td><td>Road-450</td><td>A true multi-sport bike that offers streamlined riding and a revolutionary design. Aerodynamic design lets you ride with the pros, and the gearing will conquer hilly roads.</td><td>Red</td><td>48</td><td>U</td><td>884.7083</td><td>1457.99</td><td>573.2817</td><td>64.79895124754678</td><td>BK</td></tr><tr><td>319</td><td>2</td><td>BK-R68R-52</td><td>Road-450 Red, 52</td><td>Road-450</td><td>A true multi-sport bike that offers streamlined riding and a revolutionary design. Aerodynamic design lets you ride with the pros, and the gearing will conquer hilly roads.</td><td>Red</td><td>52</td><td>U</td><td>884.7083</td><td>1457.99</td><td>573.2817</td><td>64.79895124754678</td><td>BK</td></tr><tr><td>320</td><td>2</td><td>BK-R50R-58</td><td>Road-650 Red, 58</td><td>Road-650</td><td>Value-priced bike with many features of our top-of-the-line models. Has the same light, stiff frame, and the quick acceleration we're famous for.</td><td>Red</td><td>58</td><td>U</td><td>413.1463</td><td>699.0982</td><td>285.9519</td><td>69.21323027702294</td><td>BK</td></tr><tr><td>322</td><td>2</td><td>BK-R50R-60</td><td>Road-650 Red, 60</td><td>Road-650</td><td>Value-priced bike with many features of our top-of-the-line models. Has the same light, stiff frame, and the quick acceleration we're famous for.</td><td>Red</td><td>60</td><td>U</td><td>413.1463</td><td>699.0982</td><td>285.9519</td><td>69.21323027702294</td><td>BK</td></tr><tr><td>324</td><td>2</td><td>BK-R50R-62</td><td>Road-650 Red, 62</td><td>Road-650</td><td>Value-priced bike with many features of our top-of-the-line models. Has the same light, stiff frame, and the quick acceleration we're famous for.</td><td>Red</td><td>62</td><td>U</td><td>413.1463</td><td>699.0982</td><td>285.9519</td><td>69.21323027702294</td><td>BK</td></tr><tr><td>326</td><td>2</td><td>BK-R50R-44</td><td>Road-650 Red, 44</td><td>Road-650</td><td>Value-priced bike with many features of our top-of-the-line models. Has the same light, stiff frame, and the quick acceleration we're famous for.</td><td>Red</td><td>44</td><td>U</td><td>413.1463</td><td>699.0982</td><td>285.9519</td><td>69.21323027702294</td><td>BK</td></tr><tr><td>328</td><td>2</td><td>BK-R50R-48</td><td>Road-650 Red, 48</td><td>Road-650</td><td>Value-priced bike with many features of our top-of-the-line models. Has the same light, stiff frame, and the quick acceleration we're famous for.</td><td>Red</td><td>48</td><td>U</td><td>413.1463</td><td>699.0982</td><td>285.9519</td><td>69.21323027702294</td><td>BK</td></tr><tr><td>330</td><td>2</td><td>BK-R50R-52</td><td>Road-650 Red, 52</td><td>Road-650</td><td>Value-priced bike with many features of our top-of-the-line models. Has the same light, stiff frame, and the quick acceleration we're famous for.</td><td>Red</td><td>52</td><td>U</td><td>413.1463</td><td>699.0982</td><td>285.9519</td><td>69.21323027702294</td><td>BK</td></tr><tr><td>332</td><td>2</td><td>BK-R50B-58</td><td>Road-650 Black, 58</td><td>Road-650</td><td>Value-priced bike with many features of our top-of-the-line models. Has the same light, stiff frame, and the quick acceleration we're famous for.</td><td>Black</td><td>58</td><td>U</td><td>413.1463</td><td>699.0982</td><td>285.9519</td><td>69.21323027702294</td><td>BK</td></tr><tr><td>334</td><td>2</td><td>BK-R50B-60</td><td>Road-650 Black, 60</td><td>Road-650</td><td>Value-priced bike with many features of our top-of-the-line models. Has the same light, stiff frame, and the quick acceleration we're famous for.</td><td>Black</td><td>60</td><td>U</td><td>413.1463</td><td>699.0982</td><td>285.9519</td><td>69.21323027702294</td><td>BK</td></tr><tr><td>336</td><td>2</td><td>BK-R50B-62</td><td>Road-650 Black, 62</td><td>Road-650</td><td>Value-priced bike with many features of our top-of-the-line models. Has the same light, stiff frame, and the quick acceleration we're famous for.</td><td>Black</td><td>62</td><td>U</td><td>413.1463</td><td>699.0982</td><td>285.9519</td><td>69.21323027702294</td><td>BK</td></tr><tr><td>338</td><td>2</td><td>BK-R50B-44</td><td>Road-650 Black, 44</td><td>Road-650</td><td>Value-priced bike with many features of our top-of-the-line models. Has the same light, stiff frame, and the quick acceleration we're famous for.</td><td>Black</td><td>44</td><td>U</td><td>413.1463</td><td>699.0982</td><td>285.9519</td><td>69.21323027702294</td><td>BK</td></tr><tr><td>340</td><td>2</td><td>BK-R50B-48</td><td>Road-650 Black, 48</td><td>Road-650</td><td>Value-priced bike with many features of our top-of-the-line models. Has the same light, stiff frame, and the quick acceleration we're famous for.</td><td>Black</td><td>48</td><td>U</td><td>413.1463</td><td>699.0982</td><td>285.9519</td><td>69.21323027702294</td><td>BK</td></tr><tr><td>342</td><td>2</td><td>BK-R50B-52</td><td>Road-650 Black, 52</td><td>Road-650</td><td>Value-priced bike with many features of our top-of-the-line models. Has the same light, stiff frame, and the quick acceleration we're famous for.</td><td>Black</td><td>52</td><td>U</td><td>413.1463</td><td>699.0982</td><td>285.9519</td><td>69.21323027702294</td><td>BK</td></tr><tr><td>344</td><td>1</td><td>BK-M82S-38</td><td>Mountain-100 Silver, 38</td><td>Mountain-100</td><td>Top-of-the-line competition mountain bike. Performance-enhancing options include the innovative HL Frame, super-smooth front suspension, and traction for all terrain.</td><td>Silver</td><td>38</td><td>U</td><td>1912.1544</td><td>3399.99</td><td>1487.8355999999999</td><td>77.80938610396734</td><td>BK</td></tr><tr><td>345</td><td>1</td><td>BK-M82S-42</td><td>Mountain-100 Silver, 42</td><td>Mountain-100</td><td>Top-of-the-line competition mountain bike. Performance-enhancing options include the innovative HL Frame, super-smooth front suspension, and traction for all terrain.</td><td>Silver</td><td>42</td><td>U</td><td>1912.1544</td><td>3399.99</td><td>1487.8355999999999</td><td>77.80938610396734</td><td>BK</td></tr><tr><td>346</td><td>1</td><td>BK-M82S-44</td><td>Mountain-100 Silver, 44</td><td>Mountain-100</td><td>Top-of-the-line competition mountain bike. Performance-enhancing options include the innovative HL Frame, super-smooth front suspension, and traction for all terrain.</td><td>Silver</td><td>44</td><td>U</td><td>1912.1544</td><td>3399.99</td><td>1487.8355999999999</td><td>77.80938610396734</td><td>BK</td></tr><tr><td>347</td><td>1</td><td>BK-M82S-48</td><td>Mountain-100 Silver, 48</td><td>Mountain-100</td><td>Top-of-the-line competition mountain bike. Performance-enhancing options include the innovative HL Frame, super-smooth front suspension, and traction for all terrain.</td><td>Silver</td><td>48</td><td>U</td><td>1912.1544</td><td>3399.99</td><td>1487.8355999999999</td><td>77.80938610396734</td><td>BK</td></tr><tr><td>348</td><td>1</td><td>BK-M82B-38</td><td>Mountain-100 Black, 38</td><td>Mountain-100</td><td>Top-of-the-line competition mountain bike. Performance-enhancing options include the innovative HL Frame, super-smooth front suspension, and traction for all terrain.</td><td>Black</td><td>38</td><td>U</td><td>1898.0944</td><td>3374.99</td><td>1476.8955999999998</td><td>77.8093860874359</td><td>BK</td></tr><tr><td>349</td><td>1</td><td>BK-M82B-42</td><td>Mountain-100 Black, 42</td><td>Mountain-100</td><td>Top-of-the-line competition mountain bike. Performance-enhancing options include the innovative HL Frame, super-smooth front suspension, and traction for all terrain.</td><td>Black</td><td>42</td><td>U</td><td>1898.0944</td><td>3374.99</td><td>1476.8955999999998</td><td>77.8093860874359</td><td>BK</td></tr><tr><td>350</td><td>1</td><td>BK-M82B-44</td><td>Mountain-100 Black, 44</td><td>Mountain-100</td><td>Top-of-the-line competition mountain bike. Performance-enhancing options include the innovative HL Frame, super-smooth front suspension, and traction for all terrain.</td><td>Black</td><td>44</td><td>U</td><td>1898.0944</td><td>3374.99</td><td>1476.8955999999998</td><td>77.8093860874359</td><td>BK</td></tr><tr><td>351</td><td>1</td><td>BK-M82B-48</td><td>Mountain-100 Black, 48</td><td>Mountain-100</td><td>Top-of-the-line competition mountain bike. Performance-enhancing options include the innovative HL Frame, super-smooth front suspension, and traction for all terrain.</td><td>Black</td><td>48</td><td>U</td><td>1898.0944</td><td>3374.99</td><td>1476.8955999999998</td><td>77.8093860874359</td><td>BK</td></tr><tr><td>352</td><td>1</td><td>BK-M68S-38</td><td>Mountain-200 Silver, 38</td><td>Mountain-200</td><td>Serious back-country riding. Perfect for all levels of competition. Uses the same HL Frame as the Mountain-100.</td><td>Silver</td><td>38</td><td>U</td><td>1117.8559</td><td>2071.4196</td><td>953.5637000000002</td><td>85.30291784477768</td><td>BK</td></tr><tr><td>354</td><td>1</td><td>BK-M68S-42</td><td>Mountain-200 Silver, 42</td><td>Mountain-200</td><td>Serious back-country riding. Perfect for all levels of competition. Uses the same HL Frame as the Mountain-100.</td><td>Silver</td><td>42</td><td>U</td><td>1117.8559</td><td>2071.4196</td><td>953.5637000000002</td><td>85.30291784477768</td><td>BK</td></tr><tr><td>356</td><td>1</td><td>BK-M68S-46</td><td>Mountain-200 Silver, 46</td><td>Mountain-200</td><td>Serious back-country riding. Perfect for all levels of competition. Uses the same HL Frame as the Mountain-100.</td><td>Silver</td><td>46</td><td>U</td><td>1117.8559</td><td>2071.4196</td><td>953.5637000000002</td><td>85.30291784477768</td><td>BK</td></tr><tr><td>358</td><td>1</td><td>BK-M68B-38</td><td>Mountain-200 Black, 38</td><td>Mountain-200</td><td>Serious back-country riding. Perfect for all levels of competition. Uses the same HL Frame as the Mountain-100.</td><td>Black</td><td>38</td><td>U</td><td>1105.81</td><td>2049.0982</td><td>943.2882</td><td>85.30291822284117</td><td>BK</td></tr><tr><td>360</td><td>1</td><td>BK-M68B-42</td><td>Mountain-200 Black, 42</td><td>Mountain-200</td><td>Serious back-country riding. Perfect for all levels of competition. Uses the same HL Frame as the Mountain-100.</td><td>Black</td><td>42</td><td>U</td><td>1105.81</td><td>2049.0982</td><td>943.2882</td><td>85.30291822284117</td><td>BK</td></tr><tr><td>362</td><td>1</td><td>BK-M68B-46</td><td>Mountain-200 Black, 46</td><td>Mountain-200</td><td>Serious back-country riding. Perfect for all levels of competition. Uses the same HL Frame as the Mountain-100.</td><td>Black</td><td>46</td><td>U</td><td>1105.81</td><td>2049.0982</td><td>943.2882</td><td>85.30291822284117</td><td>BK</td></tr><tr><td>364</td><td>1</td><td>BK-M47B-38</td><td>Mountain-300 Black, 38</td><td>Mountain-300</td><td>For true trail addicts.  An extremely durable bike that will go anywhere and keep you in control on challenging terrain - without breaking your budget.</td><td>Black</td><td>38</td><td>U</td><td>598.4354</td><td>1079.99</td><td>481.55460000000005</td><td>80.46893616253318</td><td>BK</td></tr><tr><td>365</td><td>1</td><td>BK-M47B-40</td><td>Mountain-300 Black, 40</td><td>Mountain-300</td><td>For true trail addicts.  An extremely durable bike that will go anywhere and keep you in control on challenging terrain - without breaking your budget.</td><td>Black</td><td>40</td><td>U</td><td>598.4354</td><td>1079.99</td><td>481.55460000000005</td><td>80.46893616253318</td><td>BK</td></tr><tr><td>366</td><td>1</td><td>BK-M47B-44</td><td>Mountain-300 Black, 44</td><td>Mountain-300</td><td>For true trail addicts.  An extremely durable bike that will go anywhere and keep you in control on challenging terrain - without breaking your budget.</td><td>Black</td><td>44</td><td>U</td><td>598.4354</td><td>1079.99</td><td>481.55460000000005</td><td>80.46893616253318</td><td>BK</td></tr><tr><td>367</td><td>1</td><td>BK-M47B-48</td><td>Mountain-300 Black, 48</td><td>Mountain-300</td><td>For true trail addicts.  An extremely durable bike that will go anywhere and keep you in control on challenging terrain - without breaking your budget.</td><td>Black</td><td>48</td><td>U</td><td>598.4354</td><td>1079.99</td><td>481.55460000000005</td><td>80.46893616253318</td><td>BK</td></tr><tr><td>368</td><td>2</td><td>BK-R89R-44</td><td>Road-250 Red, 44</td><td>Road-250</td><td>Alluminum-alloy frame provides a light, stiff ride, whether you are racing in the velodrome or on a demanding club ride on country roads.</td><td>Red</td><td>44</td><td>U</td><td>1518.7864</td><td>2443.35</td><td>924.5636</td><td>60.87515663822115</td><td>BK</td></tr><tr><td>369</td><td>2</td><td>BK-R89R-48</td><td>Road-250 Red, 48</td><td>Road-250</td><td>Alluminum-alloy frame provides a light, stiff ride, whether you are racing in the velodrome or on a demanding club ride on country roads.</td><td>Red</td><td>48</td><td>U</td><td>1518.7864</td><td>2443.35</td><td>924.5636</td><td>60.87515663822115</td><td>BK</td></tr><tr><td>370</td><td>2</td><td>BK-R89R-52</td><td>Road-250 Red, 52</td><td>Road-250</td><td>Alluminum-alloy frame provides a light, stiff ride, whether you are racing in the velodrome or on a demanding club ride on country roads.</td><td>Red</td><td>52</td><td>U</td><td>1518.7864</td><td>2443.35</td><td>924.5636</td><td>60.87515663822115</td><td>BK</td></tr><tr><td>371</td><td>2</td><td>BK-R89R-58</td><td>Road-250 Red, 58</td><td>Road-250</td><td>Alluminum-alloy frame provides a light, stiff ride, whether you are racing in the velodrome or on a demanding club ride on country roads.</td><td>Red</td><td>58</td><td>U</td><td>1320.6838</td><td>2181.5625</td><td>860.8787</td><td>65.18431588242393</td><td>BK</td></tr><tr><td>373</td><td>2</td><td>BK-R89B-44</td><td>Road-250 Black, 44</td><td>Road-250</td><td>Alluminum-alloy frame provides a light, stiff ride, whether you are racing in the velodrome or on a demanding club ride on country roads.</td><td>Black</td><td>44</td><td>U</td><td>1320.6838</td><td>2181.5625</td><td>860.8787</td><td>65.18431588242393</td><td>BK</td></tr><tr><td>375</td><td>2</td><td>BK-R89B-48</td><td>Road-250 Black, 48</td><td>Road-250</td><td>Alluminum-alloy frame provides a light, stiff ride, whether you are racing in the velodrome or on a demanding club ride on country roads.</td><td>Black</td><td>48</td><td>U</td><td>1320.6838</td><td>2181.5625</td><td>860.8787</td><td>65.18431588242393</td><td>BK</td></tr><tr><td>377</td><td>2</td><td>BK-R89B-52</td><td>Road-250 Black, 52</td><td>Road-250</td><td>Alluminum-alloy frame provides a light, stiff ride, whether you are racing in the velodrome or on a demanding club ride on country roads.</td><td>Black</td><td>52</td><td>U</td><td>1320.6838</td><td>2181.5625</td><td>860.8787</td><td>65.18431588242393</td><td>BK</td></tr><tr><td>379</td><td>2</td><td>BK-R89B-58</td><td>Road-250 Black, 58</td><td>Road-250</td><td>Alluminum-alloy frame provides a light, stiff ride, whether you are racing in the velodrome or on a demanding club ride on country roads.</td><td>Black</td><td>58</td><td>U</td><td>1320.6838</td><td>2181.5625</td><td>860.8787</td><td>65.18431588242393</td><td>BK</td></tr><tr><td>381</td><td>2</td><td>BK-R64Y-38</td><td>Road-550-W Yellow, 38</td><td>Road-550-W</td><td>Same technology as all of our Road series bikes, but the frame is sized for a woman.  Perfect all-around bike for road or racing.</td><td>Yellow</td><td>38</td><td>W</td><td>605.6492</td><td>1000.4375</td><td>394.78830000000005</td><td>65.18431791868959</td><td>BK</td></tr><tr><td>383</td><td>2</td><td>BK-R64Y-40</td><td>Road-550-W Yellow, 40</td><td>Road-550-W</td><td>Same technology as all of our Road series bikes, but the frame is sized for a woman.  Perfect all-around bike for road or racing.</td><td>Yellow</td><td>40</td><td>W</td><td>605.6492</td><td>1000.4375</td><td>394.78830000000005</td><td>65.18431791868959</td><td>BK</td></tr><tr><td>385</td><td>2</td><td>BK-R64Y-42</td><td>Road-550-W Yellow, 42</td><td>Road-550-W</td><td>Same technology as all of our Road series bikes, but the frame is sized for a woman.  Perfect all-around bike for road or racing.</td><td>Yellow</td><td>42</td><td>W</td><td>605.6492</td><td>1000.4375</td><td>394.78830000000005</td><td>65.18431791868959</td><td>BK</td></tr><tr><td>387</td><td>2</td><td>BK-R64Y-44</td><td>Road-550-W Yellow, 44</td><td>Road-550-W</td><td>Same technology as all of our Road series bikes, but the frame is sized for a woman.  Perfect all-around bike for road or racing.</td><td>Yellow</td><td>44</td><td>W</td><td>605.6492</td><td>1000.4375</td><td>394.78830000000005</td><td>65.18431791868959</td><td>BK</td></tr><tr><td>389</td><td>2</td><td>BK-R64Y-48</td><td>Road-550-W Yellow, 48</td><td>Road-550-W</td><td>Same technology as all of our Road series bikes, but the frame is sized for a woman.  Perfect all-around bike for road or racing.</td><td>Yellow</td><td>48</td><td>W</td><td>605.6492</td><td>1000.4375</td><td>394.78830000000005</td><td>65.18431791868959</td><td>BK</td></tr><tr><td>391</td><td>10</td><td>FK-1639</td><td>LL Fork</td><td>LL Fork</td><td>Stout design absorbs shock and offers more precise steering.</td><td>NA</td><td>0</td><td>0</td><td>65.8097</td><td>148.22</td><td>82.41029999999999</td><td>125.22515677780022</td><td>FK</td></tr><tr><td>392</td><td>10</td><td>FK-5136</td><td>ML Fork</td><td>ML Fork</td><td>Composite road fork with an aluminum steerer tube.</td><td>NA</td><td>0</td><td>0</td><td>77.9176</td><td>175.49</td><td>97.57240000000002</td><td>125.22510960296522</td><td>FK</td></tr><tr><td>393</td><td>10</td><td>FK-9939</td><td>HL Fork</td><td>HL Fork</td><td>High-performance carbon road fork with curved legs.</td><td>NA</td><td>0</td><td>0</td><td>101.8936</td><td>229.49</td><td>127.5964</td><td>125.22513680937762</td><td>FK</td></tr><tr><td>394</td><td>11</td><td>HS-0296</td><td>LL Headset</td><td>LL Headset</td><td>Threadless headset provides quality at an economical price.</td><td>NA</td><td>0</td><td>0</td><td>15.1848</td><td>34.2</td><td>19.015200000000004</td><td>125.22522522522526</td><td>HS</td></tr><tr><td>395</td><td>11</td><td>HS-2451</td><td>ML Headset</td><td>ML Headset</td><td>Sealed cartridge keeps dirt out.</td><td>NA</td><td>0</td><td>0</td><td>45.4168</td><td>102.29</td><td>56.873200000000004</td><td>125.22502686230645</td><td>HS</td></tr><tr><td>396</td><td>11</td><td>HS-3479</td><td>HL Headset</td><td>HL Headset</td><td>\"High-quality 1\"\" threadless headset with a grease port for quick lubrication.\"</td><td>NA</td><td>0</td><td>0</td><td>55.3801</td><td>124.73</td><td>69.3499</td><td>125.22530656318787</td><td>HS</td></tr><tr><td>397</td><td>4</td><td>HB-M243</td><td>LL Mountain Handlebars</td><td>LL Mountain Handlebars</td><td>All-purpose bar for on or off-road.</td><td>NA</td><td>0</td><td>0</td><td>17.978</td><td>40.4909</td><td>22.512900000000002</td><td>125.22471910112361</td><td>HB</td></tr><tr><td>399</td><td>4</td><td>HB-M763</td><td>ML Mountain Handlebars</td><td>ML Mountain Handlebars</td><td>Tough aluminum alloy bars for downhill.</td><td>NA</td><td>0</td><td>0</td><td>24.9932</td><td>56.2909</td><td>31.2977</td><td>125.22486116223612</td><td>HB</td></tr><tr><td>401</td><td>4</td><td>HB-M918</td><td>HL Mountain Handlebars</td><td>HL Mountain Handlebars</td><td>Flat bar strong enough for the pro circuit.</td><td>NA</td><td>0</td><td>0</td><td>48.5453</td><td>109.3364</td><td>60.7911</td><td>125.22551101754445</td><td>HB</td></tr><tr><td>403</td><td>4</td><td>HB-R504</td><td>LL Road Handlebars</td><td>LL Road Handlebars</td><td>Unique shape provides easier reach to the levers.</td><td>NA</td><td>0</td><td>0</td><td>17.978</td><td>40.4909</td><td>22.512900000000002</td><td>125.22471910112361</td><td>HB</td></tr><tr><td>405</td><td>4</td><td>HB-R720</td><td>ML Road Handlebars</td><td>ML Road Handlebars</td><td>Anatomically shaped aluminum tube bar will suit all riders.</td><td>NA</td><td>0</td><td>0</td><td>24.9932</td><td>56.2909</td><td>31.2977</td><td>125.22486116223612</td><td>HB</td></tr><tr><td>407</td><td>4</td><td>HB-R956</td><td>HL Road Handlebars</td><td>HL Road Handlebars</td><td>Designed for racers; high-end anatomically shaped bar from aluminum alloy.</td><td>NA</td><td>0</td><td>0</td><td>48.5453</td><td>109.3364</td><td>60.7911</td><td>125.22551101754445</td><td>HB</td></tr><tr><td>409</td><td>12</td><td>FR-M63B-38</td><td>ML Mountain Frame - Black, 38</td><td>ML Mountain Frame-W</td><td>The ML frame is a heat-treated aluminum frame made with the same detail and quality as our HL frame. It offers superior performance. Men's version.</td><td>Black</td><td>38</td><td>U</td><td>185.8193</td><td>348.76</td><td>162.9407</td><td>87.68771596922386</td><td>FR</td></tr><tr><td>410</td><td>17</td><td>FW-M423</td><td>LL Mountain Front Wheel</td><td>LL Mountain Front Wheel</td><td>Replacement mountain wheel for entry-level rider.</td><td>Black</td><td>0</td><td>0</td><td>26.9708</td><td>60.745</td><td>33.77419999999999</td><td>125.22505821110235</td><td>FW</td></tr><tr><td>411</td><td>17</td><td>FW-M762</td><td>ML Mountain Front Wheel</td><td>ML Mountain Front Wheel</td><td>Replacement mountain wheel for the casual to serious rider.</td><td>Black</td><td>0</td><td>0</td><td>92.8071</td><td>209.025</td><td>116.2179</td><td>125.22522522522522</td><td>FW</td></tr><tr><td>412</td><td>17</td><td>FW-M928</td><td>HL Mountain Front Wheel</td><td>HL Mountain Front Wheel</td><td>High-performance mountain replacement wheel.</td><td>Black</td><td>0</td><td>0</td><td>133.2955</td><td>300.215</td><td>166.91949999999997</td><td>125.2251576384799</td><td>FW</td></tr><tr><td>413</td><td>17</td><td>FW-R623</td><td>LL Road Front Wheel</td><td>LL Road Front Wheel</td><td>Replacement road front wheel for entry-level cyclist.</td><td>Black</td><td>0</td><td>0</td><td>37.9909</td><td>85.565</td><td>47.574099999999994</td><td>125.22498808925293</td><td>FW</td></tr><tr><td>414</td><td>17</td><td>FW-R762</td><td>ML Road Front Wheel</td><td>ML Road Front Wheel</td><td>Sturdy alloy features a quick-release hub.</td><td>Black</td><td>0</td><td>0</td><td>110.2829</td><td>248.385</td><td>138.1021</td><td>125.22530691521534</td><td>FW</td></tr><tr><td>415</td><td>17</td><td>FW-R820</td><td>HL Road Front Wheel</td><td>HL Road Front Wheel</td><td>Strong wheel with double-walled rim.</td><td>Black</td><td>0</td><td>0</td><td>146.5466</td><td>330.06</td><td>183.5134</td><td>125.22528670061261</td><td>FW</td></tr><tr><td>416</td><td>17</td><td>FW-T905</td><td>Touring Front Wheel</td><td>Touring Front Wheel</td><td>Aerodynamic rims for smooth riding.</td><td>Black</td><td>0</td><td>0</td><td>96.7964</td><td>218.01</td><td>121.21359999999999</td><td>125.22531829696145</td><td>FW</td></tr><tr><td>417</td><td>14</td><td>FR-R72Y-38</td><td>ML Road Frame-W - Yellow, 38</td><td>ML Road Frame-W</td><td>Made from the same aluminum alloy as our top-of-the line HL frame, the ML features a lightweight down-tube milled to the perfect diameter for optimal strength. Women's version.</td><td>Yellow</td><td>38</td><td>W</td><td>300.1188</td><td>540.7545</td><td>240.63569999999999</td><td>80.18014866113018</td><td>FR</td></tr><tr><td>419</td><td>17</td><td>RW-M423</td><td>LL Mountain Rear Wheel</td><td>LL Mountain Rear Wheel</td><td>Replacement mountain wheel for entry-level rider.</td><td>Black</td><td>0</td><td>0</td><td>38.9588</td><td>87.745</td><td>48.78620000000001</td><td>125.22510960296522</td><td>RW</td></tr><tr><td>420</td><td>17</td><td>RW-M762</td><td>ML Mountain Rear Wheel</td><td>ML Mountain Rear Wheel</td><td>Replacement mountain wheel for the casual to serious rider.</td><td>Black</td><td>0</td><td>0</td><td>104.7951</td><td>236.025</td><td>131.2299</td><td>125.22522522522522</td><td>RW</td></tr><tr><td>421</td><td>17</td><td>RW-M928</td><td>HL Mountain Rear Wheel</td><td>HL Mountain Rear Wheel</td><td>High-performance mountain replacement wheel.</td><td>Black</td><td>0</td><td>0</td><td>145.2835</td><td>327.215</td><td>181.93149999999997</td><td>125.22516321536854</td><td>RW</td></tr><tr><td>422</td><td>17</td><td>RW-R623</td><td>LL Road Rear Wheel</td><td>LL Road Rear Wheel</td><td>Replacement road rear wheel for entry-level cyclist.</td><td>Black</td><td>0</td><td>0</td><td>49.9789</td><td>112.565</td><td>62.586099999999995</td><td>125.22504496897689</td><td>RW</td></tr><tr><td>423</td><td>17</td><td>RW-R762</td><td>ML Road Rear Wheel</td><td>ML Road Rear Wheel</td><td>Aluminum alloy rim with stainless steel spokes; built for speed.</td><td>Black</td><td>0</td><td>0</td><td>122.2709</td><td>275.385</td><td>153.1141</td><td>125.22529890595393</td><td>RW</td></tr><tr><td>424</td><td>17</td><td>RW-R820</td><td>HL Road Rear Wheel</td><td>HL Road Rear Wheel</td><td>Strong rear wheel with double-walled rim.</td><td>Black</td><td>0</td><td>0</td><td>158.5346</td><td>357.06</td><td>198.5254</td><td>125.22528205199367</td><td>RW</td></tr><tr><td>425</td><td>17</td><td>RW-T905</td><td>Touring Rear Wheel</td><td>Touring Rear Wheel</td><td>Excellent aerodynamic rims guarantee a smooth ride.</td><td>Black</td><td>0</td><td>0</td><td>108.7844</td><td>245.01</td><td>136.2256</td><td>125.22530804049109</td><td>RW</td></tr><tr><td>426</td><td>12</td><td>FR-M63B-40</td><td>ML Mountain Frame - Black, 40</td><td>ML Mountain Frame</td><td>The ML frame is a heat-treated aluminum frame made with the same detail and quality as our HL frame. It offers superior performance. Women's version.</td><td>Black</td><td>40</td><td>U</td><td>185.8193</td><td>348.76</td><td>162.9407</td><td>87.68771596922386</td><td>FR</td></tr><tr><td>427</td><td>12</td><td>FR-M63B-44</td><td>ML Mountain Frame - Black, 44</td><td>ML Mountain Frame</td><td>The ML frame is a heat-treated aluminum frame made with the same detail and quality as our HL frame. It offers superior performance. Women's version.</td><td>Black</td><td>44</td><td>U</td><td>185.8193</td><td>348.76</td><td>162.9407</td><td>87.68771596922386</td><td>FR</td></tr><tr><td>428</td><td>12</td><td>FR-M63B-48</td><td>ML Mountain Frame - Black, 48</td><td>ML Mountain Frame</td><td>The ML frame is a heat-treated aluminum frame made with the same detail and quality as our HL frame. It offers superior performance. Women's version.</td><td>Black</td><td>48</td><td>U</td><td>185.8193</td><td>348.76</td><td>162.9407</td><td>87.68771596922386</td><td>FR</td></tr><tr><td>429</td><td>14</td><td>FR-R72Y-40</td><td>ML Road Frame-W - Yellow, 40</td><td>ML Road Frame-W</td><td>Made from the same aluminum alloy as our top-of-the line HL frame, the ML features a lightweight down-tube milled to the perfect diameter for optimal strength. Women's version.</td><td>Yellow</td><td>40</td><td>W</td><td>300.1188</td><td>540.7545</td><td>240.63569999999999</td><td>80.18014866113018</td><td>FR</td></tr><tr><td>431</td><td>14</td><td>FR-R72Y-42</td><td>ML Road Frame-W - Yellow, 42</td><td>ML Road Frame-W</td><td>Made from the same aluminum alloy as our top-of-the line HL frame, the ML features a lightweight down-tube milled to the perfect diameter for optimal strength. Women's version.</td><td>Yellow</td><td>42</td><td>W</td><td>300.1188</td><td>540.7545</td><td>240.63569999999999</td><td>80.18014866113018</td><td>FR</td></tr><tr><td>433</td><td>14</td><td>FR-R72Y-44</td><td>ML Road Frame-W - Yellow, 44</td><td>ML Road Frame-W</td><td>Made from the same aluminum alloy as our top-of-the line HL frame, the ML features a lightweight down-tube milled to the perfect diameter for optimal strength. Women's version.</td><td>Yellow</td><td>44</td><td>W</td><td>300.1188</td><td>540.7545</td><td>240.63569999999999</td><td>80.18014866113018</td><td>FR</td></tr><tr><td>435</td><td>14</td><td>FR-R72Y-48</td><td>ML Road Frame-W - Yellow, 48</td><td>ML Road Frame-W</td><td>Made from the same aluminum alloy as our top-of-the line HL frame, the ML features a lightweight down-tube milled to the perfect diameter for optimal strength. Women's version.</td><td>Yellow</td><td>48</td><td>W</td><td>300.1188</td><td>540.7545</td><td>240.63569999999999</td><td>80.18014866113018</td><td>FR</td></tr><tr><td>437</td><td>14</td><td>FR-R92B-62</td><td>HL Road Frame - Black, 62</td><td>HL Road Frame</td><td>Our lightest and best quality aluminum frame made from the newest alloy; it is welded and heat-treated for strength. Our innovative design results in maximum comfort and performance.</td><td>Black</td><td>62</td><td>U</td><td>722.2568</td><td>1301.3636</td><td>579.1067999999999</td><td>80.18017968124356</td><td>FR</td></tr><tr><td>439</td><td>14</td><td>FR-R92B-44</td><td>HL Road Frame - Black, 44</td><td>HL Road Frame</td><td>Our lightest and best quality aluminum frame made from the newest alloy; it is welded and heat-treated for strength. Our innovative design results in maximum comfort and performance.</td><td>Black</td><td>44</td><td>U</td><td>722.2568</td><td>1301.3636</td><td>579.1067999999999</td><td>80.18017968124356</td><td>FR</td></tr><tr><td>441</td><td>14</td><td>FR-R92B-48</td><td>HL Road Frame - Black, 48</td><td>HL Road Frame</td><td>Our lightest and best quality aluminum frame made from the newest alloy; it is welded and heat-treated for strength. Our innovative design results in maximum comfort and performance.</td><td>Black</td><td>48</td><td>U</td><td>722.2568</td><td>1301.3636</td><td>579.1067999999999</td><td>80.18017968124356</td><td>FR</td></tr><tr><td>443</td><td>14</td><td>FR-R92B-52</td><td>HL Road Frame - Black, 52</td><td>HL Road Frame</td><td>Our lightest and best quality aluminum frame made from the newest alloy; it is welded and heat-treated for strength. Our innovative design results in maximum comfort and performance.</td><td>Black</td><td>52</td><td>U</td><td>722.2568</td><td>1301.3636</td><td>579.1067999999999</td><td>80.18017968124356</td><td>FR</td></tr><tr><td>445</td><td>22</td><td>SH-M897-S</td><td>Men's Sports Shorts, S</td><td>Men's Sports Shorts</td><td>Men's 8-panel racing shorts - lycra with an elastic waistband and leg grippers.</td><td>Black</td><td>S</td><td>M</td><td>24.7459</td><td>59.99</td><td>35.2441</td><td>142.42399751069877</td><td>SH</td></tr><tr><td>446</td><td>35</td><td>PA-T100</td><td>Touring-Panniers, Large</td><td>Touring-Panniers</td><td>Durable, water-proof nylon construction with easy access. Large enough for weekend trips.</td><td>Grey</td><td>0</td><td>0</td><td>51.5625</td><td>125.0</td><td>73.4375</td><td>142.42424242424244</td><td>PA</td></tr><tr><td>447</td><td>34</td><td>LO-C100</td><td>Cable Lock</td><td>Cable Lock</td><td>Wraps to fit front and rear tires, carrier and 2 keys included.</td><td>NA</td><td>0</td><td>0</td><td>10.3125</td><td>25.0</td><td>14.6875</td><td>142.42424242424244</td><td>LO</td></tr><tr><td>448</td><td>36</td><td>PU-0452</td><td>Minipump</td><td>Minipump</td><td>Designed for convenience. Fits in your pocket. Aluminum barrel. 160psi rated.</td><td>NA</td><td>0</td><td>0</td><td>8.2459</td><td>19.99</td><td>11.744099999999998</td><td>142.4235074400611</td><td>PU</td></tr><tr><td>449</td><td>36</td><td>PU-M044</td><td>Mountain Pump</td><td>Mountain Pump</td><td>Simple and light-weight. Emergency patches stored in handle.</td><td>NA</td><td>0</td><td>0</td><td>10.3084</td><td>24.99</td><td>14.681599999999998</td><td>142.423654495363</td><td>PU</td></tr><tr><td>450</td><td>33</td><td>LT-T990</td><td>Taillights - Battery-Powered</td><td>Taillight</td><td>Affordable light for safe night riding - uses 3 AAA batteries</td><td>NA</td><td>0</td><td>0</td><td>5.7709</td><td>13.99</td><td>8.219100000000001</td><td>142.42319222305017</td><td>LT</td></tr><tr><td>451</td><td>33</td><td>LT-H902</td><td>Headlights - Dual-Beam</td><td>Headlights - Dual-Beam</td><td>Rechargeable dual-beam headlight.</td><td>NA</td><td>0</td><td>0</td><td>14.4334</td><td>34.99</td><td>20.556600000000003</td><td>142.42382252275974</td><td>LT</td></tr><tr><td>452</td><td>33</td><td>LT-H903</td><td>Headlights - Weatherproof</td><td>Headlights - Weatherproof</td><td>Rugged weatherproof headlight.</td><td>NA</td><td>0</td><td>0</td><td>18.5584</td><td>44.99</td><td>26.431600000000003</td><td>142.42391585481508</td><td>LT</td></tr><tr><td>453</td><td>22</td><td>SH-M897-M</td><td>Men's Sports Shorts, M</td><td>Men's Sports Shorts</td><td>Men's 8-panel racing shorts - lycra with an elastic waistband and leg grippers.</td><td>Black</td><td>M</td><td>M</td><td>24.7459</td><td>59.99</td><td>35.2441</td><td>142.42399751069877</td><td>SH</td></tr><tr><td>454</td><td>22</td><td>SH-M897-L</td><td>Men's Sports Shorts, L</td><td>Men's Sports Shorts</td><td>Men's 8-panel racing shorts - lycra with an elastic waistband and leg grippers.</td><td>Black</td><td>L</td><td>M</td><td>24.7459</td><td>59.99</td><td>35.2441</td><td>142.42399751069877</td><td>SH</td></tr><tr><td>455</td><td>22</td><td>SH-M897-X</td><td>Men's Sports Shorts, XL</td><td>Men's Sports Shorts</td><td>Men's 8-panel racing shorts - lycra with an elastic waistband and leg grippers.</td><td>Black</td><td>XL</td><td>M</td><td>24.7459</td><td>59.99</td><td>35.2441</td><td>142.42399751069877</td><td>SH</td></tr><tr><td>456</td><td>24</td><td>TG-W091-S</td><td>Women's Tights, S</td><td>Women's Tights</td><td>Warm spandex tights for winter riding; seamless chamois construction eliminates pressure points.</td><td>Black</td><td>S</td><td>W</td><td>30.9334</td><td>74.99</td><td>44.056599999999996</td><td>142.42404649989976</td><td>TG</td></tr><tr><td>457</td><td>24</td><td>TG-W091-M</td><td>Women's Tights, M</td><td>Women's Tights</td><td>Warm spandex tights for winter riding; seamless chamois construction eliminates pressure points.</td><td>Black</td><td>M</td><td>W</td><td>30.9334</td><td>74.99</td><td>44.056599999999996</td><td>142.42404649989976</td><td>TG</td></tr><tr><td>458</td><td>24</td><td>TG-W091-L</td><td>Women's Tights, L</td><td>Women's Tights</td><td>Warm spandex tights for winter riding; seamless chamois construction eliminates pressure points.</td><td>Black</td><td>L</td><td>W</td><td>30.9334</td><td>74.99</td><td>44.056599999999996</td><td>142.42404649989976</td><td>TG</td></tr><tr><td>459</td><td>18</td><td>SB-M891-S</td><td>Men's Bib-Shorts, S</td><td>Men's Bib-Shorts</td><td>Designed for the AWC team with stay-put straps, moisture-control, chamois padding, and leg grippers.</td><td>Multi</td><td>S</td><td>M</td><td>37.1209</td><td>89.99</td><td>52.869099999999996</td><td>142.4240791575635</td><td>SB</td></tr><tr><td>460</td><td>18</td><td>SB-M891-M</td><td>Men's Bib-Shorts, M</td><td>Men's Bib-Shorts</td><td>Designed for the AWC team with stay-put straps, moisture-control, chamois padding, and leg grippers.</td><td>Multi</td><td>M</td><td>M</td><td>37.1209</td><td>89.99</td><td>52.869099999999996</td><td>142.4240791575635</td><td>SB</td></tr><tr><td>461</td><td>18</td><td>SB-M891-L</td><td>Men's Bib-Shorts, L</td><td>Men's Bib-Shorts</td><td>Designed for the AWC team with stay-put straps, moisture-control, chamois padding, and leg grippers.</td><td>Multi</td><td>L</td><td>M</td><td>37.1209</td><td>89.99</td><td>52.869099999999996</td><td>142.4240791575635</td><td>SB</td></tr><tr><td>462</td><td>20</td><td>GL-H102-S</td><td>Half-Finger Gloves, S</td><td>Half-Finger Gloves</td><td>Full padding, improved finger flex, durable palm, adjustable closure.</td><td>Black</td><td>S</td><td>U</td><td>9.7136</td><td>23.5481</td><td>13.834500000000002</td><td>142.4240240487564</td><td>GL</td></tr><tr><td>464</td><td>20</td><td>GL-H102-M</td><td>Half-Finger Gloves, M</td><td>Half-Finger Gloves</td><td>Full padding, improved finger flex, durable palm, adjustable closure.</td><td>Black</td><td>M</td><td>U</td><td>9.7136</td><td>23.5481</td><td>13.834500000000002</td><td>142.4240240487564</td><td>GL</td></tr><tr><td>466</td><td>20</td><td>GL-H102-L</td><td>Half-Finger Gloves, L</td><td>Half-Finger Gloves</td><td>Full padding, improved finger flex, durable palm, adjustable closure.</td><td>Black</td><td>L</td><td>U</td><td>9.7136</td><td>23.5481</td><td>13.834500000000002</td><td>142.4240240487564</td><td>GL</td></tr><tr><td>468</td><td>20</td><td>GL-F110-S</td><td>Full-Finger Gloves, S</td><td>Full-Finger Gloves</td><td>Synthetic palm, flexible knuckles, breathable mesh upper. Worn by the AWC team riders.</td><td>Black</td><td>S</td><td>U</td><td>15.6709</td><td>37.99</td><td>22.319100000000002</td><td>142.4238556815499</td><td>GL</td></tr><tr><td>469</td><td>20</td><td>GL-F110-M</td><td>Full-Finger Gloves, M</td><td>Full-Finger Gloves</td><td>Synthetic palm, flexible knuckles, breathable mesh upper. Worn by the AWC team riders.</td><td>Black</td><td>M</td><td>U</td><td>15.6709</td><td>37.99</td><td>22.319100000000002</td><td>142.4238556815499</td><td>GL</td></tr><tr><td>470</td><td>20</td><td>GL-F110-L</td><td>Full-Finger Gloves, L</td><td>Full-Finger Gloves</td><td>Synthetic palm, flexible knuckles, breathable mesh upper. Worn by the AWC team riders.</td><td>Black</td><td>L</td><td>U</td><td>15.6709</td><td>37.99</td><td>22.319100000000002</td><td>142.4238556815499</td><td>GL</td></tr><tr><td>471</td><td>25</td><td>VE-C304-S</td><td>Classic Vest, S</td><td>Classic Vest</td><td>Light-weight, wind-resistant, packs to fit into a pocket.</td><td>Blue</td><td>S</td><td>U</td><td>23.749</td><td>63.5</td><td>39.751000000000005</td><td>167.37967914438505</td><td>VE</td></tr><tr><td>472</td><td>25</td><td>VE-C304-M</td><td>Classic Vest, M</td><td>Classic Vest</td><td>Light-weight, wind-resistant, packs to fit into a pocket.</td><td>Blue</td><td>M</td><td>U</td><td>23.749</td><td>63.5</td><td>39.751000000000005</td><td>167.37967914438505</td><td>VE</td></tr><tr><td>473</td><td>25</td><td>VE-C304-L</td><td>Classic Vest, L</td><td>Classic Vest</td><td>Light-weight, wind-resistant, packs to fit into a pocket.</td><td>Blue</td><td>L</td><td>U</td><td>23.749</td><td>63.5</td><td>39.751000000000005</td><td>167.37967914438505</td><td>VE</td></tr><tr><td>474</td><td>22</td><td>SH-W890-S</td><td>Women's Mountain Shorts, S</td><td>Women's Mountain Shorts</td><td>Heavy duty, abrasion-resistant shorts feature seamless, lycra inner shorts with anti-bacterial chamois for comfort.</td><td>Black</td><td>S</td><td>W</td><td>26.1763</td><td>69.99</td><td>43.8137</td><td>167.37927056153848</td><td>SH</td></tr><tr><td>475</td><td>22</td><td>SH-W890-M</td><td>Women's Mountain Shorts, M</td><td>Women's Mountain Shorts</td><td>Heavy duty, abrasion-resistant shorts feature seamless, lycra inner shorts with anti-bacterial chamois for comfort.</td><td>Black</td><td>M</td><td>W</td><td>26.1763</td><td>69.99</td><td>43.8137</td><td>167.37927056153848</td><td>SH</td></tr><tr><td>476</td><td>22</td><td>SH-W890-L</td><td>Women's Mountain Shorts, L</td><td>Women's Mountain Shorts</td><td>Heavy duty, abrasion-resistant shorts feature seamless, lycra inner shorts with anti-bacterial chamois for comfort.</td><td>Black</td><td>L</td><td>W</td><td>26.1763</td><td>69.99</td><td>43.8137</td><td>167.37927056153848</td><td>SH</td></tr><tr><td>477</td><td>28</td><td>WB-H098</td><td>Water Bottle - 30 oz.</td><td>Water Bottle</td><td>AWC logo water bottle - holds 30 oz; leak-proof.</td><td>NA</td><td>0</td><td>0</td><td>1.8663</td><td>4.99</td><td>3.1237000000000004</td><td>167.37394845416065</td><td>WB</td></tr><tr><td>478</td><td>28</td><td>BC-M005</td><td>Mountain Bottle Cage</td><td>Mountain Bottle Cage</td><td>Tough aluminum cage holds bottle securly on tough terrain.</td><td>NA</td><td>0</td><td>0</td><td>3.7363</td><td>9.99</td><td>6.2537</td><td>167.3768166367797</td><td>BC</td></tr><tr><td>479</td><td>28</td><td>BC-R205</td><td>Road Bottle Cage</td><td>Road Bottle Cage</td><td>Aluminum cage is lighter than our mountain version; perfect for long distance trips.</td><td>NA</td><td>0</td><td>0</td><td>3.3623</td><td>8.99</td><td>5.627700000000001</td><td>167.37649823037805</td><td>BC</td></tr><tr><td>480</td><td>37</td><td>PK-7098</td><td>Patch Kit/8 Patches</td><td>Patch kit</td><td>Includes 8 different size patches, glue and sandpaper.</td><td>NA</td><td>0</td><td>0</td><td>0.8565</td><td>2.29</td><td>1.4335</td><td>167.3671920607122</td><td>PK</td></tr><tr><td>481</td><td>23</td><td>SO-R809-M</td><td>Racing Socks, M</td><td>Racing Socks</td><td>Thin, lightweight and durable with cuffs that stay up.</td><td>White</td><td>M</td><td>U</td><td>3.3623</td><td>8.99</td><td>5.627700000000001</td><td>167.37649823037805</td><td>SO</td></tr><tr><td>482</td><td>23</td><td>SO-R809-L</td><td>Racing Socks, L</td><td>Racing Socks</td><td>Thin, lightweight and durable with cuffs that stay up.</td><td>White</td><td>L</td><td>U</td><td>3.3623</td><td>8.99</td><td>5.627700000000001</td><td>167.37649823037805</td><td>SO</td></tr><tr><td>483</td><td>26</td><td>RA-H123</td><td>Hitch Rack - 4-Bike</td><td>Hitch Rack - 4-Bike</td><td>\"Carries 4 bikes securely; steel construction, fits 2\"\" receiver hitch.\"</td><td>NA</td><td>0</td><td>0</td><td>44.88</td><td>120.0</td><td>75.12</td><td>167.37967914438502</td><td>RA</td></tr><tr><td>484</td><td>29</td><td>CL-9009</td><td>Bike Wash - Dissolver</td><td>Bike Wash</td><td>Washes off the toughest road grime; dissolves grease, environmentally safe. 1-liter bottle.</td><td>NA</td><td>0</td><td>0</td><td>2.9733</td><td>7.95</td><td>4.9767</td><td>167.37967914438502</td><td>CL</td></tr><tr><td>485</td><td>30</td><td>FE-6654</td><td>Fender Set - Mountain</td><td>Fender Set - Mountain</td><td>Clip-on fenders fit most mountain bikes.</td><td>NA</td><td>0</td><td>0</td><td>8.2205</td><td>21.98</td><td>13.759500000000001</td><td>167.38032966364577</td><td>FE</td></tr><tr><td>486</td><td>27</td><td>ST-1401</td><td>All-Purpose Bike Stand</td><td>All-Purpose Bike Stand</td><td>Perfect all-purpose bike stand for working on your bike at home. Quick-adjusting clamps and steel construction.</td><td>NA</td><td>0</td><td>0</td><td>59.466</td><td>159.0</td><td>99.53399999999999</td><td>167.379679144385</td><td>ST</td></tr><tr><td>487</td><td>32</td><td>HY-1023-70</td><td>Hydration Pack - 70 oz.</td><td>Hydration Pack</td><td>Versatile 70 oz hydration pack offers extra storage, easy-fill access, and a waist belt.</td><td>Silver</td><td>70</td><td>0</td><td>20.5663</td><td>54.99</td><td>34.423700000000004</td><td>167.37915910980587</td><td>HY</td></tr><tr><td>488</td><td>21</td><td>SJ-0194-S</td><td>Short-Sleeve Classic Jersey, S</td><td>Short-Sleeve Classic Jersey</td><td>Short sleeve classic breathable jersey with superior moisture control, front zipper, and 3 back pockets.</td><td>Yellow</td><td>S</td><td>U</td><td>41.5723</td><td>53.99</td><td>12.417700000000004</td><td>29.87012987012988</td><td>SJ</td></tr><tr><td>489</td><td>21</td><td>SJ-0194-M</td><td>Short-Sleeve Classic Jersey, M</td><td>Short-Sleeve Classic Jersey</td><td>Short sleeve classic breathable jersey with superior moisture control, front zipper, and 3 back pockets.</td><td>Yellow</td><td>M</td><td>U</td><td>41.5723</td><td>53.99</td><td>12.417700000000004</td><td>29.87012987012988</td><td>SJ</td></tr><tr><td>490</td><td>21</td><td>SJ-0194-L</td><td>Short-Sleeve Classic Jersey, L</td><td>Short-Sleeve Classic Jersey</td><td>Short sleeve classic breathable jersey with superior moisture control, front zipper, and 3 back pockets.</td><td>Yellow</td><td>L</td><td>U</td><td>41.5723</td><td>53.99</td><td>12.417700000000004</td><td>29.87012987012988</td><td>SJ</td></tr><tr><td>491</td><td>21</td><td>SJ-0194-X</td><td>Short-Sleeve Classic Jersey, XL</td><td>Short-Sleeve Classic Jersey</td><td>Short sleeve classic breathable jersey with superior moisture control, front zipper, and 3 back pockets.</td><td>Yellow</td><td>XL</td><td>U</td><td>41.5723</td><td>53.99</td><td>12.417700000000004</td><td>29.87012987012988</td><td>SJ</td></tr><tr><td>492</td><td>16</td><td>FR-T98Y-60</td><td>HL Touring Frame - Yellow, 60</td><td>HL Touring Frame</td><td>The HL aluminum frame is custom-shaped for both good looks and strength; it will withstand the most rigorous challenges of daily riding. Men's version.</td><td>Yellow</td><td>60</td><td>U</td><td>601.7437</td><td>1003.91</td><td>402.1663</td><td>66.83348741332897</td><td>FR</td></tr><tr><td>493</td><td>16</td><td>FR-T67Y-62</td><td>LL Touring Frame - Yellow, 62</td><td>LL Touring Frame</td><td>Lightweight butted aluminum frame provides a more upright riding position for a trip around town.  Our ground-breaking design provides optimum comfort.</td><td>Yellow</td><td>62</td><td>U</td><td>199.8519</td><td>333.42</td><td>133.56810000000002</td><td>66.83354023654518</td><td>FR</td></tr><tr><td>494</td><td>16</td><td>FR-T98Y-46</td><td>HL Touring Frame - Yellow, 46</td><td>HL Touring Frame</td><td>The HL aluminum frame is custom-shaped for both good looks and strength; it will withstand the most rigorous challenges of daily riding. Men's version.</td><td>Yellow</td><td>46</td><td>U</td><td>601.7437</td><td>1003.91</td><td>402.1663</td><td>66.83348741332897</td><td>FR</td></tr><tr><td>495</td><td>16</td><td>FR-T98Y-50</td><td>HL Touring Frame - Yellow, 50</td><td>HL Touring Frame</td><td>The HL aluminum frame is custom-shaped for both good looks and strength; it will withstand the most rigorous challenges of daily riding. Men's version.</td><td>Yellow</td><td>50</td><td>U</td><td>601.7437</td><td>1003.91</td><td>402.1663</td><td>66.83348741332897</td><td>FR</td></tr><tr><td>496</td><td>16</td><td>FR-T98Y-54</td><td>HL Touring Frame - Yellow, 54</td><td>HL Touring Frame</td><td>The HL aluminum frame is custom-shaped for both good looks and strength; it will withstand the most rigorous challenges of daily riding. Men's version.</td><td>Yellow</td><td>54</td><td>U</td><td>601.7437</td><td>1003.91</td><td>402.1663</td><td>66.83348741332897</td><td>FR</td></tr><tr><td>497</td><td>16</td><td>FR-T98U-46</td><td>HL Touring Frame - Blue, 46</td><td>HL Touring Frame</td><td>The HL aluminum frame is custom-shaped for both good looks and strength; it will withstand the most rigorous challenges of daily riding. Men's version.</td><td>Blue</td><td>46</td><td>U</td><td>601.7437</td><td>1003.91</td><td>402.1663</td><td>66.83348741332897</td><td>FR</td></tr><tr><td>498</td><td>16</td><td>FR-T98U-50</td><td>HL Touring Frame - Blue, 50</td><td>HL Touring Frame</td><td>The HL aluminum frame is custom-shaped for both good looks and strength; it will withstand the most rigorous challenges of daily riding. Men's version.</td><td>Blue</td><td>50</td><td>U</td><td>601.7437</td><td>1003.91</td><td>402.1663</td><td>66.83348741332897</td><td>FR</td></tr><tr><td>499</td><td>16</td><td>FR-T98U-54</td><td>HL Touring Frame - Blue, 54</td><td>HL Touring Frame</td><td>The HL aluminum frame is custom-shaped for both good looks and strength; it will withstand the most rigorous challenges of daily riding. Men's version.</td><td>Blue</td><td>54</td><td>U</td><td>601.7437</td><td>1003.91</td><td>402.1663</td><td>66.83348741332897</td><td>FR</td></tr><tr><td>500</td><td>16</td><td>FR-T98U-60</td><td>HL Touring Frame - Blue, 60</td><td>HL Touring Frame</td><td>The HL aluminum frame is custom-shaped for both good looks and strength; it will withstand the most rigorous challenges of daily riding. Men's version.</td><td>Blue</td><td>60</td><td>U</td><td>601.7437</td><td>1003.91</td><td>402.1663</td><td>66.83348741332897</td><td>FR</td></tr><tr><td>501</td><td>9</td><td>RD-2308</td><td>Rear Derailleur</td><td>Rear Derailleur</td><td>Wide-link design.</td><td>Silver</td><td>0</td><td>0</td><td>53.9282</td><td>121.46</td><td>67.5318</td><td>125.2253922808475</td><td>RD</td></tr><tr><td>502</td><td>16</td><td>FR-T67U-50</td><td>LL Touring Frame - Blue, 50</td><td>LL Touring Frame</td><td>Lightweight butted aluminum frame provides a more upright riding position for a trip around town.  Our ground-breaking design provides optimum comfort.</td><td>Blue</td><td>50</td><td>U</td><td>199.8519</td><td>333.42</td><td>133.56810000000002</td><td>66.83354023654518</td><td>FR</td></tr><tr><td>503</td><td>16</td><td>FR-T67U-54</td><td>LL Touring Frame - Blue, 54</td><td>LL Touring Frame</td><td>Lightweight butted aluminum frame provides a more upright riding position for a trip around town.  Our ground-breaking design provides optimum comfort.</td><td>Blue</td><td>54</td><td>U</td><td>199.8519</td><td>333.42</td><td>133.56810000000002</td><td>66.83354023654518</td><td>FR</td></tr><tr><td>504</td><td>16</td><td>FR-T67U-58</td><td>LL Touring Frame - Blue, 58</td><td>LL Touring Frame</td><td>Lightweight butted aluminum frame provides a more upright riding position for a trip around town.  Our ground-breaking design provides optimum comfort.</td><td>Blue</td><td>58</td><td>U</td><td>199.8519</td><td>333.42</td><td>133.56810000000002</td><td>66.83354023654518</td><td>FR</td></tr><tr><td>505</td><td>16</td><td>FR-T67U-62</td><td>LL Touring Frame - Blue, 62</td><td>LL Touring Frame</td><td>Lightweight butted aluminum frame provides a more upright riding position for a trip around town.  Our ground-breaking design provides optimum comfort.</td><td>Blue</td><td>62</td><td>U</td><td>199.8519</td><td>333.42</td><td>133.56810000000002</td><td>66.83354023654518</td><td>FR</td></tr><tr><td>506</td><td>16</td><td>FR-T67Y-44</td><td>LL Touring Frame - Yellow, 44</td><td>LL Touring Frame</td><td>Lightweight butted aluminum frame provides a more upright riding position for a trip around town.  Our ground-breaking design provides optimum comfort.</td><td>Yellow</td><td>44</td><td>U</td><td>199.8519</td><td>333.42</td><td>133.56810000000002</td><td>66.83354023654518</td><td>FR</td></tr><tr><td>507</td><td>16</td><td>FR-T67Y-50</td><td>LL Touring Frame - Yellow, 50</td><td>LL Touring Frame</td><td>Lightweight butted aluminum frame provides a more upright riding position for a trip around town.  Our ground-breaking design provides optimum comfort.</td><td>Yellow</td><td>50</td><td>U</td><td>199.8519</td><td>333.42</td><td>133.56810000000002</td><td>66.83354023654518</td><td>FR</td></tr><tr><td>508</td><td>16</td><td>FR-T67Y-54</td><td>LL Touring Frame - Yellow, 54</td><td>LL Touring Frame</td><td>Lightweight butted aluminum frame provides a more upright riding position for a trip around town.  Our ground-breaking design provides optimum comfort.</td><td>Yellow</td><td>54</td><td>U</td><td>199.8519</td><td>333.42</td><td>133.56810000000002</td><td>66.83354023654518</td><td>FR</td></tr><tr><td>509</td><td>16</td><td>FR-T67Y-58</td><td>LL Touring Frame - Yellow, 58</td><td>LL Touring Frame</td><td>Lightweight butted aluminum frame provides a more upright riding position for a trip around town.  Our ground-breaking design provides optimum comfort.</td><td>Yellow</td><td>58</td><td>U</td><td>199.8519</td><td>333.42</td><td>133.56810000000002</td><td>66.83354023654518</td><td>FR</td></tr><tr><td>510</td><td>16</td><td>FR-T67U-44</td><td>LL Touring Frame - Blue, 44</td><td>LL Touring Frame</td><td>Lightweight butted aluminum frame provides a more upright riding position for a trip around town.  Our ground-breaking design provides optimum comfort.</td><td>Blue</td><td>44</td><td>U</td><td>199.8519</td><td>333.42</td><td>133.56810000000002</td><td>66.83354023654518</td><td>FR</td></tr><tr><td>511</td><td>12</td><td>FR-M63S-40</td><td>ML Mountain Frame-W - Silver, 40</td><td>ML Mountain Frame-W</td><td>The ML frame is a heat-treated aluminum frame made with the same detail and quality as our HL frame. It offers superior performance. Men's version.</td><td>Silver</td><td>40</td><td>W</td><td>199.3757</td><td>364.09</td><td>164.71429999999998</td><td>82.61503282496312</td><td>FR</td></tr><tr><td>512</td><td>12</td><td>FR-M63S-42</td><td>ML Mountain Frame-W - Silver, 42</td><td>ML Mountain Frame-W</td><td>The ML frame is a heat-treated aluminum frame made with the same detail and quality as our HL frame. It offers superior performance. Men's version.</td><td>Silver</td><td>42</td><td>W</td><td>199.3757</td><td>364.09</td><td>164.71429999999998</td><td>82.61503282496312</td><td>FR</td></tr><tr><td>513</td><td>12</td><td>FR-M63S-46</td><td>ML Mountain Frame-W - Silver, 46</td><td>ML Mountain Frame-W</td><td>The ML frame is a heat-treated aluminum frame made with the same detail and quality as our HL frame. It offers superior performance. Men's version.</td><td>Silver</td><td>46</td><td>W</td><td>199.3757</td><td>364.09</td><td>164.71429999999998</td><td>82.61503282496312</td><td>FR</td></tr><tr><td>514</td><td>6</td><td>RB-9231</td><td>Rear Brakes</td><td>Rear Brakes</td><td>0</td><td>Silver</td><td>0</td><td>0</td><td>47.286</td><td>106.5</td><td>59.214</td><td>125.22522522522522</td><td>RB</td></tr><tr><td>515</td><td>15</td><td>SE-M236</td><td>LL Mountain Seat/Saddle</td><td>LL Mountain Seat/Saddle 2</td><td>Synthetic leather. Features gel for increased comfort.</td><td>NA</td><td>0</td><td>0</td><td>12.0413</td><td>27.12</td><td>15.078700000000001</td><td>125.22485113733568</td><td>SE</td></tr><tr><td>516</td><td>15</td><td>SE-M798</td><td>ML Mountain Seat/Saddle</td><td>ML Mountain Seat/Saddle 2</td><td>Designed to absorb shock.</td><td>NA</td><td>0</td><td>0</td><td>17.3782</td><td>39.14</td><td>21.7618</td><td>125.2247068165863</td><td>SE</td></tr><tr><td>517</td><td>15</td><td>SE-M940</td><td>HL Mountain Seat/Saddle</td><td>HL Mountain Seat/Saddle 2</td><td>Anatomic design for a full-day of riding in comfort. Durable leather.</td><td>NA</td><td>0</td><td>0</td><td>23.3722</td><td>52.64</td><td>29.2678</td><td>125.22483976690258</td><td>SE</td></tr><tr><td>518</td><td>15</td><td>SE-R581</td><td>LL Road Seat/Saddle</td><td>LL Road Seat/Saddle 1</td><td>Lightweight foam-padded saddle.</td><td>NA</td><td>0</td><td>0</td><td>12.0413</td><td>27.12</td><td>15.078700000000001</td><td>125.22485113733568</td><td>SE</td></tr><tr><td>519</td><td>15</td><td>SE-R908</td><td>ML Road Seat/Saddle</td><td>ML Road Seat/Saddle 2</td><td>Rubber bumpers absorb bumps.</td><td>NA</td><td>0</td><td>0</td><td>17.3782</td><td>39.14</td><td>21.7618</td><td>125.2247068165863</td><td>SE</td></tr><tr><td>520</td><td>15</td><td>SE-R995</td><td>HL Road Seat/Saddle</td><td>HL Road Seat/Saddle 2</td><td>Lightweight kevlar racing saddle. Leather.</td><td>NA</td><td>0</td><td>0</td><td>23.3722</td><td>52.64</td><td>29.2678</td><td>125.22483976690258</td><td>SE</td></tr><tr><td>521</td><td>15</td><td>SE-T312</td><td>LL Touring Seat/Saddle</td><td>LL Touring Seat/Saddle</td><td>Comfortable, ergonomically shaped gel saddle.</td><td>NA</td><td>0</td><td>0</td><td>12.0413</td><td>27.12</td><td>15.078700000000001</td><td>125.22485113733568</td><td>SE</td></tr><tr><td>522</td><td>15</td><td>SE-T762</td><td>ML Touring Seat/Saddle</td><td>ML Touring Seat/Saddle</td><td>New design relieves pressure for long rides.</td><td>NA</td><td>0</td><td>0</td><td>17.3782</td><td>39.14</td><td>21.7618</td><td>125.2247068165863</td><td>SE</td></tr><tr><td>523</td><td>15</td><td>SE-T924</td><td>HL Touring Seat/Saddle</td><td>HL Touring Seat/Saddle</td><td>Cut-out shell for a more comfortable ride.</td><td>NA</td><td>0</td><td>0</td><td>23.3722</td><td>52.64</td><td>29.2678</td><td>125.22483976690258</td><td>SE</td></tr><tr><td>524</td><td>12</td><td>FR-M21S-42</td><td>LL Mountain Frame - Silver, 42</td><td>LL Mountain Frame</td><td>Our best value utilizing the same, ground-breaking frame technology as the ML aluminum frame.</td><td>Silver</td><td>42</td><td>U</td><td>144.5938</td><td>264.05</td><td>119.45620000000002</td><td>82.61502222086979</td><td>FR</td></tr><tr><td>525</td><td>12</td><td>FR-M21S-44</td><td>LL Mountain Frame - Silver, 44</td><td>LL Mountain Frame</td><td>Our best value utilizing the same, ground-breaking frame technology as the ML aluminum frame.</td><td>Silver</td><td>44</td><td>U</td><td>144.5938</td><td>264.05</td><td>119.45620000000002</td><td>82.61502222086979</td><td>FR</td></tr><tr><td>526</td><td>12</td><td>FR-M21S-48</td><td>LL Mountain Frame - Silver, 48</td><td>LL Mountain Frame</td><td>Our best value utilizing the same, ground-breaking frame technology as the ML aluminum frame.</td><td>Silver</td><td>48</td><td>U</td><td>144.5938</td><td>264.05</td><td>119.45620000000002</td><td>82.61502222086979</td><td>FR</td></tr><tr><td>527</td><td>12</td><td>FR-M21S-52</td><td>LL Mountain Frame - Silver, 52</td><td>LL Mountain Frame</td><td>Our best value utilizing the same, ground-breaking frame technology as the ML aluminum frame.</td><td>Silver</td><td>52</td><td>U</td><td>144.5938</td><td>264.05</td><td>119.45620000000002</td><td>82.61502222086979</td><td>FR</td></tr><tr><td>528</td><td>37</td><td>TT-M928</td><td>Mountain Tire Tube</td><td>Mountain Tire Tube</td><td>Self-sealing tube.</td><td>NA</td><td>0</td><td>0</td><td>1.8663</td><td>4.99</td><td>3.1237000000000004</td><td>167.37394845416065</td><td>TT</td></tr><tr><td>529</td><td>37</td><td>TT-R982</td><td>Road Tire Tube</td><td>Road Tire Tube</td><td>Conventional all-purpose tube.</td><td>NA</td><td>0</td><td>0</td><td>1.4923</td><td>3.99</td><td>2.4977</td><td>167.37251222944448</td><td>TT</td></tr><tr><td>530</td><td>37</td><td>TT-T092</td><td>Touring Tire Tube</td><td>Touring Tire Tube</td><td>General purpose tube.</td><td>NA</td><td>0</td><td>0</td><td>1.8663</td><td>4.99</td><td>3.1237000000000004</td><td>167.37394845416065</td><td>TT</td></tr><tr><td>531</td><td>12</td><td>FR-M21B-42</td><td>LL Mountain Frame - Black, 42</td><td>LL Mountain Frame</td><td>Our best value utilizing the same, ground-breaking frame technology as the ML aluminum frame.</td><td>Black</td><td>42</td><td>U</td><td>136.785</td><td>249.79</td><td>113.005</td><td>82.61505282011916</td><td>FR</td></tr><tr><td>532</td><td>12</td><td>FR-M21B-44</td><td>LL Mountain Frame - Black, 44</td><td>LL Mountain Frame</td><td>Our best value utilizing the same, ground-breaking frame technology as the ML aluminum frame.</td><td>Black</td><td>44</td><td>U</td><td>136.785</td><td>249.79</td><td>113.005</td><td>82.61505282011916</td><td>FR</td></tr><tr><td>533</td><td>12</td><td>FR-M21B-48</td><td>LL Mountain Frame - Black, 48</td><td>LL Mountain Frame</td><td>Our best value utilizing the same, ground-breaking frame technology as the ML aluminum frame.</td><td>Black</td><td>48</td><td>U</td><td>136.785</td><td>249.79</td><td>113.005</td><td>82.61505282011916</td><td>FR</td></tr><tr><td>534</td><td>12</td><td>FR-M21B-52</td><td>LL Mountain Frame - Black, 52</td><td>LL Mountain Frame</td><td>Our best value utilizing the same, ground-breaking frame technology as the ML aluminum frame.</td><td>Black</td><td>52</td><td>U</td><td>136.785</td><td>249.79</td><td>113.005</td><td>82.61505282011916</td><td>FR</td></tr><tr><td>535</td><td>37</td><td>TI-M267</td><td>LL Mountain Tire</td><td>LL Mountain Tire</td><td>Comparible traction, less expensive wire bead casing.</td><td>NA</td><td>0</td><td>0</td><td>9.3463</td><td>24.99</td><td>15.643699999999999</td><td>167.37853482126616</td><td>TI</td></tr><tr><td>536</td><td>37</td><td>TI-M602</td><td>ML Mountain Tire</td><td>ML Mountain Tire</td><td>Great traction, high-density rubber.</td><td>NA</td><td>0</td><td>0</td><td>11.2163</td><td>29.99</td><td>18.773699999999998</td><td>167.3787256047003</td><td>TI</td></tr><tr><td>537</td><td>37</td><td>TI-M823</td><td>HL Mountain Tire</td><td>HL Mountain Tire</td><td>Incredible traction, lightweight carbon reinforced.</td><td>NA</td><td>0</td><td>0</td><td>13.09</td><td>35.0</td><td>21.91</td><td>167.37967914438502</td><td>TI</td></tr><tr><td>538</td><td>37</td><td>TI-R092</td><td>LL Road Tire</td><td>LL Road Tire</td><td>Same great treads as more expensive tire with a less expensive wire bead casing.</td><td>NA</td><td>0</td><td>0</td><td>8.0373</td><td>21.49</td><td>13.452699999999998</td><td>167.37834845035022</td><td>TI</td></tr><tr><td>539</td><td>37</td><td>TI-R628</td><td>ML Road Tire</td><td>ML Road Tire</td><td>Higher density rubber.</td><td>NA</td><td>0</td><td>0</td><td>9.3463</td><td>24.99</td><td>15.643699999999999</td><td>167.37853482126616</td><td>TI</td></tr><tr><td>540</td><td>37</td><td>TI-R982</td><td>HL Road Tire</td><td>HL Road Tire</td><td>Lightweight carbon reinforced  for an unrivaled ride at an un-compromised weight.</td><td>NA</td><td>0</td><td>0</td><td>12.1924</td><td>32.6</td><td>20.407600000000002</td><td>167.37967914438505</td><td>TI</td></tr><tr><td>541</td><td>37</td><td>TI-T723</td><td>Touring Tire</td><td>Touring Tire</td><td>High-density rubber.</td><td>NA</td><td>0</td><td>0</td><td>10.8423</td><td>28.99</td><td>18.1477</td><td>167.37869271280078</td><td>TI</td></tr><tr><td>542</td><td>13</td><td>PD-M282</td><td>LL Mountain Pedal</td><td>LL Mountain Pedal</td><td>Expanded platform so you can ride in any shoes; great for all-around riding.</td><td>Silver/Black</td><td>0</td><td>0</td><td>17.9776</td><td>40.49</td><td>22.512400000000003</td><td>125.22472410110362</td><td>PD</td></tr><tr><td>543</td><td>13</td><td>PD-M340</td><td>ML Mountain Pedal</td><td>ML Mountain Pedal</td><td>Lightweight, durable, clipless pedal with adjustable tension.</td><td>Silver/Black</td><td>0</td><td>0</td><td>27.568</td><td>62.09</td><td>34.522000000000006</td><td>125.22489843296579</td><td>PD</td></tr><tr><td>544</td><td>13</td><td>PD-M562</td><td>HL Mountain Pedal</td><td>HL Mountain Pedal</td><td>Stainless steel; designed to shed mud easily.</td><td>Silver/Black</td><td>0</td><td>0</td><td>35.9596</td><td>80.99</td><td>45.03039999999999</td><td>125.22497469382303</td><td>PD</td></tr><tr><td>545</td><td>13</td><td>PD-R347</td><td>LL Road Pedal</td><td>LL Road Pedal</td><td>Clipless pedals - aluminum.</td><td>Silver/Black</td><td>0</td><td>0</td><td>17.9776</td><td>40.49</td><td>22.512400000000003</td><td>125.22472410110362</td><td>PD</td></tr><tr><td>546</td><td>13</td><td>PD-R563</td><td>ML Road Pedal</td><td>ML Road Pedal</td><td>Lightweight aluminum alloy construction.</td><td>Silver/Black</td><td>0</td><td>0</td><td>27.568</td><td>62.09</td><td>34.522000000000006</td><td>125.22489843296579</td><td>PD</td></tr><tr><td>547</td><td>13</td><td>PD-R853</td><td>HL Road Pedal</td><td>HL Road Pedal</td><td>Top-of-the-line clipless pedals with adjustable tension.</td><td>Silver/Black</td><td>0</td><td>0</td><td>35.9596</td><td>80.99</td><td>45.03039999999999</td><td>125.22497469382303</td><td>PD</td></tr><tr><td>548</td><td>13</td><td>PD-T852</td><td>Touring Pedal</td><td>Touring Pedal</td><td>A stable pedal for all-day riding.</td><td>Silver/Black</td><td>0</td><td>0</td><td>35.9596</td><td>80.99</td><td>45.03039999999999</td><td>125.22497469382303</td><td>PD</td></tr><tr><td>549</td><td>12</td><td>FR-M63S-38</td><td>ML Mountain Frame-W - Silver, 38</td><td>ML Mountain Frame-W</td><td>The ML frame is a heat-treated aluminum frame made with the same detail and quality as our HL frame. It offers superior performance. Men's version.</td><td>Silver</td><td>38</td><td>W</td><td>199.3757</td><td>364.09</td><td>164.71429999999998</td><td>82.61503282496312</td><td>FR</td></tr><tr><td>550</td><td>12</td><td>FR-M21B-40</td><td>LL Mountain Frame - Black, 40</td><td>LL Mountain Frame</td><td>Our best value utilizing the same, ground-breaking frame technology as the ML aluminum frame.</td><td>Black</td><td>40</td><td>U</td><td>136.785</td><td>249.79</td><td>113.005</td><td>82.61505282011916</td><td>FR</td></tr><tr><td>551</td><td>12</td><td>FR-M21S-40</td><td>LL Mountain Frame - Silver, 40</td><td>LL Mountain Frame</td><td>Our best value utilizing the same, ground-breaking frame technology as the ML aluminum frame.</td><td>Silver</td><td>40</td><td>U</td><td>144.5938</td><td>264.05</td><td>119.45620000000002</td><td>82.61502222086979</td><td>FR</td></tr><tr><td>552</td><td>9</td><td>FD-2342</td><td>Front Derailleur</td><td>Front Derailleur</td><td>Wide-link design.</td><td>Silver</td><td>0</td><td>0</td><td>40.6216</td><td>91.49</td><td>50.868399999999994</td><td>125.22500344644227</td><td>FD</td></tr><tr><td>553</td><td>4</td><td>HB-T721</td><td>LL Touring Handlebars</td><td>LL Touring Handlebars</td><td>Unique shape reduces fatigue for entry level riders.</td><td>NA</td><td>0</td><td>0</td><td>20.464</td><td>46.09</td><td>25.626000000000005</td><td>125.22478498827212</td><td>HB</td></tr><tr><td>554</td><td>4</td><td>HB-T928</td><td>HL Touring Handlebars</td><td>HL Touring Handlebars</td><td>A light yet stiff aluminum bar for long distance riding.</td><td>NA</td><td>0</td><td>0</td><td>40.6571</td><td>91.57</td><td>50.91289999999999</td><td>125.22511443265752</td><td>HB</td></tr><tr><td>555</td><td>6</td><td>FB-9873</td><td>Front Brakes</td><td>Front Brakes</td><td>All-weather brake pads; provides superior stopping by applying more surface to the rim.</td><td>Silver</td><td>0</td><td>0</td><td>47.286</td><td>106.5</td><td>59.214</td><td>125.22522522522522</td><td>FB</td></tr><tr><td>556</td><td>8</td><td>CS-4759</td><td>LL Crankset</td><td>LL Crankset</td><td>Super rigid spindle.</td><td>Black</td><td>0</td><td>0</td><td>77.9176</td><td>175.49</td><td>97.57240000000002</td><td>125.22510960296522</td><td>CS</td></tr><tr><td>557</td><td>8</td><td>CS-6583</td><td>ML Crankset</td><td>ML Crankset</td><td>High-strength crank arm.</td><td>Black</td><td>0</td><td>0</td><td>113.8816</td><td>256.49</td><td>142.60840000000002</td><td>125.22514611666855</td><td>CS</td></tr><tr><td>558</td><td>8</td><td>CS-9183</td><td>HL Crankset</td><td>HL Crankset</td><td>Triple crankset; alumunim crank arm; flawless shifting.</td><td>Black</td><td>0</td><td>0</td><td>179.8156</td><td>404.99</td><td>225.17440000000002</td><td>125.22517512384911</td><td>CS</td></tr><tr><td>559</td><td>7</td><td>CH-0234</td><td>Chain</td><td>Chain</td><td>Superior shifting performance.</td><td>Silver</td><td>0</td><td>0</td><td>8.9866</td><td>20.24</td><td>11.2534</td><td>125.22422273162263</td><td>CH</td></tr><tr><td>560</td><td>3</td><td>BK-T44U-60</td><td>Touring-2000 Blue, 60</td><td>Touring-2000</td><td>The plush custom saddle keeps you riding all day,  and there's plenty of space to add panniers and bike bags to the newly-redesigned carrier.  This bike has stability when fully-loaded.</td><td>Blue</td><td>60</td><td>U</td><td>755.1508</td><td>1214.85</td><td>459.6991999999999</td><td>60.87515235367557</td><td>BK</td></tr><tr><td>561</td><td>3</td><td>BK-T79Y-46</td><td>Touring-1000 Yellow, 46</td><td>Touring-1000</td><td>Travel in style and comfort. Designed for maximum comfort and safety. Wide gear range takes on all hills. High-tech aluminum alloy construction provides durability without added weight.</td><td>Yellow</td><td>46</td><td>U</td><td>1481.9379</td><td>2384.07</td><td>902.1321000000003</td><td>60.87516217784837</td><td>BK</td></tr><tr><td>562</td><td>3</td><td>BK-T79Y-50</td><td>Touring-1000 Yellow, 50</td><td>Touring-1000</td><td>Travel in style and comfort. Designed for maximum comfort and safety. Wide gear range takes on all hills. High-tech aluminum alloy construction provides durability without added weight.</td><td>Yellow</td><td>50</td><td>U</td><td>1481.9379</td><td>2384.07</td><td>902.1321000000003</td><td>60.87516217784837</td><td>BK</td></tr><tr><td>563</td><td>3</td><td>BK-T79Y-54</td><td>Touring-1000 Yellow, 54</td><td>Touring-1000</td><td>Travel in style and comfort. Designed for maximum comfort and safety. Wide gear range takes on all hills. High-tech aluminum alloy construction provides durability without added weight.</td><td>Yellow</td><td>54</td><td>U</td><td>1481.9379</td><td>2384.07</td><td>902.1321000000003</td><td>60.87516217784837</td><td>BK</td></tr><tr><td>564</td><td>3</td><td>BK-T79Y-60</td><td>Touring-1000 Yellow, 60</td><td>Touring-1000</td><td>Travel in style and comfort. Designed for maximum comfort and safety. Wide gear range takes on all hills. High-tech aluminum alloy construction provides durability without added weight.</td><td>Yellow</td><td>60</td><td>U</td><td>1481.9379</td><td>2384.07</td><td>902.1321000000003</td><td>60.87516217784837</td><td>BK</td></tr><tr><td>565</td><td>3</td><td>BK-T18U-54</td><td>Touring-3000 Blue, 54</td><td>Touring-3000</td><td>All-occasion value bike with our basic comfort and safety features. Offers wider, more stable tires for a ride around town or weekend trip.</td><td>Blue</td><td>54</td><td>U</td><td>461.4448</td><td>742.35</td><td>280.90520000000004</td><td>60.87514692981697</td><td>BK</td></tr><tr><td>566</td><td>3</td><td>BK-T18U-58</td><td>Touring-3000 Blue, 58</td><td>Touring-3000</td><td>All-occasion value bike with our basic comfort and safety features. Offers wider, more stable tires for a ride around town or weekend trip.</td><td>Blue</td><td>58</td><td>U</td><td>461.4448</td><td>742.35</td><td>280.90520000000004</td><td>60.87514692981697</td><td>BK</td></tr><tr><td>567</td><td>3</td><td>BK-T18U-62</td><td>Touring-3000 Blue, 62</td><td>Touring-3000</td><td>All-occasion value bike with our basic comfort and safety features. Offers wider, more stable tires for a ride around town or weekend trip.</td><td>Blue</td><td>62</td><td>U</td><td>461.4448</td><td>742.35</td><td>280.90520000000004</td><td>60.87514692981697</td><td>BK</td></tr><tr><td>568</td><td>3</td><td>BK-T18Y-44</td><td>Touring-3000 Yellow, 44</td><td>Touring-3000</td><td>All-occasion value bike with our basic comfort and safety features. Offers wider, more stable tires for a ride around town or weekend trip.</td><td>Yellow</td><td>44</td><td>U</td><td>461.4448</td><td>742.35</td><td>280.90520000000004</td><td>60.87514692981697</td><td>BK</td></tr><tr><td>569</td><td>3</td><td>BK-T18Y-50</td><td>Touring-3000 Yellow, 50</td><td>Touring-3000</td><td>All-occasion value bike with our basic comfort and safety features. Offers wider, more stable tires for a ride around town or weekend trip.</td><td>Yellow</td><td>50</td><td>U</td><td>461.4448</td><td>742.35</td><td>280.90520000000004</td><td>60.87514692981697</td><td>BK</td></tr><tr><td>570</td><td>3</td><td>BK-T18Y-54</td><td>Touring-3000 Yellow, 54</td><td>Touring-3000</td><td>All-occasion value bike with our basic comfort and safety features. Offers wider, more stable tires for a ride around town or weekend trip.</td><td>Yellow</td><td>54</td><td>U</td><td>461.4448</td><td>742.35</td><td>280.90520000000004</td><td>60.87514692981697</td><td>BK</td></tr><tr><td>571</td><td>3</td><td>BK-T18Y-58</td><td>Touring-3000 Yellow, 58</td><td>Touring-3000</td><td>All-occasion value bike with our basic comfort and safety features. Offers wider, more stable tires for a ride around town or weekend trip.</td><td>Yellow</td><td>58</td><td>U</td><td>461.4448</td><td>742.35</td><td>280.90520000000004</td><td>60.87514692981697</td><td>BK</td></tr><tr><td>572</td><td>3</td><td>BK-T18Y-62</td><td>Touring-3000 Yellow, 62</td><td>Touring-3000</td><td>All-occasion value bike with our basic comfort and safety features. Offers wider, more stable tires for a ride around town or weekend trip.</td><td>Yellow</td><td>62</td><td>U</td><td>461.4448</td><td>742.35</td><td>280.90520000000004</td><td>60.87514692981697</td><td>BK</td></tr><tr><td>573</td><td>3</td><td>BK-T79U-46</td><td>Touring-1000 Blue, 46</td><td>Touring-1000</td><td>Travel in style and comfort. Designed for maximum comfort and safety. Wide gear range takes on all hills. High-tech aluminum alloy construction provides durability without added weight.</td><td>Blue</td><td>46</td><td>U</td><td>1481.9379</td><td>2384.07</td><td>902.1321000000003</td><td>60.87516217784837</td><td>BK</td></tr><tr><td>574</td><td>3</td><td>BK-T79U-50</td><td>Touring-1000 Blue, 50</td><td>Touring-1000</td><td>Travel in style and comfort. Designed for maximum comfort and safety. Wide gear range takes on all hills. High-tech aluminum alloy construction provides durability without added weight.</td><td>Blue</td><td>50</td><td>U</td><td>1481.9379</td><td>2384.07</td><td>902.1321000000003</td><td>60.87516217784837</td><td>BK</td></tr><tr><td>575</td><td>3</td><td>BK-T79U-54</td><td>Touring-1000 Blue, 54</td><td>Touring-1000</td><td>Travel in style and comfort. Designed for maximum comfort and safety. Wide gear range takes on all hills. High-tech aluminum alloy construction provides durability without added weight.</td><td>Blue</td><td>54</td><td>U</td><td>1481.9379</td><td>2384.07</td><td>902.1321000000003</td><td>60.87516217784837</td><td>BK</td></tr><tr><td>576</td><td>3</td><td>BK-T79U-60</td><td>Touring-1000 Blue, 60</td><td>Touring-1000</td><td>Travel in style and comfort. Designed for maximum comfort and safety. Wide gear range takes on all hills. High-tech aluminum alloy construction provides durability without added weight.</td><td>Blue</td><td>60</td><td>U</td><td>1481.9379</td><td>2384.07</td><td>902.1321000000003</td><td>60.87516217784837</td><td>BK</td></tr><tr><td>577</td><td>3</td><td>BK-T44U-46</td><td>Touring-2000 Blue, 46</td><td>Touring-2000</td><td>The plush custom saddle keeps you riding all day,  and there's plenty of space to add panniers and bike bags to the newly-redesigned carrier.  This bike has stability when fully-loaded.</td><td>Blue</td><td>46</td><td>U</td><td>755.1508</td><td>1214.85</td><td>459.6991999999999</td><td>60.87515235367557</td><td>BK</td></tr><tr><td>578</td><td>3</td><td>BK-T44U-50</td><td>Touring-2000 Blue, 50</td><td>Touring-2000</td><td>The plush custom saddle keeps you riding all day,  and there's plenty of space to add panniers and bike bags to the newly-redesigned carrier.  This bike has stability when fully-loaded.</td><td>Blue</td><td>50</td><td>U</td><td>755.1508</td><td>1214.85</td><td>459.6991999999999</td><td>60.87515235367557</td><td>BK</td></tr><tr><td>579</td><td>3</td><td>BK-T44U-54</td><td>Touring-2000 Blue, 54</td><td>Touring-2000</td><td>The plush custom saddle keeps you riding all day,  and there's plenty of space to add panniers and bike bags to the newly-redesigned carrier.  This bike has stability when fully-loaded.</td><td>Blue</td><td>54</td><td>U</td><td>755.1508</td><td>1214.85</td><td>459.6991999999999</td><td>60.87515235367557</td><td>BK</td></tr><tr><td>580</td><td>2</td><td>BK-R79Y-40</td><td>Road-350-W Yellow, 40</td><td>Road-350-W</td><td>Cross-train, race, or just socialize on a sleek, aerodynamic bike designed for a woman.  Advanced seat technology provides comfort all day.</td><td>Yellow</td><td>40</td><td>W</td><td>1082.51</td><td>1700.99</td><td>618.48</td><td>57.133883289761755</td><td>BK</td></tr><tr><td>581</td><td>2</td><td>BK-R79Y-42</td><td>Road-350-W Yellow, 42</td><td>Road-350-W</td><td>Cross-train, race, or just socialize on a sleek, aerodynamic bike designed for a woman.  Advanced seat technology provides comfort all day.</td><td>Yellow</td><td>42</td><td>W</td><td>1082.51</td><td>1700.99</td><td>618.48</td><td>57.133883289761755</td><td>BK</td></tr><tr><td>582</td><td>2</td><td>BK-R79Y-44</td><td>Road-350-W Yellow, 44</td><td>Road-350-W</td><td>Cross-train, race, or just socialize on a sleek, aerodynamic bike designed for a woman.  Advanced seat technology provides comfort all day.</td><td>Yellow</td><td>44</td><td>W</td><td>1082.51</td><td>1700.99</td><td>618.48</td><td>57.133883289761755</td><td>BK</td></tr><tr><td>583</td><td>2</td><td>BK-R79Y-48</td><td>Road-350-W Yellow, 48</td><td>Road-350-W</td><td>Cross-train, race, or just socialize on a sleek, aerodynamic bike designed for a woman.  Advanced seat technology provides comfort all day.</td><td>Yellow</td><td>48</td><td>W</td><td>1082.51</td><td>1700.99</td><td>618.48</td><td>57.133883289761755</td><td>BK</td></tr><tr><td>584</td><td>2</td><td>BK-R19B-58</td><td>Road-750 Black, 58</td><td>Road-750</td><td>Entry level adult bike; offers a comfortable ride cross-country or down the block. Quick-release hubs and rims.</td><td>Black</td><td>58</td><td>U</td><td>343.6496</td><td>539.99</td><td>196.3404</td><td>57.13389452512093</td><td>BK</td></tr><tr><td>585</td><td>3</td><td>BK-T18U-44</td><td>Touring-3000 Blue, 44</td><td>Touring-3000</td><td>All-occasion value bike with our basic comfort and safety features. Offers wider, more stable tires for a ride around town or weekend trip.</td><td>Blue</td><td>44</td><td>U</td><td>461.4448</td><td>742.35</td><td>280.90520000000004</td><td>60.87514692981697</td><td>BK</td></tr><tr><td>586</td><td>3</td><td>BK-T18U-50</td><td>Touring-3000 Blue, 50</td><td>Touring-3000</td><td>All-occasion value bike with our basic comfort and safety features. Offers wider, more stable tires for a ride around town or weekend trip.</td><td>Blue</td><td>50</td><td>U</td><td>461.4448</td><td>742.35</td><td>280.90520000000004</td><td>60.87514692981697</td><td>BK</td></tr><tr><td>587</td><td>1</td><td>BK-M38S-38</td><td>Mountain-400-W Silver, 38</td><td>Mountain-400-W</td><td>This bike delivers a high-level of performance on a budget. It is responsive and maneuverable, and offers peace-of-mind when you decide to go off-road.</td><td>Silver</td><td>38</td><td>W</td><td>419.7784</td><td>769.49</td><td>349.71160000000003</td><td>83.30862188240272</td><td>BK</td></tr><tr><td>588</td><td>1</td><td>BK-M38S-40</td><td>Mountain-400-W Silver, 40</td><td>Mountain-400-W</td><td>This bike delivers a high-level of performance on a budget. It is responsive and maneuverable, and offers peace-of-mind when you decide to go off-road.</td><td>Silver</td><td>40</td><td>W</td><td>419.7784</td><td>769.49</td><td>349.71160000000003</td><td>83.30862188240272</td><td>BK</td></tr><tr><td>589</td><td>1</td><td>BK-M38S-42</td><td>Mountain-400-W Silver, 42</td><td>Mountain-400-W</td><td>This bike delivers a high-level of performance on a budget. It is responsive and maneuverable, and offers peace-of-mind when you decide to go off-road.</td><td>Silver</td><td>42</td><td>W</td><td>419.7784</td><td>769.49</td><td>349.71160000000003</td><td>83.30862188240272</td><td>BK</td></tr><tr><td>590</td><td>1</td><td>BK-M38S-46</td><td>Mountain-400-W Silver, 46</td><td>Mountain-400-W</td><td>This bike delivers a high-level of performance on a budget. It is responsive and maneuverable, and offers peace-of-mind when you decide to go off-road.</td><td>Silver</td><td>46</td><td>W</td><td>419.7784</td><td>769.49</td><td>349.71160000000003</td><td>83.30862188240272</td><td>BK</td></tr><tr><td>591</td><td>1</td><td>BK-M18S-40</td><td>Mountain-500 Silver, 40</td><td>Mountain-500</td><td>Suitable for any type of riding, on or off-road. Fits any budget. Smooth-shifting with a comfortable ride.</td><td>Silver</td><td>40</td><td>U</td><td>308.2179</td><td>564.99</td><td>256.7721</td><td>83.30862678643909</td><td>BK</td></tr><tr><td>592</td><td>1</td><td>BK-M18S-42</td><td>Mountain-500 Silver, 42</td><td>Mountain-500</td><td>Suitable for any type of riding, on or off-road. Fits any budget. Smooth-shifting with a comfortable ride.</td><td>Silver</td><td>42</td><td>U</td><td>308.2179</td><td>564.99</td><td>256.7721</td><td>83.30862678643909</td><td>BK</td></tr><tr><td>593</td><td>1</td><td>BK-M18S-44</td><td>Mountain-500 Silver, 44</td><td>Mountain-500</td><td>Suitable for any type of riding, on or off-road. Fits any budget. Smooth-shifting with a comfortable ride.</td><td>Silver</td><td>44</td><td>U</td><td>308.2179</td><td>564.99</td><td>256.7721</td><td>83.30862678643909</td><td>BK</td></tr><tr><td>594</td><td>1</td><td>BK-M18S-48</td><td>Mountain-500 Silver, 48</td><td>Mountain-500</td><td>Suitable for any type of riding, on or off-road. Fits any budget. Smooth-shifting with a comfortable ride.</td><td>Silver</td><td>48</td><td>U</td><td>308.2179</td><td>564.99</td><td>256.7721</td><td>83.30862678643909</td><td>BK</td></tr><tr><td>595</td><td>1</td><td>BK-M18S-52</td><td>Mountain-500 Silver, 52</td><td>Mountain-500</td><td>Suitable for any type of riding, on or off-road. Fits any budget. Smooth-shifting with a comfortable ride.</td><td>Silver</td><td>52</td><td>U</td><td>308.2179</td><td>564.99</td><td>256.7721</td><td>83.30862678643909</td><td>BK</td></tr><tr><td>596</td><td>1</td><td>BK-M18B-40</td><td>Mountain-500 Black, 40</td><td>Mountain-500</td><td>Suitable for any type of riding, on or off-road. Fits any budget. Smooth-shifting with a comfortable ride.</td><td>Black</td><td>40</td><td>U</td><td>294.5797</td><td>539.99</td><td>245.4103</td><td>83.30862581501712</td><td>BK</td></tr><tr><td>597</td><td>1</td><td>BK-M18B-42</td><td>Mountain-500 Black, 42</td><td>Mountain-500</td><td>Suitable for any type of riding, on or off-road. Fits any budget. Smooth-shifting with a comfortable ride.</td><td>Black</td><td>42</td><td>U</td><td>294.5797</td><td>539.99</td><td>245.4103</td><td>83.30862581501712</td><td>BK</td></tr><tr><td>598</td><td>1</td><td>BK-M18B-44</td><td>Mountain-500 Black, 44</td><td>Mountain-500</td><td>Suitable for any type of riding, on or off-road. Fits any budget. Smooth-shifting with a comfortable ride.</td><td>Black</td><td>44</td><td>U</td><td>294.5797</td><td>539.99</td><td>245.4103</td><td>83.30862581501712</td><td>BK</td></tr><tr><td>599</td><td>1</td><td>BK-M18B-48</td><td>Mountain-500 Black, 48</td><td>Mountain-500</td><td>Suitable for any type of riding, on or off-road. Fits any budget. Smooth-shifting with a comfortable ride.</td><td>Black</td><td>48</td><td>U</td><td>294.5797</td><td>539.99</td><td>245.4103</td><td>83.30862581501712</td><td>BK</td></tr><tr><td>600</td><td>1</td><td>BK-M18B-52</td><td>Mountain-500 Black, 52</td><td>Mountain-500</td><td>Suitable for any type of riding, on or off-road. Fits any budget. Smooth-shifting with a comfortable ride.</td><td>Black</td><td>52</td><td>U</td><td>294.5797</td><td>539.99</td><td>245.4103</td><td>83.30862581501712</td><td>BK</td></tr><tr><td>601</td><td>5</td><td>BB-7421</td><td>LL Bottom Bracket</td><td>LL Bottom Bracket</td><td>Chromoly steel.</td><td>NA</td><td>0</td><td>0</td><td>23.9716</td><td>53.99</td><td>30.018400000000003</td><td>125.22484940512943</td><td>BB</td></tr><tr><td>602</td><td>5</td><td>BB-8107</td><td>ML Bottom Bracket</td><td>ML Bottom Bracket</td><td>Aluminum alloy cups; large diameter spindle.</td><td>NA</td><td>0</td><td>0</td><td>44.9506</td><td>101.24</td><td>56.28939999999999</td><td>125.22502480500815</td><td>BB</td></tr><tr><td>603</td><td>5</td><td>BB-9108</td><td>HL Bottom Bracket</td><td>HL Bottom Bracket</td><td>Aluminum alloy cups and a hollow axle.</td><td>NA</td><td>0</td><td>0</td><td>53.9416</td><td>121.49</td><td>67.54839999999999</td><td>125.22505821110235</td><td>BB</td></tr><tr><td>604</td><td>2</td><td>BK-R19B-44</td><td>Road-750 Black, 44</td><td>Road-750</td><td>Entry level adult bike; offers a comfortable ride cross-country or down the block. Quick-release hubs and rims.</td><td>Black</td><td>44</td><td>U</td><td>343.6496</td><td>539.99</td><td>196.3404</td><td>57.13389452512093</td><td>BK</td></tr><tr><td>605</td><td>2</td><td>BK-R19B-48</td><td>Road-750 Black, 48</td><td>Road-750</td><td>Entry level adult bike; offers a comfortable ride cross-country or down the block. Quick-release hubs and rims.</td><td>Black</td><td>48</td><td>U</td><td>343.6496</td><td>539.99</td><td>196.3404</td><td>57.13389452512093</td><td>BK</td></tr><tr><td>606</td><td>2</td><td>BK-R19B-52</td><td>Road-750 Black, 52</td><td>Road-750</td><td>Entry level adult bike; offers a comfortable ride cross-country or down the block. Quick-release hubs and rims.</td><td>Black</td><td>52</td><td>U</td><td>343.6496</td><td>539.99</td><td>196.3404</td><td>57.13389452512093</td><td>BK</td></tr></tbody></table></div>"
      ]
     },
     "metadata": {
      "application/vnd.databricks.v1+output": {
       "addedWidgets": {},
       "aggData": [],
       "aggError": "",
       "aggOverflow": false,
       "aggSchema": [],
       "aggSeriesLimitReached": false,
       "aggType": "",
       "arguments": {},
       "columnCustomDisplayInfos": {},
       "data": [
        [
         214,
         31,
         "HL-U509-R",
         "Sport-100 Helmet, Red",
         "Sport-100",
         "Universal fit, well-vented, lightweight , snap-on visor.",
         "Red",
         "0",
         "0",
         13.0863,
         34.99,
         21.9037,
         167.37886186316987,
         "HL"
        ],
        [
         215,
         31,
         "HL-U509",
         "Sport-100 Helmet, Black",
         "Sport-100",
         "Universal fit, well-vented, lightweight , snap-on visor.",
         "Black",
         "0",
         "0",
         12.0278,
         33.6442,
         21.6164,
         179.72031460449958,
         "HL"
        ],
        [
         218,
         23,
         "SO-B909-M",
         "Mountain Bike Socks, M",
         "Mountain Bike Socks",
         "Combination of natural and synthetic fibers stays dry and provides just the right cushioning.",
         "White",
         "M",
         "U",
         3.3963,
         9.5,
         6.1037,
         179.71616170538528,
         "SO"
        ],
        [
         219,
         23,
         "SO-B909-L",
         "Mountain Bike Socks, L",
         "Mountain Bike Socks",
         "Combination of natural and synthetic fibers stays dry and provides just the right cushioning.",
         "White",
         "L",
         "U",
         3.3963,
         9.5,
         6.1037,
         179.71616170538528,
         "SO"
        ],
        [
         220,
         31,
         "HL-U509-B",
         "Sport-100 Helmet, Blue",
         "Sport-100",
         "Universal fit, well-vented, lightweight , snap-on visor.",
         "Blue",
         "0",
         "0",
         12.0278,
         33.6442,
         21.6164,
         179.72031460449958,
         "HL"
        ],
        [
         223,
         19,
         "CA-1098",
         "AWC Logo Cap",
         "Cycling Cap",
         "Traditional style with a flip-up brim; one-size fits all.",
         "Multi",
         "0",
         "U",
         5.7052,
         8.6442,
         2.939,
         51.51440790857463,
         "CA"
        ],
        [
         226,
         21,
         "LJ-0192-S",
         "Long-Sleeve Logo Jersey, S",
         "Long-Sleeve Logo Jersey",
         "Unisex long-sleeve AWC logo microfiber cycling jersey",
         "Multi",
         "S",
         "U",
         31.7244,
         48.0673,
         16.342900000000004,
         51.51523748282081,
         "LJ"
        ],
        [
         229,
         21,
         "LJ-0192-M",
         "Long-Sleeve Logo Jersey, M",
         "Long-Sleeve Logo Jersey",
         "Unisex long-sleeve AWC logo microfiber cycling jersey",
         "Multi",
         "M",
         "U",
         31.7244,
         48.0673,
         16.342900000000004,
         51.51523748282081,
         "LJ"
        ],
        [
         232,
         21,
         "LJ-0192-L",
         "Long-Sleeve Logo Jersey, L",
         "Long-Sleeve Logo Jersey",
         "Unisex long-sleeve AWC logo microfiber cycling jersey",
         "Multi",
         "L",
         "U",
         31.7244,
         48.0673,
         16.342900000000004,
         51.51523748282081,
         "LJ"
        ],
        [
         235,
         21,
         "LJ-0192-X",
         "Long-Sleeve Logo Jersey, XL",
         "Long-Sleeve Logo Jersey",
         "Unisex long-sleeve AWC logo microfiber cycling jersey",
         "Multi",
         "XL",
         "U",
         31.7244,
         48.0673,
         16.342900000000004,
         51.51523748282081,
         "LJ"
        ],
        [
         238,
         14,
         "FR-R92R-62",
         "HL Road Frame - Red, 62",
         "HL Road Frame",
         "Our lightest and best quality aluminum frame made from the newest alloy; it is welded and heat-treated for strength. Our innovative design results in maximum comfort and performance.",
         "Red",
         "62",
         "U",
         747.9682,
         1263.4598,
         515.4916000000001,
         68.91891928025817,
         "FR"
        ],
        [
         241,
         14,
         "FR-R92R-44",
         "HL Road Frame - Red, 44",
         "HL Road Frame",
         "Our lightest and best quality aluminum frame made from the newest alloy; it is welded and heat-treated for strength. Our innovative design results in maximum comfort and performance.",
         "Red",
         "44",
         "U",
         747.9682,
         1263.4598,
         515.4916000000001,
         68.91891928025817,
         "FR"
        ],
        [
         244,
         14,
         "FR-R92R-48",
         "HL Road Frame - Red, 48",
         "HL Road Frame",
         "Our lightest and best quality aluminum frame made from the newest alloy; it is welded and heat-treated for strength. Our innovative design results in maximum comfort and performance.",
         "Red",
         "48",
         "U",
         747.9682,
         1263.4598,
         515.4916000000001,
         68.91891928025817,
         "FR"
        ],
        [
         247,
         14,
         "FR-R92R-52",
         "HL Road Frame - Red, 52",
         "HL Road Frame",
         "Our lightest and best quality aluminum frame made from the newest alloy; it is welded and heat-treated for strength. Our innovative design results in maximum comfort and performance.",
         "Red",
         "52",
         "U",
         747.9682,
         1263.4598,
         515.4916000000001,
         68.91891928025817,
         "FR"
        ],
        [
         250,
         14,
         "FR-R92R-56",
         "HL Road Frame - Red, 56",
         "HL Road Frame",
         "Our lightest and best quality aluminum frame made from the newest alloy; it is welded and heat-treated for strength. Our innovative design results in maximum comfort and performance.",
         "Red",
         "56",
         "U",
         747.9682,
         1263.4598,
         515.4916000000001,
         68.91891928025817,
         "FR"
        ],
        [
         253,
         14,
         "FR-R38B-58",
         "LL Road Frame - Black, 58",
         "LL Road Frame",
         "The LL Frame provides a safe comfortable ride, while offering superior bump absorption in a value-priced aluminum frame.",
         "Black",
         "58",
         "U",
         176.1997,
         297.6346,
         121.43489999999997,
         68.91890281311487,
         "FR"
        ],
        [
         256,
         14,
         "FR-R38B-60",
         "LL Road Frame - Black, 60",
         "LL Road Frame",
         "The LL Frame provides a safe comfortable ride, while offering superior bump absorption in a value-priced aluminum frame.",
         "Black",
         "60",
         "U",
         176.1997,
         297.6346,
         121.43489999999997,
         68.91890281311487,
         "FR"
        ],
        [
         259,
         14,
         "FR-R38B-62",
         "LL Road Frame - Black, 62",
         "LL Road Frame",
         "The LL Frame provides a safe comfortable ride, while offering superior bump absorption in a value-priced aluminum frame.",
         "Black",
         "62",
         "U",
         176.1997,
         297.6346,
         121.43489999999997,
         68.91890281311487,
         "FR"
        ],
        [
         262,
         14,
         "FR-R38R-44",
         "LL Road Frame - Red, 44",
         "LL Road Frame",
         "The LL Frame provides a safe comfortable ride, while offering superior bump absorption in a value-priced aluminum frame.",
         "Red",
         "44",
         "U",
         181.4857,
         306.5636,
         125.0779,
         68.91887349802217,
         "FR"
        ],
        [
         264,
         14,
         "FR-R38R-48",
         "LL Road Frame - Red, 48",
         "LL Road Frame",
         "The LL Frame provides a safe comfortable ride, while offering superior bump absorption in a value-priced aluminum frame.",
         "Red",
         "48",
         "U",
         181.4857,
         306.5636,
         125.0779,
         68.91887349802217,
         "FR"
        ],
        [
         266,
         14,
         "FR-R38R-52",
         "LL Road Frame - Red, 52",
         "LL Road Frame",
         "The LL Frame provides a safe comfortable ride, while offering superior bump absorption in a value-priced aluminum frame.",
         "Red",
         "52",
         "U",
         181.4857,
         306.5636,
         125.0779,
         68.91887349802217,
         "FR"
        ],
        [
         268,
         14,
         "FR-R38R-58",
         "LL Road Frame - Red, 58",
         "LL Road Frame",
         "The LL Frame provides a safe comfortable ride, while offering superior bump absorption in a value-priced aluminum frame.",
         "Red",
         "58",
         "U",
         181.4857,
         306.5636,
         125.0779,
         68.91887349802217,
         "FR"
        ],
        [
         270,
         14,
         "FR-R38R-60",
         "LL Road Frame - Red, 60",
         "LL Road Frame",
         "The LL Frame provides a safe comfortable ride, while offering superior bump absorption in a value-priced aluminum frame.",
         "Red",
         "60",
         "U",
         181.4857,
         306.5636,
         125.0779,
         68.91887349802217,
         "FR"
        ],
        [
         272,
         14,
         "FR-R38R-62",
         "LL Road Frame - Red, 62",
         "LL Road Frame",
         "The LL Frame provides a safe comfortable ride, while offering superior bump absorption in a value-priced aluminum frame.",
         "Red",
         "62",
         "U",
         181.4857,
         306.5636,
         125.0779,
         68.91887349802217,
         "FR"
        ],
        [
         274,
         14,
         "FR-R72R-44",
         "ML Road Frame - Red, 44",
         "ML Road Frame",
         "Made from the same aluminum alloy as our top-of-the line HL frame, the ML features a lightweight down-tube milled to the perfect diameter for optimal strength. Men's version.",
         "Red",
         "44",
         "U",
         352.1394,
         594.83,
         242.69060000000002,
         68.918899731186,
         "FR"
        ],
        [
         275,
         14,
         "FR-R72R-48",
         "ML Road Frame - Red, 48",
         "ML Road Frame",
         "Made from the same aluminum alloy as our top-of-the line HL frame, the ML features a lightweight down-tube milled to the perfect diameter for optimal strength. Men's version.",
         "Red",
         "48",
         "U",
         352.1394,
         594.83,
         242.69060000000002,
         68.918899731186,
         "FR"
        ],
        [
         276,
         14,
         "FR-R72R-52",
         "ML Road Frame - Red, 52",
         "ML Road Frame",
         "Made from the same aluminum alloy as our top-of-the line HL frame, the ML features a lightweight down-tube milled to the perfect diameter for optimal strength. Men's version.",
         "Red",
         "52",
         "U",
         352.1394,
         594.83,
         242.69060000000002,
         68.918899731186,
         "FR"
        ],
        [
         277,
         14,
         "FR-R72R-58",
         "ML Road Frame - Red, 58",
         "ML Road Frame",
         "Made from the same aluminum alloy as our top-of-the line HL frame, the ML features a lightweight down-tube milled to the perfect diameter for optimal strength. Men's version.",
         "Red",
         "58",
         "U",
         352.1394,
         594.83,
         242.69060000000002,
         68.918899731186,
         "FR"
        ],
        [
         278,
         14,
         "FR-R72R-60",
         "ML Road Frame - Red, 60",
         "ML Road Frame",
         "Made from the same aluminum alloy as our top-of-the line HL frame, the ML features a lightweight down-tube milled to the perfect diameter for optimal strength. Men's version.",
         "Red",
         "60",
         "U",
         352.1394,
         594.83,
         242.69060000000002,
         68.918899731186,
         "FR"
        ],
        [
         279,
         14,
         "FR-R38B-44",
         "LL Road Frame - Black, 44",
         "LL Road Frame",
         "The LL Frame provides a safe comfortable ride, while offering superior bump absorption in a value-priced aluminum frame.",
         "Black",
         "44",
         "U",
         176.1997,
         297.6346,
         121.43489999999997,
         68.91890281311487,
         "FR"
        ],
        [
         282,
         14,
         "FR-R38B-48",
         "LL Road Frame - Black, 48",
         "LL Road Frame",
         "The LL Frame provides a safe comfortable ride, while offering superior bump absorption in a value-priced aluminum frame.",
         "Black",
         "48",
         "U",
         176.1997,
         297.6346,
         121.43489999999997,
         68.91890281311487,
         "FR"
        ],
        [
         285,
         14,
         "FR-R38B-52",
         "LL Road Frame - Black, 52",
         "LL Road Frame",
         "The LL Frame provides a safe comfortable ride, while offering superior bump absorption in a value-priced aluminum frame.",
         "Black",
         "52",
         "U",
         176.1997,
         297.6346,
         121.43489999999997,
         68.91890281311487,
         "FR"
        ],
        [
         288,
         12,
         "FR-M94S-42",
         "HL Mountain Frame - Silver, 42",
         "HL Mountain Frame",
         "Each frame is hand-crafted in our Bothell facility to the optimum diameter and wall-thickness required of a premium mountain frame. The heat-treated welded aluminum frame has a larger diameter tube that absorbs the bumps.",
         "Silver",
         "42",
         "U",
         623.8403,
         1204.3248,
         580.4845000000001,
         93.05017646343146,
         "FR"
        ],
        [
         291,
         12,
         "FR-M94S-44",
         "HL Mountain Frame - Silver, 44",
         "HL Mountain Frame",
         "Each frame is hand-crafted in our Bothell facility to the optimum diameter and wall-thickness required of a premium mountain frame. The heat-treated welded aluminum frame has a larger diameter tube that absorbs the bumps.",
         "Silver",
         "44",
         "U",
         706.811,
         1364.5,
         657.689,
         93.05019305019304,
         "FR"
        ],
        [
         292,
         12,
         "FR-M94S-52",
         "HL Mountain Frame - Silver, 48",
         "HL Mountain Frame",
         "Each frame is hand-crafted in our Bothell facility to the optimum diameter and wall-thickness required of a premium mountain frame. The heat-treated welded aluminum frame has a larger diameter tube that absorbs the bumps.",
         "Silver",
         "48",
         "U",
         706.811,
         1364.5,
         657.689,
         93.05019305019304,
         "FR"
        ],
        [
         293,
         12,
         "FR-M94S-46",
         "HL Mountain Frame - Silver, 46",
         "HL Mountain Frame",
         "Each frame is hand-crafted in our Bothell facility to the optimum diameter and wall-thickness required of a premium mountain frame. The heat-treated welded aluminum frame has a larger diameter tube that absorbs the bumps.",
         "Silver",
         "46",
         "U",
         623.8403,
         1204.3248,
         580.4845000000001,
         93.05017646343146,
         "FR"
        ],
        [
         296,
         12,
         "FR-M94B-42",
         "HL Mountain Frame - Black, 42",
         "HL Mountain Frame",
         "Each frame is hand-crafted in our Bothell facility to the optimum diameter and wall-thickness required of a premium mountain frame. The heat-treated welded aluminum frame has a larger diameter tube that absorbs the bumps.",
         "Black",
         "42",
         "U",
         617.0281,
         1191.1739,
         574.1458,
         93.05018685534743,
         "FR"
        ],
        [
         299,
         12,
         "FR-M94B-44",
         "HL Mountain Frame - Black, 44",
         "HL Mountain Frame",
         "Each frame is hand-crafted in our Bothell facility to the optimum diameter and wall-thickness required of a premium mountain frame. The heat-treated welded aluminum frame has a larger diameter tube that absorbs the bumps.",
         "Black",
         "44",
         "U",
         699.0928,
         1349.6,
         650.5071999999999,
         93.05019305019303,
         "FR"
        ],
        [
         300,
         12,
         "FR-M94B-48",
         "HL Mountain Frame - Black, 48",
         "HL Mountain Frame",
         "Each frame is hand-crafted in our Bothell facility to the optimum diameter and wall-thickness required of a premium mountain frame. The heat-treated welded aluminum frame has a larger diameter tube that absorbs the bumps.",
         "Black",
         "48",
         "U",
         699.0928,
         1349.6,
         650.5071999999999,
         93.05019305019303,
         "FR"
        ],
        [
         301,
         12,
         "FR-M94B-46",
         "HL Mountain Frame - Black, 46",
         "HL Mountain Frame",
         "Each frame is hand-crafted in our Bothell facility to the optimum diameter and wall-thickness required of a premium mountain frame. The heat-treated welded aluminum frame has a larger diameter tube that absorbs the bumps.",
         "Black",
         "46",
         "U",
         617.0281,
         1191.1739,
         574.1458,
         93.05018685534743,
         "FR"
        ],
        [
         304,
         12,
         "FR-M94B-38",
         "HL Mountain Frame - Black, 38",
         "HL Mountain Frame",
         "Each frame is hand-crafted in our Bothell facility to the optimum diameter and wall-thickness required of a premium mountain frame. The heat-treated welded aluminum frame has a larger diameter tube that absorbs the bumps.",
         "Black",
         "38",
         "U",
         617.0281,
         1191.1739,
         574.1458,
         93.05018685534743,
         "FR"
        ],
        [
         307,
         12,
         "FR-M94S-38",
         "HL Mountain Frame - Silver, 38",
         "HL Mountain Frame",
         "Each frame is hand-crafted in our Bothell facility to the optimum diameter and wall-thickness required of a premium mountain frame. The heat-treated welded aluminum frame has a larger diameter tube that absorbs the bumps.",
         "Silver",
         "38",
         "U",
         623.8403,
         1204.3248,
         580.4845000000001,
         93.05017646343146,
         "FR"
        ],
        [
         310,
         2,
         "BK-R93R-62",
         "Road-150 Red, 62",
         "Road-150",
         "This bike is ridden by race winners. Developed with the Adventure Works Cycles professional race team, it has a extremely light heat-treated aluminum frame, and steering that allows precision control.",
         "Red",
         "62",
         "U",
         2171.2942,
         3578.27,
         1406.9758000000002,
         64.7989480191123,
         "BK"
        ],
        [
         311,
         2,
         "BK-R93R-44",
         "Road-150 Red, 44",
         "Road-150",
         "This bike is ridden by race winners. Developed with the Adventure Works Cycles professional race team, it has a extremely light heat-treated aluminum frame, and steering that allows precision control.",
         "Red",
         "44",
         "U",
         2171.2942,
         3578.27,
         1406.9758000000002,
         64.7989480191123,
         "BK"
        ],
        [
         312,
         2,
         "BK-R93R-48",
         "Road-150 Red, 48",
         "Road-150",
         "This bike is ridden by race winners. Developed with the Adventure Works Cycles professional race team, it has a extremely light heat-treated aluminum frame, and steering that allows precision control.",
         "Red",
         "48",
         "U",
         2171.2942,
         3578.27,
         1406.9758000000002,
         64.7989480191123,
         "BK"
        ],
        [
         313,
         2,
         "BK-R93R-52",
         "Road-150 Red, 52",
         "Road-150",
         "This bike is ridden by race winners. Developed with the Adventure Works Cycles professional race team, it has a extremely light heat-treated aluminum frame, and steering that allows precision control.",
         "Red",
         "52",
         "U",
         2171.2942,
         3578.27,
         1406.9758000000002,
         64.7989480191123,
         "BK"
        ],
        [
         314,
         2,
         "BK-R93R-56",
         "Road-150 Red, 56",
         "Road-150",
         "This bike is ridden by race winners. Developed with the Adventure Works Cycles professional race team, it has a extremely light heat-treated aluminum frame, and steering that allows precision control.",
         "Red",
         "56",
         "U",
         2171.2942,
         3578.27,
         1406.9758000000002,
         64.7989480191123,
         "BK"
        ],
        [
         315,
         2,
         "BK-R68R-58",
         "Road-450 Red, 58",
         "Road-450",
         "A true multi-sport bike that offers streamlined riding and a revolutionary design. Aerodynamic design lets you ride with the pros, and the gearing will conquer hilly roads.",
         "Red",
         "58",
         "U",
         884.7083,
         1457.99,
         573.2817,
         64.79895124754678,
         "BK"
        ],
        [
         316,
         2,
         "BK-R68R-60",
         "Road-450 Red, 60",
         "Road-450",
         "A true multi-sport bike that offers streamlined riding and a revolutionary design. Aerodynamic design lets you ride with the pros, and the gearing will conquer hilly roads.",
         "Red",
         "60",
         "U",
         884.7083,
         1457.99,
         573.2817,
         64.79895124754678,
         "BK"
        ],
        [
         317,
         2,
         "BK-R68R-44",
         "Road-450 Red, 44",
         "Road-450",
         "A true multi-sport bike that offers streamlined riding and a revolutionary design. Aerodynamic design lets you ride with the pros, and the gearing will conquer hilly roads.",
         "Red",
         "44",
         "U",
         884.7083,
         1457.99,
         573.2817,
         64.79895124754678,
         "BK"
        ],
        [
         318,
         2,
         "BK-R68R-48",
         "Road-450 Red, 48",
         "Road-450",
         "A true multi-sport bike that offers streamlined riding and a revolutionary design. Aerodynamic design lets you ride with the pros, and the gearing will conquer hilly roads.",
         "Red",
         "48",
         "U",
         884.7083,
         1457.99,
         573.2817,
         64.79895124754678,
         "BK"
        ],
        [
         319,
         2,
         "BK-R68R-52",
         "Road-450 Red, 52",
         "Road-450",
         "A true multi-sport bike that offers streamlined riding and a revolutionary design. Aerodynamic design lets you ride with the pros, and the gearing will conquer hilly roads.",
         "Red",
         "52",
         "U",
         884.7083,
         1457.99,
         573.2817,
         64.79895124754678,
         "BK"
        ],
        [
         320,
         2,
         "BK-R50R-58",
         "Road-650 Red, 58",
         "Road-650",
         "Value-priced bike with many features of our top-of-the-line models. Has the same light, stiff frame, and the quick acceleration we're famous for.",
         "Red",
         "58",
         "U",
         413.1463,
         699.0982,
         285.9519,
         69.21323027702294,
         "BK"
        ],
        [
         322,
         2,
         "BK-R50R-60",
         "Road-650 Red, 60",
         "Road-650",
         "Value-priced bike with many features of our top-of-the-line models. Has the same light, stiff frame, and the quick acceleration we're famous for.",
         "Red",
         "60",
         "U",
         413.1463,
         699.0982,
         285.9519,
         69.21323027702294,
         "BK"
        ],
        [
         324,
         2,
         "BK-R50R-62",
         "Road-650 Red, 62",
         "Road-650",
         "Value-priced bike with many features of our top-of-the-line models. Has the same light, stiff frame, and the quick acceleration we're famous for.",
         "Red",
         "62",
         "U",
         413.1463,
         699.0982,
         285.9519,
         69.21323027702294,
         "BK"
        ],
        [
         326,
         2,
         "BK-R50R-44",
         "Road-650 Red, 44",
         "Road-650",
         "Value-priced bike with many features of our top-of-the-line models. Has the same light, stiff frame, and the quick acceleration we're famous for.",
         "Red",
         "44",
         "U",
         413.1463,
         699.0982,
         285.9519,
         69.21323027702294,
         "BK"
        ],
        [
         328,
         2,
         "BK-R50R-48",
         "Road-650 Red, 48",
         "Road-650",
         "Value-priced bike with many features of our top-of-the-line models. Has the same light, stiff frame, and the quick acceleration we're famous for.",
         "Red",
         "48",
         "U",
         413.1463,
         699.0982,
         285.9519,
         69.21323027702294,
         "BK"
        ],
        [
         330,
         2,
         "BK-R50R-52",
         "Road-650 Red, 52",
         "Road-650",
         "Value-priced bike with many features of our top-of-the-line models. Has the same light, stiff frame, and the quick acceleration we're famous for.",
         "Red",
         "52",
         "U",
         413.1463,
         699.0982,
         285.9519,
         69.21323027702294,
         "BK"
        ],
        [
         332,
         2,
         "BK-R50B-58",
         "Road-650 Black, 58",
         "Road-650",
         "Value-priced bike with many features of our top-of-the-line models. Has the same light, stiff frame, and the quick acceleration we're famous for.",
         "Black",
         "58",
         "U",
         413.1463,
         699.0982,
         285.9519,
         69.21323027702294,
         "BK"
        ],
        [
         334,
         2,
         "BK-R50B-60",
         "Road-650 Black, 60",
         "Road-650",
         "Value-priced bike with many features of our top-of-the-line models. Has the same light, stiff frame, and the quick acceleration we're famous for.",
         "Black",
         "60",
         "U",
         413.1463,
         699.0982,
         285.9519,
         69.21323027702294,
         "BK"
        ],
        [
         336,
         2,
         "BK-R50B-62",
         "Road-650 Black, 62",
         "Road-650",
         "Value-priced bike with many features of our top-of-the-line models. Has the same light, stiff frame, and the quick acceleration we're famous for.",
         "Black",
         "62",
         "U",
         413.1463,
         699.0982,
         285.9519,
         69.21323027702294,
         "BK"
        ],
        [
         338,
         2,
         "BK-R50B-44",
         "Road-650 Black, 44",
         "Road-650",
         "Value-priced bike with many features of our top-of-the-line models. Has the same light, stiff frame, and the quick acceleration we're famous for.",
         "Black",
         "44",
         "U",
         413.1463,
         699.0982,
         285.9519,
         69.21323027702294,
         "BK"
        ],
        [
         340,
         2,
         "BK-R50B-48",
         "Road-650 Black, 48",
         "Road-650",
         "Value-priced bike with many features of our top-of-the-line models. Has the same light, stiff frame, and the quick acceleration we're famous for.",
         "Black",
         "48",
         "U",
         413.1463,
         699.0982,
         285.9519,
         69.21323027702294,
         "BK"
        ],
        [
         342,
         2,
         "BK-R50B-52",
         "Road-650 Black, 52",
         "Road-650",
         "Value-priced bike with many features of our top-of-the-line models. Has the same light, stiff frame, and the quick acceleration we're famous for.",
         "Black",
         "52",
         "U",
         413.1463,
         699.0982,
         285.9519,
         69.21323027702294,
         "BK"
        ],
        [
         344,
         1,
         "BK-M82S-38",
         "Mountain-100 Silver, 38",
         "Mountain-100",
         "Top-of-the-line competition mountain bike. Performance-enhancing options include the innovative HL Frame, super-smooth front suspension, and traction for all terrain.",
         "Silver",
         "38",
         "U",
         1912.1544,
         3399.99,
         1487.8355999999999,
         77.80938610396734,
         "BK"
        ],
        [
         345,
         1,
         "BK-M82S-42",
         "Mountain-100 Silver, 42",
         "Mountain-100",
         "Top-of-the-line competition mountain bike. Performance-enhancing options include the innovative HL Frame, super-smooth front suspension, and traction for all terrain.",
         "Silver",
         "42",
         "U",
         1912.1544,
         3399.99,
         1487.8355999999999,
         77.80938610396734,
         "BK"
        ],
        [
         346,
         1,
         "BK-M82S-44",
         "Mountain-100 Silver, 44",
         "Mountain-100",
         "Top-of-the-line competition mountain bike. Performance-enhancing options include the innovative HL Frame, super-smooth front suspension, and traction for all terrain.",
         "Silver",
         "44",
         "U",
         1912.1544,
         3399.99,
         1487.8355999999999,
         77.80938610396734,
         "BK"
        ],
        [
         347,
         1,
         "BK-M82S-48",
         "Mountain-100 Silver, 48",
         "Mountain-100",
         "Top-of-the-line competition mountain bike. Performance-enhancing options include the innovative HL Frame, super-smooth front suspension, and traction for all terrain.",
         "Silver",
         "48",
         "U",
         1912.1544,
         3399.99,
         1487.8355999999999,
         77.80938610396734,
         "BK"
        ],
        [
         348,
         1,
         "BK-M82B-38",
         "Mountain-100 Black, 38",
         "Mountain-100",
         "Top-of-the-line competition mountain bike. Performance-enhancing options include the innovative HL Frame, super-smooth front suspension, and traction for all terrain.",
         "Black",
         "38",
         "U",
         1898.0944,
         3374.99,
         1476.8955999999998,
         77.8093860874359,
         "BK"
        ],
        [
         349,
         1,
         "BK-M82B-42",
         "Mountain-100 Black, 42",
         "Mountain-100",
         "Top-of-the-line competition mountain bike. Performance-enhancing options include the innovative HL Frame, super-smooth front suspension, and traction for all terrain.",
         "Black",
         "42",
         "U",
         1898.0944,
         3374.99,
         1476.8955999999998,
         77.8093860874359,
         "BK"
        ],
        [
         350,
         1,
         "BK-M82B-44",
         "Mountain-100 Black, 44",
         "Mountain-100",
         "Top-of-the-line competition mountain bike. Performance-enhancing options include the innovative HL Frame, super-smooth front suspension, and traction for all terrain.",
         "Black",
         "44",
         "U",
         1898.0944,
         3374.99,
         1476.8955999999998,
         77.8093860874359,
         "BK"
        ],
        [
         351,
         1,
         "BK-M82B-48",
         "Mountain-100 Black, 48",
         "Mountain-100",
         "Top-of-the-line competition mountain bike. Performance-enhancing options include the innovative HL Frame, super-smooth front suspension, and traction for all terrain.",
         "Black",
         "48",
         "U",
         1898.0944,
         3374.99,
         1476.8955999999998,
         77.8093860874359,
         "BK"
        ],
        [
         352,
         1,
         "BK-M68S-38",
         "Mountain-200 Silver, 38",
         "Mountain-200",
         "Serious back-country riding. Perfect for all levels of competition. Uses the same HL Frame as the Mountain-100.",
         "Silver",
         "38",
         "U",
         1117.8559,
         2071.4196,
         953.5637000000002,
         85.30291784477768,
         "BK"
        ],
        [
         354,
         1,
         "BK-M68S-42",
         "Mountain-200 Silver, 42",
         "Mountain-200",
         "Serious back-country riding. Perfect for all levels of competition. Uses the same HL Frame as the Mountain-100.",
         "Silver",
         "42",
         "U",
         1117.8559,
         2071.4196,
         953.5637000000002,
         85.30291784477768,
         "BK"
        ],
        [
         356,
         1,
         "BK-M68S-46",
         "Mountain-200 Silver, 46",
         "Mountain-200",
         "Serious back-country riding. Perfect for all levels of competition. Uses the same HL Frame as the Mountain-100.",
         "Silver",
         "46",
         "U",
         1117.8559,
         2071.4196,
         953.5637000000002,
         85.30291784477768,
         "BK"
        ],
        [
         358,
         1,
         "BK-M68B-38",
         "Mountain-200 Black, 38",
         "Mountain-200",
         "Serious back-country riding. Perfect for all levels of competition. Uses the same HL Frame as the Mountain-100.",
         "Black",
         "38",
         "U",
         1105.81,
         2049.0982,
         943.2882,
         85.30291822284117,
         "BK"
        ],
        [
         360,
         1,
         "BK-M68B-42",
         "Mountain-200 Black, 42",
         "Mountain-200",
         "Serious back-country riding. Perfect for all levels of competition. Uses the same HL Frame as the Mountain-100.",
         "Black",
         "42",
         "U",
         1105.81,
         2049.0982,
         943.2882,
         85.30291822284117,
         "BK"
        ],
        [
         362,
         1,
         "BK-M68B-46",
         "Mountain-200 Black, 46",
         "Mountain-200",
         "Serious back-country riding. Perfect for all levels of competition. Uses the same HL Frame as the Mountain-100.",
         "Black",
         "46",
         "U",
         1105.81,
         2049.0982,
         943.2882,
         85.30291822284117,
         "BK"
        ],
        [
         364,
         1,
         "BK-M47B-38",
         "Mountain-300 Black, 38",
         "Mountain-300",
         "For true trail addicts.  An extremely durable bike that will go anywhere and keep you in control on challenging terrain - without breaking your budget.",
         "Black",
         "38",
         "U",
         598.4354,
         1079.99,
         481.55460000000005,
         80.46893616253318,
         "BK"
        ],
        [
         365,
         1,
         "BK-M47B-40",
         "Mountain-300 Black, 40",
         "Mountain-300",
         "For true trail addicts.  An extremely durable bike that will go anywhere and keep you in control on challenging terrain - without breaking your budget.",
         "Black",
         "40",
         "U",
         598.4354,
         1079.99,
         481.55460000000005,
         80.46893616253318,
         "BK"
        ],
        [
         366,
         1,
         "BK-M47B-44",
         "Mountain-300 Black, 44",
         "Mountain-300",
         "For true trail addicts.  An extremely durable bike that will go anywhere and keep you in control on challenging terrain - without breaking your budget.",
         "Black",
         "44",
         "U",
         598.4354,
         1079.99,
         481.55460000000005,
         80.46893616253318,
         "BK"
        ],
        [
         367,
         1,
         "BK-M47B-48",
         "Mountain-300 Black, 48",
         "Mountain-300",
         "For true trail addicts.  An extremely durable bike that will go anywhere and keep you in control on challenging terrain - without breaking your budget.",
         "Black",
         "48",
         "U",
         598.4354,
         1079.99,
         481.55460000000005,
         80.46893616253318,
         "BK"
        ],
        [
         368,
         2,
         "BK-R89R-44",
         "Road-250 Red, 44",
         "Road-250",
         "Alluminum-alloy frame provides a light, stiff ride, whether you are racing in the velodrome or on a demanding club ride on country roads.",
         "Red",
         "44",
         "U",
         1518.7864,
         2443.35,
         924.5636,
         60.87515663822115,
         "BK"
        ],
        [
         369,
         2,
         "BK-R89R-48",
         "Road-250 Red, 48",
         "Road-250",
         "Alluminum-alloy frame provides a light, stiff ride, whether you are racing in the velodrome or on a demanding club ride on country roads.",
         "Red",
         "48",
         "U",
         1518.7864,
         2443.35,
         924.5636,
         60.87515663822115,
         "BK"
        ],
        [
         370,
         2,
         "BK-R89R-52",
         "Road-250 Red, 52",
         "Road-250",
         "Alluminum-alloy frame provides a light, stiff ride, whether you are racing in the velodrome or on a demanding club ride on country roads.",
         "Red",
         "52",
         "U",
         1518.7864,
         2443.35,
         924.5636,
         60.87515663822115,
         "BK"
        ],
        [
         371,
         2,
         "BK-R89R-58",
         "Road-250 Red, 58",
         "Road-250",
         "Alluminum-alloy frame provides a light, stiff ride, whether you are racing in the velodrome or on a demanding club ride on country roads.",
         "Red",
         "58",
         "U",
         1320.6838,
         2181.5625,
         860.8787,
         65.18431588242393,
         "BK"
        ],
        [
         373,
         2,
         "BK-R89B-44",
         "Road-250 Black, 44",
         "Road-250",
         "Alluminum-alloy frame provides a light, stiff ride, whether you are racing in the velodrome or on a demanding club ride on country roads.",
         "Black",
         "44",
         "U",
         1320.6838,
         2181.5625,
         860.8787,
         65.18431588242393,
         "BK"
        ],
        [
         375,
         2,
         "BK-R89B-48",
         "Road-250 Black, 48",
         "Road-250",
         "Alluminum-alloy frame provides a light, stiff ride, whether you are racing in the velodrome or on a demanding club ride on country roads.",
         "Black",
         "48",
         "U",
         1320.6838,
         2181.5625,
         860.8787,
         65.18431588242393,
         "BK"
        ],
        [
         377,
         2,
         "BK-R89B-52",
         "Road-250 Black, 52",
         "Road-250",
         "Alluminum-alloy frame provides a light, stiff ride, whether you are racing in the velodrome or on a demanding club ride on country roads.",
         "Black",
         "52",
         "U",
         1320.6838,
         2181.5625,
         860.8787,
         65.18431588242393,
         "BK"
        ],
        [
         379,
         2,
         "BK-R89B-58",
         "Road-250 Black, 58",
         "Road-250",
         "Alluminum-alloy frame provides a light, stiff ride, whether you are racing in the velodrome or on a demanding club ride on country roads.",
         "Black",
         "58",
         "U",
         1320.6838,
         2181.5625,
         860.8787,
         65.18431588242393,
         "BK"
        ],
        [
         381,
         2,
         "BK-R64Y-38",
         "Road-550-W Yellow, 38",
         "Road-550-W",
         "Same technology as all of our Road series bikes, but the frame is sized for a woman.  Perfect all-around bike for road or racing.",
         "Yellow",
         "38",
         "W",
         605.6492,
         1000.4375,
         394.78830000000005,
         65.18431791868959,
         "BK"
        ],
        [
         383,
         2,
         "BK-R64Y-40",
         "Road-550-W Yellow, 40",
         "Road-550-W",
         "Same technology as all of our Road series bikes, but the frame is sized for a woman.  Perfect all-around bike for road or racing.",
         "Yellow",
         "40",
         "W",
         605.6492,
         1000.4375,
         394.78830000000005,
         65.18431791868959,
         "BK"
        ],
        [
         385,
         2,
         "BK-R64Y-42",
         "Road-550-W Yellow, 42",
         "Road-550-W",
         "Same technology as all of our Road series bikes, but the frame is sized for a woman.  Perfect all-around bike for road or racing.",
         "Yellow",
         "42",
         "W",
         605.6492,
         1000.4375,
         394.78830000000005,
         65.18431791868959,
         "BK"
        ],
        [
         387,
         2,
         "BK-R64Y-44",
         "Road-550-W Yellow, 44",
         "Road-550-W",
         "Same technology as all of our Road series bikes, but the frame is sized for a woman.  Perfect all-around bike for road or racing.",
         "Yellow",
         "44",
         "W",
         605.6492,
         1000.4375,
         394.78830000000005,
         65.18431791868959,
         "BK"
        ],
        [
         389,
         2,
         "BK-R64Y-48",
         "Road-550-W Yellow, 48",
         "Road-550-W",
         "Same technology as all of our Road series bikes, but the frame is sized for a woman.  Perfect all-around bike for road or racing.",
         "Yellow",
         "48",
         "W",
         605.6492,
         1000.4375,
         394.78830000000005,
         65.18431791868959,
         "BK"
        ],
        [
         391,
         10,
         "FK-1639",
         "LL Fork",
         "LL Fork",
         "Stout design absorbs shock and offers more precise steering.",
         "NA",
         "0",
         "0",
         65.8097,
         148.22,
         82.41029999999999,
         125.22515677780022,
         "FK"
        ],
        [
         392,
         10,
         "FK-5136",
         "ML Fork",
         "ML Fork",
         "Composite road fork with an aluminum steerer tube.",
         "NA",
         "0",
         "0",
         77.9176,
         175.49,
         97.57240000000002,
         125.22510960296522,
         "FK"
        ],
        [
         393,
         10,
         "FK-9939",
         "HL Fork",
         "HL Fork",
         "High-performance carbon road fork with curved legs.",
         "NA",
         "0",
         "0",
         101.8936,
         229.49,
         127.5964,
         125.22513680937762,
         "FK"
        ],
        [
         394,
         11,
         "HS-0296",
         "LL Headset",
         "LL Headset",
         "Threadless headset provides quality at an economical price.",
         "NA",
         "0",
         "0",
         15.1848,
         34.2,
         19.015200000000004,
         125.22522522522526,
         "HS"
        ],
        [
         395,
         11,
         "HS-2451",
         "ML Headset",
         "ML Headset",
         "Sealed cartridge keeps dirt out.",
         "NA",
         "0",
         "0",
         45.4168,
         102.29,
         56.873200000000004,
         125.22502686230645,
         "HS"
        ],
        [
         396,
         11,
         "HS-3479",
         "HL Headset",
         "HL Headset",
         "\"High-quality 1\"\" threadless headset with a grease port for quick lubrication.\"",
         "NA",
         "0",
         "0",
         55.3801,
         124.73,
         69.3499,
         125.22530656318787,
         "HS"
        ],
        [
         397,
         4,
         "HB-M243",
         "LL Mountain Handlebars",
         "LL Mountain Handlebars",
         "All-purpose bar for on or off-road.",
         "NA",
         "0",
         "0",
         17.978,
         40.4909,
         22.512900000000002,
         125.22471910112361,
         "HB"
        ],
        [
         399,
         4,
         "HB-M763",
         "ML Mountain Handlebars",
         "ML Mountain Handlebars",
         "Tough aluminum alloy bars for downhill.",
         "NA",
         "0",
         "0",
         24.9932,
         56.2909,
         31.2977,
         125.22486116223612,
         "HB"
        ],
        [
         401,
         4,
         "HB-M918",
         "HL Mountain Handlebars",
         "HL Mountain Handlebars",
         "Flat bar strong enough for the pro circuit.",
         "NA",
         "0",
         "0",
         48.5453,
         109.3364,
         60.7911,
         125.22551101754445,
         "HB"
        ],
        [
         403,
         4,
         "HB-R504",
         "LL Road Handlebars",
         "LL Road Handlebars",
         "Unique shape provides easier reach to the levers.",
         "NA",
         "0",
         "0",
         17.978,
         40.4909,
         22.512900000000002,
         125.22471910112361,
         "HB"
        ],
        [
         405,
         4,
         "HB-R720",
         "ML Road Handlebars",
         "ML Road Handlebars",
         "Anatomically shaped aluminum tube bar will suit all riders.",
         "NA",
         "0",
         "0",
         24.9932,
         56.2909,
         31.2977,
         125.22486116223612,
         "HB"
        ],
        [
         407,
         4,
         "HB-R956",
         "HL Road Handlebars",
         "HL Road Handlebars",
         "Designed for racers; high-end anatomically shaped bar from aluminum alloy.",
         "NA",
         "0",
         "0",
         48.5453,
         109.3364,
         60.7911,
         125.22551101754445,
         "HB"
        ],
        [
         409,
         12,
         "FR-M63B-38",
         "ML Mountain Frame - Black, 38",
         "ML Mountain Frame-W",
         "The ML frame is a heat-treated aluminum frame made with the same detail and quality as our HL frame. It offers superior performance. Men's version.",
         "Black",
         "38",
         "U",
         185.8193,
         348.76,
         162.9407,
         87.68771596922386,
         "FR"
        ],
        [
         410,
         17,
         "FW-M423",
         "LL Mountain Front Wheel",
         "LL Mountain Front Wheel",
         "Replacement mountain wheel for entry-level rider.",
         "Black",
         "0",
         "0",
         26.9708,
         60.745,
         33.77419999999999,
         125.22505821110235,
         "FW"
        ],
        [
         411,
         17,
         "FW-M762",
         "ML Mountain Front Wheel",
         "ML Mountain Front Wheel",
         "Replacement mountain wheel for the casual to serious rider.",
         "Black",
         "0",
         "0",
         92.8071,
         209.025,
         116.2179,
         125.22522522522522,
         "FW"
        ],
        [
         412,
         17,
         "FW-M928",
         "HL Mountain Front Wheel",
         "HL Mountain Front Wheel",
         "High-performance mountain replacement wheel.",
         "Black",
         "0",
         "0",
         133.2955,
         300.215,
         166.91949999999997,
         125.2251576384799,
         "FW"
        ],
        [
         413,
         17,
         "FW-R623",
         "LL Road Front Wheel",
         "LL Road Front Wheel",
         "Replacement road front wheel for entry-level cyclist.",
         "Black",
         "0",
         "0",
         37.9909,
         85.565,
         47.574099999999994,
         125.22498808925293,
         "FW"
        ],
        [
         414,
         17,
         "FW-R762",
         "ML Road Front Wheel",
         "ML Road Front Wheel",
         "Sturdy alloy features a quick-release hub.",
         "Black",
         "0",
         "0",
         110.2829,
         248.385,
         138.1021,
         125.22530691521534,
         "FW"
        ],
        [
         415,
         17,
         "FW-R820",
         "HL Road Front Wheel",
         "HL Road Front Wheel",
         "Strong wheel with double-walled rim.",
         "Black",
         "0",
         "0",
         146.5466,
         330.06,
         183.5134,
         125.22528670061261,
         "FW"
        ],
        [
         416,
         17,
         "FW-T905",
         "Touring Front Wheel",
         "Touring Front Wheel",
         "Aerodynamic rims for smooth riding.",
         "Black",
         "0",
         "0",
         96.7964,
         218.01,
         121.21359999999999,
         125.22531829696145,
         "FW"
        ],
        [
         417,
         14,
         "FR-R72Y-38",
         "ML Road Frame-W - Yellow, 38",
         "ML Road Frame-W",
         "Made from the same aluminum alloy as our top-of-the line HL frame, the ML features a lightweight down-tube milled to the perfect diameter for optimal strength. Women's version.",
         "Yellow",
         "38",
         "W",
         300.1188,
         540.7545,
         240.63569999999999,
         80.18014866113018,
         "FR"
        ],
        [
         419,
         17,
         "RW-M423",
         "LL Mountain Rear Wheel",
         "LL Mountain Rear Wheel",
         "Replacement mountain wheel for entry-level rider.",
         "Black",
         "0",
         "0",
         38.9588,
         87.745,
         48.78620000000001,
         125.22510960296522,
         "RW"
        ],
        [
         420,
         17,
         "RW-M762",
         "ML Mountain Rear Wheel",
         "ML Mountain Rear Wheel",
         "Replacement mountain wheel for the casual to serious rider.",
         "Black",
         "0",
         "0",
         104.7951,
         236.025,
         131.2299,
         125.22522522522522,
         "RW"
        ],
        [
         421,
         17,
         "RW-M928",
         "HL Mountain Rear Wheel",
         "HL Mountain Rear Wheel",
         "High-performance mountain replacement wheel.",
         "Black",
         "0",
         "0",
         145.2835,
         327.215,
         181.93149999999997,
         125.22516321536854,
         "RW"
        ],
        [
         422,
         17,
         "RW-R623",
         "LL Road Rear Wheel",
         "LL Road Rear Wheel",
         "Replacement road rear wheel for entry-level cyclist.",
         "Black",
         "0",
         "0",
         49.9789,
         112.565,
         62.586099999999995,
         125.22504496897689,
         "RW"
        ],
        [
         423,
         17,
         "RW-R762",
         "ML Road Rear Wheel",
         "ML Road Rear Wheel",
         "Aluminum alloy rim with stainless steel spokes; built for speed.",
         "Black",
         "0",
         "0",
         122.2709,
         275.385,
         153.1141,
         125.22529890595393,
         "RW"
        ],
        [
         424,
         17,
         "RW-R820",
         "HL Road Rear Wheel",
         "HL Road Rear Wheel",
         "Strong rear wheel with double-walled rim.",
         "Black",
         "0",
         "0",
         158.5346,
         357.06,
         198.5254,
         125.22528205199367,
         "RW"
        ],
        [
         425,
         17,
         "RW-T905",
         "Touring Rear Wheel",
         "Touring Rear Wheel",
         "Excellent aerodynamic rims guarantee a smooth ride.",
         "Black",
         "0",
         "0",
         108.7844,
         245.01,
         136.2256,
         125.22530804049109,
         "RW"
        ],
        [
         426,
         12,
         "FR-M63B-40",
         "ML Mountain Frame - Black, 40",
         "ML Mountain Frame",
         "The ML frame is a heat-treated aluminum frame made with the same detail and quality as our HL frame. It offers superior performance. Women's version.",
         "Black",
         "40",
         "U",
         185.8193,
         348.76,
         162.9407,
         87.68771596922386,
         "FR"
        ],
        [
         427,
         12,
         "FR-M63B-44",
         "ML Mountain Frame - Black, 44",
         "ML Mountain Frame",
         "The ML frame is a heat-treated aluminum frame made with the same detail and quality as our HL frame. It offers superior performance. Women's version.",
         "Black",
         "44",
         "U",
         185.8193,
         348.76,
         162.9407,
         87.68771596922386,
         "FR"
        ],
        [
         428,
         12,
         "FR-M63B-48",
         "ML Mountain Frame - Black, 48",
         "ML Mountain Frame",
         "The ML frame is a heat-treated aluminum frame made with the same detail and quality as our HL frame. It offers superior performance. Women's version.",
         "Black",
         "48",
         "U",
         185.8193,
         348.76,
         162.9407,
         87.68771596922386,
         "FR"
        ],
        [
         429,
         14,
         "FR-R72Y-40",
         "ML Road Frame-W - Yellow, 40",
         "ML Road Frame-W",
         "Made from the same aluminum alloy as our top-of-the line HL frame, the ML features a lightweight down-tube milled to the perfect diameter for optimal strength. Women's version.",
         "Yellow",
         "40",
         "W",
         300.1188,
         540.7545,
         240.63569999999999,
         80.18014866113018,
         "FR"
        ],
        [
         431,
         14,
         "FR-R72Y-42",
         "ML Road Frame-W - Yellow, 42",
         "ML Road Frame-W",
         "Made from the same aluminum alloy as our top-of-the line HL frame, the ML features a lightweight down-tube milled to the perfect diameter for optimal strength. Women's version.",
         "Yellow",
         "42",
         "W",
         300.1188,
         540.7545,
         240.63569999999999,
         80.18014866113018,
         "FR"
        ],
        [
         433,
         14,
         "FR-R72Y-44",
         "ML Road Frame-W - Yellow, 44",
         "ML Road Frame-W",
         "Made from the same aluminum alloy as our top-of-the line HL frame, the ML features a lightweight down-tube milled to the perfect diameter for optimal strength. Women's version.",
         "Yellow",
         "44",
         "W",
         300.1188,
         540.7545,
         240.63569999999999,
         80.18014866113018,
         "FR"
        ],
        [
         435,
         14,
         "FR-R72Y-48",
         "ML Road Frame-W - Yellow, 48",
         "ML Road Frame-W",
         "Made from the same aluminum alloy as our top-of-the line HL frame, the ML features a lightweight down-tube milled to the perfect diameter for optimal strength. Women's version.",
         "Yellow",
         "48",
         "W",
         300.1188,
         540.7545,
         240.63569999999999,
         80.18014866113018,
         "FR"
        ],
        [
         437,
         14,
         "FR-R92B-62",
         "HL Road Frame - Black, 62",
         "HL Road Frame",
         "Our lightest and best quality aluminum frame made from the newest alloy; it is welded and heat-treated for strength. Our innovative design results in maximum comfort and performance.",
         "Black",
         "62",
         "U",
         722.2568,
         1301.3636,
         579.1067999999999,
         80.18017968124356,
         "FR"
        ],
        [
         439,
         14,
         "FR-R92B-44",
         "HL Road Frame - Black, 44",
         "HL Road Frame",
         "Our lightest and best quality aluminum frame made from the newest alloy; it is welded and heat-treated for strength. Our innovative design results in maximum comfort and performance.",
         "Black",
         "44",
         "U",
         722.2568,
         1301.3636,
         579.1067999999999,
         80.18017968124356,
         "FR"
        ],
        [
         441,
         14,
         "FR-R92B-48",
         "HL Road Frame - Black, 48",
         "HL Road Frame",
         "Our lightest and best quality aluminum frame made from the newest alloy; it is welded and heat-treated for strength. Our innovative design results in maximum comfort and performance.",
         "Black",
         "48",
         "U",
         722.2568,
         1301.3636,
         579.1067999999999,
         80.18017968124356,
         "FR"
        ],
        [
         443,
         14,
         "FR-R92B-52",
         "HL Road Frame - Black, 52",
         "HL Road Frame",
         "Our lightest and best quality aluminum frame made from the newest alloy; it is welded and heat-treated for strength. Our innovative design results in maximum comfort and performance.",
         "Black",
         "52",
         "U",
         722.2568,
         1301.3636,
         579.1067999999999,
         80.18017968124356,
         "FR"
        ],
        [
         445,
         22,
         "SH-M897-S",
         "Men's Sports Shorts, S",
         "Men's Sports Shorts",
         "Men's 8-panel racing shorts - lycra with an elastic waistband and leg grippers.",
         "Black",
         "S",
         "M",
         24.7459,
         59.99,
         35.2441,
         142.42399751069877,
         "SH"
        ],
        [
         446,
         35,
         "PA-T100",
         "Touring-Panniers, Large",
         "Touring-Panniers",
         "Durable, water-proof nylon construction with easy access. Large enough for weekend trips.",
         "Grey",
         "0",
         "0",
         51.5625,
         125,
         73.4375,
         142.42424242424244,
         "PA"
        ],
        [
         447,
         34,
         "LO-C100",
         "Cable Lock",
         "Cable Lock",
         "Wraps to fit front and rear tires, carrier and 2 keys included.",
         "NA",
         "0",
         "0",
         10.3125,
         25,
         14.6875,
         142.42424242424244,
         "LO"
        ],
        [
         448,
         36,
         "PU-0452",
         "Minipump",
         "Minipump",
         "Designed for convenience. Fits in your pocket. Aluminum barrel. 160psi rated.",
         "NA",
         "0",
         "0",
         8.2459,
         19.99,
         11.744099999999998,
         142.4235074400611,
         "PU"
        ],
        [
         449,
         36,
         "PU-M044",
         "Mountain Pump",
         "Mountain Pump",
         "Simple and light-weight. Emergency patches stored in handle.",
         "NA",
         "0",
         "0",
         10.3084,
         24.99,
         14.681599999999998,
         142.423654495363,
         "PU"
        ],
        [
         450,
         33,
         "LT-T990",
         "Taillights - Battery-Powered",
         "Taillight",
         "Affordable light for safe night riding - uses 3 AAA batteries",
         "NA",
         "0",
         "0",
         5.7709,
         13.99,
         8.219100000000001,
         142.42319222305017,
         "LT"
        ],
        [
         451,
         33,
         "LT-H902",
         "Headlights - Dual-Beam",
         "Headlights - Dual-Beam",
         "Rechargeable dual-beam headlight.",
         "NA",
         "0",
         "0",
         14.4334,
         34.99,
         20.556600000000003,
         142.42382252275974,
         "LT"
        ],
        [
         452,
         33,
         "LT-H903",
         "Headlights - Weatherproof",
         "Headlights - Weatherproof",
         "Rugged weatherproof headlight.",
         "NA",
         "0",
         "0",
         18.5584,
         44.99,
         26.431600000000003,
         142.42391585481508,
         "LT"
        ],
        [
         453,
         22,
         "SH-M897-M",
         "Men's Sports Shorts, M",
         "Men's Sports Shorts",
         "Men's 8-panel racing shorts - lycra with an elastic waistband and leg grippers.",
         "Black",
         "M",
         "M",
         24.7459,
         59.99,
         35.2441,
         142.42399751069877,
         "SH"
        ],
        [
         454,
         22,
         "SH-M897-L",
         "Men's Sports Shorts, L",
         "Men's Sports Shorts",
         "Men's 8-panel racing shorts - lycra with an elastic waistband and leg grippers.",
         "Black",
         "L",
         "M",
         24.7459,
         59.99,
         35.2441,
         142.42399751069877,
         "SH"
        ],
        [
         455,
         22,
         "SH-M897-X",
         "Men's Sports Shorts, XL",
         "Men's Sports Shorts",
         "Men's 8-panel racing shorts - lycra with an elastic waistband and leg grippers.",
         "Black",
         "XL",
         "M",
         24.7459,
         59.99,
         35.2441,
         142.42399751069877,
         "SH"
        ],
        [
         456,
         24,
         "TG-W091-S",
         "Women's Tights, S",
         "Women's Tights",
         "Warm spandex tights for winter riding; seamless chamois construction eliminates pressure points.",
         "Black",
         "S",
         "W",
         30.9334,
         74.99,
         44.056599999999996,
         142.42404649989976,
         "TG"
        ],
        [
         457,
         24,
         "TG-W091-M",
         "Women's Tights, M",
         "Women's Tights",
         "Warm spandex tights for winter riding; seamless chamois construction eliminates pressure points.",
         "Black",
         "M",
         "W",
         30.9334,
         74.99,
         44.056599999999996,
         142.42404649989976,
         "TG"
        ],
        [
         458,
         24,
         "TG-W091-L",
         "Women's Tights, L",
         "Women's Tights",
         "Warm spandex tights for winter riding; seamless chamois construction eliminates pressure points.",
         "Black",
         "L",
         "W",
         30.9334,
         74.99,
         44.056599999999996,
         142.42404649989976,
         "TG"
        ],
        [
         459,
         18,
         "SB-M891-S",
         "Men's Bib-Shorts, S",
         "Men's Bib-Shorts",
         "Designed for the AWC team with stay-put straps, moisture-control, chamois padding, and leg grippers.",
         "Multi",
         "S",
         "M",
         37.1209,
         89.99,
         52.869099999999996,
         142.4240791575635,
         "SB"
        ],
        [
         460,
         18,
         "SB-M891-M",
         "Men's Bib-Shorts, M",
         "Men's Bib-Shorts",
         "Designed for the AWC team with stay-put straps, moisture-control, chamois padding, and leg grippers.",
         "Multi",
         "M",
         "M",
         37.1209,
         89.99,
         52.869099999999996,
         142.4240791575635,
         "SB"
        ],
        [
         461,
         18,
         "SB-M891-L",
         "Men's Bib-Shorts, L",
         "Men's Bib-Shorts",
         "Designed for the AWC team with stay-put straps, moisture-control, chamois padding, and leg grippers.",
         "Multi",
         "L",
         "M",
         37.1209,
         89.99,
         52.869099999999996,
         142.4240791575635,
         "SB"
        ],
        [
         462,
         20,
         "GL-H102-S",
         "Half-Finger Gloves, S",
         "Half-Finger Gloves",
         "Full padding, improved finger flex, durable palm, adjustable closure.",
         "Black",
         "S",
         "U",
         9.7136,
         23.5481,
         13.834500000000002,
         142.4240240487564,
         "GL"
        ],
        [
         464,
         20,
         "GL-H102-M",
         "Half-Finger Gloves, M",
         "Half-Finger Gloves",
         "Full padding, improved finger flex, durable palm, adjustable closure.",
         "Black",
         "M",
         "U",
         9.7136,
         23.5481,
         13.834500000000002,
         142.4240240487564,
         "GL"
        ],
        [
         466,
         20,
         "GL-H102-L",
         "Half-Finger Gloves, L",
         "Half-Finger Gloves",
         "Full padding, improved finger flex, durable palm, adjustable closure.",
         "Black",
         "L",
         "U",
         9.7136,
         23.5481,
         13.834500000000002,
         142.4240240487564,
         "GL"
        ],
        [
         468,
         20,
         "GL-F110-S",
         "Full-Finger Gloves, S",
         "Full-Finger Gloves",
         "Synthetic palm, flexible knuckles, breathable mesh upper. Worn by the AWC team riders.",
         "Black",
         "S",
         "U",
         15.6709,
         37.99,
         22.319100000000002,
         142.4238556815499,
         "GL"
        ],
        [
         469,
         20,
         "GL-F110-M",
         "Full-Finger Gloves, M",
         "Full-Finger Gloves",
         "Synthetic palm, flexible knuckles, breathable mesh upper. Worn by the AWC team riders.",
         "Black",
         "M",
         "U",
         15.6709,
         37.99,
         22.319100000000002,
         142.4238556815499,
         "GL"
        ],
        [
         470,
         20,
         "GL-F110-L",
         "Full-Finger Gloves, L",
         "Full-Finger Gloves",
         "Synthetic palm, flexible knuckles, breathable mesh upper. Worn by the AWC team riders.",
         "Black",
         "L",
         "U",
         15.6709,
         37.99,
         22.319100000000002,
         142.4238556815499,
         "GL"
        ],
        [
         471,
         25,
         "VE-C304-S",
         "Classic Vest, S",
         "Classic Vest",
         "Light-weight, wind-resistant, packs to fit into a pocket.",
         "Blue",
         "S",
         "U",
         23.749,
         63.5,
         39.751000000000005,
         167.37967914438505,
         "VE"
        ],
        [
         472,
         25,
         "VE-C304-M",
         "Classic Vest, M",
         "Classic Vest",
         "Light-weight, wind-resistant, packs to fit into a pocket.",
         "Blue",
         "M",
         "U",
         23.749,
         63.5,
         39.751000000000005,
         167.37967914438505,
         "VE"
        ],
        [
         473,
         25,
         "VE-C304-L",
         "Classic Vest, L",
         "Classic Vest",
         "Light-weight, wind-resistant, packs to fit into a pocket.",
         "Blue",
         "L",
         "U",
         23.749,
         63.5,
         39.751000000000005,
         167.37967914438505,
         "VE"
        ],
        [
         474,
         22,
         "SH-W890-S",
         "Women's Mountain Shorts, S",
         "Women's Mountain Shorts",
         "Heavy duty, abrasion-resistant shorts feature seamless, lycra inner shorts with anti-bacterial chamois for comfort.",
         "Black",
         "S",
         "W",
         26.1763,
         69.99,
         43.8137,
         167.37927056153848,
         "SH"
        ],
        [
         475,
         22,
         "SH-W890-M",
         "Women's Mountain Shorts, M",
         "Women's Mountain Shorts",
         "Heavy duty, abrasion-resistant shorts feature seamless, lycra inner shorts with anti-bacterial chamois for comfort.",
         "Black",
         "M",
         "W",
         26.1763,
         69.99,
         43.8137,
         167.37927056153848,
         "SH"
        ],
        [
         476,
         22,
         "SH-W890-L",
         "Women's Mountain Shorts, L",
         "Women's Mountain Shorts",
         "Heavy duty, abrasion-resistant shorts feature seamless, lycra inner shorts with anti-bacterial chamois for comfort.",
         "Black",
         "L",
         "W",
         26.1763,
         69.99,
         43.8137,
         167.37927056153848,
         "SH"
        ],
        [
         477,
         28,
         "WB-H098",
         "Water Bottle - 30 oz.",
         "Water Bottle",
         "AWC logo water bottle - holds 30 oz; leak-proof.",
         "NA",
         "0",
         "0",
         1.8663,
         4.99,
         3.1237000000000004,
         167.37394845416065,
         "WB"
        ],
        [
         478,
         28,
         "BC-M005",
         "Mountain Bottle Cage",
         "Mountain Bottle Cage",
         "Tough aluminum cage holds bottle securly on tough terrain.",
         "NA",
         "0",
         "0",
         3.7363,
         9.99,
         6.2537,
         167.3768166367797,
         "BC"
        ],
        [
         479,
         28,
         "BC-R205",
         "Road Bottle Cage",
         "Road Bottle Cage",
         "Aluminum cage is lighter than our mountain version; perfect for long distance trips.",
         "NA",
         "0",
         "0",
         3.3623,
         8.99,
         5.627700000000001,
         167.37649823037805,
         "BC"
        ],
        [
         480,
         37,
         "PK-7098",
         "Patch Kit/8 Patches",
         "Patch kit",
         "Includes 8 different size patches, glue and sandpaper.",
         "NA",
         "0",
         "0",
         0.8565,
         2.29,
         1.4335,
         167.3671920607122,
         "PK"
        ],
        [
         481,
         23,
         "SO-R809-M",
         "Racing Socks, M",
         "Racing Socks",
         "Thin, lightweight and durable with cuffs that stay up.",
         "White",
         "M",
         "U",
         3.3623,
         8.99,
         5.627700000000001,
         167.37649823037805,
         "SO"
        ],
        [
         482,
         23,
         "SO-R809-L",
         "Racing Socks, L",
         "Racing Socks",
         "Thin, lightweight and durable with cuffs that stay up.",
         "White",
         "L",
         "U",
         3.3623,
         8.99,
         5.627700000000001,
         167.37649823037805,
         "SO"
        ],
        [
         483,
         26,
         "RA-H123",
         "Hitch Rack - 4-Bike",
         "Hitch Rack - 4-Bike",
         "\"Carries 4 bikes securely; steel construction, fits 2\"\" receiver hitch.\"",
         "NA",
         "0",
         "0",
         44.88,
         120,
         75.12,
         167.37967914438502,
         "RA"
        ],
        [
         484,
         29,
         "CL-9009",
         "Bike Wash - Dissolver",
         "Bike Wash",
         "Washes off the toughest road grime; dissolves grease, environmentally safe. 1-liter bottle.",
         "NA",
         "0",
         "0",
         2.9733,
         7.95,
         4.9767,
         167.37967914438502,
         "CL"
        ],
        [
         485,
         30,
         "FE-6654",
         "Fender Set - Mountain",
         "Fender Set - Mountain",
         "Clip-on fenders fit most mountain bikes.",
         "NA",
         "0",
         "0",
         8.2205,
         21.98,
         13.759500000000001,
         167.38032966364577,
         "FE"
        ],
        [
         486,
         27,
         "ST-1401",
         "All-Purpose Bike Stand",
         "All-Purpose Bike Stand",
         "Perfect all-purpose bike stand for working on your bike at home. Quick-adjusting clamps and steel construction.",
         "NA",
         "0",
         "0",
         59.466,
         159,
         99.53399999999999,
         167.379679144385,
         "ST"
        ],
        [
         487,
         32,
         "HY-1023-70",
         "Hydration Pack - 70 oz.",
         "Hydration Pack",
         "Versatile 70 oz hydration pack offers extra storage, easy-fill access, and a waist belt.",
         "Silver",
         "70",
         "0",
         20.5663,
         54.99,
         34.423700000000004,
         167.37915910980587,
         "HY"
        ],
        [
         488,
         21,
         "SJ-0194-S",
         "Short-Sleeve Classic Jersey, S",
         "Short-Sleeve Classic Jersey",
         "Short sleeve classic breathable jersey with superior moisture control, front zipper, and 3 back pockets.",
         "Yellow",
         "S",
         "U",
         41.5723,
         53.99,
         12.417700000000004,
         29.87012987012988,
         "SJ"
        ],
        [
         489,
         21,
         "SJ-0194-M",
         "Short-Sleeve Classic Jersey, M",
         "Short-Sleeve Classic Jersey",
         "Short sleeve classic breathable jersey with superior moisture control, front zipper, and 3 back pockets.",
         "Yellow",
         "M",
         "U",
         41.5723,
         53.99,
         12.417700000000004,
         29.87012987012988,
         "SJ"
        ],
        [
         490,
         21,
         "SJ-0194-L",
         "Short-Sleeve Classic Jersey, L",
         "Short-Sleeve Classic Jersey",
         "Short sleeve classic breathable jersey with superior moisture control, front zipper, and 3 back pockets.",
         "Yellow",
         "L",
         "U",
         41.5723,
         53.99,
         12.417700000000004,
         29.87012987012988,
         "SJ"
        ],
        [
         491,
         21,
         "SJ-0194-X",
         "Short-Sleeve Classic Jersey, XL",
         "Short-Sleeve Classic Jersey",
         "Short sleeve classic breathable jersey with superior moisture control, front zipper, and 3 back pockets.",
         "Yellow",
         "XL",
         "U",
         41.5723,
         53.99,
         12.417700000000004,
         29.87012987012988,
         "SJ"
        ],
        [
         492,
         16,
         "FR-T98Y-60",
         "HL Touring Frame - Yellow, 60",
         "HL Touring Frame",
         "The HL aluminum frame is custom-shaped for both good looks and strength; it will withstand the most rigorous challenges of daily riding. Men's version.",
         "Yellow",
         "60",
         "U",
         601.7437,
         1003.91,
         402.1663,
         66.83348741332897,
         "FR"
        ],
        [
         493,
         16,
         "FR-T67Y-62",
         "LL Touring Frame - Yellow, 62",
         "LL Touring Frame",
         "Lightweight butted aluminum frame provides a more upright riding position for a trip around town.  Our ground-breaking design provides optimum comfort.",
         "Yellow",
         "62",
         "U",
         199.8519,
         333.42,
         133.56810000000002,
         66.83354023654518,
         "FR"
        ],
        [
         494,
         16,
         "FR-T98Y-46",
         "HL Touring Frame - Yellow, 46",
         "HL Touring Frame",
         "The HL aluminum frame is custom-shaped for both good looks and strength; it will withstand the most rigorous challenges of daily riding. Men's version.",
         "Yellow",
         "46",
         "U",
         601.7437,
         1003.91,
         402.1663,
         66.83348741332897,
         "FR"
        ],
        [
         495,
         16,
         "FR-T98Y-50",
         "HL Touring Frame - Yellow, 50",
         "HL Touring Frame",
         "The HL aluminum frame is custom-shaped for both good looks and strength; it will withstand the most rigorous challenges of daily riding. Men's version.",
         "Yellow",
         "50",
         "U",
         601.7437,
         1003.91,
         402.1663,
         66.83348741332897,
         "FR"
        ],
        [
         496,
         16,
         "FR-T98Y-54",
         "HL Touring Frame - Yellow, 54",
         "HL Touring Frame",
         "The HL aluminum frame is custom-shaped for both good looks and strength; it will withstand the most rigorous challenges of daily riding. Men's version.",
         "Yellow",
         "54",
         "U",
         601.7437,
         1003.91,
         402.1663,
         66.83348741332897,
         "FR"
        ],
        [
         497,
         16,
         "FR-T98U-46",
         "HL Touring Frame - Blue, 46",
         "HL Touring Frame",
         "The HL aluminum frame is custom-shaped for both good looks and strength; it will withstand the most rigorous challenges of daily riding. Men's version.",
         "Blue",
         "46",
         "U",
         601.7437,
         1003.91,
         402.1663,
         66.83348741332897,
         "FR"
        ],
        [
         498,
         16,
         "FR-T98U-50",
         "HL Touring Frame - Blue, 50",
         "HL Touring Frame",
         "The HL aluminum frame is custom-shaped for both good looks and strength; it will withstand the most rigorous challenges of daily riding. Men's version.",
         "Blue",
         "50",
         "U",
         601.7437,
         1003.91,
         402.1663,
         66.83348741332897,
         "FR"
        ],
        [
         499,
         16,
         "FR-T98U-54",
         "HL Touring Frame - Blue, 54",
         "HL Touring Frame",
         "The HL aluminum frame is custom-shaped for both good looks and strength; it will withstand the most rigorous challenges of daily riding. Men's version.",
         "Blue",
         "54",
         "U",
         601.7437,
         1003.91,
         402.1663,
         66.83348741332897,
         "FR"
        ],
        [
         500,
         16,
         "FR-T98U-60",
         "HL Touring Frame - Blue, 60",
         "HL Touring Frame",
         "The HL aluminum frame is custom-shaped for both good looks and strength; it will withstand the most rigorous challenges of daily riding. Men's version.",
         "Blue",
         "60",
         "U",
         601.7437,
         1003.91,
         402.1663,
         66.83348741332897,
         "FR"
        ],
        [
         501,
         9,
         "RD-2308",
         "Rear Derailleur",
         "Rear Derailleur",
         "Wide-link design.",
         "Silver",
         "0",
         "0",
         53.9282,
         121.46,
         67.5318,
         125.2253922808475,
         "RD"
        ],
        [
         502,
         16,
         "FR-T67U-50",
         "LL Touring Frame - Blue, 50",
         "LL Touring Frame",
         "Lightweight butted aluminum frame provides a more upright riding position for a trip around town.  Our ground-breaking design provides optimum comfort.",
         "Blue",
         "50",
         "U",
         199.8519,
         333.42,
         133.56810000000002,
         66.83354023654518,
         "FR"
        ],
        [
         503,
         16,
         "FR-T67U-54",
         "LL Touring Frame - Blue, 54",
         "LL Touring Frame",
         "Lightweight butted aluminum frame provides a more upright riding position for a trip around town.  Our ground-breaking design provides optimum comfort.",
         "Blue",
         "54",
         "U",
         199.8519,
         333.42,
         133.56810000000002,
         66.83354023654518,
         "FR"
        ],
        [
         504,
         16,
         "FR-T67U-58",
         "LL Touring Frame - Blue, 58",
         "LL Touring Frame",
         "Lightweight butted aluminum frame provides a more upright riding position for a trip around town.  Our ground-breaking design provides optimum comfort.",
         "Blue",
         "58",
         "U",
         199.8519,
         333.42,
         133.56810000000002,
         66.83354023654518,
         "FR"
        ],
        [
         505,
         16,
         "FR-T67U-62",
         "LL Touring Frame - Blue, 62",
         "LL Touring Frame",
         "Lightweight butted aluminum frame provides a more upright riding position for a trip around town.  Our ground-breaking design provides optimum comfort.",
         "Blue",
         "62",
         "U",
         199.8519,
         333.42,
         133.56810000000002,
         66.83354023654518,
         "FR"
        ],
        [
         506,
         16,
         "FR-T67Y-44",
         "LL Touring Frame - Yellow, 44",
         "LL Touring Frame",
         "Lightweight butted aluminum frame provides a more upright riding position for a trip around town.  Our ground-breaking design provides optimum comfort.",
         "Yellow",
         "44",
         "U",
         199.8519,
         333.42,
         133.56810000000002,
         66.83354023654518,
         "FR"
        ],
        [
         507,
         16,
         "FR-T67Y-50",
         "LL Touring Frame - Yellow, 50",
         "LL Touring Frame",
         "Lightweight butted aluminum frame provides a more upright riding position for a trip around town.  Our ground-breaking design provides optimum comfort.",
         "Yellow",
         "50",
         "U",
         199.8519,
         333.42,
         133.56810000000002,
         66.83354023654518,
         "FR"
        ],
        [
         508,
         16,
         "FR-T67Y-54",
         "LL Touring Frame - Yellow, 54",
         "LL Touring Frame",
         "Lightweight butted aluminum frame provides a more upright riding position for a trip around town.  Our ground-breaking design provides optimum comfort.",
         "Yellow",
         "54",
         "U",
         199.8519,
         333.42,
         133.56810000000002,
         66.83354023654518,
         "FR"
        ],
        [
         509,
         16,
         "FR-T67Y-58",
         "LL Touring Frame - Yellow, 58",
         "LL Touring Frame",
         "Lightweight butted aluminum frame provides a more upright riding position for a trip around town.  Our ground-breaking design provides optimum comfort.",
         "Yellow",
         "58",
         "U",
         199.8519,
         333.42,
         133.56810000000002,
         66.83354023654518,
         "FR"
        ],
        [
         510,
         16,
         "FR-T67U-44",
         "LL Touring Frame - Blue, 44",
         "LL Touring Frame",
         "Lightweight butted aluminum frame provides a more upright riding position for a trip around town.  Our ground-breaking design provides optimum comfort.",
         "Blue",
         "44",
         "U",
         199.8519,
         333.42,
         133.56810000000002,
         66.83354023654518,
         "FR"
        ],
        [
         511,
         12,
         "FR-M63S-40",
         "ML Mountain Frame-W - Silver, 40",
         "ML Mountain Frame-W",
         "The ML frame is a heat-treated aluminum frame made with the same detail and quality as our HL frame. It offers superior performance. Men's version.",
         "Silver",
         "40",
         "W",
         199.3757,
         364.09,
         164.71429999999998,
         82.61503282496312,
         "FR"
        ],
        [
         512,
         12,
         "FR-M63S-42",
         "ML Mountain Frame-W - Silver, 42",
         "ML Mountain Frame-W",
         "The ML frame is a heat-treated aluminum frame made with the same detail and quality as our HL frame. It offers superior performance. Men's version.",
         "Silver",
         "42",
         "W",
         199.3757,
         364.09,
         164.71429999999998,
         82.61503282496312,
         "FR"
        ],
        [
         513,
         12,
         "FR-M63S-46",
         "ML Mountain Frame-W - Silver, 46",
         "ML Mountain Frame-W",
         "The ML frame is a heat-treated aluminum frame made with the same detail and quality as our HL frame. It offers superior performance. Men's version.",
         "Silver",
         "46",
         "W",
         199.3757,
         364.09,
         164.71429999999998,
         82.61503282496312,
         "FR"
        ],
        [
         514,
         6,
         "RB-9231",
         "Rear Brakes",
         "Rear Brakes",
         "0",
         "Silver",
         "0",
         "0",
         47.286,
         106.5,
         59.214,
         125.22522522522522,
         "RB"
        ],
        [
         515,
         15,
         "SE-M236",
         "LL Mountain Seat/Saddle",
         "LL Mountain Seat/Saddle 2",
         "Synthetic leather. Features gel for increased comfort.",
         "NA",
         "0",
         "0",
         12.0413,
         27.12,
         15.078700000000001,
         125.22485113733568,
         "SE"
        ],
        [
         516,
         15,
         "SE-M798",
         "ML Mountain Seat/Saddle",
         "ML Mountain Seat/Saddle 2",
         "Designed to absorb shock.",
         "NA",
         "0",
         "0",
         17.3782,
         39.14,
         21.7618,
         125.2247068165863,
         "SE"
        ],
        [
         517,
         15,
         "SE-M940",
         "HL Mountain Seat/Saddle",
         "HL Mountain Seat/Saddle 2",
         "Anatomic design for a full-day of riding in comfort. Durable leather.",
         "NA",
         "0",
         "0",
         23.3722,
         52.64,
         29.2678,
         125.22483976690258,
         "SE"
        ],
        [
         518,
         15,
         "SE-R581",
         "LL Road Seat/Saddle",
         "LL Road Seat/Saddle 1",
         "Lightweight foam-padded saddle.",
         "NA",
         "0",
         "0",
         12.0413,
         27.12,
         15.078700000000001,
         125.22485113733568,
         "SE"
        ],
        [
         519,
         15,
         "SE-R908",
         "ML Road Seat/Saddle",
         "ML Road Seat/Saddle 2",
         "Rubber bumpers absorb bumps.",
         "NA",
         "0",
         "0",
         17.3782,
         39.14,
         21.7618,
         125.2247068165863,
         "SE"
        ],
        [
         520,
         15,
         "SE-R995",
         "HL Road Seat/Saddle",
         "HL Road Seat/Saddle 2",
         "Lightweight kevlar racing saddle. Leather.",
         "NA",
         "0",
         "0",
         23.3722,
         52.64,
         29.2678,
         125.22483976690258,
         "SE"
        ],
        [
         521,
         15,
         "SE-T312",
         "LL Touring Seat/Saddle",
         "LL Touring Seat/Saddle",
         "Comfortable, ergonomically shaped gel saddle.",
         "NA",
         "0",
         "0",
         12.0413,
         27.12,
         15.078700000000001,
         125.22485113733568,
         "SE"
        ],
        [
         522,
         15,
         "SE-T762",
         "ML Touring Seat/Saddle",
         "ML Touring Seat/Saddle",
         "New design relieves pressure for long rides.",
         "NA",
         "0",
         "0",
         17.3782,
         39.14,
         21.7618,
         125.2247068165863,
         "SE"
        ],
        [
         523,
         15,
         "SE-T924",
         "HL Touring Seat/Saddle",
         "HL Touring Seat/Saddle",
         "Cut-out shell for a more comfortable ride.",
         "NA",
         "0",
         "0",
         23.3722,
         52.64,
         29.2678,
         125.22483976690258,
         "SE"
        ],
        [
         524,
         12,
         "FR-M21S-42",
         "LL Mountain Frame - Silver, 42",
         "LL Mountain Frame",
         "Our best value utilizing the same, ground-breaking frame technology as the ML aluminum frame.",
         "Silver",
         "42",
         "U",
         144.5938,
         264.05,
         119.45620000000002,
         82.61502222086979,
         "FR"
        ],
        [
         525,
         12,
         "FR-M21S-44",
         "LL Mountain Frame - Silver, 44",
         "LL Mountain Frame",
         "Our best value utilizing the same, ground-breaking frame technology as the ML aluminum frame.",
         "Silver",
         "44",
         "U",
         144.5938,
         264.05,
         119.45620000000002,
         82.61502222086979,
         "FR"
        ],
        [
         526,
         12,
         "FR-M21S-48",
         "LL Mountain Frame - Silver, 48",
         "LL Mountain Frame",
         "Our best value utilizing the same, ground-breaking frame technology as the ML aluminum frame.",
         "Silver",
         "48",
         "U",
         144.5938,
         264.05,
         119.45620000000002,
         82.61502222086979,
         "FR"
        ],
        [
         527,
         12,
         "FR-M21S-52",
         "LL Mountain Frame - Silver, 52",
         "LL Mountain Frame",
         "Our best value utilizing the same, ground-breaking frame technology as the ML aluminum frame.",
         "Silver",
         "52",
         "U",
         144.5938,
         264.05,
         119.45620000000002,
         82.61502222086979,
         "FR"
        ],
        [
         528,
         37,
         "TT-M928",
         "Mountain Tire Tube",
         "Mountain Tire Tube",
         "Self-sealing tube.",
         "NA",
         "0",
         "0",
         1.8663,
         4.99,
         3.1237000000000004,
         167.37394845416065,
         "TT"
        ],
        [
         529,
         37,
         "TT-R982",
         "Road Tire Tube",
         "Road Tire Tube",
         "Conventional all-purpose tube.",
         "NA",
         "0",
         "0",
         1.4923,
         3.99,
         2.4977,
         167.37251222944448,
         "TT"
        ],
        [
         530,
         37,
         "TT-T092",
         "Touring Tire Tube",
         "Touring Tire Tube",
         "General purpose tube.",
         "NA",
         "0",
         "0",
         1.8663,
         4.99,
         3.1237000000000004,
         167.37394845416065,
         "TT"
        ],
        [
         531,
         12,
         "FR-M21B-42",
         "LL Mountain Frame - Black, 42",
         "LL Mountain Frame",
         "Our best value utilizing the same, ground-breaking frame technology as the ML aluminum frame.",
         "Black",
         "42",
         "U",
         136.785,
         249.79,
         113.005,
         82.61505282011916,
         "FR"
        ],
        [
         532,
         12,
         "FR-M21B-44",
         "LL Mountain Frame - Black, 44",
         "LL Mountain Frame",
         "Our best value utilizing the same, ground-breaking frame technology as the ML aluminum frame.",
         "Black",
         "44",
         "U",
         136.785,
         249.79,
         113.005,
         82.61505282011916,
         "FR"
        ],
        [
         533,
         12,
         "FR-M21B-48",
         "LL Mountain Frame - Black, 48",
         "LL Mountain Frame",
         "Our best value utilizing the same, ground-breaking frame technology as the ML aluminum frame.",
         "Black",
         "48",
         "U",
         136.785,
         249.79,
         113.005,
         82.61505282011916,
         "FR"
        ],
        [
         534,
         12,
         "FR-M21B-52",
         "LL Mountain Frame - Black, 52",
         "LL Mountain Frame",
         "Our best value utilizing the same, ground-breaking frame technology as the ML aluminum frame.",
         "Black",
         "52",
         "U",
         136.785,
         249.79,
         113.005,
         82.61505282011916,
         "FR"
        ],
        [
         535,
         37,
         "TI-M267",
         "LL Mountain Tire",
         "LL Mountain Tire",
         "Comparible traction, less expensive wire bead casing.",
         "NA",
         "0",
         "0",
         9.3463,
         24.99,
         15.643699999999999,
         167.37853482126616,
         "TI"
        ],
        [
         536,
         37,
         "TI-M602",
         "ML Mountain Tire",
         "ML Mountain Tire",
         "Great traction, high-density rubber.",
         "NA",
         "0",
         "0",
         11.2163,
         29.99,
         18.773699999999998,
         167.3787256047003,
         "TI"
        ],
        [
         537,
         37,
         "TI-M823",
         "HL Mountain Tire",
         "HL Mountain Tire",
         "Incredible traction, lightweight carbon reinforced.",
         "NA",
         "0",
         "0",
         13.09,
         35,
         21.91,
         167.37967914438502,
         "TI"
        ],
        [
         538,
         37,
         "TI-R092",
         "LL Road Tire",
         "LL Road Tire",
         "Same great treads as more expensive tire with a less expensive wire bead casing.",
         "NA",
         "0",
         "0",
         8.0373,
         21.49,
         13.452699999999998,
         167.37834845035022,
         "TI"
        ],
        [
         539,
         37,
         "TI-R628",
         "ML Road Tire",
         "ML Road Tire",
         "Higher density rubber.",
         "NA",
         "0",
         "0",
         9.3463,
         24.99,
         15.643699999999999,
         167.37853482126616,
         "TI"
        ],
        [
         540,
         37,
         "TI-R982",
         "HL Road Tire",
         "HL Road Tire",
         "Lightweight carbon reinforced  for an unrivaled ride at an un-compromised weight.",
         "NA",
         "0",
         "0",
         12.1924,
         32.6,
         20.407600000000002,
         167.37967914438505,
         "TI"
        ],
        [
         541,
         37,
         "TI-T723",
         "Touring Tire",
         "Touring Tire",
         "High-density rubber.",
         "NA",
         "0",
         "0",
         10.8423,
         28.99,
         18.1477,
         167.37869271280078,
         "TI"
        ],
        [
         542,
         13,
         "PD-M282",
         "LL Mountain Pedal",
         "LL Mountain Pedal",
         "Expanded platform so you can ride in any shoes; great for all-around riding.",
         "Silver/Black",
         "0",
         "0",
         17.9776,
         40.49,
         22.512400000000003,
         125.22472410110362,
         "PD"
        ],
        [
         543,
         13,
         "PD-M340",
         "ML Mountain Pedal",
         "ML Mountain Pedal",
         "Lightweight, durable, clipless pedal with adjustable tension.",
         "Silver/Black",
         "0",
         "0",
         27.568,
         62.09,
         34.522000000000006,
         125.22489843296579,
         "PD"
        ],
        [
         544,
         13,
         "PD-M562",
         "HL Mountain Pedal",
         "HL Mountain Pedal",
         "Stainless steel; designed to shed mud easily.",
         "Silver/Black",
         "0",
         "0",
         35.9596,
         80.99,
         45.03039999999999,
         125.22497469382303,
         "PD"
        ],
        [
         545,
         13,
         "PD-R347",
         "LL Road Pedal",
         "LL Road Pedal",
         "Clipless pedals - aluminum.",
         "Silver/Black",
         "0",
         "0",
         17.9776,
         40.49,
         22.512400000000003,
         125.22472410110362,
         "PD"
        ],
        [
         546,
         13,
         "PD-R563",
         "ML Road Pedal",
         "ML Road Pedal",
         "Lightweight aluminum alloy construction.",
         "Silver/Black",
         "0",
         "0",
         27.568,
         62.09,
         34.522000000000006,
         125.22489843296579,
         "PD"
        ],
        [
         547,
         13,
         "PD-R853",
         "HL Road Pedal",
         "HL Road Pedal",
         "Top-of-the-line clipless pedals with adjustable tension.",
         "Silver/Black",
         "0",
         "0",
         35.9596,
         80.99,
         45.03039999999999,
         125.22497469382303,
         "PD"
        ],
        [
         548,
         13,
         "PD-T852",
         "Touring Pedal",
         "Touring Pedal",
         "A stable pedal for all-day riding.",
         "Silver/Black",
         "0",
         "0",
         35.9596,
         80.99,
         45.03039999999999,
         125.22497469382303,
         "PD"
        ],
        [
         549,
         12,
         "FR-M63S-38",
         "ML Mountain Frame-W - Silver, 38",
         "ML Mountain Frame-W",
         "The ML frame is a heat-treated aluminum frame made with the same detail and quality as our HL frame. It offers superior performance. Men's version.",
         "Silver",
         "38",
         "W",
         199.3757,
         364.09,
         164.71429999999998,
         82.61503282496312,
         "FR"
        ],
        [
         550,
         12,
         "FR-M21B-40",
         "LL Mountain Frame - Black, 40",
         "LL Mountain Frame",
         "Our best value utilizing the same, ground-breaking frame technology as the ML aluminum frame.",
         "Black",
         "40",
         "U",
         136.785,
         249.79,
         113.005,
         82.61505282011916,
         "FR"
        ],
        [
         551,
         12,
         "FR-M21S-40",
         "LL Mountain Frame - Silver, 40",
         "LL Mountain Frame",
         "Our best value utilizing the same, ground-breaking frame technology as the ML aluminum frame.",
         "Silver",
         "40",
         "U",
         144.5938,
         264.05,
         119.45620000000002,
         82.61502222086979,
         "FR"
        ],
        [
         552,
         9,
         "FD-2342",
         "Front Derailleur",
         "Front Derailleur",
         "Wide-link design.",
         "Silver",
         "0",
         "0",
         40.6216,
         91.49,
         50.868399999999994,
         125.22500344644227,
         "FD"
        ],
        [
         553,
         4,
         "HB-T721",
         "LL Touring Handlebars",
         "LL Touring Handlebars",
         "Unique shape reduces fatigue for entry level riders.",
         "NA",
         "0",
         "0",
         20.464,
         46.09,
         25.626000000000005,
         125.22478498827212,
         "HB"
        ],
        [
         554,
         4,
         "HB-T928",
         "HL Touring Handlebars",
         "HL Touring Handlebars",
         "A light yet stiff aluminum bar for long distance riding.",
         "NA",
         "0",
         "0",
         40.6571,
         91.57,
         50.91289999999999,
         125.22511443265752,
         "HB"
        ],
        [
         555,
         6,
         "FB-9873",
         "Front Brakes",
         "Front Brakes",
         "All-weather brake pads; provides superior stopping by applying more surface to the rim.",
         "Silver",
         "0",
         "0",
         47.286,
         106.5,
         59.214,
         125.22522522522522,
         "FB"
        ],
        [
         556,
         8,
         "CS-4759",
         "LL Crankset",
         "LL Crankset",
         "Super rigid spindle.",
         "Black",
         "0",
         "0",
         77.9176,
         175.49,
         97.57240000000002,
         125.22510960296522,
         "CS"
        ],
        [
         557,
         8,
         "CS-6583",
         "ML Crankset",
         "ML Crankset",
         "High-strength crank arm.",
         "Black",
         "0",
         "0",
         113.8816,
         256.49,
         142.60840000000002,
         125.22514611666855,
         "CS"
        ],
        [
         558,
         8,
         "CS-9183",
         "HL Crankset",
         "HL Crankset",
         "Triple crankset; alumunim crank arm; flawless shifting.",
         "Black",
         "0",
         "0",
         179.8156,
         404.99,
         225.17440000000002,
         125.22517512384911,
         "CS"
        ],
        [
         559,
         7,
         "CH-0234",
         "Chain",
         "Chain",
         "Superior shifting performance.",
         "Silver",
         "0",
         "0",
         8.9866,
         20.24,
         11.2534,
         125.22422273162263,
         "CH"
        ],
        [
         560,
         3,
         "BK-T44U-60",
         "Touring-2000 Blue, 60",
         "Touring-2000",
         "The plush custom saddle keeps you riding all day,  and there's plenty of space to add panniers and bike bags to the newly-redesigned carrier.  This bike has stability when fully-loaded.",
         "Blue",
         "60",
         "U",
         755.1508,
         1214.85,
         459.6991999999999,
         60.87515235367557,
         "BK"
        ],
        [
         561,
         3,
         "BK-T79Y-46",
         "Touring-1000 Yellow, 46",
         "Touring-1000",
         "Travel in style and comfort. Designed for maximum comfort and safety. Wide gear range takes on all hills. High-tech aluminum alloy construction provides durability without added weight.",
         "Yellow",
         "46",
         "U",
         1481.9379,
         2384.07,
         902.1321000000003,
         60.87516217784837,
         "BK"
        ],
        [
         562,
         3,
         "BK-T79Y-50",
         "Touring-1000 Yellow, 50",
         "Touring-1000",
         "Travel in style and comfort. Designed for maximum comfort and safety. Wide gear range takes on all hills. High-tech aluminum alloy construction provides durability without added weight.",
         "Yellow",
         "50",
         "U",
         1481.9379,
         2384.07,
         902.1321000000003,
         60.87516217784837,
         "BK"
        ],
        [
         563,
         3,
         "BK-T79Y-54",
         "Touring-1000 Yellow, 54",
         "Touring-1000",
         "Travel in style and comfort. Designed for maximum comfort and safety. Wide gear range takes on all hills. High-tech aluminum alloy construction provides durability without added weight.",
         "Yellow",
         "54",
         "U",
         1481.9379,
         2384.07,
         902.1321000000003,
         60.87516217784837,
         "BK"
        ],
        [
         564,
         3,
         "BK-T79Y-60",
         "Touring-1000 Yellow, 60",
         "Touring-1000",
         "Travel in style and comfort. Designed for maximum comfort and safety. Wide gear range takes on all hills. High-tech aluminum alloy construction provides durability without added weight.",
         "Yellow",
         "60",
         "U",
         1481.9379,
         2384.07,
         902.1321000000003,
         60.87516217784837,
         "BK"
        ],
        [
         565,
         3,
         "BK-T18U-54",
         "Touring-3000 Blue, 54",
         "Touring-3000",
         "All-occasion value bike with our basic comfort and safety features. Offers wider, more stable tires for a ride around town or weekend trip.",
         "Blue",
         "54",
         "U",
         461.4448,
         742.35,
         280.90520000000004,
         60.87514692981697,
         "BK"
        ],
        [
         566,
         3,
         "BK-T18U-58",
         "Touring-3000 Blue, 58",
         "Touring-3000",
         "All-occasion value bike with our basic comfort and safety features. Offers wider, more stable tires for a ride around town or weekend trip.",
         "Blue",
         "58",
         "U",
         461.4448,
         742.35,
         280.90520000000004,
         60.87514692981697,
         "BK"
        ],
        [
         567,
         3,
         "BK-T18U-62",
         "Touring-3000 Blue, 62",
         "Touring-3000",
         "All-occasion value bike with our basic comfort and safety features. Offers wider, more stable tires for a ride around town or weekend trip.",
         "Blue",
         "62",
         "U",
         461.4448,
         742.35,
         280.90520000000004,
         60.87514692981697,
         "BK"
        ],
        [
         568,
         3,
         "BK-T18Y-44",
         "Touring-3000 Yellow, 44",
         "Touring-3000",
         "All-occasion value bike with our basic comfort and safety features. Offers wider, more stable tires for a ride around town or weekend trip.",
         "Yellow",
         "44",
         "U",
         461.4448,
         742.35,
         280.90520000000004,
         60.87514692981697,
         "BK"
        ],
        [
         569,
         3,
         "BK-T18Y-50",
         "Touring-3000 Yellow, 50",
         "Touring-3000",
         "All-occasion value bike with our basic comfort and safety features. Offers wider, more stable tires for a ride around town or weekend trip.",
         "Yellow",
         "50",
         "U",
         461.4448,
         742.35,
         280.90520000000004,
         60.87514692981697,
         "BK"
        ],
        [
         570,
         3,
         "BK-T18Y-54",
         "Touring-3000 Yellow, 54",
         "Touring-3000",
         "All-occasion value bike with our basic comfort and safety features. Offers wider, more stable tires for a ride around town or weekend trip.",
         "Yellow",
         "54",
         "U",
         461.4448,
         742.35,
         280.90520000000004,
         60.87514692981697,
         "BK"
        ],
        [
         571,
         3,
         "BK-T18Y-58",
         "Touring-3000 Yellow, 58",
         "Touring-3000",
         "All-occasion value bike with our basic comfort and safety features. Offers wider, more stable tires for a ride around town or weekend trip.",
         "Yellow",
         "58",
         "U",
         461.4448,
         742.35,
         280.90520000000004,
         60.87514692981697,
         "BK"
        ],
        [
         572,
         3,
         "BK-T18Y-62",
         "Touring-3000 Yellow, 62",
         "Touring-3000",
         "All-occasion value bike with our basic comfort and safety features. Offers wider, more stable tires for a ride around town or weekend trip.",
         "Yellow",
         "62",
         "U",
         461.4448,
         742.35,
         280.90520000000004,
         60.87514692981697,
         "BK"
        ],
        [
         573,
         3,
         "BK-T79U-46",
         "Touring-1000 Blue, 46",
         "Touring-1000",
         "Travel in style and comfort. Designed for maximum comfort and safety. Wide gear range takes on all hills. High-tech aluminum alloy construction provides durability without added weight.",
         "Blue",
         "46",
         "U",
         1481.9379,
         2384.07,
         902.1321000000003,
         60.87516217784837,
         "BK"
        ],
        [
         574,
         3,
         "BK-T79U-50",
         "Touring-1000 Blue, 50",
         "Touring-1000",
         "Travel in style and comfort. Designed for maximum comfort and safety. Wide gear range takes on all hills. High-tech aluminum alloy construction provides durability without added weight.",
         "Blue",
         "50",
         "U",
         1481.9379,
         2384.07,
         902.1321000000003,
         60.87516217784837,
         "BK"
        ],
        [
         575,
         3,
         "BK-T79U-54",
         "Touring-1000 Blue, 54",
         "Touring-1000",
         "Travel in style and comfort. Designed for maximum comfort and safety. Wide gear range takes on all hills. High-tech aluminum alloy construction provides durability without added weight.",
         "Blue",
         "54",
         "U",
         1481.9379,
         2384.07,
         902.1321000000003,
         60.87516217784837,
         "BK"
        ],
        [
         576,
         3,
         "BK-T79U-60",
         "Touring-1000 Blue, 60",
         "Touring-1000",
         "Travel in style and comfort. Designed for maximum comfort and safety. Wide gear range takes on all hills. High-tech aluminum alloy construction provides durability without added weight.",
         "Blue",
         "60",
         "U",
         1481.9379,
         2384.07,
         902.1321000000003,
         60.87516217784837,
         "BK"
        ],
        [
         577,
         3,
         "BK-T44U-46",
         "Touring-2000 Blue, 46",
         "Touring-2000",
         "The plush custom saddle keeps you riding all day,  and there's plenty of space to add panniers and bike bags to the newly-redesigned carrier.  This bike has stability when fully-loaded.",
         "Blue",
         "46",
         "U",
         755.1508,
         1214.85,
         459.6991999999999,
         60.87515235367557,
         "BK"
        ],
        [
         578,
         3,
         "BK-T44U-50",
         "Touring-2000 Blue, 50",
         "Touring-2000",
         "The plush custom saddle keeps you riding all day,  and there's plenty of space to add panniers and bike bags to the newly-redesigned carrier.  This bike has stability when fully-loaded.",
         "Blue",
         "50",
         "U",
         755.1508,
         1214.85,
         459.6991999999999,
         60.87515235367557,
         "BK"
        ],
        [
         579,
         3,
         "BK-T44U-54",
         "Touring-2000 Blue, 54",
         "Touring-2000",
         "The plush custom saddle keeps you riding all day,  and there's plenty of space to add panniers and bike bags to the newly-redesigned carrier.  This bike has stability when fully-loaded.",
         "Blue",
         "54",
         "U",
         755.1508,
         1214.85,
         459.6991999999999,
         60.87515235367557,
         "BK"
        ],
        [
         580,
         2,
         "BK-R79Y-40",
         "Road-350-W Yellow, 40",
         "Road-350-W",
         "Cross-train, race, or just socialize on a sleek, aerodynamic bike designed for a woman.  Advanced seat technology provides comfort all day.",
         "Yellow",
         "40",
         "W",
         1082.51,
         1700.99,
         618.48,
         57.133883289761755,
         "BK"
        ],
        [
         581,
         2,
         "BK-R79Y-42",
         "Road-350-W Yellow, 42",
         "Road-350-W",
         "Cross-train, race, or just socialize on a sleek, aerodynamic bike designed for a woman.  Advanced seat technology provides comfort all day.",
         "Yellow",
         "42",
         "W",
         1082.51,
         1700.99,
         618.48,
         57.133883289761755,
         "BK"
        ],
        [
         582,
         2,
         "BK-R79Y-44",
         "Road-350-W Yellow, 44",
         "Road-350-W",
         "Cross-train, race, or just socialize on a sleek, aerodynamic bike designed for a woman.  Advanced seat technology provides comfort all day.",
         "Yellow",
         "44",
         "W",
         1082.51,
         1700.99,
         618.48,
         57.133883289761755,
         "BK"
        ],
        [
         583,
         2,
         "BK-R79Y-48",
         "Road-350-W Yellow, 48",
         "Road-350-W",
         "Cross-train, race, or just socialize on a sleek, aerodynamic bike designed for a woman.  Advanced seat technology provides comfort all day.",
         "Yellow",
         "48",
         "W",
         1082.51,
         1700.99,
         618.48,
         57.133883289761755,
         "BK"
        ],
        [
         584,
         2,
         "BK-R19B-58",
         "Road-750 Black, 58",
         "Road-750",
         "Entry level adult bike; offers a comfortable ride cross-country or down the block. Quick-release hubs and rims.",
         "Black",
         "58",
         "U",
         343.6496,
         539.99,
         196.3404,
         57.13389452512093,
         "BK"
        ],
        [
         585,
         3,
         "BK-T18U-44",
         "Touring-3000 Blue, 44",
         "Touring-3000",
         "All-occasion value bike with our basic comfort and safety features. Offers wider, more stable tires for a ride around town or weekend trip.",
         "Blue",
         "44",
         "U",
         461.4448,
         742.35,
         280.90520000000004,
         60.87514692981697,
         "BK"
        ],
        [
         586,
         3,
         "BK-T18U-50",
         "Touring-3000 Blue, 50",
         "Touring-3000",
         "All-occasion value bike with our basic comfort and safety features. Offers wider, more stable tires for a ride around town or weekend trip.",
         "Blue",
         "50",
         "U",
         461.4448,
         742.35,
         280.90520000000004,
         60.87514692981697,
         "BK"
        ],
        [
         587,
         1,
         "BK-M38S-38",
         "Mountain-400-W Silver, 38",
         "Mountain-400-W",
         "This bike delivers a high-level of performance on a budget. It is responsive and maneuverable, and offers peace-of-mind when you decide to go off-road.",
         "Silver",
         "38",
         "W",
         419.7784,
         769.49,
         349.71160000000003,
         83.30862188240272,
         "BK"
        ],
        [
         588,
         1,
         "BK-M38S-40",
         "Mountain-400-W Silver, 40",
         "Mountain-400-W",
         "This bike delivers a high-level of performance on a budget. It is responsive and maneuverable, and offers peace-of-mind when you decide to go off-road.",
         "Silver",
         "40",
         "W",
         419.7784,
         769.49,
         349.71160000000003,
         83.30862188240272,
         "BK"
        ],
        [
         589,
         1,
         "BK-M38S-42",
         "Mountain-400-W Silver, 42",
         "Mountain-400-W",
         "This bike delivers a high-level of performance on a budget. It is responsive and maneuverable, and offers peace-of-mind when you decide to go off-road.",
         "Silver",
         "42",
         "W",
         419.7784,
         769.49,
         349.71160000000003,
         83.30862188240272,
         "BK"
        ],
        [
         590,
         1,
         "BK-M38S-46",
         "Mountain-400-W Silver, 46",
         "Mountain-400-W",
         "This bike delivers a high-level of performance on a budget. It is responsive and maneuverable, and offers peace-of-mind when you decide to go off-road.",
         "Silver",
         "46",
         "W",
         419.7784,
         769.49,
         349.71160000000003,
         83.30862188240272,
         "BK"
        ],
        [
         591,
         1,
         "BK-M18S-40",
         "Mountain-500 Silver, 40",
         "Mountain-500",
         "Suitable for any type of riding, on or off-road. Fits any budget. Smooth-shifting with a comfortable ride.",
         "Silver",
         "40",
         "U",
         308.2179,
         564.99,
         256.7721,
         83.30862678643909,
         "BK"
        ],
        [
         592,
         1,
         "BK-M18S-42",
         "Mountain-500 Silver, 42",
         "Mountain-500",
         "Suitable for any type of riding, on or off-road. Fits any budget. Smooth-shifting with a comfortable ride.",
         "Silver",
         "42",
         "U",
         308.2179,
         564.99,
         256.7721,
         83.30862678643909,
         "BK"
        ],
        [
         593,
         1,
         "BK-M18S-44",
         "Mountain-500 Silver, 44",
         "Mountain-500",
         "Suitable for any type of riding, on or off-road. Fits any budget. Smooth-shifting with a comfortable ride.",
         "Silver",
         "44",
         "U",
         308.2179,
         564.99,
         256.7721,
         83.30862678643909,
         "BK"
        ],
        [
         594,
         1,
         "BK-M18S-48",
         "Mountain-500 Silver, 48",
         "Mountain-500",
         "Suitable for any type of riding, on or off-road. Fits any budget. Smooth-shifting with a comfortable ride.",
         "Silver",
         "48",
         "U",
         308.2179,
         564.99,
         256.7721,
         83.30862678643909,
         "BK"
        ],
        [
         595,
         1,
         "BK-M18S-52",
         "Mountain-500 Silver, 52",
         "Mountain-500",
         "Suitable for any type of riding, on or off-road. Fits any budget. Smooth-shifting with a comfortable ride.",
         "Silver",
         "52",
         "U",
         308.2179,
         564.99,
         256.7721,
         83.30862678643909,
         "BK"
        ],
        [
         596,
         1,
         "BK-M18B-40",
         "Mountain-500 Black, 40",
         "Mountain-500",
         "Suitable for any type of riding, on or off-road. Fits any budget. Smooth-shifting with a comfortable ride.",
         "Black",
         "40",
         "U",
         294.5797,
         539.99,
         245.4103,
         83.30862581501712,
         "BK"
        ],
        [
         597,
         1,
         "BK-M18B-42",
         "Mountain-500 Black, 42",
         "Mountain-500",
         "Suitable for any type of riding, on or off-road. Fits any budget. Smooth-shifting with a comfortable ride.",
         "Black",
         "42",
         "U",
         294.5797,
         539.99,
         245.4103,
         83.30862581501712,
         "BK"
        ],
        [
         598,
         1,
         "BK-M18B-44",
         "Mountain-500 Black, 44",
         "Mountain-500",
         "Suitable for any type of riding, on or off-road. Fits any budget. Smooth-shifting with a comfortable ride.",
         "Black",
         "44",
         "U",
         294.5797,
         539.99,
         245.4103,
         83.30862581501712,
         "BK"
        ],
        [
         599,
         1,
         "BK-M18B-48",
         "Mountain-500 Black, 48",
         "Mountain-500",
         "Suitable for any type of riding, on or off-road. Fits any budget. Smooth-shifting with a comfortable ride.",
         "Black",
         "48",
         "U",
         294.5797,
         539.99,
         245.4103,
         83.30862581501712,
         "BK"
        ],
        [
         600,
         1,
         "BK-M18B-52",
         "Mountain-500 Black, 52",
         "Mountain-500",
         "Suitable for any type of riding, on or off-road. Fits any budget. Smooth-shifting with a comfortable ride.",
         "Black",
         "52",
         "U",
         294.5797,
         539.99,
         245.4103,
         83.30862581501712,
         "BK"
        ],
        [
         601,
         5,
         "BB-7421",
         "LL Bottom Bracket",
         "LL Bottom Bracket",
         "Chromoly steel.",
         "NA",
         "0",
         "0",
         23.9716,
         53.99,
         30.018400000000003,
         125.22484940512943,
         "BB"
        ],
        [
         602,
         5,
         "BB-8107",
         "ML Bottom Bracket",
         "ML Bottom Bracket",
         "Aluminum alloy cups; large diameter spindle.",
         "NA",
         "0",
         "0",
         44.9506,
         101.24,
         56.28939999999999,
         125.22502480500815,
         "BB"
        ],
        [
         603,
         5,
         "BB-9108",
         "HL Bottom Bracket",
         "HL Bottom Bracket",
         "Aluminum alloy cups and a hollow axle.",
         "NA",
         "0",
         "0",
         53.9416,
         121.49,
         67.54839999999999,
         125.22505821110235,
         "BB"
        ],
        [
         604,
         2,
         "BK-R19B-44",
         "Road-750 Black, 44",
         "Road-750",
         "Entry level adult bike; offers a comfortable ride cross-country or down the block. Quick-release hubs and rims.",
         "Black",
         "44",
         "U",
         343.6496,
         539.99,
         196.3404,
         57.13389452512093,
         "BK"
        ],
        [
         605,
         2,
         "BK-R19B-48",
         "Road-750 Black, 48",
         "Road-750",
         "Entry level adult bike; offers a comfortable ride cross-country or down the block. Quick-release hubs and rims.",
         "Black",
         "48",
         "U",
         343.6496,
         539.99,
         196.3404,
         57.13389452512093,
         "BK"
        ],
        [
         606,
         2,
         "BK-R19B-52",
         "Road-750 Black, 52",
         "Road-750",
         "Entry level adult bike; offers a comfortable ride cross-country or down the block. Quick-release hubs and rims.",
         "Black",
         "52",
         "U",
         343.6496,
         539.99,
         196.3404,
         57.13389452512093,
         "BK"
        ]
       ],
       "datasetInfos": [],
       "dbfsResultPath": null,
       "isJsonSchema": true,
       "metadata": {},
       "overflow": false,
       "plotOptions": {
        "customPlotOptions": {},
        "displayType": "table",
        "pivotAggregation": null,
        "pivotColumns": null,
        "xColumns": null,
        "yColumns": null
       },
       "removedWidgets": [],
       "schema": [
        {
         "metadata": "{}",
         "name": "ProductKey",
         "type": "\"integer\""
        },
        {
         "metadata": "{}",
         "name": "ProductSubcategoryKey",
         "type": "\"integer\""
        },
        {
         "metadata": "{}",
         "name": "ProductSKU",
         "type": "\"string\""
        },
        {
         "metadata": "{}",
         "name": "ProductName",
         "type": "\"string\""
        },
        {
         "metadata": "{}",
         "name": "ModelName",
         "type": "\"string\""
        },
        {
         "metadata": "{}",
         "name": "ProductDescription",
         "type": "\"string\""
        },
        {
         "metadata": "{}",
         "name": "ProductColor",
         "type": "\"string\""
        },
        {
         "metadata": "{}",
         "name": "ProductSize",
         "type": "\"string\""
        },
        {
         "metadata": "{}",
         "name": "ProductStyle",
         "type": "\"string\""
        },
        {
         "metadata": "{}",
         "name": "ProductCost",
         "type": "\"double\""
        },
        {
         "metadata": "{}",
         "name": "ProductPrice",
         "type": "\"double\""
        },
        {
         "metadata": "{}",
         "name": "Profit",
         "type": "\"double\""
        },
        {
         "metadata": "{}",
         "name": "Profit Percentage",
         "type": "\"double\""
        },
        {
         "metadata": "{}",
         "name": "SKU_Prefix",
         "type": "\"string\""
        }
       ],
       "type": "table"
      }
     },
     "output_type": "display_data"
    }
   ],
   "source": [
    "df_products.display()"
   ]
  },
  {
   "cell_type": "code",
   "execution_count": null,
   "metadata": {
    "application/vnd.databricks.v1+cell": {
     "cellMetadata": {
      "byteLimit": 2048000,
      "rowLimit": 10000
     },
     "inputWidgets": {},
     "nuid": "7626ad37-ff5f-43c8-b43f-32157058a9db",
     "showTitle": false,
     "tableResultSettingsMap": {},
     "title": ""
    }
   },
   "outputs": [],
   "source": [
    "df_products.write.format('parquet')\\\n",
    "                 .mode('append')\\\n",
    "                 .option('path', \"abfss://silver@awdataprojectbasit.dfs.core.windows.net/products/\")\\\n",
    "                 .save()"
   ]
  },
  {
   "cell_type": "code",
   "execution_count": null,
   "metadata": {
    "application/vnd.databricks.v1+cell": {
     "cellMetadata": {
      "byteLimit": 2048000,
      "rowLimit": 10000
     },
     "inputWidgets": {},
     "nuid": "54718ed5-77ca-4275-a3e8-c5007513cd37",
     "showTitle": false,
     "tableResultSettingsMap": {},
     "title": ""
    }
   },
   "outputs": [],
   "source": [
    "df_product_subcategories.write.format('parquet')\\\n",
    "                 .mode('append')\\\n",
    "                 .option('path', \"abfss://silver@awdataprojectbasit.dfs.core.windows.net/product-subcategories/\")\\\n",
    "                 .save()"
   ]
  },
  {
   "cell_type": "code",
   "execution_count": null,
   "metadata": {
    "application/vnd.databricks.v1+cell": {
     "cellMetadata": {
      "byteLimit": 2048000,
      "rowLimit": 10000
     },
     "inputWidgets": {},
     "nuid": "762a0207-7ff5-44fa-95f0-497ab9f9fde0",
     "showTitle": false,
     "tableResultSettingsMap": {},
     "title": ""
    }
   },
   "outputs": [
    {
     "data": {
      "text/html": [
       "<style scoped>\n",
       "  .table-result-container {\n",
       "    max-height: 300px;\n",
       "    overflow: auto;\n",
       "  }\n",
       "  table, th, td {\n",
       "    border: 1px solid black;\n",
       "    border-collapse: collapse;\n",
       "  }\n",
       "  th, td {\n",
       "    padding: 5px;\n",
       "  }\n",
       "  th {\n",
       "    text-align: left;\n",
       "  }\n",
       "</style><div class='table-result-container'><table class='table-result'><thead style='background-color: white'><tr><th>ReturnDate</th><th>TerritoryKey</th><th>ProductKey</th><th>ReturnQuantity</th></tr></thead><tbody><tr><td>2015-01-18</td><td>9</td><td>312</td><td>1</td></tr><tr><td>2015-01-18</td><td>10</td><td>310</td><td>1</td></tr><tr><td>2015-01-21</td><td>8</td><td>346</td><td>1</td></tr><tr><td>2015-01-22</td><td>4</td><td>311</td><td>1</td></tr><tr><td>2015-02-02</td><td>6</td><td>312</td><td>1</td></tr><tr><td>2015-02-15</td><td>1</td><td>312</td><td>1</td></tr><tr><td>2015-02-19</td><td>9</td><td>311</td><td>1</td></tr><tr><td>2015-02-24</td><td>8</td><td>314</td><td>1</td></tr><tr><td>2015-03-08</td><td>8</td><td>350</td><td>1</td></tr><tr><td>2015-03-13</td><td>9</td><td>350</td><td>1</td></tr><tr><td>2015-03-14</td><td>4</td><td>346</td><td>1</td></tr><tr><td>2015-03-15</td><td>9</td><td>340</td><td>1</td></tr><tr><td>2015-03-22</td><td>4</td><td>311</td><td>1</td></tr><tr><td>2015-03-26</td><td>10</td><td>312</td><td>1</td></tr><tr><td>2015-03-28</td><td>7</td><td>312</td><td>1</td></tr><tr><td>2015-03-28</td><td>9</td><td>314</td><td>1</td></tr><tr><td>2015-03-29</td><td>9</td><td>311</td><td>1</td></tr><tr><td>2015-04-01</td><td>8</td><td>311</td><td>1</td></tr><tr><td>2015-04-07</td><td>9</td><td>311</td><td>1</td></tr><tr><td>2015-04-07</td><td>9</td><td>351</td><td>1</td></tr><tr><td>2015-04-09</td><td>9</td><td>311</td><td>1</td></tr><tr><td>2015-04-10</td><td>9</td><td>326</td><td>1</td></tr><tr><td>2015-04-15</td><td>9</td><td>312</td><td>1</td></tr><tr><td>2015-04-16</td><td>9</td><td>349</td><td>1</td></tr><tr><td>2015-04-20</td><td>9</td><td>310</td><td>1</td></tr><tr><td>2015-04-21</td><td>9</td><td>312</td><td>1</td></tr><tr><td>2015-04-25</td><td>4</td><td>324</td><td>1</td></tr><tr><td>2015-04-27</td><td>1</td><td>314</td><td>1</td></tr><tr><td>2015-04-29</td><td>6</td><td>310</td><td>1</td></tr><tr><td>2015-04-29</td><td>9</td><td>348</td><td>1</td></tr><tr><td>2015-04-30</td><td>8</td><td>330</td><td>1</td></tr><tr><td>2015-05-01</td><td>4</td><td>312</td><td>1</td></tr><tr><td>2015-05-06</td><td>9</td><td>324</td><td>1</td></tr><tr><td>2015-05-07</td><td>9</td><td>351</td><td>1</td></tr><tr><td>2015-05-13</td><td>1</td><td>310</td><td>1</td></tr><tr><td>2015-05-14</td><td>7</td><td>313</td><td>1</td></tr><tr><td>2015-05-16</td><td>6</td><td>313</td><td>1</td></tr><tr><td>2015-05-16</td><td>7</td><td>313</td><td>1</td></tr><tr><td>2015-05-22</td><td>9</td><td>314</td><td>1</td></tr><tr><td>2015-05-24</td><td>8</td><td>322</td><td>1</td></tr><tr><td>2015-05-30</td><td>1</td><td>313</td><td>1</td></tr><tr><td>2015-05-30</td><td>4</td><td>314</td><td>1</td></tr><tr><td>2015-06-05</td><td>4</td><td>313</td><td>1</td></tr><tr><td>2015-06-07</td><td>4</td><td>342</td><td>1</td></tr><tr><td>2015-06-20</td><td>9</td><td>347</td><td>1</td></tr><tr><td>2015-06-24</td><td>9</td><td>320</td><td>1</td></tr><tr><td>2015-07-03</td><td>4</td><td>373</td><td>1</td></tr><tr><td>2015-07-11</td><td>8</td><td>387</td><td>1</td></tr><tr><td>2015-07-22</td><td>8</td><td>379</td><td>1</td></tr><tr><td>2015-08-14</td><td>6</td><td>377</td><td>1</td></tr><tr><td>2015-08-15</td><td>1</td><td>377</td><td>1</td></tr><tr><td>2015-08-15</td><td>8</td><td>328</td><td>1</td></tr><tr><td>2015-08-26</td><td>4</td><td>387</td><td>1</td></tr><tr><td>2015-08-28</td><td>4</td><td>370</td><td>1</td></tr><tr><td>2015-08-31</td><td>10</td><td>373</td><td>1</td></tr><tr><td>2015-09-03</td><td>9</td><td>369</td><td>1</td></tr><tr><td>2015-09-10</td><td>1</td><td>354</td><td>1</td></tr><tr><td>2015-10-03</td><td>1</td><td>352</td><td>1</td></tr><tr><td>2015-10-07</td><td>9</td><td>352</td><td>1</td></tr><tr><td>2015-10-08</td><td>10</td><td>354</td><td>1</td></tr><tr><td>2015-10-12</td><td>9</td><td>379</td><td>1</td></tr><tr><td>2015-10-13</td><td>9</td><td>352</td><td>2</td></tr><tr><td>2015-10-23</td><td>9</td><td>354</td><td>1</td></tr><tr><td>2015-10-25</td><td>8</td><td>334</td><td>1</td></tr><tr><td>2015-10-27</td><td>6</td><td>368</td><td>1</td></tr><tr><td>2015-10-28</td><td>8</td><td>373</td><td>1</td></tr><tr><td>2015-10-30</td><td>7</td><td>370</td><td>1</td></tr><tr><td>2015-11-16</td><td>8</td><td>379</td><td>1</td></tr><tr><td>2015-11-20</td><td>8</td><td>360</td><td>1</td></tr><tr><td>2015-11-23</td><td>9</td><td>326</td><td>1</td></tr><tr><td>2015-11-24</td><td>1</td><td>330</td><td>1</td></tr><tr><td>2015-11-27</td><td>10</td><td>320</td><td>1</td></tr><tr><td>2015-12-01</td><td>10</td><td>356</td><td>1</td></tr><tr><td>2015-12-04</td><td>4</td><td>324</td><td>1</td></tr><tr><td>2015-12-05</td><td>6</td><td>389</td><td>1</td></tr><tr><td>2015-12-06</td><td>10</td><td>360</td><td>1</td></tr><tr><td>2015-12-10</td><td>9</td><td>334</td><td>1</td></tr><tr><td>2015-12-11</td><td>9</td><td>375</td><td>1</td></tr><tr><td>2015-12-12</td><td>8</td><td>377</td><td>1</td></tr><tr><td>2015-12-12</td><td>9</td><td>362</td><td>1</td></tr><tr><td>2015-12-12</td><td>9</td><td>379</td><td>1</td></tr><tr><td>2015-12-14</td><td>9</td><td>377</td><td>1</td></tr><tr><td>2015-12-16</td><td>4</td><td>377</td><td>1</td></tr><tr><td>2015-12-18</td><td>4</td><td>352</td><td>1</td></tr><tr><td>2015-12-25</td><td>8</td><td>389</td><td>1</td></tr><tr><td>2016-01-07</td><td>9</td><td>362</td><td>1</td></tr><tr><td>2016-01-09</td><td>8</td><td>373</td><td>1</td></tr><tr><td>2016-01-10</td><td>9</td><td>381</td><td>1</td></tr><tr><td>2016-01-16</td><td>7</td><td>371</td><td>1</td></tr><tr><td>2016-01-23</td><td>4</td><td>332</td><td>1</td></tr><tr><td>2016-01-23</td><td>9</td><td>354</td><td>1</td></tr><tr><td>2016-01-26</td><td>9</td><td>330</td><td>1</td></tr><tr><td>2016-01-31</td><td>4</td><td>360</td><td>1</td></tr><tr><td>2016-02-01</td><td>1</td><td>354</td><td>1</td></tr><tr><td>2016-02-12</td><td>9</td><td>330</td><td>1</td></tr><tr><td>2016-02-14</td><td>4</td><td>381</td><td>1</td></tr><tr><td>2016-02-20</td><td>9</td><td>328</td><td>1</td></tr><tr><td>2016-02-20</td><td>9</td><td>377</td><td>1</td></tr><tr><td>2016-02-22</td><td>8</td><td>369</td><td>1</td></tr><tr><td>2016-02-22</td><td>9</td><td>362</td><td>1</td></tr><tr><td>2016-02-25</td><td>9</td><td>370</td><td>1</td></tr><tr><td>2016-03-08</td><td>9</td><td>352</td><td>1</td></tr><tr><td>2016-03-12</td><td>1</td><td>336</td><td>1</td></tr><tr><td>2016-03-18</td><td>7</td><td>370</td><td>1</td></tr><tr><td>2016-03-20</td><td>9</td><td>360</td><td>1</td></tr><tr><td>2016-03-21</td><td>6</td><td>330</td><td>1</td></tr><tr><td>2016-03-24</td><td>7</td><td>330</td><td>1</td></tr><tr><td>2016-03-29</td><td>9</td><td>375</td><td>1</td></tr><tr><td>2016-03-31</td><td>7</td><td>368</td><td>1</td></tr><tr><td>2016-04-01</td><td>8</td><td>373</td><td>1</td></tr><tr><td>2016-04-04</td><td>7</td><td>387</td><td>1</td></tr><tr><td>2016-04-13</td><td>8</td><td>362</td><td>1</td></tr><tr><td>2016-04-25</td><td>1</td><td>320</td><td>1</td></tr><tr><td>2016-04-27</td><td>4</td><td>373</td><td>1</td></tr><tr><td>2016-05-01</td><td>1</td><td>322</td><td>1</td></tr><tr><td>2016-05-01</td><td>9</td><td>352</td><td>1</td></tr><tr><td>2016-05-03</td><td>9</td><td>370</td><td>1</td></tr><tr><td>2016-05-11</td><td>7</td><td>352</td><td>1</td></tr><tr><td>2016-05-16</td><td>9</td><td>354</td><td>1</td></tr><tr><td>2016-05-21</td><td>4</td><td>371</td><td>1</td></tr><tr><td>2016-05-23</td><td>8</td><td>328</td><td>1</td></tr><tr><td>2016-05-26</td><td>7</td><td>360</td><td>1</td></tr><tr><td>2016-05-27</td><td>7</td><td>326</td><td>1</td></tr><tr><td>2016-05-31</td><td>4</td><td>369</td><td>1</td></tr><tr><td>2016-06-10</td><td>4</td><td>356</td><td>1</td></tr><tr><td>2016-06-12</td><td>10</td><td>381</td><td>1</td></tr><tr><td>2016-06-13</td><td>4</td><td>371</td><td>1</td></tr><tr><td>2016-06-15</td><td>4</td><td>332</td><td>1</td></tr><tr><td>2016-06-19</td><td>1</td><td>328</td><td>1</td></tr><tr><td>2016-06-21</td><td>10</td><td>368</td><td>1</td></tr><tr><td>2016-06-25</td><td>7</td><td>369</td><td>1</td></tr><tr><td>2016-06-27</td><td>9</td><td>362</td><td>1</td></tr><tr><td>2016-07-02</td><td>9</td><td>375</td><td>1</td></tr><tr><td>2016-07-03</td><td>9</td><td>354</td><td>1</td></tr><tr><td>2016-07-03</td><td>9</td><td>477</td><td>1</td></tr><tr><td>2016-07-03</td><td>9</td><td>479</td><td>1</td></tr><tr><td>2016-07-04</td><td>9</td><td>356</td><td>1</td></tr><tr><td>2016-07-06</td><td>10</td><td>528</td><td>1</td></tr><tr><td>2016-07-07</td><td>10</td><td>358</td><td>1</td></tr><tr><td>2016-07-08</td><td>8</td><td>381</td><td>1</td></tr><tr><td>2016-07-08</td><td>9</td><td>478</td><td>1</td></tr><tr><td>2016-07-08</td><td>9</td><td>480</td><td>1</td></tr><tr><td>2016-07-08</td><td>9</td><td>487</td><td>1</td></tr><tr><td>2016-07-08</td><td>10</td><td>480</td><td>1</td></tr><tr><td>2016-07-09</td><td>7</td><td>215</td><td>1</td></tr><tr><td>2016-07-11</td><td>4</td><td>477</td><td>1</td></tr><tr><td>2016-07-11</td><td>8</td><td>232</td><td>1</td></tr><tr><td>2016-07-12</td><td>4</td><td>478</td><td>1</td></tr><tr><td>2016-07-12</td><td>7</td><td>389</td><td>1</td></tr><tr><td>2016-07-13</td><td>4</td><td>352</td><td>1</td></tr><tr><td>2016-07-13</td><td>9</td><td>371</td><td>1</td></tr><tr><td>2016-07-13</td><td>9</td><td>485</td><td>1</td></tr><tr><td>2016-07-14</td><td>4</td><td>605</td><td>1</td></tr><tr><td>2016-07-15</td><td>1</td><td>540</td><td>1</td></tr><tr><td>2016-07-15</td><td>4</td><td>478</td><td>1</td></tr><tr><td>2016-07-15</td><td>7</td><td>483</td><td>1</td></tr><tr><td>2016-07-15</td><td>7</td><td>540</td><td>1</td></tr><tr><td>2016-07-15</td><td>10</td><td>484</td><td>1</td></tr><tr><td>2016-07-16</td><td>1</td><td>223</td><td>1</td></tr><tr><td>2016-07-19</td><td>4</td><td>537</td><td>1</td></tr><tr><td>2016-07-22</td><td>1</td><td>477</td><td>1</td></tr><tr><td>2016-07-23</td><td>9</td><td>377</td><td>1</td></tr><tr><td>2016-07-23</td><td>10</td><td>220</td><td>1</td></tr><tr><td>2016-07-24</td><td>10</td><td>477</td><td>1</td></tr><tr><td>2016-07-25</td><td>9</td><td>537</td><td>1</td></tr><tr><td>2016-07-26</td><td>9</td><td>487</td><td>1</td></tr><tr><td>2016-07-26</td><td>9</td><td>528</td><td>1</td></tr><tr><td>2016-07-28</td><td>7</td><td>377</td><td>1</td></tr><tr><td>2016-07-28</td><td>8</td><td>485</td><td>1</td></tr><tr><td>2016-07-29</td><td>8</td><td>462</td><td>1</td></tr><tr><td>2016-07-29</td><td>9</td><td>480</td><td>1</td></tr><tr><td>2016-07-29</td><td>9</td><td>487</td><td>1</td></tr><tr><td>2016-07-29</td><td>10</td><td>480</td><td>1</td></tr><tr><td>2016-07-30</td><td>8</td><td>604</td><td>1</td></tr><tr><td>2016-07-31</td><td>4</td><td>540</td><td>1</td></tr><tr><td>2016-07-31</td><td>7</td><td>220</td><td>1</td></tr><tr><td>2016-07-31</td><td>9</td><td>489</td><td>1</td></tr><tr><td>2016-08-01</td><td>4</td><td>487</td><td>1</td></tr><tr><td>2016-08-01</td><td>9</td><td>486</td><td>1</td></tr><tr><td>2016-08-02</td><td>4</td><td>477</td><td>1</td></tr><tr><td>2016-08-02</td><td>6</td><td>477</td><td>1</td></tr><tr><td>2016-08-02</td><td>9</td><td>539</td><td>1</td></tr><tr><td>2016-08-03</td><td>6</td><td>229</td><td>1</td></tr><tr><td>2016-08-03</td><td>6</td><td>537</td><td>1</td></tr><tr><td>2016-08-03</td><td>6</td><td>540</td><td>1</td></tr><tr><td>2016-08-04</td><td>1</td><td>478</td><td>1</td></tr><tr><td>2016-08-05</td><td>4</td><td>484</td><td>1</td></tr><tr><td>2016-08-05</td><td>4</td><td>528</td><td>1</td></tr><tr><td>2016-08-05</td><td>6</td><td>220</td><td>1</td></tr><tr><td>2016-08-06</td><td>8</td><td>529</td><td>1</td></tr><tr><td>2016-08-07</td><td>6</td><td>480</td><td>1</td></tr><tr><td>2016-08-07</td><td>9</td><td>375</td><td>1</td></tr><tr><td>2016-08-07</td><td>9</td><td>480</td><td>1</td></tr><tr><td>2016-08-07</td><td>10</td><td>479</td><td>1</td></tr><tr><td>2016-08-07</td><td>10</td><td>537</td><td>1</td></tr><tr><td>2016-08-08</td><td>1</td><td>536</td><td>1</td></tr><tr><td>2016-08-08</td><td>10</td><td>371</td><td>1</td></tr><tr><td>2016-08-09</td><td>9</td><td>373</td><td>1</td></tr><tr><td>2016-08-09</td><td>9</td><td>535</td><td>1</td></tr><tr><td>2016-08-09</td><td>9</td><td>540</td><td>1</td></tr><tr><td>2016-08-10</td><td>7</td><td>477</td><td>1</td></tr><tr><td>2016-08-10</td><td>9</td><td>220</td><td>1</td></tr><tr><td>2016-08-11</td><td>4</td><td>385</td><td>1</td></tr><tr><td>2016-08-11</td><td>6</td><td>477</td><td>1</td></tr><tr><td>2016-08-11</td><td>9</td><td>528</td><td>1</td></tr><tr><td>2016-08-12</td><td>1</td><td>528</td><td>1</td></tr><tr><td>2016-08-12</td><td>4</td><td>529</td><td>1</td></tr><tr><td>2016-08-12</td><td>4</td><td>535</td><td>1</td></tr><tr><td>2016-08-12</td><td>6</td><td>480</td><td>1</td></tr><tr><td>2016-08-12</td><td>8</td><td>477</td><td>1</td></tr><tr><td>2016-08-12</td><td>10</td><td>464</td><td>1</td></tr><tr><td>2016-08-12</td><td>10</td><td>565</td><td>1</td></tr><tr><td>2016-08-13</td><td>1</td><td>387</td><td>1</td></tr><tr><td>2016-08-13</td><td>4</td><td>478</td><td>1</td></tr><tr><td>2016-08-13</td><td>4</td><td>487</td><td>1</td></tr><tr><td>2016-08-13</td><td>6</td><td>529</td><td>1</td></tr><tr><td>2016-08-13</td><td>10</td><td>590</td><td>1</td></tr><tr><td>2016-08-14</td><td>6</td><td>235</td><td>1</td></tr><tr><td>2016-08-14</td><td>7</td><td>538</td><td>1</td></tr><tr><td>2016-08-14</td><td>8</td><td>214</td><td>1</td></tr><tr><td>2016-08-14</td><td>8</td><td>226</td><td>1</td></tr><tr><td>2016-08-14</td><td>8</td><td>530</td><td>1</td></tr><tr><td>2016-08-14</td><td>10</td><td>215</td><td>1</td></tr><tr><td>2016-08-15</td><td>1</td><td>528</td><td>1</td></tr><tr><td>2016-08-15</td><td>1</td><td>529</td><td>1</td></tr><tr><td>2016-08-15</td><td>1</td><td>536</td><td>1</td></tr><tr><td>2016-08-15</td><td>6</td><td>229</td><td>1</td></tr><tr><td>2016-08-15</td><td>6</td><td>478</td><td>1</td></tr><tr><td>2016-08-15</td><td>8</td><td>538</td><td>1</td></tr><tr><td>2016-08-15</td><td>10</td><td>226</td><td>1</td></tr><tr><td>2016-08-16</td><td>4</td><td>356</td><td>1</td></tr><tr><td>2016-08-16</td><td>4</td><td>485</td><td>1</td></tr><tr><td>2016-08-16</td><td>6</td><td>478</td><td>1</td></tr><tr><td>2016-08-17</td><td>4</td><td>220</td><td>1</td></tr><tr><td>2016-08-17</td><td>7</td><td>539</td><td>1</td></tr><tr><td>2016-08-17</td><td>9</td><td>529</td><td>1</td></tr><tr><td>2016-08-18</td><td>1</td><td>360</td><td>1</td></tr><tr><td>2016-08-18</td><td>7</td><td>477</td><td>1</td></tr><tr><td>2016-08-18</td><td>7</td><td>478</td><td>1</td></tr><tr><td>2016-08-19</td><td>4</td><td>477</td><td>2</td></tr><tr><td>2016-08-19</td><td>7</td><td>540</td><td>1</td></tr><tr><td>2016-08-19</td><td>8</td><td>223</td><td>1</td></tr><tr><td>2016-08-20</td><td>4</td><td>529</td><td>1</td></tr><tr><td>2016-08-20</td><td>8</td><td>220</td><td>1</td></tr><tr><td>2016-08-20</td><td>9</td><td>229</td><td>1</td></tr><tr><td>2016-08-20</td><td>9</td><td>529</td><td>1</td></tr><tr><td>2016-08-20</td><td>9</td><td>530</td><td>1</td></tr><tr><td>2016-08-21</td><td>1</td><td>214</td><td>1</td></tr><tr><td>2016-08-21</td><td>8</td><td>214</td><td>1</td></tr><tr><td>2016-08-22</td><td>4</td><td>220</td><td>1</td></tr><tr><td>2016-08-23</td><td>4</td><td>477</td><td>1</td></tr><tr><td>2016-08-23</td><td>10</td><td>362</td><td>1</td></tr><tr><td>2016-08-24</td><td>1</td><td>486</td><td>1</td></tr><tr><td>2016-08-24</td><td>1</td><td>535</td><td>1</td></tr><tr><td>2016-08-24</td><td>4</td><td>478</td><td>1</td></tr><tr><td>2016-08-24</td><td>4</td><td>480</td><td>1</td></tr><tr><td>2016-08-24</td><td>4</td><td>486</td><td>1</td></tr><tr><td>2016-08-24</td><td>4</td><td>528</td><td>1</td></tr><tr><td>2016-08-24</td><td>6</td><td>478</td><td>1</td></tr><tr><td>2016-08-24</td><td>9</td><td>214</td><td>1</td></tr><tr><td>2016-08-24</td><td>9</td><td>480</td><td>1</td></tr><tr><td>2016-08-24</td><td>10</td><td>480</td><td>1</td></tr><tr><td>2016-08-25</td><td>4</td><td>215</td><td>1</td></tr><tr><td>2016-08-25</td><td>4</td><td>232</td><td>1</td></tr><tr><td>2016-08-25</td><td>4</td><td>565</td><td>1</td></tr><tr><td>2016-08-25</td><td>7</td><td>487</td><td>1</td></tr><tr><td>2016-08-25</td><td>7</td><td>529</td><td>1</td></tr><tr><td>2016-08-25</td><td>9</td><td>540</td><td>1</td></tr><tr><td>2016-08-26</td><td>1</td><td>476</td><td>1</td></tr><tr><td>2016-08-26</td><td>7</td><td>362</td><td>1</td></tr><tr><td>2016-08-26</td><td>9</td><td>226</td><td>1</td></tr><tr><td>2016-08-26</td><td>9</td><td>466</td><td>1</td></tr><tr><td>2016-08-27</td><td>6</td><td>477</td><td>1</td></tr><tr><td>2016-08-27</td><td>8</td><td>477</td><td>1</td></tr><tr><td>2016-08-28</td><td>1</td><td>540</td><td>1</td></tr><tr><td>2016-08-28</td><td>4</td><td>575</td><td>1</td></tr><tr><td>2016-08-28</td><td>6</td><td>223</td><td>1</td></tr><tr><td>2016-08-28</td><td>6</td><td>477</td><td>1</td></tr><tr><td>2016-08-29</td><td>4</td><td>477</td><td>1</td></tr><tr><td>2016-08-29</td><td>4</td><td>489</td><td>1</td></tr><tr><td>2016-08-29</td><td>7</td><td>477</td><td>1</td></tr><tr><td>2016-08-29</td><td>7</td><td>529</td><td>1</td></tr><tr><td>2016-08-30</td><td>1</td><td>477</td><td>1</td></tr><tr><td>2016-08-30</td><td>1</td><td>480</td><td>2</td></tr><tr><td>2016-08-30</td><td>4</td><td>464</td><td>1</td></tr><tr><td>2016-08-30</td><td>6</td><td>482</td><td>1</td></tr><tr><td>2016-08-30</td><td>6</td><td>528</td><td>1</td></tr><tr><td>2016-08-30</td><td>7</td><td>539</td><td>1</td></tr><tr><td>2016-08-30</td><td>9</td><td>479</td><td>1</td></tr><tr><td>2016-08-30</td><td>9</td><td>529</td><td>1</td></tr><tr><td>2016-08-30</td><td>10</td><td>530</td><td>1</td></tr><tr><td>2016-08-31</td><td>1</td><td>480</td><td>1</td></tr><tr><td>2016-08-31</td><td>1</td><td>568</td><td>1</td></tr><tr><td>2016-08-31</td><td>7</td><td>530</td><td>1</td></tr><tr><td>2016-08-31</td><td>9</td><td>480</td><td>1</td></tr><tr><td>2016-09-01</td><td>1</td><td>220</td><td>1</td></tr><tr><td>2016-09-01</td><td>6</td><td>535</td><td>1</td></tr><tr><td>2016-09-02</td><td>7</td><td>478</td><td>1</td></tr><tr><td>2016-09-02</td><td>9</td><td>385</td><td>1</td></tr><tr><td>2016-09-03</td><td>1</td><td>477</td><td>1</td></tr><tr><td>2016-09-03</td><td>1</td><td>538</td><td>1</td></tr><tr><td>2016-09-03</td><td>4</td><td>466</td><td>1</td></tr><tr><td>2016-09-03</td><td>6</td><td>574</td><td>1</td></tr><tr><td>2016-09-03</td><td>9</td><td>362</td><td>1</td></tr><tr><td>2016-09-03</td><td>9</td><td>480</td><td>1</td></tr><tr><td>2016-09-03</td><td>9</td><td>528</td><td>1</td></tr><tr><td>2016-09-03</td><td>9</td><td>561</td><td>1</td></tr><tr><td>2016-09-04</td><td>6</td><td>477</td><td>1</td></tr><tr><td>2016-09-04</td><td>6</td><td>541</td><td>1</td></tr><tr><td>2016-09-04</td><td>7</td><td>528</td><td>1</td></tr><tr><td>2016-09-04</td><td>10</td><td>484</td><td>1</td></tr><tr><td>2016-09-05</td><td>1</td><td>477</td><td>1</td></tr><tr><td>2016-09-05</td><td>4</td><td>362</td><td>1</td></tr><tr><td>2016-09-05</td><td>4</td><td>537</td><td>1</td></tr><tr><td>2016-09-05</td><td>6</td><td>220</td><td>1</td></tr><tr><td>2016-09-05</td><td>9</td><td>477</td><td>1</td></tr><tr><td>2016-09-05</td><td>9</td><td>485</td><td>1</td></tr><tr><td>2016-09-06</td><td>1</td><td>214</td><td>1</td></tr><tr><td>2016-09-06</td><td>4</td><td>477</td><td>1</td></tr><tr><td>2016-09-06</td><td>4</td><td>478</td><td>1</td></tr><tr><td>2016-09-06</td><td>8</td><td>562</td><td>1</td></tr><tr><td>2016-09-06</td><td>9</td><td>480</td><td>1</td></tr><tr><td>2016-09-06</td><td>10</td><td>223</td><td>1</td></tr><tr><td>2016-09-07</td><td>4</td><td>220</td><td>1</td></tr><tr><td>2016-09-07</td><td>9</td><td>358</td><td>1</td></tr><tr><td>2016-09-08</td><td>6</td><td>475</td><td>1</td></tr><tr><td>2016-09-08</td><td>9</td><td>360</td><td>1</td></tr><tr><td>2016-09-08</td><td>9</td><td>538</td><td>1</td></tr><tr><td>2016-09-09</td><td>4</td><td>477</td><td>1</td></tr><tr><td>2016-09-09</td><td>7</td><td>477</td><td>1</td></tr><tr><td>2016-09-09</td><td>7</td><td>478</td><td>1</td></tr><tr><td>2016-09-09</td><td>8</td><td>480</td><td>1</td></tr><tr><td>2016-09-10</td><td>9</td><td>385</td><td>1</td></tr><tr><td>2016-09-10</td><td>9</td><td>528</td><td>1</td></tr><tr><td>2016-09-10</td><td>10</td><td>489</td><td>1</td></tr><tr><td>2016-09-10</td><td>10</td><td>529</td><td>1</td></tr><tr><td>2016-09-11</td><td>8</td><td>538</td><td>1</td></tr><tr><td>2016-09-11</td><td>9</td><td>480</td><td>1</td></tr><tr><td>2016-09-11</td><td>10</td><td>389</td><td>1</td></tr><tr><td>2016-09-12</td><td>4</td><td>214</td><td>1</td></tr><tr><td>2016-09-12</td><td>6</td><td>536</td><td>1</td></tr><tr><td>2016-09-13</td><td>4</td><td>358</td><td>1</td></tr><tr><td>2016-09-13</td><td>4</td><td>474</td><td>1</td></tr><tr><td>2016-09-13</td><td>6</td><td>477</td><td>1</td></tr><tr><td>2016-09-13</td><td>7</td><td>477</td><td>1</td></tr><tr><td>2016-09-13</td><td>9</td><td>478</td><td>1</td></tr><tr><td>2016-09-13</td><td>10</td><td>223</td><td>1</td></tr><tr><td>2016-09-14</td><td>10</td><td>537</td><td>1</td></tr><tr><td>2016-09-14</td><td>10</td><td>576</td><td>1</td></tr><tr><td>2016-09-15</td><td>1</td><td>387</td><td>1</td></tr><tr><td>2016-09-15</td><td>6</td><td>215</td><td>1</td></tr><tr><td>2016-09-15</td><td>6</td><td>479</td><td>1</td></tr><tr><td>2016-09-15</td><td>6</td><td>529</td><td>1</td></tr><tr><td>2016-09-15</td><td>10</td><td>529</td><td>1</td></tr><tr><td>2016-09-15</td><td>10</td><td>530</td><td>1</td></tr><tr><td>2016-09-16</td><td>1</td><td>478</td><td>1</td></tr><tr><td>2016-09-16</td><td>1</td><td>537</td><td>1</td></tr><tr><td>2016-09-16</td><td>4</td><td>477</td><td>1</td></tr><tr><td>2016-09-16</td><td>6</td><td>478</td><td>2</td></tr><tr><td>2016-09-16</td><td>6</td><td>529</td><td>1</td></tr><tr><td>2016-09-17</td><td>4</td><td>464</td><td>1</td></tr><tr><td>2016-09-17</td><td>6</td><td>464</td><td>1</td></tr><tr><td>2016-09-17</td><td>8</td><td>214</td><td>1</td></tr><tr><td>2016-09-18</td><td>1</td><td>540</td><td>1</td></tr><tr><td>2016-09-18</td><td>8</td><td>373</td><td>1</td></tr><tr><td>2016-09-18</td><td>9</td><td>529</td><td>1</td></tr><tr><td>2016-09-19</td><td>1</td><td>220</td><td>1</td></tr><tr><td>2016-09-19</td><td>1</td><td>389</td><td>1</td></tr><tr><td>2016-09-19</td><td>1</td><td>528</td><td>1</td></tr><tr><td>2016-09-19</td><td>6</td><td>538</td><td>1</td></tr><tr><td>2016-09-19</td><td>10</td><td>581</td><td>1</td></tr><tr><td>2016-09-20</td><td>6</td><td>387</td><td>1</td></tr><tr><td>2016-09-20</td><td>6</td><td>479</td><td>1</td></tr><tr><td>2016-09-20</td><td>10</td><td>477</td><td>1</td></tr><tr><td>2016-09-20</td><td>10</td><td>538</td><td>1</td></tr><tr><td>2016-09-21</td><td>1</td><td>538</td><td>1</td></tr><tr><td>2016-09-21</td><td>4</td><td>477</td><td>1</td></tr><tr><td>2016-09-21</td><td>7</td><td>480</td><td>1</td></tr><tr><td>2016-09-21</td><td>7</td><td>529</td><td>1</td></tr><tr><td>2016-09-22</td><td>4</td><td>535</td><td>1</td></tr><tr><td>2016-09-23</td><td>4</td><td>477</td><td>1</td></tr><tr><td>2016-09-23</td><td>6</td><td>464</td><td>1</td></tr><tr><td>2016-09-23</td><td>8</td><td>491</td><td>1</td></tr><tr><td>2016-09-23</td><td>10</td><td>541</td><td>1</td></tr><tr><td>2016-09-23</td><td>10</td><td>561</td><td>1</td></tr><tr><td>2016-09-24</td><td>1</td><td>232</td><td>1</td></tr><tr><td>2016-09-24</td><td>1</td><td>535</td><td>1</td></tr><tr><td>2016-09-24</td><td>6</td><td>474</td><td>1</td></tr><tr><td>2016-09-24</td><td>10</td><td>215</td><td>1</td></tr><tr><td>2016-09-25</td><td>1</td><td>539</td><td>1</td></tr><tr><td>2016-09-25</td><td>7</td><td>528</td><td>1</td></tr><tr><td>2016-09-26</td><td>1</td><td>483</td><td>1</td></tr><tr><td>2016-09-26</td><td>1</td><td>538</td><td>1</td></tr><tr><td>2016-09-26</td><td>1</td><td>593</td><td>1</td></tr><tr><td>2016-09-26</td><td>4</td><td>477</td><td>1</td></tr><tr><td>2016-09-26</td><td>4</td><td>485</td><td>1</td></tr><tr><td>2016-09-26</td><td>6</td><td>215</td><td>1</td></tr><tr><td>2016-09-26</td><td>8</td><td>529</td><td>1</td></tr><tr><td>2016-09-26</td><td>8</td><td>536</td><td>1</td></tr><tr><td>2016-09-26</td><td>8</td><td>582</td><td>1</td></tr><tr><td>2016-09-26</td><td>9</td><td>488</td><td>1</td></tr><tr><td>2016-09-27</td><td>8</td><td>528</td><td>1</td></tr><tr><td>2016-09-27</td><td>10</td><td>232</td><td>1</td></tr><tr><td>2016-09-28</td><td>1</td><td>477</td><td>1</td></tr><tr><td>2016-09-28</td><td>6</td><td>528</td><td>1</td></tr><tr><td>2016-09-28</td><td>8</td><td>229</td><td>1</td></tr><tr><td>2016-09-28</td><td>9</td><td>223</td><td>1</td></tr><tr><td>2016-09-29</td><td>6</td><td>528</td><td>1</td></tr><tr><td>2016-09-29</td><td>10</td><td>540</td><td>1</td></tr><tr><td>2016-09-30</td><td>1</td><td>471</td><td>1</td></tr><tr><td>2016-09-30</td><td>4</td><td>605</td><td>1</td></tr><tr><td>2016-09-30</td><td>6</td><td>528</td><td>2</td></tr><tr><td>2016-09-30</td><td>8</td><td>538</td><td>1</td></tr><tr><td>2016-09-30</td><td>9</td><td>605</td><td>1</td></tr><tr><td>2016-09-30</td><td>10</td><td>528</td><td>1</td></tr><tr><td>2016-10-01</td><td>4</td><td>478</td><td>1</td></tr><tr><td>2016-10-01</td><td>6</td><td>232</td><td>1</td></tr><tr><td>2016-10-01</td><td>10</td><td>358</td><td>1</td></tr><tr><td>2016-10-01</td><td>10</td><td>477</td><td>1</td></tr><tr><td>2016-10-01</td><td>10</td><td>528</td><td>1</td></tr><tr><td>2016-10-02</td><td>1</td><td>480</td><td>1</td></tr><tr><td>2016-10-02</td><td>1</td><td>535</td><td>1</td></tr><tr><td>2016-10-02</td><td>4</td><td>214</td><td>1</td></tr><tr><td>2016-10-02</td><td>4</td><td>529</td><td>1</td></tr><tr><td>2016-10-02</td><td>9</td><td>215</td><td>1</td></tr><tr><td>2016-10-02</td><td>10</td><td>529</td><td>1</td></tr><tr><td>2016-10-03</td><td>8</td><td>352</td><td>1</td></tr><tr><td>2016-10-04</td><td>4</td><td>479</td><td>1</td></tr><tr><td>2016-10-04</td><td>4</td><td>487</td><td>1</td></tr><tr><td>2016-10-04</td><td>6</td><td>480</td><td>1</td></tr><tr><td>2016-10-04</td><td>9</td><td>214</td><td>1</td></tr><tr><td>2016-10-05</td><td>1</td><td>485</td><td>1</td></tr><tr><td>2016-10-05</td><td>6</td><td>480</td><td>1</td></tr><tr><td>2016-10-05</td><td>10</td><td>466</td><td>1</td></tr><tr><td>2016-10-06</td><td>4</td><td>485</td><td>1</td></tr><tr><td>2016-10-06</td><td>9</td><td>223</td><td>1</td></tr><tr><td>2016-10-06</td><td>9</td><td>360</td><td>1</td></tr><tr><td>2016-10-06</td><td>9</td><td>477</td><td>1</td></tr><tr><td>2016-10-06</td><td>9</td><td>478</td><td>1</td></tr><tr><td>2016-10-06</td><td>9</td><td>488</td><td>1</td></tr><tr><td>2016-10-07</td><td>6</td><td>538</td><td>1</td></tr><tr><td>2016-10-07</td><td>10</td><td>235</td><td>1</td></tr><tr><td>2016-10-08</td><td>1</td><td>536</td><td>1</td></tr><tr><td>2016-10-08</td><td>4</td><td>477</td><td>1</td></tr><tr><td>2016-10-08</td><td>9</td><td>480</td><td>1</td></tr><tr><td>2016-10-08</td><td>9</td><td>540</td><td>1</td></tr><tr><td>2016-10-09</td><td>1</td><td>223</td><td>1</td></tr><tr><td>2016-10-09</td><td>1</td><td>478</td><td>1</td></tr><tr><td>2016-10-09</td><td>4</td><td>223</td><td>1</td></tr><tr><td>2016-10-09</td><td>7</td><td>229</td><td>1</td></tr><tr><td>2016-10-09</td><td>7</td><td>530</td><td>1</td></tr><tr><td>2016-10-09</td><td>8</td><td>235</td><td>1</td></tr><tr><td>2016-10-09</td><td>9</td><td>477</td><td>1</td></tr><tr><td>2016-10-09</td><td>10</td><td>464</td><td>1</td></tr><tr><td>2016-10-09</td><td>10</td><td>480</td><td>1</td></tr><tr><td>2016-10-09</td><td>10</td><td>529</td><td>1</td></tr><tr><td>2016-10-10</td><td>4</td><td>232</td><td>1</td></tr><tr><td>2016-10-10</td><td>4</td><td>464</td><td>1</td></tr><tr><td>2016-10-10</td><td>4</td><td>537</td><td>1</td></tr><tr><td>2016-10-10</td><td>9</td><td>478</td><td>1</td></tr><tr><td>2016-10-10</td><td>9</td><td>529</td><td>1</td></tr><tr><td>2016-10-10</td><td>9</td><td>535</td><td>1</td></tr><tr><td>2016-10-10</td><td>10</td><td>479</td><td>1</td></tr><tr><td>2016-10-10</td><td>10</td><td>535</td><td>1</td></tr><tr><td>2016-10-11</td><td>1</td><td>580</td><td>1</td></tr><tr><td>2016-10-11</td><td>4</td><td>528</td><td>1</td></tr><tr><td>2016-10-11</td><td>6</td><td>600</td><td>1</td></tr><tr><td>2016-10-11</td><td>9</td><td>530</td><td>1</td></tr><tr><td>2016-10-12</td><td>6</td><td>476</td><td>1</td></tr><tr><td>2016-10-12</td><td>6</td><td>537</td><td>1</td></tr><tr><td>2016-10-12</td><td>6</td><td>539</td><td>1</td></tr><tr><td>2016-10-12</td><td>9</td><td>360</td><td>1</td></tr><tr><td>2016-10-12</td><td>10</td><td>214</td><td>1</td></tr><tr><td>2016-10-12</td><td>10</td><td>215</td><td>1</td></tr><tr><td>2016-10-13</td><td>9</td><td>223</td><td>1</td></tr><tr><td>2016-10-13</td><td>9</td><td>383</td><td>1</td></tr><tr><td>2016-10-13</td><td>10</td><td>540</td><td>1</td></tr><tr><td>2016-10-14</td><td>1</td><td>581</td><td>1</td></tr><tr><td>2016-10-14</td><td>4</td><td>215</td><td>1</td></tr><tr><td>2016-10-14</td><td>9</td><td>477</td><td>1</td></tr><tr><td>2016-10-15</td><td>1</td><td>604</td><td>1</td></tr><tr><td>2016-10-15</td><td>10</td><td>352</td><td>1</td></tr><tr><td>2016-10-16</td><td>4</td><td>479</td><td>1</td></tr><tr><td>2016-10-16</td><td>4</td><td>485</td><td>1</td></tr><tr><td>2016-10-16</td><td>9</td><td>489</td><td>1</td></tr><tr><td>2016-10-16</td><td>10</td><td>381</td><td>1</td></tr><tr><td>2016-10-17</td><td>6</td><td>480</td><td>1</td></tr><tr><td>2016-10-17</td><td>8</td><td>530</td><td>1</td></tr><tr><td>2016-10-17</td><td>9</td><td>485</td><td>1</td></tr><tr><td>2016-10-17</td><td>9</td><td>538</td><td>1</td></tr><tr><td>2016-10-18</td><td>7</td><td>482</td><td>1</td></tr><tr><td>2016-10-19</td><td>4</td><td>589</td><td>1</td></tr><tr><td>2016-10-19</td><td>9</td><td>220</td><td>1</td></tr><tr><td>2016-10-19</td><td>9</td><td>354</td><td>1</td></tr><tr><td>2016-10-20</td><td>1</td><td>466</td><td>1</td></tr><tr><td>2016-10-20</td><td>1</td><td>480</td><td>1</td></tr><tr><td>2016-10-20</td><td>1</td><td>535</td><td>1</td></tr><tr><td>2016-10-20</td><td>9</td><td>464</td><td>1</td></tr><tr><td>2016-10-20</td><td>10</td><td>478</td><td>1</td></tr><tr><td>2016-10-21</td><td>1</td><td>223</td><td>1</td></tr><tr><td>2016-10-21</td><td>4</td><td>482</td><td>1</td></tr><tr><td>2016-10-21</td><td>6</td><td>215</td><td>1</td></tr><tr><td>2016-10-21</td><td>9</td><td>537</td><td>1</td></tr><tr><td>2016-10-21</td><td>9</td><td>539</td><td>1</td></tr><tr><td>2016-10-22</td><td>1</td><td>605</td><td>1</td></tr><tr><td>2016-10-22</td><td>6</td><td>530</td><td>1</td></tr><tr><td>2016-10-22</td><td>7</td><td>605</td><td>1</td></tr><tr><td>2016-10-22</td><td>9</td><td>479</td><td>1</td></tr><tr><td>2016-10-22</td><td>9</td><td>537</td><td>1</td></tr><tr><td>2016-10-23</td><td>1</td><td>223</td><td>1</td></tr><tr><td>2016-10-23</td><td>4</td><td>360</td><td>1</td></tr><tr><td>2016-10-23</td><td>4</td><td>485</td><td>1</td></tr><tr><td>2016-10-24</td><td>4</td><td>214</td><td>1</td></tr><tr><td>2016-10-24</td><td>7</td><td>466</td><td>1</td></tr><tr><td>2016-10-24</td><td>8</td><td>541</td><td>1</td></tr><tr><td>2016-10-25</td><td>4</td><td>540</td><td>1</td></tr><tr><td>2016-10-25</td><td>4</td><td>606</td><td>1</td></tr><tr><td>2016-10-25</td><td>9</td><td>477</td><td>1</td></tr><tr><td>2016-10-25</td><td>9</td><td>481</td><td>1</td></tr><tr><td>2016-10-25</td><td>10</td><td>485</td><td>1</td></tr><tr><td>2016-10-26</td><td>1</td><td>389</td><td>1</td></tr><tr><td>2016-10-26</td><td>1</td><td>528</td><td>1</td></tr><tr><td>2016-10-26</td><td>1</td><td>529</td><td>1</td></tr><tr><td>2016-10-26</td><td>1</td><td>530</td><td>1</td></tr><tr><td>2016-10-26</td><td>4</td><td>488</td><td>1</td></tr><tr><td>2016-10-26</td><td>8</td><td>478</td><td>1</td></tr><tr><td>2016-10-26</td><td>9</td><td>541</td><td>1</td></tr><tr><td>2016-10-27</td><td>6</td><td>220</td><td>1</td></tr><tr><td>2016-10-27</td><td>9</td><td>489</td><td>1</td></tr><tr><td>2016-10-28</td><td>4</td><td>223</td><td>1</td></tr><tr><td>2016-10-28</td><td>7</td><td>480</td><td>1</td></tr><tr><td>2016-10-28</td><td>7</td><td>484</td><td>1</td></tr><tr><td>2016-10-28</td><td>7</td><td>577</td><td>1</td></tr><tr><td>2016-10-28</td><td>9</td><td>220</td><td>1</td></tr><tr><td>2016-10-28</td><td>9</td><td>477</td><td>1</td></tr><tr><td>2016-10-28</td><td>10</td><td>471</td><td>1</td></tr><tr><td>2016-10-29</td><td>4</td><td>581</td><td>1</td></tr><tr><td>2016-10-29</td><td>6</td><td>541</td><td>1</td></tr><tr><td>2016-10-29</td><td>8</td><td>235</td><td>1</td></tr><tr><td>2016-10-29</td><td>9</td><td>538</td><td>1</td></tr><tr><td>2016-10-29</td><td>10</td><td>477</td><td>1</td></tr><tr><td>2016-10-30</td><td>4</td><td>537</td><td>1</td></tr><tr><td>2016-10-30</td><td>6</td><td>475</td><td>1</td></tr><tr><td>2016-10-30</td><td>9</td><td>358</td><td>1</td></tr><tr><td>2016-10-30</td><td>10</td><td>371</td><td>1</td></tr><tr><td>2016-10-31</td><td>1</td><td>596</td><td>1</td></tr><tr><td>2016-10-31</td><td>4</td><td>215</td><td>1</td></tr><tr><td>2016-10-31</td><td>7</td><td>530</td><td>1</td></tr><tr><td>2016-10-31</td><td>8</td><td>358</td><td>1</td></tr><tr><td>2016-10-31</td><td>8</td><td>528</td><td>1</td></tr><tr><td>2016-10-31</td><td>8</td><td>584</td><td>1</td></tr><tr><td>2016-10-31</td><td>9</td><td>604</td><td>1</td></tr><tr><td>2016-11-01</td><td>6</td><td>477</td><td>1</td></tr><tr><td>2016-11-01</td><td>6</td><td>478</td><td>1</td></tr><tr><td>2016-11-01</td><td>6</td><td>528</td><td>1</td></tr><tr><td>2016-11-01</td><td>6</td><td>529</td><td>1</td></tr><tr><td>2016-11-02</td><td>4</td><td>215</td><td>1</td></tr><tr><td>2016-11-02</td><td>6</td><td>360</td><td>1</td></tr><tr><td>2016-11-02</td><td>7</td><td>477</td><td>1</td></tr><tr><td>2016-11-02</td><td>9</td><td>214</td><td>1</td></tr><tr><td>2016-11-02</td><td>10</td><td>385</td><td>1</td></tr><tr><td>2016-11-03</td><td>4</td><td>474</td><td>1</td></tr><tr><td>2016-11-03</td><td>4</td><td>541</td><td>1</td></tr><tr><td>2016-11-03</td><td>8</td><td>375</td><td>1</td></tr><tr><td>2016-11-03</td><td>9</td><td>489</td><td>1</td></tr><tr><td>2016-11-04</td><td>4</td><td>466</td><td>1</td></tr><tr><td>2016-11-04</td><td>10</td><td>528</td><td>1</td></tr><tr><td>2016-11-05</td><td>1</td><td>478</td><td>1</td></tr><tr><td>2016-11-05</td><td>9</td><td>480</td><td>1</td></tr><tr><td>2016-11-05</td><td>10</td><td>529</td><td>1</td></tr><tr><td>2016-11-06</td><td>1</td><td>485</td><td>1</td></tr><tr><td>2016-11-06</td><td>4</td><td>477</td><td>2</td></tr><tr><td>2016-11-07</td><td>1</td><td>354</td><td>1</td></tr><tr><td>2016-11-07</td><td>4</td><td>477</td><td>2</td></tr><tr><td>2016-11-07</td><td>6</td><td>478</td><td>1</td></tr><tr><td>2016-11-07</td><td>6</td><td>540</td><td>1</td></tr><tr><td>2016-11-07</td><td>8</td><td>477</td><td>1</td></tr><tr><td>2016-11-07</td><td>9</td><td>477</td><td>1</td></tr><tr><td>2016-11-07</td><td>9</td><td>535</td><td>1</td></tr><tr><td>2016-11-07</td><td>9</td><td>537</td><td>1</td></tr><tr><td>2016-11-07</td><td>9</td><td>604</td><td>1</td></tr><tr><td>2016-11-08</td><td>1</td><td>478</td><td>1</td></tr><tr><td>2016-11-08</td><td>4</td><td>472</td><td>1</td></tr><tr><td>2016-11-08</td><td>10</td><td>536</td><td>1</td></tr><tr><td>2016-11-09</td><td>1</td><td>478</td><td>1</td></tr><tr><td>2016-11-09</td><td>7</td><td>220</td><td>1</td></tr><tr><td>2016-11-09</td><td>9</td><td>477</td><td>1</td></tr><tr><td>2016-11-09</td><td>10</td><td>477</td><td>1</td></tr><tr><td>2016-11-10</td><td>1</td><td>362</td><td>1</td></tr><tr><td>2016-11-10</td><td>4</td><td>530</td><td>1</td></tr><tr><td>2016-11-10</td><td>6</td><td>528</td><td>1</td></tr><tr><td>2016-11-10</td><td>7</td><td>479</td><td>1</td></tr><tr><td>2016-11-10</td><td>10</td><td>485</td><td>1</td></tr><tr><td>2016-11-11</td><td>1</td><td>220</td><td>1</td></tr><tr><td>2016-11-12</td><td>4</td><td>480</td><td>1</td></tr><tr><td>2016-11-12</td><td>6</td><td>606</td><td>1</td></tr><tr><td>2016-11-12</td><td>8</td><td>477</td><td>1</td></tr><tr><td>2016-11-12</td><td>9</td><td>535</td><td>1</td></tr><tr><td>2016-11-12</td><td>10</td><td>541</td><td>1</td></tr><tr><td>2016-11-13</td><td>1</td><td>479</td><td>1</td></tr><tr><td>2016-11-13</td><td>1</td><td>562</td><td>1</td></tr><tr><td>2016-11-13</td><td>9</td><td>375</td><td>1</td></tr><tr><td>2016-11-14</td><td>1</td><td>466</td><td>1</td></tr><tr><td>2016-11-14</td><td>1</td><td>589</td><td>1</td></tr><tr><td>2016-11-14</td><td>4</td><td>478</td><td>1</td></tr><tr><td>2016-11-14</td><td>7</td><td>215</td><td>1</td></tr><tr><td>2016-11-14</td><td>7</td><td>538</td><td>1</td></tr><tr><td>2016-11-14</td><td>9</td><td>537</td><td>1</td></tr><tr><td>2016-11-14</td><td>9</td><td>592</td><td>1</td></tr><tr><td>2016-11-14</td><td>10</td><td>215</td><td>1</td></tr><tr><td>2016-11-14</td><td>10</td><td>477</td><td>1</td></tr><tr><td>2016-11-15</td><td>1</td><td>480</td><td>1</td></tr><tr><td>2016-11-15</td><td>4</td><td>478</td><td>1</td></tr><tr><td>2016-11-15</td><td>4</td><td>560</td><td>1</td></tr><tr><td>2016-11-16</td><td>1</td><td>528</td><td>1</td></tr><tr><td>2016-11-16</td><td>4</td><td>538</td><td>1</td></tr><tr><td>2016-11-17</td><td>1</td><td>480</td><td>1</td></tr><tr><td>2016-11-17</td><td>6</td><td>605</td><td>1</td></tr><tr><td>2016-11-17</td><td>8</td><td>584</td><td>1</td></tr><tr><td>2016-11-17</td><td>9</td><td>487</td><td>1</td></tr><tr><td>2016-11-17</td><td>10</td><td>385</td><td>1</td></tr><tr><td>2016-11-18</td><td>1</td><td>479</td><td>1</td></tr><tr><td>2016-11-18</td><td>6</td><td>480</td><td>1</td></tr><tr><td>2016-11-18</td><td>7</td><td>220</td><td>1</td></tr><tr><td>2016-11-18</td><td>7</td><td>487</td><td>1</td></tr><tr><td>2016-11-18</td><td>8</td><td>541</td><td>1</td></tr><tr><td>2016-11-18</td><td>9</td><td>220</td><td>1</td></tr><tr><td>2016-11-18</td><td>10</td><td>529</td><td>1</td></tr><tr><td>2016-11-18</td><td>10</td><td>583</td><td>1</td></tr><tr><td>2016-11-18</td><td>10</td><td>584</td><td>1</td></tr><tr><td>2016-11-19</td><td>4</td><td>220</td><td>1</td></tr><tr><td>2016-11-19</td><td>4</td><td>377</td><td>1</td></tr><tr><td>2016-11-19</td><td>4</td><td>486</td><td>1</td></tr><tr><td>2016-11-19</td><td>4</td><td>541</td><td>1</td></tr><tr><td>2016-11-19</td><td>6</td><td>584</td><td>1</td></tr><tr><td>2016-11-19</td><td>8</td><td>214</td><td>1</td></tr><tr><td>2016-11-19</td><td>9</td><td>214</td><td>1</td></tr><tr><td>2016-11-19</td><td>9</td><td>582</td><td>1</td></tr><tr><td>2016-11-20</td><td>4</td><td>481</td><td>1</td></tr><tr><td>2016-11-20</td><td>6</td><td>462</td><td>1</td></tr><tr><td>2016-11-20</td><td>6</td><td>538</td><td>1</td></tr><tr><td>2016-11-20</td><td>8</td><td>529</td><td>1</td></tr><tr><td>2016-11-20</td><td>9</td><td>487</td><td>1</td></tr><tr><td>2016-11-21</td><td>1</td><td>220</td><td>1</td></tr><tr><td>2016-11-21</td><td>1</td><td>226</td><td>1</td></tr><tr><td>2016-11-21</td><td>4</td><td>362</td><td>1</td></tr><tr><td>2016-11-21</td><td>4</td><td>464</td><td>1</td></tr><tr><td>2016-11-22</td><td>4</td><td>356</td><td>1</td></tr><tr><td>2016-11-22</td><td>4</td><td>485</td><td>1</td></tr><tr><td>2016-11-22</td><td>6</td><td>220</td><td>1</td></tr><tr><td>2016-11-22</td><td>9</td><td>489</td><td>1</td></tr><tr><td>2016-11-22</td><td>10</td><td>214</td><td>1</td></tr><tr><td>2016-11-23</td><td>1</td><td>478</td><td>1</td></tr><tr><td>2016-11-23</td><td>1</td><td>479</td><td>1</td></tr><tr><td>2016-11-23</td><td>4</td><td>215</td><td>1</td></tr><tr><td>2016-11-23</td><td>4</td><td>476</td><td>1</td></tr><tr><td>2016-11-23</td><td>9</td><td>214</td><td>1</td></tr><tr><td>2016-11-24</td><td>1</td><td>220</td><td>1</td></tr><tr><td>2016-11-24</td><td>1</td><td>528</td><td>1</td></tr><tr><td>2016-11-24</td><td>9</td><td>536</td><td>1</td></tr><tr><td>2016-11-24</td><td>10</td><td>358</td><td>1</td></tr><tr><td>2016-11-24</td><td>10</td><td>478</td><td>1</td></tr><tr><td>2016-11-25</td><td>4</td><td>485</td><td>1</td></tr><tr><td>2016-11-25</td><td>6</td><td>484</td><td>1</td></tr><tr><td>2016-11-25</td><td>6</td><td>528</td><td>1</td></tr><tr><td>2016-11-26</td><td>4</td><td>529</td><td>1</td></tr><tr><td>2016-11-26</td><td>7</td><td>479</td><td>1</td></tr><tr><td>2016-11-26</td><td>8</td><td>484</td><td>1</td></tr><tr><td>2016-11-27</td><td>6</td><td>528</td><td>1</td></tr><tr><td>2016-11-27</td><td>9</td><td>462</td><td>1</td></tr><tr><td>2016-11-28</td><td>1</td><td>480</td><td>1</td></tr><tr><td>2016-11-28</td><td>1</td><td>483</td><td>1</td></tr><tr><td>2016-11-28</td><td>1</td><td>530</td><td>1</td></tr><tr><td>2016-11-28</td><td>4</td><td>477</td><td>1</td></tr><tr><td>2016-11-28</td><td>9</td><td>215</td><td>1</td></tr><tr><td>2016-11-28</td><td>9</td><td>589</td><td>1</td></tr><tr><td>2016-11-28</td><td>10</td><td>477</td><td>1</td></tr><tr><td>2016-11-28</td><td>10</td><td>478</td><td>1</td></tr><tr><td>2016-11-29</td><td>1</td><td>535</td><td>1</td></tr><tr><td>2016-11-29</td><td>10</td><td>477</td><td>1</td></tr><tr><td>2016-11-29</td><td>10</td><td>479</td><td>1</td></tr><tr><td>2016-11-30</td><td>1</td><td>476</td><td>1</td></tr><tr><td>2016-11-30</td><td>4</td><td>214</td><td>1</td></tr><tr><td>2016-11-30</td><td>4</td><td>535</td><td>1</td></tr><tr><td>2016-11-30</td><td>7</td><td>476</td><td>1</td></tr><tr><td>2016-11-30</td><td>9</td><td>606</td><td>1</td></tr><tr><td>2016-12-01</td><td>1</td><td>215</td><td>1</td></tr><tr><td>2016-12-01</td><td>6</td><td>535</td><td>1</td></tr><tr><td>2016-12-01</td><td>7</td><td>220</td><td>1</td></tr><tr><td>2016-12-01</td><td>7</td><td>586</td><td>1</td></tr><tr><td>2016-12-01</td><td>8</td><td>223</td><td>1</td></tr><tr><td>2016-12-01</td><td>8</td><td>477</td><td>1</td></tr><tr><td>2016-12-01</td><td>9</td><td>214</td><td>1</td></tr><tr><td>2016-12-01</td><td>9</td><td>540</td><td>1</td></tr><tr><td>2016-12-02</td><td>6</td><td>474</td><td>1</td></tr><tr><td>2016-12-03</td><td>1</td><td>528</td><td>1</td></tr><tr><td>2016-12-03</td><td>1</td><td>535</td><td>1</td></tr><tr><td>2016-12-03</td><td>6</td><td>464</td><td>1</td></tr><tr><td>2016-12-03</td><td>6</td><td>528</td><td>1</td></tr><tr><td>2016-12-03</td><td>9</td><td>488</td><td>1</td></tr><tr><td>2016-12-03</td><td>10</td><td>220</td><td>1</td></tr><tr><td>2016-12-04</td><td>1</td><td>478</td><td>1</td></tr><tr><td>2016-12-04</td><td>1</td><td>539</td><td>1</td></tr><tr><td>2016-12-04</td><td>8</td><td>477</td><td>1</td></tr><tr><td>2016-12-04</td><td>9</td><td>529</td><td>1</td></tr><tr><td>2016-12-05</td><td>4</td><td>214</td><td>1</td></tr><tr><td>2016-12-05</td><td>4</td><td>528</td><td>1</td></tr><tr><td>2016-12-05</td><td>6</td><td>478</td><td>1</td></tr><tr><td>2016-12-05</td><td>8</td><td>385</td><td>1</td></tr><tr><td>2016-12-05</td><td>9</td><td>477</td><td>1</td></tr><tr><td>2016-12-05</td><td>10</td><td>214</td><td>1</td></tr><tr><td>2016-12-05</td><td>10</td><td>215</td><td>1</td></tr><tr><td>2016-12-06</td><td>1</td><td>528</td><td>1</td></tr><tr><td>2016-12-06</td><td>4</td><td>215</td><td>1</td></tr><tr><td>2016-12-06</td><td>6</td><td>485</td><td>1</td></tr><tr><td>2016-12-06</td><td>8</td><td>563</td><td>1</td></tr><tr><td>2016-12-07</td><td>4</td><td>466</td><td>1</td></tr><tr><td>2016-12-07</td><td>4</td><td>528</td><td>1</td></tr><tr><td>2016-12-07</td><td>4</td><td>540</td><td>1</td></tr><tr><td>2016-12-07</td><td>6</td><td>474</td><td>1</td></tr><tr><td>2016-12-07</td><td>7</td><td>220</td><td>1</td></tr><tr><td>2016-12-07</td><td>7</td><td>595</td><td>1</td></tr><tr><td>2016-12-07</td><td>9</td><td>564</td><td>1</td></tr><tr><td>2016-12-07</td><td>10</td><td>598</td><td>1</td></tr><tr><td>2016-12-08</td><td>4</td><td>214</td><td>1</td></tr><tr><td>2016-12-08</td><td>9</td><td>490</td><td>1</td></tr><tr><td>2016-12-08</td><td>9</td><td>577</td><td>1</td></tr><tr><td>2016-12-08</td><td>10</td><td>462</td><td>1</td></tr><tr><td>2016-12-09</td><td>4</td><td>223</td><td>1</td></tr><tr><td>2016-12-09</td><td>4</td><td>480</td><td>1</td></tr><tr><td>2016-12-09</td><td>4</td><td>530</td><td>1</td></tr><tr><td>2016-12-09</td><td>4</td><td>537</td><td>1</td></tr><tr><td>2016-12-09</td><td>6</td><td>471</td><td>1</td></tr><tr><td>2016-12-09</td><td>6</td><td>475</td><td>1</td></tr><tr><td>2016-12-09</td><td>8</td><td>479</td><td>1</td></tr><tr><td>2016-12-09</td><td>9</td><td>479</td><td>1</td></tr><tr><td>2016-12-09</td><td>9</td><td>530</td><td>1</td></tr><tr><td>2016-12-10</td><td>7</td><td>537</td><td>1</td></tr><tr><td>2016-12-10</td><td>9</td><td>478</td><td>1</td></tr><tr><td>2016-12-11</td><td>1</td><td>371</td><td>1</td></tr><tr><td>2016-12-11</td><td>9</td><td>476</td><td>1</td></tr><tr><td>2016-12-11</td><td>9</td><td>477</td><td>1</td></tr><tr><td>2016-12-12</td><td>4</td><td>220</td><td>1</td></tr><tr><td>2016-12-12</td><td>6</td><td>214</td><td>1</td></tr><tr><td>2016-12-12</td><td>7</td><td>214</td><td>1</td></tr><tr><td>2016-12-12</td><td>7</td><td>530</td><td>1</td></tr><tr><td>2016-12-12</td><td>7</td><td>536</td><td>1</td></tr><tr><td>2016-12-12</td><td>8</td><td>478</td><td>1</td></tr><tr><td>2016-12-12</td><td>10</td><td>485</td><td>1</td></tr><tr><td>2016-12-13</td><td>1</td><td>480</td><td>1</td></tr><tr><td>2016-12-13</td><td>1</td><td>485</td><td>1</td></tr><tr><td>2016-12-13</td><td>4</td><td>535</td><td>1</td></tr><tr><td>2016-12-13</td><td>6</td><td>529</td><td>1</td></tr><tr><td>2016-12-13</td><td>8</td><td>223</td><td>1</td></tr><tr><td>2016-12-13</td><td>9</td><td>486</td><td>1</td></tr><tr><td>2016-12-13</td><td>9</td><td>530</td><td>1</td></tr><tr><td>2016-12-14</td><td>1</td><td>540</td><td>1</td></tr><tr><td>2016-12-14</td><td>4</td><td>479</td><td>1</td></tr><tr><td>2016-12-14</td><td>6</td><td>220</td><td>1</td></tr><tr><td>2016-12-15</td><td>1</td><td>362</td><td>1</td></tr><tr><td>2016-12-15</td><td>1</td><td>478</td><td>1</td></tr><tr><td>2016-12-15</td><td>6</td><td>577</td><td>1</td></tr><tr><td>2016-12-15</td><td>7</td><td>489</td><td>1</td></tr><tr><td>2016-12-15</td><td>8</td><td>528</td><td>1</td></tr><tr><td>2016-12-15</td><td>8</td><td>538</td><td>1</td></tr><tr><td>2016-12-15</td><td>9</td><td>535</td><td>1</td></tr><tr><td>2016-12-15</td><td>9</td><td>572</td><td>1</td></tr><tr><td>2016-12-15</td><td>10</td><td>480</td><td>1</td></tr><tr><td>2016-12-16</td><td>1</td><td>480</td><td>1</td></tr><tr><td>2016-12-16</td><td>6</td><td>530</td><td>1</td></tr><tr><td>2016-12-16</td><td>9</td><td>385</td><td>1</td></tr><tr><td>2016-12-16</td><td>10</td><td>484</td><td>1</td></tr><tr><td>2016-12-17</td><td>1</td><td>474</td><td>1</td></tr><tr><td>2016-12-17</td><td>1</td><td>539</td><td>1</td></tr><tr><td>2016-12-17</td><td>4</td><td>220</td><td>1</td></tr><tr><td>2016-12-17</td><td>4</td><td>583</td><td>1</td></tr><tr><td>2016-12-17</td><td>6</td><td>528</td><td>1</td></tr><tr><td>2016-12-17</td><td>6</td><td>537</td><td>1</td></tr><tr><td>2016-12-17</td><td>10</td><td>477</td><td>1</td></tr><tr><td>2016-12-18</td><td>1</td><td>358</td><td>1</td></tr><tr><td>2016-12-18</td><td>6</td><td>477</td><td>1</td></tr><tr><td>2016-12-19</td><td>8</td><td>220</td><td>1</td></tr><tr><td>2016-12-19</td><td>9</td><td>576</td><td>1</td></tr><tr><td>2016-12-19</td><td>10</td><td>356</td><td>1</td></tr><tr><td>2016-12-20</td><td>1</td><td>529</td><td>1</td></tr><tr><td>2016-12-20</td><td>6</td><td>478</td><td>1</td></tr><tr><td>2016-12-20</td><td>8</td><td>223</td><td>1</td></tr><tr><td>2016-12-20</td><td>9</td><td>535</td><td>1</td></tr><tr><td>2016-12-20</td><td>10</td><td>575</td><td>1</td></tr><tr><td>2016-12-21</td><td>1</td><td>477</td><td>1</td></tr><tr><td>2016-12-21</td><td>6</td><td>360</td><td>1</td></tr><tr><td>2016-12-21</td><td>7</td><td>477</td><td>1</td></tr><tr><td>2016-12-21</td><td>10</td><td>480</td><td>1</td></tr><tr><td>2016-12-22</td><td>1</td><td>385</td><td>1</td></tr><tr><td>2016-12-23</td><td>4</td><td>215</td><td>1</td></tr><tr><td>2016-12-23</td><td>4</td><td>477</td><td>1</td></tr><tr><td>2016-12-23</td><td>4</td><td>488</td><td>1</td></tr><tr><td>2016-12-23</td><td>7</td><td>215</td><td>1</td></tr><tr><td>2016-12-23</td><td>9</td><td>484</td><td>1</td></tr><tr><td>2016-12-24</td><td>1</td><td>480</td><td>1</td></tr><tr><td>2016-12-24</td><td>1</td><td>537</td><td>1</td></tr><tr><td>2016-12-24</td><td>1</td><td>539</td><td>1</td></tr><tr><td>2016-12-24</td><td>4</td><td>481</td><td>1</td></tr><tr><td>2016-12-24</td><td>6</td><td>462</td><td>1</td></tr><tr><td>2016-12-24</td><td>6</td><td>477</td><td>1</td></tr><tr><td>2016-12-24</td><td>9</td><td>529</td><td>1</td></tr><tr><td>2016-12-24</td><td>9</td><td>530</td><td>1</td></tr><tr><td>2016-12-25</td><td>1</td><td>214</td><td>1</td></tr><tr><td>2016-12-25</td><td>1</td><td>220</td><td>1</td></tr><tr><td>2016-12-25</td><td>4</td><td>476</td><td>1</td></tr><tr><td>2016-12-25</td><td>4</td><td>588</td><td>1</td></tr><tr><td>2016-12-25</td><td>7</td><td>215</td><td>1</td></tr><tr><td>2016-12-25</td><td>8</td><td>223</td><td>1</td></tr><tr><td>2016-12-25</td><td>9</td><td>229</td><td>1</td></tr><tr><td>2016-12-25</td><td>9</td><td>530</td><td>1</td></tr><tr><td>2016-12-25</td><td>10</td><td>232</td><td>1</td></tr><tr><td>2016-12-26</td><td>1</td><td>232</td><td>1</td></tr><tr><td>2016-12-26</td><td>1</td><td>479</td><td>1</td></tr><tr><td>2016-12-26</td><td>4</td><td>214</td><td>1</td></tr><tr><td>2016-12-26</td><td>6</td><td>528</td><td>1</td></tr><tr><td>2016-12-26</td><td>8</td><td>479</td><td>1</td></tr><tr><td>2016-12-26</td><td>9</td><td>387</td><td>1</td></tr><tr><td>2016-12-26</td><td>10</td><td>528</td><td>1</td></tr><tr><td>2016-12-27</td><td>6</td><td>528</td><td>1</td></tr><tr><td>2016-12-27</td><td>9</td><td>479</td><td>1</td></tr><tr><td>2016-12-27</td><td>9</td><td>480</td><td>1</td></tr><tr><td>2016-12-28</td><td>1</td><td>584</td><td>1</td></tr><tr><td>2016-12-28</td><td>4</td><td>214</td><td>1</td></tr><tr><td>2016-12-28</td><td>4</td><td>538</td><td>1</td></tr><tr><td>2016-12-28</td><td>6</td><td>537</td><td>1</td></tr><tr><td>2016-12-28</td><td>7</td><td>477</td><td>1</td></tr><tr><td>2016-12-28</td><td>8</td><td>214</td><td>1</td></tr><tr><td>2016-12-28</td><td>9</td><td>562</td><td>1</td></tr><tr><td>2016-12-28</td><td>9</td><td>605</td><td>1</td></tr><tr><td>2016-12-29</td><td>1</td><td>484</td><td>1</td></tr><tr><td>2016-12-29</td><td>1</td><td>528</td><td>1</td></tr><tr><td>2016-12-30</td><td>1</td><td>215</td><td>1</td></tr><tr><td>2016-12-30</td><td>1</td><td>535</td><td>1</td></tr><tr><td>2016-12-30</td><td>1</td><td>540</td><td>1</td></tr><tr><td>2016-12-30</td><td>4</td><td>381</td><td>1</td></tr><tr><td>2016-12-30</td><td>4</td><td>484</td><td>1</td></tr><tr><td>2016-12-30</td><td>6</td><td>482</td><td>1</td></tr><tr><td>2016-12-30</td><td>7</td><td>229</td><td>1</td></tr><tr><td>2016-12-31</td><td>4</td><td>223</td><td>1</td></tr><tr><td>2016-12-31</td><td>4</td><td>537</td><td>1</td></tr><tr><td>2016-12-31</td><td>6</td><td>539</td><td>1</td></tr><tr><td>2016-12-31</td><td>7</td><td>477</td><td>1</td></tr><tr><td>2016-12-31</td><td>8</td><td>580</td><td>1</td></tr><tr><td>2016-12-31</td><td>10</td><td>479</td><td>1</td></tr><tr><td>2017-01-01</td><td>6</td><td>528</td><td>1</td></tr><tr><td>2017-01-01</td><td>9</td><td>477</td><td>1</td></tr><tr><td>2017-01-01</td><td>9</td><td>479</td><td>2</td></tr><tr><td>2017-01-01</td><td>9</td><td>528</td><td>1</td></tr><tr><td>2017-01-01</td><td>10</td><td>485</td><td>1</td></tr><tr><td>2017-01-02</td><td>1</td><td>537</td><td>1</td></tr><tr><td>2017-01-02</td><td>4</td><td>215</td><td>1</td></tr><tr><td>2017-01-02</td><td>4</td><td>479</td><td>1</td></tr><tr><td>2017-01-02</td><td>8</td><td>214</td><td>1</td></tr><tr><td>2017-01-02</td><td>8</td><td>528</td><td>1</td></tr><tr><td>2017-01-02</td><td>9</td><td>214</td><td>1</td></tr><tr><td>2017-01-02</td><td>9</td><td>561</td><td>1</td></tr><tr><td>2017-01-03</td><td>1</td><td>487</td><td>1</td></tr><tr><td>2017-01-03</td><td>4</td><td>485</td><td>1</td></tr><tr><td>2017-01-03</td><td>6</td><td>477</td><td>1</td></tr><tr><td>2017-01-03</td><td>7</td><td>540</td><td>1</td></tr><tr><td>2017-01-03</td><td>8</td><td>480</td><td>1</td></tr><tr><td>2017-01-03</td><td>9</td><td>477</td><td>1</td></tr><tr><td>2017-01-04</td><td>4</td><td>536</td><td>1</td></tr><tr><td>2017-01-04</td><td>9</td><td>484</td><td>1</td></tr><tr><td>2017-01-05</td><td>1</td><td>479</td><td>1</td></tr><tr><td>2017-01-05</td><td>6</td><td>536</td><td>1</td></tr><tr><td>2017-01-05</td><td>7</td><td>214</td><td>1</td></tr><tr><td>2017-01-05</td><td>10</td><td>480</td><td>1</td></tr><tr><td>2017-01-06</td><td>7</td><td>479</td><td>1</td></tr><tr><td>2017-01-06</td><td>7</td><td>486</td><td>1</td></tr><tr><td>2017-01-06</td><td>9</td><td>223</td><td>1</td></tr><tr><td>2017-01-06</td><td>9</td><td>385</td><td>1</td></tr><tr><td>2017-01-07</td><td>1</td><td>220</td><td>1</td></tr><tr><td>2017-01-07</td><td>1</td><td>490</td><td>1</td></tr><tr><td>2017-01-07</td><td>7</td><td>373</td><td>1</td></tr><tr><td>2017-01-08</td><td>1</td><td>480</td><td>1</td></tr><tr><td>2017-01-08</td><td>1</td><td>489</td><td>1</td></tr><tr><td>2017-01-08</td><td>8</td><td>485</td><td>1</td></tr><tr><td>2017-01-08</td><td>10</td><td>535</td><td>1</td></tr><tr><td>2017-01-09</td><td>4</td><td>478</td><td>1</td></tr><tr><td>2017-01-09</td><td>4</td><td>479</td><td>1</td></tr><tr><td>2017-01-09</td><td>6</td><td>474</td><td>1</td></tr><tr><td>2017-01-09</td><td>9</td><td>214</td><td>1</td></tr><tr><td>2017-01-10</td><td>1</td><td>220</td><td>1</td></tr><tr><td>2017-01-10</td><td>4</td><td>577</td><td>1</td></tr><tr><td>2017-01-10</td><td>6</td><td>462</td><td>1</td></tr><tr><td>2017-01-10</td><td>6</td><td>536</td><td>1</td></tr><tr><td>2017-01-10</td><td>6</td><td>538</td><td>1</td></tr><tr><td>2017-01-10</td><td>8</td><td>215</td><td>1</td></tr><tr><td>2017-01-10</td><td>10</td><td>535</td><td>1</td></tr><tr><td>2017-01-11</td><td>1</td><td>484</td><td>1</td></tr><tr><td>2017-01-11</td><td>1</td><td>588</td><td>1</td></tr><tr><td>2017-01-11</td><td>4</td><td>529</td><td>1</td></tr><tr><td>2017-01-11</td><td>4</td><td>537</td><td>1</td></tr><tr><td>2017-01-11</td><td>7</td><td>220</td><td>1</td></tr><tr><td>2017-01-11</td><td>7</td><td>478</td><td>1</td></tr><tr><td>2017-01-11</td><td>9</td><td>215</td><td>1</td></tr><tr><td>2017-01-11</td><td>9</td><td>477</td><td>1</td></tr><tr><td>2017-01-11</td><td>9</td><td>484</td><td>1</td></tr><tr><td>2017-01-11</td><td>9</td><td>576</td><td>1</td></tr><tr><td>2017-01-11</td><td>10</td><td>464</td><td>1</td></tr><tr><td>2017-01-12</td><td>4</td><td>484</td><td>1</td></tr><tr><td>2017-01-12</td><td>6</td><td>537</td><td>1</td></tr><tr><td>2017-01-12</td><td>9</td><td>473</td><td>1</td></tr><tr><td>2017-01-12</td><td>9</td><td>479</td><td>1</td></tr><tr><td>2017-01-13</td><td>4</td><td>529</td><td>1</td></tr><tr><td>2017-01-13</td><td>9</td><td>473</td><td>1</td></tr><tr><td>2017-01-14</td><td>1</td><td>358</td><td>1</td></tr><tr><td>2017-01-14</td><td>6</td><td>485</td><td>1</td></tr><tr><td>2017-01-14</td><td>9</td><td>371</td><td>1</td></tr><tr><td>2017-01-14</td><td>10</td><td>229</td><td>1</td></tr><tr><td>2017-01-14</td><td>10</td><td>529</td><td>1</td></tr><tr><td>2017-01-15</td><td>1</td><td>232</td><td>1</td></tr><tr><td>2017-01-15</td><td>1</td><td>541</td><td>1</td></tr><tr><td>2017-01-15</td><td>6</td><td>477</td><td>1</td></tr><tr><td>2017-01-15</td><td>7</td><td>538</td><td>1</td></tr><tr><td>2017-01-15</td><td>8</td><td>530</td><td>1</td></tr><tr><td>2017-01-15</td><td>9</td><td>360</td><td>1</td></tr><tr><td>2017-01-15</td><td>9</td><td>488</td><td>1</td></tr><tr><td>2017-01-15</td><td>9</td><td>529</td><td>1</td></tr><tr><td>2017-01-15</td><td>10</td><td>478</td><td>1</td></tr><tr><td>2017-01-16</td><td>9</td><td>540</td><td>1</td></tr><tr><td>2017-01-16</td><td>10</td><td>588</td><td>1</td></tr><tr><td>2017-01-17</td><td>4</td><td>214</td><td>1</td></tr><tr><td>2017-01-17</td><td>4</td><td>220</td><td>1</td></tr><tr><td>2017-01-17</td><td>4</td><td>528</td><td>1</td></tr><tr><td>2017-01-17</td><td>6</td><td>477</td><td>1</td></tr><tr><td>2017-01-17</td><td>6</td><td>529</td><td>1</td></tr><tr><td>2017-01-17</td><td>8</td><td>484</td><td>1</td></tr><tr><td>2017-01-17</td><td>9</td><td>477</td><td>1</td></tr><tr><td>2017-01-17</td><td>9</td><td>485</td><td>1</td></tr><tr><td>2017-01-18</td><td>1</td><td>528</td><td>1</td></tr><tr><td>2017-01-18</td><td>4</td><td>487</td><td>1</td></tr><tr><td>2017-01-18</td><td>4</td><td>528</td><td>1</td></tr><tr><td>2017-01-18</td><td>6</td><td>481</td><td>2</td></tr><tr><td>2017-01-18</td><td>8</td><td>220</td><td>1</td></tr><tr><td>2017-01-18</td><td>9</td><td>471</td><td>1</td></tr><tr><td>2017-01-18</td><td>9</td><td>474</td><td>1</td></tr><tr><td>2017-01-18</td><td>9</td><td>477</td><td>1</td></tr><tr><td>2017-01-18</td><td>10</td><td>529</td><td>1</td></tr><tr><td>2017-01-19</td><td>1</td><td>478</td><td>1</td></tr><tr><td>2017-01-19</td><td>9</td><td>214</td><td>1</td></tr><tr><td>2017-01-19</td><td>9</td><td>541</td><td>1</td></tr><tr><td>2017-01-19</td><td>10</td><td>475</td><td>1</td></tr><tr><td>2017-01-19</td><td>10</td><td>539</td><td>1</td></tr><tr><td>2017-01-20</td><td>7</td><td>229</td><td>1</td></tr><tr><td>2017-01-20</td><td>8</td><td>484</td><td>1</td></tr><tr><td>2017-01-20</td><td>8</td><td>538</td><td>1</td></tr><tr><td>2017-01-20</td><td>9</td><td>485</td><td>1</td></tr><tr><td>2017-01-20</td><td>10</td><td>215</td><td>1</td></tr><tr><td>2017-01-20</td><td>10</td><td>573</td><td>1</td></tr><tr><td>2017-01-21</td><td>4</td><td>477</td><td>1</td></tr><tr><td>2017-01-21</td><td>7</td><td>214</td><td>1</td></tr><tr><td>2017-01-21</td><td>8</td><td>529</td><td>1</td></tr><tr><td>2017-01-21</td><td>9</td><td>489</td><td>1</td></tr><tr><td>2017-01-21</td><td>10</td><td>479</td><td>1</td></tr><tr><td>2017-01-22</td><td>4</td><td>529</td><td>1</td></tr><tr><td>2017-01-22</td><td>6</td><td>535</td><td>1</td></tr><tr><td>2017-01-22</td><td>6</td><td>540</td><td>1</td></tr><tr><td>2017-01-22</td><td>8</td><td>529</td><td>1</td></tr><tr><td>2017-01-22</td><td>9</td><td>215</td><td>1</td></tr><tr><td>2017-01-22</td><td>9</td><td>477</td><td>1</td></tr><tr><td>2017-01-22</td><td>10</td><td>215</td><td>1</td></tr><tr><td>2017-01-23</td><td>6</td><td>223</td><td>1</td></tr><tr><td>2017-01-23</td><td>7</td><td>530</td><td>1</td></tr><tr><td>2017-01-24</td><td>6</td><td>214</td><td>1</td></tr><tr><td>2017-01-24</td><td>9</td><td>477</td><td>2</td></tr><tr><td>2017-01-25</td><td>1</td><td>529</td><td>1</td></tr><tr><td>2017-01-25</td><td>6</td><td>479</td><td>1</td></tr><tr><td>2017-01-26</td><td>4</td><td>480</td><td>1</td></tr><tr><td>2017-01-26</td><td>4</td><td>530</td><td>1</td></tr><tr><td>2017-01-26</td><td>6</td><td>226</td><td>1</td></tr><tr><td>2017-01-26</td><td>6</td><td>477</td><td>1</td></tr><tr><td>2017-01-26</td><td>6</td><td>537</td><td>1</td></tr><tr><td>2017-01-26</td><td>7</td><td>537</td><td>1</td></tr><tr><td>2017-01-27</td><td>1</td><td>472</td><td>1</td></tr><tr><td>2017-01-27</td><td>1</td><td>528</td><td>1</td></tr><tr><td>2017-01-27</td><td>6</td><td>485</td><td>1</td></tr><tr><td>2017-01-28</td><td>1</td><td>537</td><td>1</td></tr><tr><td>2017-01-28</td><td>4</td><td>485</td><td>1</td></tr><tr><td>2017-01-28</td><td>6</td><td>536</td><td>1</td></tr><tr><td>2017-01-28</td><td>8</td><td>477</td><td>1</td></tr><tr><td>2017-01-28</td><td>9</td><td>358</td><td>1</td></tr><tr><td>2017-01-28</td><td>9</td><td>371</td><td>1</td></tr><tr><td>2017-01-28</td><td>9</td><td>487</td><td>1</td></tr><tr><td>2017-01-28</td><td>10</td><td>481</td><td>1</td></tr><tr><td>2017-01-28</td><td>10</td><td>530</td><td>1</td></tr><tr><td>2017-01-29</td><td>4</td><td>606</td><td>1</td></tr><tr><td>2017-01-29</td><td>6</td><td>528</td><td>1</td></tr><tr><td>2017-01-29</td><td>6</td><td>537</td><td>1</td></tr><tr><td>2017-01-29</td><td>7</td><td>536</td><td>1</td></tr><tr><td>2017-01-29</td><td>9</td><td>466</td><td>1</td></tr><tr><td>2017-01-29</td><td>10</td><td>530</td><td>1</td></tr><tr><td>2017-01-30</td><td>4</td><td>528</td><td>1</td></tr><tr><td>2017-01-30</td><td>9</td><td>462</td><td>1</td></tr><tr><td>2017-01-31</td><td>4</td><td>477</td><td>1</td></tr><tr><td>2017-01-31</td><td>6</td><td>537</td><td>1</td></tr><tr><td>2017-01-31</td><td>8</td><td>479</td><td>1</td></tr><tr><td>2017-01-31</td><td>8</td><td>535</td><td>1</td></tr><tr><td>2017-02-01</td><td>1</td><td>477</td><td>1</td></tr><tr><td>2017-02-01</td><td>1</td><td>480</td><td>1</td></tr><tr><td>2017-02-01</td><td>1</td><td>600</td><td>1</td></tr><tr><td>2017-02-01</td><td>4</td><td>477</td><td>1</td></tr><tr><td>2017-02-01</td><td>4</td><td>485</td><td>1</td></tr><tr><td>2017-02-01</td><td>7</td><td>223</td><td>1</td></tr><tr><td>2017-02-01</td><td>9</td><td>528</td><td>1</td></tr><tr><td>2017-02-02</td><td>7</td><td>477</td><td>1</td></tr><tr><td>2017-02-02</td><td>8</td><td>232</td><td>1</td></tr><tr><td>2017-02-02</td><td>10</td><td>529</td><td>1</td></tr><tr><td>2017-02-02</td><td>10</td><td>538</td><td>1</td></tr><tr><td>2017-02-03</td><td>10</td><td>480</td><td>1</td></tr><tr><td>2017-02-04</td><td>4</td><td>529</td><td>1</td></tr><tr><td>2017-02-04</td><td>8</td><td>480</td><td>2</td></tr><tr><td>2017-02-04</td><td>9</td><td>560</td><td>1</td></tr><tr><td>2017-02-05</td><td>4</td><td>477</td><td>1</td></tr><tr><td>2017-02-05</td><td>4</td><td>541</td><td>1</td></tr><tr><td>2017-02-05</td><td>6</td><td>214</td><td>1</td></tr><tr><td>2017-02-05</td><td>6</td><td>478</td><td>1</td></tr><tr><td>2017-02-05</td><td>6</td><td>481</td><td>1</td></tr><tr><td>2017-02-05</td><td>6</td><td>535</td><td>1</td></tr><tr><td>2017-02-05</td><td>9</td><td>478</td><td>1</td></tr><tr><td>2017-02-05</td><td>9</td><td>604</td><td>1</td></tr><tr><td>2017-02-06</td><td>1</td><td>223</td><td>1</td></tr><tr><td>2017-02-06</td><td>1</td><td>485</td><td>1</td></tr><tr><td>2017-02-06</td><td>4</td><td>479</td><td>1</td></tr><tr><td>2017-02-06</td><td>4</td><td>528</td><td>1</td></tr><tr><td>2017-02-06</td><td>4</td><td>530</td><td>1</td></tr><tr><td>2017-02-06</td><td>4</td><td>539</td><td>1</td></tr><tr><td>2017-02-06</td><td>8</td><td>535</td><td>1</td></tr><tr><td>2017-02-06</td><td>10</td><td>487</td><td>1</td></tr><tr><td>2017-02-06</td><td>10</td><td>600</td><td>1</td></tr><tr><td>2017-02-07</td><td>1</td><td>582</td><td>1</td></tr><tr><td>2017-02-07</td><td>4</td><td>476</td><td>1</td></tr><tr><td>2017-02-07</td><td>4</td><td>487</td><td>1</td></tr><tr><td>2017-02-07</td><td>8</td><td>539</td><td>1</td></tr><tr><td>2017-02-07</td><td>8</td><td>562</td><td>1</td></tr><tr><td>2017-02-07</td><td>9</td><td>472</td><td>1</td></tr><tr><td>2017-02-07</td><td>9</td><td>528</td><td>1</td></tr><tr><td>2017-02-07</td><td>10</td><td>478</td><td>1</td></tr><tr><td>2017-02-07</td><td>10</td><td>539</td><td>1</td></tr><tr><td>2017-02-08</td><td>4</td><td>215</td><td>1</td></tr><tr><td>2017-02-08</td><td>4</td><td>478</td><td>1</td></tr><tr><td>2017-02-08</td><td>6</td><td>478</td><td>1</td></tr><tr><td>2017-02-08</td><td>7</td><td>215</td><td>1</td></tr><tr><td>2017-02-08</td><td>9</td><td>477</td><td>1</td></tr><tr><td>2017-02-09</td><td>7</td><td>377</td><td>1</td></tr><tr><td>2017-02-09</td><td>7</td><td>477</td><td>1</td></tr><tr><td>2017-02-09</td><td>8</td><td>226</td><td>1</td></tr><tr><td>2017-02-10</td><td>1</td><td>223</td><td>1</td></tr><tr><td>2017-02-10</td><td>7</td><td>481</td><td>1</td></tr><tr><td>2017-02-11</td><td>1</td><td>476</td><td>1</td></tr><tr><td>2017-02-11</td><td>6</td><td>477</td><td>1</td></tr><tr><td>2017-02-11</td><td>6</td><td>478</td><td>2</td></tr><tr><td>2017-02-11</td><td>6</td><td>529</td><td>1</td></tr><tr><td>2017-02-11</td><td>7</td><td>356</td><td>1</td></tr><tr><td>2017-02-11</td><td>10</td><td>539</td><td>1</td></tr><tr><td>2017-02-12</td><td>1</td><td>477</td><td>1</td></tr><tr><td>2017-02-12</td><td>4</td><td>477</td><td>1</td></tr><tr><td>2017-02-12</td><td>4</td><td>480</td><td>1</td></tr><tr><td>2017-02-12</td><td>6</td><td>485</td><td>1</td></tr><tr><td>2017-02-12</td><td>7</td><td>529</td><td>1</td></tr><tr><td>2017-02-12</td><td>9</td><td>480</td><td>1</td></tr><tr><td>2017-02-12</td><td>9</td><td>485</td><td>1</td></tr><tr><td>2017-02-12</td><td>10</td><td>479</td><td>1</td></tr><tr><td>2017-02-13</td><td>7</td><td>529</td><td>1</td></tr><tr><td>2017-02-13</td><td>9</td><td>214</td><td>1</td></tr><tr><td>2017-02-13</td><td>9</td><td>528</td><td>1</td></tr><tr><td>2017-02-14</td><td>1</td><td>229</td><td>1</td></tr><tr><td>2017-02-14</td><td>4</td><td>530</td><td>1</td></tr><tr><td>2017-02-14</td><td>6</td><td>535</td><td>1</td></tr><tr><td>2017-02-14</td><td>7</td><td>362</td><td>1</td></tr><tr><td>2017-02-14</td><td>9</td><td>477</td><td>1</td></tr><tr><td>2017-02-14</td><td>10</td><td>480</td><td>1</td></tr><tr><td>2017-02-15</td><td>4</td><td>223</td><td>1</td></tr><tr><td>2017-02-15</td><td>4</td><td>536</td><td>1</td></tr><tr><td>2017-02-15</td><td>4</td><td>541</td><td>1</td></tr><tr><td>2017-02-15</td><td>6</td><td>477</td><td>1</td></tr><tr><td>2017-02-15</td><td>9</td><td>606</td><td>1</td></tr><tr><td>2017-02-16</td><td>8</td><td>538</td><td>1</td></tr><tr><td>2017-02-17</td><td>1</td><td>214</td><td>1</td></tr><tr><td>2017-02-17</td><td>1</td><td>530</td><td>1</td></tr><tr><td>2017-02-17</td><td>1</td><td>536</td><td>1</td></tr><tr><td>2017-02-17</td><td>4</td><td>214</td><td>1</td></tr><tr><td>2017-02-17</td><td>4</td><td>605</td><td>2</td></tr><tr><td>2017-02-17</td><td>6</td><td>485</td><td>1</td></tr><tr><td>2017-02-17</td><td>6</td><td>490</td><td>1</td></tr><tr><td>2017-02-17</td><td>9</td><td>385</td><td>1</td></tr><tr><td>2017-02-17</td><td>9</td><td>477</td><td>1</td></tr><tr><td>2017-02-18</td><td>4</td><td>220</td><td>1</td></tr><tr><td>2017-02-18</td><td>6</td><td>530</td><td>1</td></tr><tr><td>2017-02-19</td><td>4</td><td>528</td><td>1</td></tr><tr><td>2017-02-19</td><td>4</td><td>529</td><td>1</td></tr><tr><td>2017-02-19</td><td>4</td><td>537</td><td>1</td></tr><tr><td>2017-02-19</td><td>7</td><td>354</td><td>1</td></tr><tr><td>2017-02-19</td><td>9</td><td>583</td><td>1</td></tr><tr><td>2017-02-20</td><td>1</td><td>214</td><td>1</td></tr><tr><td>2017-02-20</td><td>1</td><td>371</td><td>1</td></tr><tr><td>2017-02-20</td><td>4</td><td>573</td><td>1</td></tr><tr><td>2017-02-20</td><td>7</td><td>528</td><td>1</td></tr><tr><td>2017-02-20</td><td>8</td><td>229</td><td>1</td></tr><tr><td>2017-02-20</td><td>9</td><td>477</td><td>1</td></tr><tr><td>2017-02-20</td><td>9</td><td>530</td><td>1</td></tr><tr><td>2017-02-20</td><td>10</td><td>485</td><td>1</td></tr><tr><td>2017-02-21</td><td>6</td><td>477</td><td>1</td></tr><tr><td>2017-02-21</td><td>9</td><td>477</td><td>1</td></tr><tr><td>2017-02-21</td><td>9</td><td>580</td><td>1</td></tr><tr><td>2017-02-22</td><td>4</td><td>223</td><td>1</td></tr><tr><td>2017-02-22</td><td>4</td><td>232</td><td>1</td></tr><tr><td>2017-02-22</td><td>8</td><td>485</td><td>1</td></tr><tr><td>2017-02-22</td><td>9</td><td>479</td><td>1</td></tr><tr><td>2017-02-22</td><td>9</td><td>484</td><td>1</td></tr><tr><td>2017-02-23</td><td>4</td><td>226</td><td>1</td></tr><tr><td>2017-02-23</td><td>4</td><td>462</td><td>1</td></tr><tr><td>2017-02-23</td><td>4</td><td>475</td><td>1</td></tr><tr><td>2017-02-23</td><td>9</td><td>539</td><td>1</td></tr><tr><td>2017-02-23</td><td>10</td><td>475</td><td>1</td></tr><tr><td>2017-02-23</td><td>10</td><td>477</td><td>1</td></tr><tr><td>2017-02-24</td><td>1</td><td>530</td><td>1</td></tr><tr><td>2017-02-24</td><td>4</td><td>220</td><td>1</td></tr><tr><td>2017-02-24</td><td>6</td><td>475</td><td>1</td></tr><tr><td>2017-02-24</td><td>7</td><td>540</td><td>1</td></tr><tr><td>2017-02-24</td><td>8</td><td>478</td><td>1</td></tr><tr><td>2017-02-24</td><td>8</td><td>484</td><td>1</td></tr><tr><td>2017-02-24</td><td>8</td><td>588</td><td>1</td></tr><tr><td>2017-02-24</td><td>8</td><td>599</td><td>1</td></tr><tr><td>2017-02-24</td><td>9</td><td>477</td><td>2</td></tr><tr><td>2017-02-24</td><td>9</td><td>562</td><td>1</td></tr><tr><td>2017-02-25</td><td>1</td><td>466</td><td>1</td></tr><tr><td>2017-02-25</td><td>1</td><td>477</td><td>1</td></tr><tr><td>2017-02-25</td><td>1</td><td>480</td><td>1</td></tr><tr><td>2017-02-26</td><td>1</td><td>537</td><td>1</td></tr><tr><td>2017-02-26</td><td>5</td><td>540</td><td>1</td></tr><tr><td>2017-02-26</td><td>6</td><td>477</td><td>1</td></tr><tr><td>2017-02-26</td><td>7</td><td>480</td><td>1</td></tr><tr><td>2017-02-27</td><td>1</td><td>235</td><td>1</td></tr><tr><td>2017-02-27</td><td>1</td><td>528</td><td>1</td></tr><tr><td>2017-02-27</td><td>1</td><td>538</td><td>1</td></tr><tr><td>2017-02-27</td><td>4</td><td>529</td><td>1</td></tr><tr><td>2017-02-27</td><td>6</td><td>477</td><td>1</td></tr><tr><td>2017-02-27</td><td>6</td><td>528</td><td>1</td></tr><tr><td>2017-02-27</td><td>6</td><td>583</td><td>1</td></tr><tr><td>2017-02-27</td><td>9</td><td>226</td><td>1</td></tr><tr><td>2017-02-27</td><td>9</td><td>478</td><td>1</td></tr><tr><td>2017-02-28</td><td>4</td><td>478</td><td>1</td></tr><tr><td>2017-02-28</td><td>6</td><td>478</td><td>1</td></tr><tr><td>2017-02-28</td><td>7</td><td>536</td><td>1</td></tr><tr><td>2017-02-28</td><td>9</td><td>479</td><td>1</td></tr><tr><td>2017-02-28</td><td>9</td><td>482</td><td>1</td></tr><tr><td>2017-02-28</td><td>9</td><td>539</td><td>1</td></tr><tr><td>2017-03-01</td><td>4</td><td>477</td><td>2</td></tr><tr><td>2017-03-01</td><td>4</td><td>535</td><td>1</td></tr><tr><td>2017-03-01</td><td>4</td><td>595</td><td>1</td></tr><tr><td>2017-03-01</td><td>8</td><td>215</td><td>1</td></tr><tr><td>2017-03-01</td><td>8</td><td>529</td><td>1</td></tr><tr><td>2017-03-01</td><td>9</td><td>220</td><td>1</td></tr><tr><td>2017-03-01</td><td>1</td><td>480</td><td>1</td></tr><tr><td>2017-03-01</td><td>6</td><td>530</td><td>1</td></tr><tr><td>2017-03-01</td><td>8</td><td>582</td><td>1</td></tr><tr><td>2017-03-01</td><td>10</td><td>485</td><td>1</td></tr><tr><td>2017-03-02</td><td>1</td><td>485</td><td>1</td></tr><tr><td>2017-03-02</td><td>4</td><td>528</td><td>1</td></tr><tr><td>2017-03-02</td><td>6</td><td>530</td><td>1</td></tr><tr><td>2017-03-02</td><td>9</td><td>474</td><td>1</td></tr><tr><td>2017-03-03</td><td>1</td><td>215</td><td>1</td></tr><tr><td>2017-03-03</td><td>1</td><td>540</td><td>1</td></tr><tr><td>2017-03-03</td><td>4</td><td>528</td><td>1</td></tr><tr><td>2017-03-03</td><td>6</td><td>462</td><td>1</td></tr><tr><td>2017-03-03</td><td>7</td><td>375</td><td>1</td></tr><tr><td>2017-03-03</td><td>10</td><td>223</td><td>1</td></tr><tr><td>2017-03-04</td><td>4</td><td>479</td><td>1</td></tr><tr><td>2017-03-04</td><td>6</td><td>232</td><td>1</td></tr><tr><td>2017-03-04</td><td>6</td><td>528</td><td>1</td></tr><tr><td>2017-03-04</td><td>9</td><td>528</td><td>1</td></tr><tr><td>2017-03-04</td><td>10</td><td>487</td><td>1</td></tr><tr><td>2017-03-05</td><td>4</td><td>354</td><td>1</td></tr><tr><td>2017-03-05</td><td>4</td><td>477</td><td>1</td></tr><tr><td>2017-03-05</td><td>6</td><td>580</td><td>1</td></tr><tr><td>2017-03-05</td><td>9</td><td>223</td><td>1</td></tr><tr><td>2017-03-06</td><td>6</td><td>220</td><td>1</td></tr><tr><td>2017-03-06</td><td>7</td><td>536</td><td>1</td></tr><tr><td>2017-03-07</td><td>1</td><td>223</td><td>1</td></tr><tr><td>2017-03-07</td><td>4</td><td>491</td><td>1</td></tr><tr><td>2017-03-07</td><td>4</td><td>535</td><td>1</td></tr><tr><td>2017-03-07</td><td>4</td><td>575</td><td>1</td></tr><tr><td>2017-03-07</td><td>6</td><td>476</td><td>1</td></tr><tr><td>2017-03-07</td><td>9</td><td>214</td><td>1</td></tr><tr><td>2017-03-08</td><td>1</td><td>490</td><td>1</td></tr><tr><td>2017-03-08</td><td>4</td><td>538</td><td>1</td></tr><tr><td>2017-03-08</td><td>8</td><td>215</td><td>1</td></tr><tr><td>2017-03-08</td><td>9</td><td>354</td><td>1</td></tr><tr><td>2017-03-08</td><td>9</td><td>605</td><td>1</td></tr><tr><td>2017-03-08</td><td>10</td><td>606</td><td>1</td></tr><tr><td>2017-03-09</td><td>1</td><td>352</td><td>1</td></tr><tr><td>2017-03-09</td><td>6</td><td>472</td><td>1</td></tr><tr><td>2017-03-09</td><td>7</td><td>214</td><td>1</td></tr><tr><td>2017-03-09</td><td>7</td><td>528</td><td>1</td></tr><tr><td>2017-03-09</td><td>7</td><td>537</td><td>1</td></tr><tr><td>2017-03-09</td><td>9</td><td>536</td><td>1</td></tr><tr><td>2017-03-10</td><td>6</td><td>478</td><td>1</td></tr><tr><td>2017-03-10</td><td>10</td><td>528</td><td>1</td></tr><tr><td>2017-03-11</td><td>4</td><td>478</td><td>1</td></tr><tr><td>2017-03-11</td><td>4</td><td>485</td><td>1</td></tr><tr><td>2017-03-11</td><td>6</td><td>214</td><td>1</td></tr><tr><td>2017-03-11</td><td>7</td><td>541</td><td>1</td></tr><tr><td>2017-03-12</td><td>1</td><td>477</td><td>1</td></tr><tr><td>2017-03-12</td><td>4</td><td>232</td><td>1</td></tr><tr><td>2017-03-12</td><td>4</td><td>577</td><td>1</td></tr><tr><td>2017-03-12</td><td>8</td><td>479</td><td>1</td></tr><tr><td>2017-03-12</td><td>10</td><td>360</td><td>1</td></tr><tr><td>2017-03-13</td><td>4</td><td>482</td><td>1</td></tr><tr><td>2017-03-13</td><td>7</td><td>541</td><td>1</td></tr><tr><td>2017-03-13</td><td>8</td><td>480</td><td>2</td></tr><tr><td>2017-03-13</td><td>9</td><td>352</td><td>1</td></tr><tr><td>2017-03-13</td><td>9</td><td>358</td><td>1</td></tr><tr><td>2017-03-14</td><td>4</td><td>232</td><td>1</td></tr><tr><td>2017-03-14</td><td>4</td><td>477</td><td>1</td></tr><tr><td>2017-03-14</td><td>6</td><td>529</td><td>1</td></tr><tr><td>2017-03-14</td><td>9</td><td>530</td><td>1</td></tr><tr><td>2017-03-14</td><td>9</td><td>606</td><td>1</td></tr><tr><td>2017-03-15</td><td>6</td><td>215</td><td>1</td></tr><tr><td>2017-03-15</td><td>6</td><td>480</td><td>1</td></tr><tr><td>2017-03-16</td><td>1</td><td>471</td><td>1</td></tr><tr><td>2017-03-16</td><td>4</td><td>538</td><td>1</td></tr><tr><td>2017-03-16</td><td>4</td><td>571</td><td>1</td></tr><tr><td>2017-03-16</td><td>4</td><td>587</td><td>1</td></tr><tr><td>2017-03-16</td><td>9</td><td>489</td><td>1</td></tr><tr><td>2017-03-16</td><td>9</td><td>537</td><td>1</td></tr><tr><td>2017-03-17</td><td>4</td><td>480</td><td>1</td></tr><tr><td>2017-03-17</td><td>4</td><td>535</td><td>1</td></tr><tr><td>2017-03-17</td><td>6</td><td>214</td><td>1</td></tr><tr><td>2017-03-17</td><td>9</td><td>541</td><td>1</td></tr><tr><td>2017-03-18</td><td>1</td><td>356</td><td>1</td></tr><tr><td>2017-03-18</td><td>4</td><td>529</td><td>1</td></tr><tr><td>2017-03-18</td><td>6</td><td>464</td><td>1</td></tr><tr><td>2017-03-18</td><td>7</td><td>473</td><td>1</td></tr><tr><td>2017-03-18</td><td>7</td><td>477</td><td>1</td></tr><tr><td>2017-03-18</td><td>7</td><td>538</td><td>1</td></tr><tr><td>2017-03-18</td><td>9</td><td>538</td><td>1</td></tr><tr><td>2017-03-18</td><td>10</td><td>479</td><td>1</td></tr><tr><td>2017-03-19</td><td>1</td><td>528</td><td>1</td></tr><tr><td>2017-03-19</td><td>4</td><td>477</td><td>1</td></tr><tr><td>2017-03-19</td><td>4</td><td>478</td><td>1</td></tr><tr><td>2017-03-19</td><td>9</td><td>475</td><td>1</td></tr><tr><td>2017-03-20</td><td>1</td><td>480</td><td>1</td></tr><tr><td>2017-03-20</td><td>4</td><td>490</td><td>1</td></tr><tr><td>2017-03-20</td><td>4</td><td>605</td><td>1</td></tr><tr><td>2017-03-20</td><td>7</td><td>360</td><td>1</td></tr><tr><td>2017-03-20</td><td>9</td><td>466</td><td>1</td></tr><tr><td>2017-03-20</td><td>10</td><td>538</td><td>1</td></tr><tr><td>2017-03-21</td><td>1</td><td>540</td><td>1</td></tr><tr><td>2017-03-21</td><td>1</td><td>604</td><td>1</td></tr><tr><td>2017-03-21</td><td>6</td><td>538</td><td>1</td></tr><tr><td>2017-03-21</td><td>7</td><td>528</td><td>1</td></tr><tr><td>2017-03-21</td><td>9</td><td>220</td><td>1</td></tr><tr><td>2017-03-21</td><td>9</td><td>573</td><td>1</td></tr><tr><td>2017-03-21</td><td>10</td><td>581</td><td>1</td></tr><tr><td>2017-03-22</td><td>1</td><td>478</td><td>1</td></tr><tr><td>2017-03-22</td><td>6</td><td>538</td><td>1</td></tr><tr><td>2017-03-22</td><td>9</td><td>220</td><td>1</td></tr><tr><td>2017-03-22</td><td>9</td><td>480</td><td>1</td></tr><tr><td>2017-03-22</td><td>10</td><td>485</td><td>1</td></tr><tr><td>2017-03-23</td><td>4</td><td>477</td><td>1</td></tr><tr><td>2017-03-23</td><td>6</td><td>487</td><td>1</td></tr><tr><td>2017-03-23</td><td>8</td><td>536</td><td>1</td></tr><tr><td>2017-03-24</td><td>9</td><td>477</td><td>1</td></tr><tr><td>2017-03-25</td><td>4</td><td>530</td><td>1</td></tr><tr><td>2017-03-25</td><td>6</td><td>214</td><td>1</td></tr><tr><td>2017-03-25</td><td>6</td><td>530</td><td>1</td></tr><tr><td>2017-03-25</td><td>9</td><td>477</td><td>1</td></tr><tr><td>2017-03-25</td><td>9</td><td>538</td><td>1</td></tr><tr><td>2017-03-26</td><td>1</td><td>220</td><td>1</td></tr><tr><td>2017-03-26</td><td>4</td><td>483</td><td>1</td></tr><tr><td>2017-03-26</td><td>7</td><td>223</td><td>1</td></tr><tr><td>2017-03-26</td><td>8</td><td>485</td><td>1</td></tr><tr><td>2017-03-27</td><td>4</td><td>479</td><td>1</td></tr><tr><td>2017-03-27</td><td>6</td><td>223</td><td>1</td></tr><tr><td>2017-03-27</td><td>6</td><td>477</td><td>1</td></tr><tr><td>2017-03-27</td><td>7</td><td>472</td><td>1</td></tr><tr><td>2017-03-27</td><td>7</td><td>477</td><td>1</td></tr><tr><td>2017-03-27</td><td>7</td><td>537</td><td>1</td></tr><tr><td>2017-03-27</td><td>10</td><td>214</td><td>1</td></tr><tr><td>2017-03-28</td><td>1</td><td>215</td><td>1</td></tr><tr><td>2017-03-28</td><td>4</td><td>214</td><td>1</td></tr><tr><td>2017-03-28</td><td>4</td><td>537</td><td>1</td></tr><tr><td>2017-03-28</td><td>7</td><td>362</td><td>1</td></tr><tr><td>2017-03-28</td><td>9</td><td>223</td><td>1</td></tr><tr><td>2017-03-28</td><td>9</td><td>473</td><td>1</td></tr><tr><td>2017-03-28</td><td>9</td><td>476</td><td>1</td></tr><tr><td>2017-03-28</td><td>10</td><td>223</td><td>1</td></tr><tr><td>2017-03-29</td><td>1</td><td>220</td><td>1</td></tr><tr><td>2017-03-29</td><td>1</td><td>475</td><td>1</td></tr><tr><td>2017-03-29</td><td>1</td><td>528</td><td>1</td></tr><tr><td>2017-03-29</td><td>4</td><td>475</td><td>1</td></tr><tr><td>2017-03-29</td><td>6</td><td>480</td><td>1</td></tr><tr><td>2017-03-29</td><td>7</td><td>220</td><td>1</td></tr><tr><td>2017-03-29</td><td>10</td><td>214</td><td>1</td></tr><tr><td>2017-03-29</td><td>10</td><td>596</td><td>1</td></tr><tr><td>2017-03-30</td><td>1</td><td>479</td><td>1</td></tr><tr><td>2017-03-30</td><td>1</td><td>566</td><td>1</td></tr><tr><td>2017-03-30</td><td>6</td><td>485</td><td>1</td></tr><tr><td>2017-03-30</td><td>6</td><td>537</td><td>1</td></tr><tr><td>2017-03-30</td><td>7</td><td>529</td><td>1</td></tr><tr><td>2017-03-31</td><td>1</td><td>387</td><td>1</td></tr><tr><td>2017-03-31</td><td>4</td><td>482</td><td>1</td></tr><tr><td>2017-03-31</td><td>4</td><td>528</td><td>1</td></tr><tr><td>2017-03-31</td><td>6</td><td>480</td><td>1</td></tr><tr><td>2017-03-31</td><td>7</td><td>482</td><td>1</td></tr><tr><td>2017-04-01</td><td>4</td><td>215</td><td>1</td></tr><tr><td>2017-04-01</td><td>4</td><td>354</td><td>1</td></tr><tr><td>2017-04-01</td><td>4</td><td>580</td><td>1</td></tr><tr><td>2017-04-01</td><td>6</td><td>229</td><td>1</td></tr><tr><td>2017-04-01</td><td>6</td><td>528</td><td>1</td></tr><tr><td>2017-04-01</td><td>8</td><td>383</td><td>1</td></tr><tr><td>2017-04-02</td><td>8</td><td>220</td><td>1</td></tr><tr><td>2017-04-02</td><td>10</td><td>480</td><td>1</td></tr><tr><td>2017-04-03</td><td>4</td><td>477</td><td>1</td></tr><tr><td>2017-04-03</td><td>4</td><td>491</td><td>1</td></tr><tr><td>2017-04-03</td><td>6</td><td>486</td><td>1</td></tr><tr><td>2017-04-03</td><td>9</td><td>235</td><td>1</td></tr><tr><td>2017-04-03</td><td>9</td><td>536</td><td>1</td></tr><tr><td>2017-04-03</td><td>9</td><td>564</td><td>1</td></tr><tr><td>2017-04-03</td><td>10</td><td>480</td><td>1</td></tr><tr><td>2017-04-03</td><td>10</td><td>535</td><td>1</td></tr><tr><td>2017-04-04</td><td>4</td><td>480</td><td>1</td></tr><tr><td>2017-04-04</td><td>4</td><td>538</td><td>1</td></tr><tr><td>2017-04-04</td><td>7</td><td>561</td><td>1</td></tr><tr><td>2017-04-04</td><td>8</td><td>360</td><td>1</td></tr><tr><td>2017-04-04</td><td>8</td><td>477</td><td>1</td></tr><tr><td>2017-04-04</td><td>9</td><td>477</td><td>1</td></tr><tr><td>2017-04-05</td><td>6</td><td>480</td><td>1</td></tr><tr><td>2017-04-05</td><td>7</td><td>539</td><td>1</td></tr><tr><td>2017-04-05</td><td>8</td><td>539</td><td>1</td></tr><tr><td>2017-04-06</td><td>1</td><td>220</td><td>1</td></tr><tr><td>2017-04-06</td><td>1</td><td>356</td><td>1</td></tr><tr><td>2017-04-06</td><td>1</td><td>477</td><td>1</td></tr><tr><td>2017-04-06</td><td>4</td><td>214</td><td>1</td></tr><tr><td>2017-04-06</td><td>4</td><td>223</td><td>2</td></tr><tr><td>2017-04-06</td><td>4</td><td>574</td><td>1</td></tr><tr><td>2017-04-06</td><td>8</td><td>605</td><td>1</td></tr><tr><td>2017-04-07</td><td>8</td><td>214</td><td>1</td></tr><tr><td>2017-04-07</td><td>8</td><td>480</td><td>1</td></tr><tr><td>2017-04-07</td><td>10</td><td>528</td><td>1</td></tr><tr><td>2017-04-07</td><td>10</td><td>530</td><td>1</td></tr><tr><td>2017-04-07</td><td>10</td><td>577</td><td>1</td></tr><tr><td>2017-04-08</td><td>4</td><td>476</td><td>1</td></tr><tr><td>2017-04-08</td><td>4</td><td>540</td><td>1</td></tr><tr><td>2017-04-08</td><td>7</td><td>215</td><td>1</td></tr><tr><td>2017-04-08</td><td>9</td><td>488</td><td>1</td></tr><tr><td>2017-04-08</td><td>10</td><td>215</td><td>1</td></tr><tr><td>2017-04-09</td><td>7</td><td>220</td><td>1</td></tr><tr><td>2017-04-09</td><td>9</td><td>539</td><td>1</td></tr><tr><td>2017-04-10</td><td>4</td><td>528</td><td>1</td></tr><tr><td>2017-04-10</td><td>6</td><td>220</td><td>1</td></tr><tr><td>2017-04-10</td><td>8</td><td>471</td><td>1</td></tr><tr><td>2017-04-10</td><td>8</td><td>560</td><td>1</td></tr><tr><td>2017-04-10</td><td>9</td><td>484</td><td>1</td></tr><tr><td>2017-04-10</td><td>10</td><td>383</td><td>1</td></tr><tr><td>2017-04-10</td><td>10</td><td>566</td><td>1</td></tr><tr><td>2017-04-11</td><td>1</td><td>537</td><td>1</td></tr><tr><td>2017-04-11</td><td>4</td><td>536</td><td>1</td></tr><tr><td>2017-04-11</td><td>4</td><td>588</td><td>1</td></tr><tr><td>2017-04-11</td><td>7</td><td>479</td><td>1</td></tr><tr><td>2017-04-11</td><td>7</td><td>480</td><td>1</td></tr><tr><td>2017-04-11</td><td>9</td><td>375</td><td>1</td></tr><tr><td>2017-04-11</td><td>9</td><td>484</td><td>1</td></tr><tr><td>2017-04-11</td><td>9</td><td>563</td><td>1</td></tr><tr><td>2017-04-12</td><td>4</td><td>530</td><td>1</td></tr><tr><td>2017-04-12</td><td>6</td><td>576</td><td>1</td></tr><tr><td>2017-04-12</td><td>7</td><td>575</td><td>1</td></tr><tr><td>2017-04-12</td><td>9</td><td>477</td><td>1</td></tr><tr><td>2017-04-12</td><td>10</td><td>478</td><td>1</td></tr><tr><td>2017-04-12</td><td>10</td><td>606</td><td>1</td></tr><tr><td>2017-04-13</td><td>1</td><td>477</td><td>1</td></tr><tr><td>2017-04-13</td><td>4</td><td>478</td><td>2</td></tr><tr><td>2017-04-13</td><td>9</td><td>483</td><td>1</td></tr><tr><td>2017-04-14</td><td>4</td><td>590</td><td>1</td></tr><tr><td>2017-04-14</td><td>6</td><td>480</td><td>1</td></tr><tr><td>2017-04-14</td><td>10</td><td>215</td><td>1</td></tr><tr><td>2017-04-14</td><td>10</td><td>529</td><td>1</td></tr><tr><td>2017-04-14</td><td>10</td><td>590</td><td>1</td></tr><tr><td>2017-04-15</td><td>1</td><td>490</td><td>1</td></tr><tr><td>2017-04-15</td><td>7</td><td>477</td><td>1</td></tr><tr><td>2017-04-15</td><td>7</td><td>488</td><td>1</td></tr><tr><td>2017-04-15</td><td>7</td><td>489</td><td>1</td></tr><tr><td>2017-04-15</td><td>9</td><td>480</td><td>1</td></tr><tr><td>2017-04-16</td><td>4</td><td>479</td><td>1</td></tr><tr><td>2017-04-16</td><td>4</td><td>537</td><td>1</td></tr><tr><td>2017-04-16</td><td>4</td><td>581</td><td>1</td></tr><tr><td>2017-04-16</td><td>8</td><td>529</td><td>1</td></tr><tr><td>2017-04-17</td><td>1</td><td>539</td><td>1</td></tr><tr><td>2017-04-17</td><td>8</td><td>472</td><td>1</td></tr><tr><td>2017-04-17</td><td>8</td><td>605</td><td>1</td></tr><tr><td>2017-04-17</td><td>9</td><td>565</td><td>1</td></tr><tr><td>2017-04-17</td><td>9</td><td>567</td><td>1</td></tr><tr><td>2017-04-18</td><td>1</td><td>383</td><td>1</td></tr><tr><td>2017-04-18</td><td>4</td><td>561</td><td>1</td></tr><tr><td>2017-04-18</td><td>7</td><td>464</td><td>1</td></tr><tr><td>2017-04-18</td><td>9</td><td>479</td><td>1</td></tr><tr><td>2017-04-18</td><td>10</td><td>479</td><td>1</td></tr><tr><td>2017-04-18</td><td>10</td><td>577</td><td>1</td></tr><tr><td>2017-04-19</td><td>4</td><td>214</td><td>1</td></tr><tr><td>2017-04-19</td><td>4</td><td>478</td><td>1</td></tr><tr><td>2017-04-19</td><td>6</td><td>528</td><td>1</td></tr><tr><td>2017-04-19</td><td>7</td><td>486</td><td>1</td></tr><tr><td>2017-04-19</td><td>7</td><td>530</td><td>1</td></tr><tr><td>2017-04-19</td><td>10</td><td>487</td><td>1</td></tr><tr><td>2017-04-20</td><td>8</td><td>583</td><td>1</td></tr><tr><td>2017-04-20</td><td>10</td><td>482</td><td>1</td></tr><tr><td>2017-04-21</td><td>4</td><td>235</td><td>1</td></tr><tr><td>2017-04-21</td><td>4</td><td>477</td><td>1</td></tr><tr><td>2017-04-21</td><td>9</td><td>383</td><td>1</td></tr><tr><td>2017-04-22</td><td>4</td><td>528</td><td>1</td></tr><tr><td>2017-04-22</td><td>7</td><td>541</td><td>1</td></tr><tr><td>2017-04-22</td><td>8</td><td>530</td><td>1</td></tr><tr><td>2017-04-22</td><td>8</td><td>584</td><td>1</td></tr><tr><td>2017-04-23</td><td>1</td><td>484</td><td>1</td></tr><tr><td>2017-04-23</td><td>4</td><td>215</td><td>1</td></tr><tr><td>2017-04-23</td><td>4</td><td>226</td><td>1</td></tr><tr><td>2017-04-23</td><td>4</td><td>480</td><td>1</td></tr><tr><td>2017-04-23</td><td>6</td><td>220</td><td>1</td></tr><tr><td>2017-04-23</td><td>6</td><td>466</td><td>1</td></tr><tr><td>2017-04-23</td><td>7</td><td>529</td><td>1</td></tr><tr><td>2017-04-23</td><td>8</td><td>538</td><td>1</td></tr><tr><td>2017-04-23</td><td>9</td><td>480</td><td>1</td></tr><tr><td>2017-04-24</td><td>4</td><td>220</td><td>1</td></tr><tr><td>2017-04-24</td><td>4</td><td>477</td><td>1</td></tr><tr><td>2017-04-24</td><td>7</td><td>215</td><td>1</td></tr><tr><td>2017-04-24</td><td>7</td><td>352</td><td>1</td></tr><tr><td>2017-04-24</td><td>7</td><td>477</td><td>1</td></tr><tr><td>2017-04-24</td><td>9</td><td>589</td><td>1</td></tr><tr><td>2017-04-25</td><td>1</td><td>485</td><td>1</td></tr><tr><td>2017-04-25</td><td>6</td><td>464</td><td>1</td></tr><tr><td>2017-04-25</td><td>7</td><td>477</td><td>1</td></tr><tr><td>2017-04-25</td><td>7</td><td>484</td><td>1</td></tr><tr><td>2017-04-25</td><td>7</td><td>530</td><td>1</td></tr><tr><td>2017-04-25</td><td>9</td><td>479</td><td>1</td></tr><tr><td>2017-04-25</td><td>9</td><td>538</td><td>1</td></tr><tr><td>2017-04-25</td><td>10</td><td>481</td><td>1</td></tr><tr><td>2017-04-26</td><td>1</td><td>220</td><td>1</td></tr><tr><td>2017-04-26</td><td>1</td><td>480</td><td>1</td></tr><tr><td>2017-04-26</td><td>4</td><td>478</td><td>1</td></tr><tr><td>2017-04-26</td><td>4</td><td>480</td><td>1</td></tr><tr><td>2017-04-26</td><td>7</td><td>480</td><td>1</td></tr><tr><td>2017-04-26</td><td>9</td><td>488</td><td>1</td></tr><tr><td>2017-04-27</td><td>1</td><td>480</td><td>1</td></tr><tr><td>2017-04-27</td><td>1</td><td>529</td><td>1</td></tr><tr><td>2017-04-27</td><td>4</td><td>215</td><td>1</td></tr><tr><td>2017-04-27</td><td>4</td><td>529</td><td>1</td></tr><tr><td>2017-04-27</td><td>7</td><td>215</td><td>1</td></tr><tr><td>2017-04-27</td><td>9</td><td>214</td><td>1</td></tr><tr><td>2017-04-27</td><td>9</td><td>580</td><td>1</td></tr><tr><td>2017-04-28</td><td>4</td><td>358</td><td>1</td></tr><tr><td>2017-04-28</td><td>8</td><td>528</td><td>1</td></tr><tr><td>2017-04-28</td><td>9</td><td>377</td><td>1</td></tr><tr><td>2017-04-28</td><td>9</td><td>535</td><td>1</td></tr><tr><td>2017-04-28</td><td>10</td><td>215</td><td>1</td></tr><tr><td>2017-04-28</td><td>10</td><td>480</td><td>1</td></tr><tr><td>2017-04-28</td><td>10</td><td>528</td><td>1</td></tr><tr><td>2017-04-29</td><td>1</td><td>541</td><td>1</td></tr><tr><td>2017-04-29</td><td>4</td><td>474</td><td>1</td></tr><tr><td>2017-04-29</td><td>4</td><td>490</td><td>1</td></tr><tr><td>2017-04-29</td><td>4</td><td>528</td><td>1</td></tr><tr><td>2017-04-29</td><td>10</td><td>358</td><td>1</td></tr><tr><td>2017-04-30</td><td>1</td><td>480</td><td>1</td></tr><tr><td>2017-04-30</td><td>4</td><td>215</td><td>1</td></tr><tr><td>2017-04-30</td><td>4</td><td>478</td><td>1</td></tr><tr><td>2017-04-30</td><td>7</td><td>489</td><td>1</td></tr><tr><td>2017-04-30</td><td>8</td><td>581</td><td>1</td></tr><tr><td>2017-04-30</td><td>9</td><td>480</td><td>1</td></tr><tr><td>2017-05-01</td><td>1</td><td>485</td><td>1</td></tr><tr><td>2017-05-01</td><td>4</td><td>215</td><td>1</td></tr><tr><td>2017-05-01</td><td>4</td><td>360</td><td>1</td></tr><tr><td>2017-05-01</td><td>10</td><td>479</td><td>1</td></tr><tr><td>2017-05-02</td><td>4</td><td>214</td><td>1</td></tr><tr><td>2017-05-02</td><td>4</td><td>477</td><td>1</td></tr><tr><td>2017-05-02</td><td>4</td><td>528</td><td>1</td></tr><tr><td>2017-05-02</td><td>9</td><td>480</td><td>1</td></tr><tr><td>2017-05-03</td><td>9</td><td>529</td><td>1</td></tr><tr><td>2017-05-04</td><td>4</td><td>606</td><td>1</td></tr><tr><td>2017-05-04</td><td>6</td><td>476</td><td>1</td></tr><tr><td>2017-05-04</td><td>7</td><td>539</td><td>1</td></tr><tr><td>2017-05-04</td><td>8</td><td>538</td><td>1</td></tr><tr><td>2017-05-04</td><td>8</td><td>571</td><td>1</td></tr><tr><td>2017-05-05</td><td>1</td><td>483</td><td>1</td></tr><tr><td>2017-05-05</td><td>4</td><td>480</td><td>1</td></tr><tr><td>2017-05-05</td><td>4</td><td>483</td><td>1</td></tr><tr><td>2017-05-05</td><td>8</td><td>223</td><td>1</td></tr><tr><td>2017-05-05</td><td>8</td><td>541</td><td>1</td></tr><tr><td>2017-05-05</td><td>9</td><td>480</td><td>1</td></tr><tr><td>2017-05-05</td><td>9</td><td>487</td><td>1</td></tr><tr><td>2017-05-06</td><td>4</td><td>215</td><td>1</td></tr><tr><td>2017-05-06</td><td>4</td><td>477</td><td>1</td></tr><tr><td>2017-05-06</td><td>6</td><td>466</td><td>1</td></tr><tr><td>2017-05-06</td><td>6</td><td>485</td><td>1</td></tr><tr><td>2017-05-06</td><td>7</td><td>220</td><td>1</td></tr><tr><td>2017-05-06</td><td>7</td><td>528</td><td>1</td></tr><tr><td>2017-05-06</td><td>8</td><td>528</td><td>1</td></tr><tr><td>2017-05-06</td><td>9</td><td>480</td><td>1</td></tr><tr><td>2017-05-07</td><td>4</td><td>578</td><td>1</td></tr><tr><td>2017-05-07</td><td>7</td><td>538</td><td>1</td></tr><tr><td>2017-05-07</td><td>10</td><td>214</td><td>1</td></tr><tr><td>2017-05-08</td><td>4</td><td>476</td><td>1</td></tr><tr><td>2017-05-08</td><td>4</td><td>537</td><td>1</td></tr><tr><td>2017-05-08</td><td>9</td><td>223</td><td>1</td></tr><tr><td>2017-05-08</td><td>9</td><td>535</td><td>1</td></tr><tr><td>2017-05-09</td><td>1</td><td>484</td><td>1</td></tr><tr><td>2017-05-09</td><td>4</td><td>220</td><td>1</td></tr><tr><td>2017-05-09</td><td>6</td><td>530</td><td>1</td></tr><tr><td>2017-05-09</td><td>7</td><td>362</td><td>1</td></tr><tr><td>2017-05-09</td><td>9</td><td>480</td><td>1</td></tr><tr><td>2017-05-09</td><td>9</td><td>528</td><td>1</td></tr><tr><td>2017-05-09</td><td>9</td><td>537</td><td>1</td></tr><tr><td>2017-05-10</td><td>1</td><td>578</td><td>1</td></tr><tr><td>2017-05-10</td><td>4</td><td>385</td><td>1</td></tr><tr><td>2017-05-10</td><td>4</td><td>480</td><td>1</td></tr><tr><td>2017-05-10</td><td>6</td><td>478</td><td>1</td></tr><tr><td>2017-05-10</td><td>6</td><td>537</td><td>1</td></tr><tr><td>2017-05-10</td><td>7</td><td>215</td><td>1</td></tr><tr><td>2017-05-11</td><td>1</td><td>223</td><td>1</td></tr><tr><td>2017-05-11</td><td>1</td><td>480</td><td>1</td></tr><tr><td>2017-05-11</td><td>6</td><td>536</td><td>1</td></tr><tr><td>2017-05-11</td><td>10</td><td>541</td><td>1</td></tr><tr><td>2017-05-12</td><td>4</td><td>214</td><td>1</td></tr><tr><td>2017-05-12</td><td>4</td><td>229</td><td>1</td></tr><tr><td>2017-05-12</td><td>4</td><td>479</td><td>1</td></tr><tr><td>2017-05-12</td><td>4</td><td>606</td><td>1</td></tr><tr><td>2017-05-12</td><td>10</td><td>360</td><td>1</td></tr><tr><td>2017-05-12</td><td>10</td><td>604</td><td>1</td></tr><tr><td>2017-05-13</td><td>7</td><td>220</td><td>1</td></tr><tr><td>2017-05-14</td><td>4</td><td>485</td><td>1</td></tr><tr><td>2017-05-14</td><td>4</td><td>529</td><td>1</td></tr><tr><td>2017-05-14</td><td>6</td><td>483</td><td>1</td></tr><tr><td>2017-05-14</td><td>6</td><td>485</td><td>1</td></tr><tr><td>2017-05-14</td><td>6</td><td>536</td><td>1</td></tr><tr><td>2017-05-14</td><td>7</td><td>580</td><td>1</td></tr><tr><td>2017-05-14</td><td>9</td><td>477</td><td>1</td></tr><tr><td>2017-05-15</td><td>1</td><td>480</td><td>1</td></tr><tr><td>2017-05-15</td><td>1</td><td>489</td><td>1</td></tr><tr><td>2017-05-15</td><td>6</td><td>214</td><td>1</td></tr><tr><td>2017-05-15</td><td>6</td><td>235</td><td>1</td></tr><tr><td>2017-05-15</td><td>6</td><td>485</td><td>1</td></tr><tr><td>2017-05-15</td><td>9</td><td>214</td><td>1</td></tr><tr><td>2017-05-16</td><td>1</td><td>569</td><td>1</td></tr><tr><td>2017-05-16</td><td>6</td><td>480</td><td>1</td></tr><tr><td>2017-05-16</td><td>6</td><td>537</td><td>1</td></tr><tr><td>2017-05-16</td><td>8</td><td>466</td><td>1</td></tr><tr><td>2017-05-16</td><td>9</td><td>214</td><td>1</td></tr><tr><td>2017-05-16</td><td>9</td><td>487</td><td>1</td></tr><tr><td>2017-05-16</td><td>9</td><td>488</td><td>1</td></tr><tr><td>2017-05-17</td><td>1</td><td>478</td><td>1</td></tr><tr><td>2017-05-17</td><td>6</td><td>477</td><td>1</td></tr><tr><td>2017-05-17</td><td>7</td><td>220</td><td>1</td></tr><tr><td>2017-05-17</td><td>7</td><td>568</td><td>1</td></tr><tr><td>2017-05-17</td><td>10</td><td>214</td><td>1</td></tr><tr><td>2017-05-18</td><td>9</td><td>536</td><td>1</td></tr><tr><td>2017-05-19</td><td>1</td><td>480</td><td>1</td></tr><tr><td>2017-05-19</td><td>4</td><td>223</td><td>1</td></tr><tr><td>2017-05-19</td><td>9</td><td>214</td><td>1</td></tr><tr><td>2017-05-19</td><td>9</td><td>389</td><td>1</td></tr><tr><td>2017-05-20</td><td>1</td><td>471</td><td>1</td></tr><tr><td>2017-05-20</td><td>4</td><td>573</td><td>1</td></tr><tr><td>2017-05-20</td><td>4</td><td>582</td><td>1</td></tr><tr><td>2017-05-20</td><td>6</td><td>226</td><td>1</td></tr><tr><td>2017-05-20</td><td>7</td><td>576</td><td>1</td></tr><tr><td>2017-05-21</td><td>1</td><td>358</td><td>1</td></tr><tr><td>2017-05-21</td><td>1</td><td>535</td><td>1</td></tr><tr><td>2017-05-21</td><td>4</td><td>226</td><td>1</td></tr><tr><td>2017-05-21</td><td>4</td><td>537</td><td>1</td></tr><tr><td>2017-05-21</td><td>6</td><td>214</td><td>1</td></tr><tr><td>2017-05-21</td><td>9</td><td>487</td><td>1</td></tr><tr><td>2017-05-22</td><td>4</td><td>214</td><td>1</td></tr><tr><td>2017-05-22</td><td>4</td><td>478</td><td>1</td></tr><tr><td>2017-05-22</td><td>4</td><td>487</td><td>1</td></tr><tr><td>2017-05-22</td><td>9</td><td>215</td><td>1</td></tr><tr><td>2017-05-23</td><td>1</td><td>354</td><td>1</td></tr><tr><td>2017-05-23</td><td>1</td><td>606</td><td>1</td></tr><tr><td>2017-05-23</td><td>4</td><td>574</td><td>1</td></tr><tr><td>2017-05-23</td><td>4</td><td>577</td><td>1</td></tr><tr><td>2017-05-23</td><td>7</td><td>572</td><td>1</td></tr><tr><td>2017-05-24</td><td>1</td><td>462</td><td>1</td></tr><tr><td>2017-05-24</td><td>6</td><td>362</td><td>1</td></tr><tr><td>2017-05-24</td><td>6</td><td>528</td><td>1</td></tr><tr><td>2017-05-24</td><td>7</td><td>573</td><td>1</td></tr><tr><td>2017-05-24</td><td>8</td><td>536</td><td>1</td></tr><tr><td>2017-05-24</td><td>9</td><td>562</td><td>1</td></tr><tr><td>2017-05-24</td><td>9</td><td>579</td><td>1</td></tr><tr><td>2017-05-25</td><td>1</td><td>474</td><td>1</td></tr><tr><td>2017-05-25</td><td>7</td><td>466</td><td>1</td></tr><tr><td>2017-05-25</td><td>8</td><td>215</td><td>1</td></tr><tr><td>2017-05-25</td><td>9</td><td>223</td><td>1</td></tr><tr><td>2017-05-25</td><td>9</td><td>488</td><td>1</td></tr><tr><td>2017-05-25</td><td>10</td><td>564</td><td>1</td></tr><tr><td>2017-05-26</td><td>1</td><td>528</td><td>1</td></tr><tr><td>2017-05-26</td><td>6</td><td>528</td><td>1</td></tr><tr><td>2017-05-26</td><td>7</td><td>478</td><td>1</td></tr><tr><td>2017-05-26</td><td>8</td><td>539</td><td>1</td></tr><tr><td>2017-05-26</td><td>9</td><td>479</td><td>1</td></tr><tr><td>2017-05-26</td><td>10</td><td>220</td><td>1</td></tr><tr><td>2017-05-26</td><td>10</td><td>235</td><td>1</td></tr><tr><td>2017-05-26</td><td>10</td><td>530</td><td>1</td></tr><tr><td>2017-05-27</td><td>1</td><td>214</td><td>1</td></tr><tr><td>2017-05-27</td><td>1</td><td>528</td><td>1</td></tr><tr><td>2017-05-27</td><td>4</td><td>538</td><td>1</td></tr><tr><td>2017-05-27</td><td>8</td><td>229</td><td>1</td></tr><tr><td>2017-05-28</td><td>4</td><td>226</td><td>1</td></tr><tr><td>2017-05-28</td><td>4</td><td>477</td><td>1</td></tr><tr><td>2017-05-28</td><td>7</td><td>371</td><td>1</td></tr><tr><td>2017-05-28</td><td>7</td><td>540</td><td>1</td></tr><tr><td>2017-05-28</td><td>9</td><td>220</td><td>1</td></tr><tr><td>2017-05-28</td><td>9</td><td>482</td><td>1</td></tr><tr><td>2017-05-28</td><td>10</td><td>529</td><td>1</td></tr><tr><td>2017-05-29</td><td>1</td><td>362</td><td>1</td></tr><tr><td>2017-05-29</td><td>8</td><td>214</td><td>1</td></tr><tr><td>2017-05-29</td><td>9</td><td>214</td><td>1</td></tr><tr><td>2017-05-29</td><td>9</td><td>220</td><td>1</td></tr><tr><td>2017-05-29</td><td>9</td><td>379</td><td>1</td></tr><tr><td>2017-05-29</td><td>9</td><td>462</td><td>1</td></tr><tr><td>2017-05-29</td><td>9</td><td>478</td><td>1</td></tr><tr><td>2017-05-29</td><td>10</td><td>485</td><td>1</td></tr><tr><td>2017-05-30</td><td>1</td><td>479</td><td>1</td></tr><tr><td>2017-05-30</td><td>1</td><td>529</td><td>1</td></tr><tr><td>2017-05-30</td><td>1</td><td>538</td><td>1</td></tr><tr><td>2017-05-30</td><td>4</td><td>478</td><td>1</td></tr><tr><td>2017-05-30</td><td>4</td><td>480</td><td>1</td></tr><tr><td>2017-05-30</td><td>4</td><td>605</td><td>1</td></tr><tr><td>2017-05-30</td><td>9</td><td>220</td><td>1</td></tr><tr><td>2017-05-30</td><td>9</td><td>480</td><td>1</td></tr><tr><td>2017-05-30</td><td>9</td><td>537</td><td>1</td></tr><tr><td>2017-05-30</td><td>9</td><td>582</td><td>1</td></tr><tr><td>2017-05-30</td><td>10</td><td>530</td><td>1</td></tr><tr><td>2017-05-31</td><td>1</td><td>528</td><td>1</td></tr><tr><td>2017-05-31</td><td>6</td><td>360</td><td>1</td></tr><tr><td>2017-05-31</td><td>6</td><td>535</td><td>1</td></tr><tr><td>2017-05-31</td><td>6</td><td>536</td><td>1</td></tr><tr><td>2017-05-31</td><td>7</td><td>568</td><td>1</td></tr><tr><td>2017-05-31</td><td>9</td><td>484</td><td>1</td></tr><tr><td>2017-05-31</td><td>9</td><td>584</td><td>1</td></tr><tr><td>2017-05-31</td><td>10</td><td>477</td><td>1</td></tr><tr><td>2017-06-01</td><td>6</td><td>582</td><td>1</td></tr><tr><td>2017-06-01</td><td>8</td><td>358</td><td>1</td></tr><tr><td>2017-06-01</td><td>8</td><td>578</td><td>1</td></tr><tr><td>2017-06-02</td><td>1</td><td>481</td><td>1</td></tr><tr><td>2017-06-02</td><td>6</td><td>477</td><td>1</td></tr><tr><td>2017-06-03</td><td>1</td><td>538</td><td>1</td></tr><tr><td>2017-06-03</td><td>7</td><td>477</td><td>1</td></tr><tr><td>2017-06-03</td><td>7</td><td>538</td><td>1</td></tr><tr><td>2017-06-03</td><td>9</td><td>478</td><td>1</td></tr><tr><td>2017-06-03</td><td>9</td><td>479</td><td>1</td></tr><tr><td>2017-06-03</td><td>9</td><td>488</td><td>1</td></tr><tr><td>2017-06-03</td><td>10</td><td>537</td><td>1</td></tr><tr><td>2017-06-04</td><td>6</td><td>466</td><td>1</td></tr><tr><td>2017-06-05</td><td>1</td><td>220</td><td>1</td></tr><tr><td>2017-06-05</td><td>1</td><td>477</td><td>1</td></tr><tr><td>2017-06-05</td><td>7</td><td>214</td><td>1</td></tr><tr><td>2017-06-06</td><td>6</td><td>476</td><td>1</td></tr><tr><td>2017-06-06</td><td>6</td><td>485</td><td>1</td></tr><tr><td>2017-06-06</td><td>7</td><td>223</td><td>1</td></tr><tr><td>2017-06-06</td><td>8</td><td>530</td><td>1</td></tr><tr><td>2017-06-06</td><td>9</td><td>360</td><td>1</td></tr><tr><td>2017-06-06</td><td>10</td><td>536</td><td>1</td></tr><tr><td>2017-06-07</td><td>1</td><td>462</td><td>1</td></tr><tr><td>2017-06-07</td><td>1</td><td>539</td><td>1</td></tr><tr><td>2017-06-07</td><td>1</td><td>574</td><td>1</td></tr><tr><td>2017-06-07</td><td>4</td><td>352</td><td>1</td></tr><tr><td>2017-06-07</td><td>4</td><td>464</td><td>1</td></tr><tr><td>2017-06-07</td><td>4</td><td>478</td><td>1</td></tr><tr><td>2017-06-07</td><td>4</td><td>485</td><td>1</td></tr><tr><td>2017-06-07</td><td>6</td><td>235</td><td>1</td></tr><tr><td>2017-06-07</td><td>9</td><td>352</td><td>1</td></tr><tr><td>2017-06-07</td><td>9</td><td>464</td><td>1</td></tr><tr><td>2017-06-07</td><td>9</td><td>537</td><td>1</td></tr><tr><td>2017-06-07</td><td>9</td><td>538</td><td>1</td></tr><tr><td>2017-06-08</td><td>1</td><td>356</td><td>1</td></tr><tr><td>2017-06-08</td><td>1</td><td>537</td><td>1</td></tr><tr><td>2017-06-08</td><td>4</td><td>360</td><td>1</td></tr><tr><td>2017-06-08</td><td>8</td><td>563</td><td>1</td></tr><tr><td>2017-06-08</td><td>8</td><td>605</td><td>1</td></tr><tr><td>2017-06-08</td><td>9</td><td>477</td><td>1</td></tr><tr><td>2017-06-08</td><td>9</td><td>485</td><td>1</td></tr><tr><td>2017-06-09</td><td>1</td><td>478</td><td>1</td></tr><tr><td>2017-06-09</td><td>1</td><td>535</td><td>1</td></tr><tr><td>2017-06-09</td><td>6</td><td>528</td><td>1</td></tr><tr><td>2017-06-09</td><td>7</td><td>528</td><td>1</td></tr><tr><td>2017-06-09</td><td>9</td><td>387</td><td>1</td></tr><tr><td>2017-06-09</td><td>9</td><td>471</td><td>1</td></tr><tr><td>2017-06-10</td><td>1</td><td>466</td><td>1</td></tr><tr><td>2017-06-10</td><td>1</td><td>477</td><td>1</td></tr><tr><td>2017-06-10</td><td>1</td><td>581</td><td>1</td></tr><tr><td>2017-06-10</td><td>4</td><td>477</td><td>1</td></tr><tr><td>2017-06-11</td><td>4</td><td>479</td><td>1</td></tr><tr><td>2017-06-11</td><td>6</td><td>223</td><td>1</td></tr><tr><td>2017-06-11</td><td>7</td><td>485</td><td>1</td></tr><tr><td>2017-06-11</td><td>9</td><td>485</td><td>1</td></tr><tr><td>2017-06-11</td><td>9</td><td>529</td><td>1</td></tr><tr><td>2017-06-11</td><td>9</td><td>584</td><td>1</td></tr><tr><td>2017-06-12</td><td>4</td><td>478</td><td>1</td></tr><tr><td>2017-06-12</td><td>9</td><td>214</td><td>1</td></tr><tr><td>2017-06-12</td><td>9</td><td>529</td><td>1</td></tr><tr><td>2017-06-12</td><td>9</td><td>537</td><td>1</td></tr><tr><td>2017-06-12</td><td>10</td><td>477</td><td>1</td></tr><tr><td>2017-06-13</td><td>4</td><td>220</td><td>1</td></tr><tr><td>2017-06-13</td><td>8</td><td>476</td><td>1</td></tr><tr><td>2017-06-13</td><td>8</td><td>581</td><td>1</td></tr><tr><td>2017-06-13</td><td>9</td><td>214</td><td>1</td></tr><tr><td>2017-06-13</td><td>9</td><td>215</td><td>1</td></tr><tr><td>2017-06-14</td><td>1</td><td>537</td><td>1</td></tr><tr><td>2017-06-14</td><td>4</td><td>462</td><td>1</td></tr><tr><td>2017-06-14</td><td>6</td><td>229</td><td>1</td></tr><tr><td>2017-06-14</td><td>7</td><td>528</td><td>1</td></tr><tr><td>2017-06-14</td><td>9</td><td>491</td><td>1</td></tr><tr><td>2017-06-14</td><td>10</td><td>214</td><td>1</td></tr><tr><td>2017-06-14</td><td>10</td><td>477</td><td>1</td></tr><tr><td>2017-06-15</td><td>1</td><td>223</td><td>1</td></tr><tr><td>2017-06-15</td><td>6</td><td>220</td><td>1</td></tr><tr><td>2017-06-15</td><td>6</td><td>529</td><td>1</td></tr><tr><td>2017-06-15</td><td>7</td><td>475</td><td>1</td></tr><tr><td>2017-06-15</td><td>7</td><td>477</td><td>1</td></tr><tr><td>2017-06-15</td><td>8</td><td>485</td><td>1</td></tr><tr><td>2017-06-15</td><td>9</td><td>480</td><td>1</td></tr><tr><td>2017-06-15</td><td>10</td><td>478</td><td>1</td></tr><tr><td>2017-06-16</td><td>7</td><td>490</td><td>1</td></tr><tr><td>2017-06-16</td><td>7</td><td>535</td><td>1</td></tr><tr><td>2017-06-16</td><td>8</td><td>480</td><td>1</td></tr><tr><td>2017-06-16</td><td>9</td><td>479</td><td>1</td></tr><tr><td>2017-06-16</td><td>10</td><td>466</td><td>1</td></tr><tr><td>2017-06-17</td><td>1</td><td>354</td><td>1</td></tr><tr><td>2017-06-17</td><td>1</td><td>481</td><td>1</td></tr><tr><td>2017-06-17</td><td>9</td><td>489</td><td>1</td></tr><tr><td>2017-06-17</td><td>9</td><td>528</td><td>1</td></tr><tr><td>2017-06-17</td><td>9</td><td>535</td><td>1</td></tr><tr><td>2017-06-17</td><td>10</td><td>352</td><td>1</td></tr><tr><td>2017-06-17</td><td>10</td><td>597</td><td>1</td></tr><tr><td>2017-06-18</td><td>10</td><td>535</td><td>1</td></tr><tr><td>2017-06-19</td><td>1</td><td>356</td><td>1</td></tr><tr><td>2017-06-19</td><td>7</td><td>462</td><td>1</td></tr><tr><td>2017-06-19</td><td>9</td><td>487</td><td>1</td></tr><tr><td>2017-06-19</td><td>10</td><td>563</td><td>1</td></tr><tr><td>2017-06-20</td><td>1</td><td>528</td><td>1</td></tr><tr><td>2017-06-20</td><td>4</td><td>479</td><td>1</td></tr><tr><td>2017-06-20</td><td>8</td><td>586</td><td>1</td></tr><tr><td>2017-06-20</td><td>9</td><td>362</td><td>1</td></tr><tr><td>2017-06-21</td><td>7</td><td>220</td><td>1</td></tr><tr><td>2017-06-21</td><td>7</td><td>593</td><td>1</td></tr><tr><td>2017-06-21</td><td>8</td><td>482</td><td>1</td></tr><tr><td>2017-06-21</td><td>8</td><td>536</td><td>1</td></tr><tr><td>2017-06-21</td><td>9</td><td>462</td><td>1</td></tr><tr><td>2017-06-21</td><td>9</td><td>477</td><td>1</td></tr><tr><td>2017-06-21</td><td>10</td><td>220</td><td>1</td></tr><tr><td>2017-06-21</td><td>10</td><td>477</td><td>1</td></tr><tr><td>2017-06-22</td><td>1</td><td>232</td><td>1</td></tr><tr><td>2017-06-22</td><td>1</td><td>485</td><td>1</td></tr><tr><td>2017-06-22</td><td>4</td><td>529</td><td>1</td></tr><tr><td>2017-06-22</td><td>6</td><td>220</td><td>1</td></tr><tr><td>2017-06-22</td><td>6</td><td>476</td><td>1</td></tr><tr><td>2017-06-22</td><td>6</td><td>488</td><td>1</td></tr><tr><td>2017-06-22</td><td>7</td><td>540</td><td>1</td></tr><tr><td>2017-06-22</td><td>9</td><td>477</td><td>1</td></tr><tr><td>2017-06-22</td><td>9</td><td>584</td><td>1</td></tr><tr><td>2017-06-23</td><td>6</td><td>528</td><td>1</td></tr><tr><td>2017-06-23</td><td>9</td><td>539</td><td>1</td></tr><tr><td>2017-06-23</td><td>9</td><td>562</td><td>1</td></tr><tr><td>2017-06-23</td><td>9</td><td>563</td><td>1</td></tr><tr><td>2017-06-24</td><td>1</td><td>479</td><td>1</td></tr><tr><td>2017-06-24</td><td>1</td><td>480</td><td>1</td></tr><tr><td>2017-06-24</td><td>1</td><td>485</td><td>1</td></tr><tr><td>2017-06-24</td><td>1</td><td>487</td><td>1</td></tr><tr><td>2017-06-24</td><td>9</td><td>474</td><td>1</td></tr><tr><td>2017-06-24</td><td>10</td><td>581</td><td>1</td></tr><tr><td>2017-06-25</td><td>6</td><td>223</td><td>1</td></tr><tr><td>2017-06-25</td><td>7</td><td>223</td><td>1</td></tr><tr><td>2017-06-25</td><td>7</td><td>477</td><td>1</td></tr><tr><td>2017-06-25</td><td>7</td><td>529</td><td>1</td></tr><tr><td>2017-06-25</td><td>9</td><td>477</td><td>1</td></tr><tr><td>2017-06-25</td><td>9</td><td>478</td><td>1</td></tr><tr><td>2017-06-25</td><td>9</td><td>484</td><td>1</td></tr><tr><td>2017-06-25</td><td>9</td><td>539</td><td>1</td></tr><tr><td>2017-06-26</td><td>1</td><td>472</td><td>1</td></tr><tr><td>2017-06-26</td><td>6</td><td>477</td><td>1</td></tr><tr><td>2017-06-26</td><td>7</td><td>529</td><td>1</td></tr><tr><td>2017-06-26</td><td>9</td><td>538</td><td>1</td></tr><tr><td>2017-06-27</td><td>4</td><td>478</td><td>1</td></tr><tr><td>2017-06-27</td><td>4</td><td>537</td><td>1</td></tr><tr><td>2017-06-27</td><td>10</td><td>220</td><td>1</td></tr><tr><td>2017-06-28</td><td>1</td><td>214</td><td>1</td></tr><tr><td>2017-06-28</td><td>1</td><td>480</td><td>1</td></tr><tr><td>2017-06-28</td><td>1</td><td>587</td><td>1</td></tr><tr><td>2017-06-28</td><td>4</td><td>387</td><td>1</td></tr><tr><td>2017-06-28</td><td>4</td><td>528</td><td>2</td></tr><tr><td>2017-06-28</td><td>7</td><td>575</td><td>1</td></tr><tr><td>2017-06-28</td><td>7</td><td>591</td><td>1</td></tr><tr><td>2017-06-28</td><td>8</td><td>381</td><td>1</td></tr><tr><td>2017-06-28</td><td>10</td><td>477</td><td>1</td></tr><tr><td>2017-06-28</td><td>10</td><td>487</td><td>1</td></tr><tr><td>2017-06-29</td><td>4</td><td>356</td><td>1</td></tr><tr><td>2017-06-29</td><td>4</td><td>587</td><td>1</td></tr><tr><td>2017-06-29</td><td>7</td><td>477</td><td>1</td></tr><tr><td>2017-06-29</td><td>7</td><td>479</td><td>1</td></tr><tr><td>2017-06-29</td><td>8</td><td>541</td><td>1</td></tr><tr><td>2017-06-29</td><td>9</td><td>477</td><td>1</td></tr><tr><td>2017-06-30</td><td>6</td><td>491</td><td>1</td></tr><tr><td>2017-06-30</td><td>8</td><td>477</td><td>1</td></tr><tr><td>2017-06-30</td><td>9</td><td>477</td><td>1</td></tr><tr><td>2017-06-30</td><td>10</td><td>223</td><td>1</td></tr><tr><td>2017-06-30</td><td>10</td><td>477</td><td>1</td></tr></tbody></table></div>"
      ]
     },
     "metadata": {
      "application/vnd.databricks.v1+output": {
       "addedWidgets": {},
       "aggData": [],
       "aggError": "",
       "aggOverflow": false,
       "aggSchema": [],
       "aggSeriesLimitReached": false,
       "aggType": "",
       "arguments": {},
       "columnCustomDisplayInfos": {},
       "data": [
        [
         "2015-01-18",
         9,
         312,
         1
        ],
        [
         "2015-01-18",
         10,
         310,
         1
        ],
        [
         "2015-01-21",
         8,
         346,
         1
        ],
        [
         "2015-01-22",
         4,
         311,
         1
        ],
        [
         "2015-02-02",
         6,
         312,
         1
        ],
        [
         "2015-02-15",
         1,
         312,
         1
        ],
        [
         "2015-02-19",
         9,
         311,
         1
        ],
        [
         "2015-02-24",
         8,
         314,
         1
        ],
        [
         "2015-03-08",
         8,
         350,
         1
        ],
        [
         "2015-03-13",
         9,
         350,
         1
        ],
        [
         "2015-03-14",
         4,
         346,
         1
        ],
        [
         "2015-03-15",
         9,
         340,
         1
        ],
        [
         "2015-03-22",
         4,
         311,
         1
        ],
        [
         "2015-03-26",
         10,
         312,
         1
        ],
        [
         "2015-03-28",
         7,
         312,
         1
        ],
        [
         "2015-03-28",
         9,
         314,
         1
        ],
        [
         "2015-03-29",
         9,
         311,
         1
        ],
        [
         "2015-04-01",
         8,
         311,
         1
        ],
        [
         "2015-04-07",
         9,
         311,
         1
        ],
        [
         "2015-04-07",
         9,
         351,
         1
        ],
        [
         "2015-04-09",
         9,
         311,
         1
        ],
        [
         "2015-04-10",
         9,
         326,
         1
        ],
        [
         "2015-04-15",
         9,
         312,
         1
        ],
        [
         "2015-04-16",
         9,
         349,
         1
        ],
        [
         "2015-04-20",
         9,
         310,
         1
        ],
        [
         "2015-04-21",
         9,
         312,
         1
        ],
        [
         "2015-04-25",
         4,
         324,
         1
        ],
        [
         "2015-04-27",
         1,
         314,
         1
        ],
        [
         "2015-04-29",
         6,
         310,
         1
        ],
        [
         "2015-04-29",
         9,
         348,
         1
        ],
        [
         "2015-04-30",
         8,
         330,
         1
        ],
        [
         "2015-05-01",
         4,
         312,
         1
        ],
        [
         "2015-05-06",
         9,
         324,
         1
        ],
        [
         "2015-05-07",
         9,
         351,
         1
        ],
        [
         "2015-05-13",
         1,
         310,
         1
        ],
        [
         "2015-05-14",
         7,
         313,
         1
        ],
        [
         "2015-05-16",
         6,
         313,
         1
        ],
        [
         "2015-05-16",
         7,
         313,
         1
        ],
        [
         "2015-05-22",
         9,
         314,
         1
        ],
        [
         "2015-05-24",
         8,
         322,
         1
        ],
        [
         "2015-05-30",
         1,
         313,
         1
        ],
        [
         "2015-05-30",
         4,
         314,
         1
        ],
        [
         "2015-06-05",
         4,
         313,
         1
        ],
        [
         "2015-06-07",
         4,
         342,
         1
        ],
        [
         "2015-06-20",
         9,
         347,
         1
        ],
        [
         "2015-06-24",
         9,
         320,
         1
        ],
        [
         "2015-07-03",
         4,
         373,
         1
        ],
        [
         "2015-07-11",
         8,
         387,
         1
        ],
        [
         "2015-07-22",
         8,
         379,
         1
        ],
        [
         "2015-08-14",
         6,
         377,
         1
        ],
        [
         "2015-08-15",
         1,
         377,
         1
        ],
        [
         "2015-08-15",
         8,
         328,
         1
        ],
        [
         "2015-08-26",
         4,
         387,
         1
        ],
        [
         "2015-08-28",
         4,
         370,
         1
        ],
        [
         "2015-08-31",
         10,
         373,
         1
        ],
        [
         "2015-09-03",
         9,
         369,
         1
        ],
        [
         "2015-09-10",
         1,
         354,
         1
        ],
        [
         "2015-10-03",
         1,
         352,
         1
        ],
        [
         "2015-10-07",
         9,
         352,
         1
        ],
        [
         "2015-10-08",
         10,
         354,
         1
        ],
        [
         "2015-10-12",
         9,
         379,
         1
        ],
        [
         "2015-10-13",
         9,
         352,
         2
        ],
        [
         "2015-10-23",
         9,
         354,
         1
        ],
        [
         "2015-10-25",
         8,
         334,
         1
        ],
        [
         "2015-10-27",
         6,
         368,
         1
        ],
        [
         "2015-10-28",
         8,
         373,
         1
        ],
        [
         "2015-10-30",
         7,
         370,
         1
        ],
        [
         "2015-11-16",
         8,
         379,
         1
        ],
        [
         "2015-11-20",
         8,
         360,
         1
        ],
        [
         "2015-11-23",
         9,
         326,
         1
        ],
        [
         "2015-11-24",
         1,
         330,
         1
        ],
        [
         "2015-11-27",
         10,
         320,
         1
        ],
        [
         "2015-12-01",
         10,
         356,
         1
        ],
        [
         "2015-12-04",
         4,
         324,
         1
        ],
        [
         "2015-12-05",
         6,
         389,
         1
        ],
        [
         "2015-12-06",
         10,
         360,
         1
        ],
        [
         "2015-12-10",
         9,
         334,
         1
        ],
        [
         "2015-12-11",
         9,
         375,
         1
        ],
        [
         "2015-12-12",
         8,
         377,
         1
        ],
        [
         "2015-12-12",
         9,
         362,
         1
        ],
        [
         "2015-12-12",
         9,
         379,
         1
        ],
        [
         "2015-12-14",
         9,
         377,
         1
        ],
        [
         "2015-12-16",
         4,
         377,
         1
        ],
        [
         "2015-12-18",
         4,
         352,
         1
        ],
        [
         "2015-12-25",
         8,
         389,
         1
        ],
        [
         "2016-01-07",
         9,
         362,
         1
        ],
        [
         "2016-01-09",
         8,
         373,
         1
        ],
        [
         "2016-01-10",
         9,
         381,
         1
        ],
        [
         "2016-01-16",
         7,
         371,
         1
        ],
        [
         "2016-01-23",
         4,
         332,
         1
        ],
        [
         "2016-01-23",
         9,
         354,
         1
        ],
        [
         "2016-01-26",
         9,
         330,
         1
        ],
        [
         "2016-01-31",
         4,
         360,
         1
        ],
        [
         "2016-02-01",
         1,
         354,
         1
        ],
        [
         "2016-02-12",
         9,
         330,
         1
        ],
        [
         "2016-02-14",
         4,
         381,
         1
        ],
        [
         "2016-02-20",
         9,
         328,
         1
        ],
        [
         "2016-02-20",
         9,
         377,
         1
        ],
        [
         "2016-02-22",
         8,
         369,
         1
        ],
        [
         "2016-02-22",
         9,
         362,
         1
        ],
        [
         "2016-02-25",
         9,
         370,
         1
        ],
        [
         "2016-03-08",
         9,
         352,
         1
        ],
        [
         "2016-03-12",
         1,
         336,
         1
        ],
        [
         "2016-03-18",
         7,
         370,
         1
        ],
        [
         "2016-03-20",
         9,
         360,
         1
        ],
        [
         "2016-03-21",
         6,
         330,
         1
        ],
        [
         "2016-03-24",
         7,
         330,
         1
        ],
        [
         "2016-03-29",
         9,
         375,
         1
        ],
        [
         "2016-03-31",
         7,
         368,
         1
        ],
        [
         "2016-04-01",
         8,
         373,
         1
        ],
        [
         "2016-04-04",
         7,
         387,
         1
        ],
        [
         "2016-04-13",
         8,
         362,
         1
        ],
        [
         "2016-04-25",
         1,
         320,
         1
        ],
        [
         "2016-04-27",
         4,
         373,
         1
        ],
        [
         "2016-05-01",
         1,
         322,
         1
        ],
        [
         "2016-05-01",
         9,
         352,
         1
        ],
        [
         "2016-05-03",
         9,
         370,
         1
        ],
        [
         "2016-05-11",
         7,
         352,
         1
        ],
        [
         "2016-05-16",
         9,
         354,
         1
        ],
        [
         "2016-05-21",
         4,
         371,
         1
        ],
        [
         "2016-05-23",
         8,
         328,
         1
        ],
        [
         "2016-05-26",
         7,
         360,
         1
        ],
        [
         "2016-05-27",
         7,
         326,
         1
        ],
        [
         "2016-05-31",
         4,
         369,
         1
        ],
        [
         "2016-06-10",
         4,
         356,
         1
        ],
        [
         "2016-06-12",
         10,
         381,
         1
        ],
        [
         "2016-06-13",
         4,
         371,
         1
        ],
        [
         "2016-06-15",
         4,
         332,
         1
        ],
        [
         "2016-06-19",
         1,
         328,
         1
        ],
        [
         "2016-06-21",
         10,
         368,
         1
        ],
        [
         "2016-06-25",
         7,
         369,
         1
        ],
        [
         "2016-06-27",
         9,
         362,
         1
        ],
        [
         "2016-07-02",
         9,
         375,
         1
        ],
        [
         "2016-07-03",
         9,
         354,
         1
        ],
        [
         "2016-07-03",
         9,
         477,
         1
        ],
        [
         "2016-07-03",
         9,
         479,
         1
        ],
        [
         "2016-07-04",
         9,
         356,
         1
        ],
        [
         "2016-07-06",
         10,
         528,
         1
        ],
        [
         "2016-07-07",
         10,
         358,
         1
        ],
        [
         "2016-07-08",
         8,
         381,
         1
        ],
        [
         "2016-07-08",
         9,
         478,
         1
        ],
        [
         "2016-07-08",
         9,
         480,
         1
        ],
        [
         "2016-07-08",
         9,
         487,
         1
        ],
        [
         "2016-07-08",
         10,
         480,
         1
        ],
        [
         "2016-07-09",
         7,
         215,
         1
        ],
        [
         "2016-07-11",
         4,
         477,
         1
        ],
        [
         "2016-07-11",
         8,
         232,
         1
        ],
        [
         "2016-07-12",
         4,
         478,
         1
        ],
        [
         "2016-07-12",
         7,
         389,
         1
        ],
        [
         "2016-07-13",
         4,
         352,
         1
        ],
        [
         "2016-07-13",
         9,
         371,
         1
        ],
        [
         "2016-07-13",
         9,
         485,
         1
        ],
        [
         "2016-07-14",
         4,
         605,
         1
        ],
        [
         "2016-07-15",
         1,
         540,
         1
        ],
        [
         "2016-07-15",
         4,
         478,
         1
        ],
        [
         "2016-07-15",
         7,
         483,
         1
        ],
        [
         "2016-07-15",
         7,
         540,
         1
        ],
        [
         "2016-07-15",
         10,
         484,
         1
        ],
        [
         "2016-07-16",
         1,
         223,
         1
        ],
        [
         "2016-07-19",
         4,
         537,
         1
        ],
        [
         "2016-07-22",
         1,
         477,
         1
        ],
        [
         "2016-07-23",
         9,
         377,
         1
        ],
        [
         "2016-07-23",
         10,
         220,
         1
        ],
        [
         "2016-07-24",
         10,
         477,
         1
        ],
        [
         "2016-07-25",
         9,
         537,
         1
        ],
        [
         "2016-07-26",
         9,
         487,
         1
        ],
        [
         "2016-07-26",
         9,
         528,
         1
        ],
        [
         "2016-07-28",
         7,
         377,
         1
        ],
        [
         "2016-07-28",
         8,
         485,
         1
        ],
        [
         "2016-07-29",
         8,
         462,
         1
        ],
        [
         "2016-07-29",
         9,
         480,
         1
        ],
        [
         "2016-07-29",
         9,
         487,
         1
        ],
        [
         "2016-07-29",
         10,
         480,
         1
        ],
        [
         "2016-07-30",
         8,
         604,
         1
        ],
        [
         "2016-07-31",
         4,
         540,
         1
        ],
        [
         "2016-07-31",
         7,
         220,
         1
        ],
        [
         "2016-07-31",
         9,
         489,
         1
        ],
        [
         "2016-08-01",
         4,
         487,
         1
        ],
        [
         "2016-08-01",
         9,
         486,
         1
        ],
        [
         "2016-08-02",
         4,
         477,
         1
        ],
        [
         "2016-08-02",
         6,
         477,
         1
        ],
        [
         "2016-08-02",
         9,
         539,
         1
        ],
        [
         "2016-08-03",
         6,
         229,
         1
        ],
        [
         "2016-08-03",
         6,
         537,
         1
        ],
        [
         "2016-08-03",
         6,
         540,
         1
        ],
        [
         "2016-08-04",
         1,
         478,
         1
        ],
        [
         "2016-08-05",
         4,
         484,
         1
        ],
        [
         "2016-08-05",
         4,
         528,
         1
        ],
        [
         "2016-08-05",
         6,
         220,
         1
        ],
        [
         "2016-08-06",
         8,
         529,
         1
        ],
        [
         "2016-08-07",
         6,
         480,
         1
        ],
        [
         "2016-08-07",
         9,
         375,
         1
        ],
        [
         "2016-08-07",
         9,
         480,
         1
        ],
        [
         "2016-08-07",
         10,
         479,
         1
        ],
        [
         "2016-08-07",
         10,
         537,
         1
        ],
        [
         "2016-08-08",
         1,
         536,
         1
        ],
        [
         "2016-08-08",
         10,
         371,
         1
        ],
        [
         "2016-08-09",
         9,
         373,
         1
        ],
        [
         "2016-08-09",
         9,
         535,
         1
        ],
        [
         "2016-08-09",
         9,
         540,
         1
        ],
        [
         "2016-08-10",
         7,
         477,
         1
        ],
        [
         "2016-08-10",
         9,
         220,
         1
        ],
        [
         "2016-08-11",
         4,
         385,
         1
        ],
        [
         "2016-08-11",
         6,
         477,
         1
        ],
        [
         "2016-08-11",
         9,
         528,
         1
        ],
        [
         "2016-08-12",
         1,
         528,
         1
        ],
        [
         "2016-08-12",
         4,
         529,
         1
        ],
        [
         "2016-08-12",
         4,
         535,
         1
        ],
        [
         "2016-08-12",
         6,
         480,
         1
        ],
        [
         "2016-08-12",
         8,
         477,
         1
        ],
        [
         "2016-08-12",
         10,
         464,
         1
        ],
        [
         "2016-08-12",
         10,
         565,
         1
        ],
        [
         "2016-08-13",
         1,
         387,
         1
        ],
        [
         "2016-08-13",
         4,
         478,
         1
        ],
        [
         "2016-08-13",
         4,
         487,
         1
        ],
        [
         "2016-08-13",
         6,
         529,
         1
        ],
        [
         "2016-08-13",
         10,
         590,
         1
        ],
        [
         "2016-08-14",
         6,
         235,
         1
        ],
        [
         "2016-08-14",
         7,
         538,
         1
        ],
        [
         "2016-08-14",
         8,
         214,
         1
        ],
        [
         "2016-08-14",
         8,
         226,
         1
        ],
        [
         "2016-08-14",
         8,
         530,
         1
        ],
        [
         "2016-08-14",
         10,
         215,
         1
        ],
        [
         "2016-08-15",
         1,
         528,
         1
        ],
        [
         "2016-08-15",
         1,
         529,
         1
        ],
        [
         "2016-08-15",
         1,
         536,
         1
        ],
        [
         "2016-08-15",
         6,
         229,
         1
        ],
        [
         "2016-08-15",
         6,
         478,
         1
        ],
        [
         "2016-08-15",
         8,
         538,
         1
        ],
        [
         "2016-08-15",
         10,
         226,
         1
        ],
        [
         "2016-08-16",
         4,
         356,
         1
        ],
        [
         "2016-08-16",
         4,
         485,
         1
        ],
        [
         "2016-08-16",
         6,
         478,
         1
        ],
        [
         "2016-08-17",
         4,
         220,
         1
        ],
        [
         "2016-08-17",
         7,
         539,
         1
        ],
        [
         "2016-08-17",
         9,
         529,
         1
        ],
        [
         "2016-08-18",
         1,
         360,
         1
        ],
        [
         "2016-08-18",
         7,
         477,
         1
        ],
        [
         "2016-08-18",
         7,
         478,
         1
        ],
        [
         "2016-08-19",
         4,
         477,
         2
        ],
        [
         "2016-08-19",
         7,
         540,
         1
        ],
        [
         "2016-08-19",
         8,
         223,
         1
        ],
        [
         "2016-08-20",
         4,
         529,
         1
        ],
        [
         "2016-08-20",
         8,
         220,
         1
        ],
        [
         "2016-08-20",
         9,
         229,
         1
        ],
        [
         "2016-08-20",
         9,
         529,
         1
        ],
        [
         "2016-08-20",
         9,
         530,
         1
        ],
        [
         "2016-08-21",
         1,
         214,
         1
        ],
        [
         "2016-08-21",
         8,
         214,
         1
        ],
        [
         "2016-08-22",
         4,
         220,
         1
        ],
        [
         "2016-08-23",
         4,
         477,
         1
        ],
        [
         "2016-08-23",
         10,
         362,
         1
        ],
        [
         "2016-08-24",
         1,
         486,
         1
        ],
        [
         "2016-08-24",
         1,
         535,
         1
        ],
        [
         "2016-08-24",
         4,
         478,
         1
        ],
        [
         "2016-08-24",
         4,
         480,
         1
        ],
        [
         "2016-08-24",
         4,
         486,
         1
        ],
        [
         "2016-08-24",
         4,
         528,
         1
        ],
        [
         "2016-08-24",
         6,
         478,
         1
        ],
        [
         "2016-08-24",
         9,
         214,
         1
        ],
        [
         "2016-08-24",
         9,
         480,
         1
        ],
        [
         "2016-08-24",
         10,
         480,
         1
        ],
        [
         "2016-08-25",
         4,
         215,
         1
        ],
        [
         "2016-08-25",
         4,
         232,
         1
        ],
        [
         "2016-08-25",
         4,
         565,
         1
        ],
        [
         "2016-08-25",
         7,
         487,
         1
        ],
        [
         "2016-08-25",
         7,
         529,
         1
        ],
        [
         "2016-08-25",
         9,
         540,
         1
        ],
        [
         "2016-08-26",
         1,
         476,
         1
        ],
        [
         "2016-08-26",
         7,
         362,
         1
        ],
        [
         "2016-08-26",
         9,
         226,
         1
        ],
        [
         "2016-08-26",
         9,
         466,
         1
        ],
        [
         "2016-08-27",
         6,
         477,
         1
        ],
        [
         "2016-08-27",
         8,
         477,
         1
        ],
        [
         "2016-08-28",
         1,
         540,
         1
        ],
        [
         "2016-08-28",
         4,
         575,
         1
        ],
        [
         "2016-08-28",
         6,
         223,
         1
        ],
        [
         "2016-08-28",
         6,
         477,
         1
        ],
        [
         "2016-08-29",
         4,
         477,
         1
        ],
        [
         "2016-08-29",
         4,
         489,
         1
        ],
        [
         "2016-08-29",
         7,
         477,
         1
        ],
        [
         "2016-08-29",
         7,
         529,
         1
        ],
        [
         "2016-08-30",
         1,
         477,
         1
        ],
        [
         "2016-08-30",
         1,
         480,
         2
        ],
        [
         "2016-08-30",
         4,
         464,
         1
        ],
        [
         "2016-08-30",
         6,
         482,
         1
        ],
        [
         "2016-08-30",
         6,
         528,
         1
        ],
        [
         "2016-08-30",
         7,
         539,
         1
        ],
        [
         "2016-08-30",
         9,
         479,
         1
        ],
        [
         "2016-08-30",
         9,
         529,
         1
        ],
        [
         "2016-08-30",
         10,
         530,
         1
        ],
        [
         "2016-08-31",
         1,
         480,
         1
        ],
        [
         "2016-08-31",
         1,
         568,
         1
        ],
        [
         "2016-08-31",
         7,
         530,
         1
        ],
        [
         "2016-08-31",
         9,
         480,
         1
        ],
        [
         "2016-09-01",
         1,
         220,
         1
        ],
        [
         "2016-09-01",
         6,
         535,
         1
        ],
        [
         "2016-09-02",
         7,
         478,
         1
        ],
        [
         "2016-09-02",
         9,
         385,
         1
        ],
        [
         "2016-09-03",
         1,
         477,
         1
        ],
        [
         "2016-09-03",
         1,
         538,
         1
        ],
        [
         "2016-09-03",
         4,
         466,
         1
        ],
        [
         "2016-09-03",
         6,
         574,
         1
        ],
        [
         "2016-09-03",
         9,
         362,
         1
        ],
        [
         "2016-09-03",
         9,
         480,
         1
        ],
        [
         "2016-09-03",
         9,
         528,
         1
        ],
        [
         "2016-09-03",
         9,
         561,
         1
        ],
        [
         "2016-09-04",
         6,
         477,
         1
        ],
        [
         "2016-09-04",
         6,
         541,
         1
        ],
        [
         "2016-09-04",
         7,
         528,
         1
        ],
        [
         "2016-09-04",
         10,
         484,
         1
        ],
        [
         "2016-09-05",
         1,
         477,
         1
        ],
        [
         "2016-09-05",
         4,
         362,
         1
        ],
        [
         "2016-09-05",
         4,
         537,
         1
        ],
        [
         "2016-09-05",
         6,
         220,
         1
        ],
        [
         "2016-09-05",
         9,
         477,
         1
        ],
        [
         "2016-09-05",
         9,
         485,
         1
        ],
        [
         "2016-09-06",
         1,
         214,
         1
        ],
        [
         "2016-09-06",
         4,
         477,
         1
        ],
        [
         "2016-09-06",
         4,
         478,
         1
        ],
        [
         "2016-09-06",
         8,
         562,
         1
        ],
        [
         "2016-09-06",
         9,
         480,
         1
        ],
        [
         "2016-09-06",
         10,
         223,
         1
        ],
        [
         "2016-09-07",
         4,
         220,
         1
        ],
        [
         "2016-09-07",
         9,
         358,
         1
        ],
        [
         "2016-09-08",
         6,
         475,
         1
        ],
        [
         "2016-09-08",
         9,
         360,
         1
        ],
        [
         "2016-09-08",
         9,
         538,
         1
        ],
        [
         "2016-09-09",
         4,
         477,
         1
        ],
        [
         "2016-09-09",
         7,
         477,
         1
        ],
        [
         "2016-09-09",
         7,
         478,
         1
        ],
        [
         "2016-09-09",
         8,
         480,
         1
        ],
        [
         "2016-09-10",
         9,
         385,
         1
        ],
        [
         "2016-09-10",
         9,
         528,
         1
        ],
        [
         "2016-09-10",
         10,
         489,
         1
        ],
        [
         "2016-09-10",
         10,
         529,
         1
        ],
        [
         "2016-09-11",
         8,
         538,
         1
        ],
        [
         "2016-09-11",
         9,
         480,
         1
        ],
        [
         "2016-09-11",
         10,
         389,
         1
        ],
        [
         "2016-09-12",
         4,
         214,
         1
        ],
        [
         "2016-09-12",
         6,
         536,
         1
        ],
        [
         "2016-09-13",
         4,
         358,
         1
        ],
        [
         "2016-09-13",
         4,
         474,
         1
        ],
        [
         "2016-09-13",
         6,
         477,
         1
        ],
        [
         "2016-09-13",
         7,
         477,
         1
        ],
        [
         "2016-09-13",
         9,
         478,
         1
        ],
        [
         "2016-09-13",
         10,
         223,
         1
        ],
        [
         "2016-09-14",
         10,
         537,
         1
        ],
        [
         "2016-09-14",
         10,
         576,
         1
        ],
        [
         "2016-09-15",
         1,
         387,
         1
        ],
        [
         "2016-09-15",
         6,
         215,
         1
        ],
        [
         "2016-09-15",
         6,
         479,
         1
        ],
        [
         "2016-09-15",
         6,
         529,
         1
        ],
        [
         "2016-09-15",
         10,
         529,
         1
        ],
        [
         "2016-09-15",
         10,
         530,
         1
        ],
        [
         "2016-09-16",
         1,
         478,
         1
        ],
        [
         "2016-09-16",
         1,
         537,
         1
        ],
        [
         "2016-09-16",
         4,
         477,
         1
        ],
        [
         "2016-09-16",
         6,
         478,
         2
        ],
        [
         "2016-09-16",
         6,
         529,
         1
        ],
        [
         "2016-09-17",
         4,
         464,
         1
        ],
        [
         "2016-09-17",
         6,
         464,
         1
        ],
        [
         "2016-09-17",
         8,
         214,
         1
        ],
        [
         "2016-09-18",
         1,
         540,
         1
        ],
        [
         "2016-09-18",
         8,
         373,
         1
        ],
        [
         "2016-09-18",
         9,
         529,
         1
        ],
        [
         "2016-09-19",
         1,
         220,
         1
        ],
        [
         "2016-09-19",
         1,
         389,
         1
        ],
        [
         "2016-09-19",
         1,
         528,
         1
        ],
        [
         "2016-09-19",
         6,
         538,
         1
        ],
        [
         "2016-09-19",
         10,
         581,
         1
        ],
        [
         "2016-09-20",
         6,
         387,
         1
        ],
        [
         "2016-09-20",
         6,
         479,
         1
        ],
        [
         "2016-09-20",
         10,
         477,
         1
        ],
        [
         "2016-09-20",
         10,
         538,
         1
        ],
        [
         "2016-09-21",
         1,
         538,
         1
        ],
        [
         "2016-09-21",
         4,
         477,
         1
        ],
        [
         "2016-09-21",
         7,
         480,
         1
        ],
        [
         "2016-09-21",
         7,
         529,
         1
        ],
        [
         "2016-09-22",
         4,
         535,
         1
        ],
        [
         "2016-09-23",
         4,
         477,
         1
        ],
        [
         "2016-09-23",
         6,
         464,
         1
        ],
        [
         "2016-09-23",
         8,
         491,
         1
        ],
        [
         "2016-09-23",
         10,
         541,
         1
        ],
        [
         "2016-09-23",
         10,
         561,
         1
        ],
        [
         "2016-09-24",
         1,
         232,
         1
        ],
        [
         "2016-09-24",
         1,
         535,
         1
        ],
        [
         "2016-09-24",
         6,
         474,
         1
        ],
        [
         "2016-09-24",
         10,
         215,
         1
        ],
        [
         "2016-09-25",
         1,
         539,
         1
        ],
        [
         "2016-09-25",
         7,
         528,
         1
        ],
        [
         "2016-09-26",
         1,
         483,
         1
        ],
        [
         "2016-09-26",
         1,
         538,
         1
        ],
        [
         "2016-09-26",
         1,
         593,
         1
        ],
        [
         "2016-09-26",
         4,
         477,
         1
        ],
        [
         "2016-09-26",
         4,
         485,
         1
        ],
        [
         "2016-09-26",
         6,
         215,
         1
        ],
        [
         "2016-09-26",
         8,
         529,
         1
        ],
        [
         "2016-09-26",
         8,
         536,
         1
        ],
        [
         "2016-09-26",
         8,
         582,
         1
        ],
        [
         "2016-09-26",
         9,
         488,
         1
        ],
        [
         "2016-09-27",
         8,
         528,
         1
        ],
        [
         "2016-09-27",
         10,
         232,
         1
        ],
        [
         "2016-09-28",
         1,
         477,
         1
        ],
        [
         "2016-09-28",
         6,
         528,
         1
        ],
        [
         "2016-09-28",
         8,
         229,
         1
        ],
        [
         "2016-09-28",
         9,
         223,
         1
        ],
        [
         "2016-09-29",
         6,
         528,
         1
        ],
        [
         "2016-09-29",
         10,
         540,
         1
        ],
        [
         "2016-09-30",
         1,
         471,
         1
        ],
        [
         "2016-09-30",
         4,
         605,
         1
        ],
        [
         "2016-09-30",
         6,
         528,
         2
        ],
        [
         "2016-09-30",
         8,
         538,
         1
        ],
        [
         "2016-09-30",
         9,
         605,
         1
        ],
        [
         "2016-09-30",
         10,
         528,
         1
        ],
        [
         "2016-10-01",
         4,
         478,
         1
        ],
        [
         "2016-10-01",
         6,
         232,
         1
        ],
        [
         "2016-10-01",
         10,
         358,
         1
        ],
        [
         "2016-10-01",
         10,
         477,
         1
        ],
        [
         "2016-10-01",
         10,
         528,
         1
        ],
        [
         "2016-10-02",
         1,
         480,
         1
        ],
        [
         "2016-10-02",
         1,
         535,
         1
        ],
        [
         "2016-10-02",
         4,
         214,
         1
        ],
        [
         "2016-10-02",
         4,
         529,
         1
        ],
        [
         "2016-10-02",
         9,
         215,
         1
        ],
        [
         "2016-10-02",
         10,
         529,
         1
        ],
        [
         "2016-10-03",
         8,
         352,
         1
        ],
        [
         "2016-10-04",
         4,
         479,
         1
        ],
        [
         "2016-10-04",
         4,
         487,
         1
        ],
        [
         "2016-10-04",
         6,
         480,
         1
        ],
        [
         "2016-10-04",
         9,
         214,
         1
        ],
        [
         "2016-10-05",
         1,
         485,
         1
        ],
        [
         "2016-10-05",
         6,
         480,
         1
        ],
        [
         "2016-10-05",
         10,
         466,
         1
        ],
        [
         "2016-10-06",
         4,
         485,
         1
        ],
        [
         "2016-10-06",
         9,
         223,
         1
        ],
        [
         "2016-10-06",
         9,
         360,
         1
        ],
        [
         "2016-10-06",
         9,
         477,
         1
        ],
        [
         "2016-10-06",
         9,
         478,
         1
        ],
        [
         "2016-10-06",
         9,
         488,
         1
        ],
        [
         "2016-10-07",
         6,
         538,
         1
        ],
        [
         "2016-10-07",
         10,
         235,
         1
        ],
        [
         "2016-10-08",
         1,
         536,
         1
        ],
        [
         "2016-10-08",
         4,
         477,
         1
        ],
        [
         "2016-10-08",
         9,
         480,
         1
        ],
        [
         "2016-10-08",
         9,
         540,
         1
        ],
        [
         "2016-10-09",
         1,
         223,
         1
        ],
        [
         "2016-10-09",
         1,
         478,
         1
        ],
        [
         "2016-10-09",
         4,
         223,
         1
        ],
        [
         "2016-10-09",
         7,
         229,
         1
        ],
        [
         "2016-10-09",
         7,
         530,
         1
        ],
        [
         "2016-10-09",
         8,
         235,
         1
        ],
        [
         "2016-10-09",
         9,
         477,
         1
        ],
        [
         "2016-10-09",
         10,
         464,
         1
        ],
        [
         "2016-10-09",
         10,
         480,
         1
        ],
        [
         "2016-10-09",
         10,
         529,
         1
        ],
        [
         "2016-10-10",
         4,
         232,
         1
        ],
        [
         "2016-10-10",
         4,
         464,
         1
        ],
        [
         "2016-10-10",
         4,
         537,
         1
        ],
        [
         "2016-10-10",
         9,
         478,
         1
        ],
        [
         "2016-10-10",
         9,
         529,
         1
        ],
        [
         "2016-10-10",
         9,
         535,
         1
        ],
        [
         "2016-10-10",
         10,
         479,
         1
        ],
        [
         "2016-10-10",
         10,
         535,
         1
        ],
        [
         "2016-10-11",
         1,
         580,
         1
        ],
        [
         "2016-10-11",
         4,
         528,
         1
        ],
        [
         "2016-10-11",
         6,
         600,
         1
        ],
        [
         "2016-10-11",
         9,
         530,
         1
        ],
        [
         "2016-10-12",
         6,
         476,
         1
        ],
        [
         "2016-10-12",
         6,
         537,
         1
        ],
        [
         "2016-10-12",
         6,
         539,
         1
        ],
        [
         "2016-10-12",
         9,
         360,
         1
        ],
        [
         "2016-10-12",
         10,
         214,
         1
        ],
        [
         "2016-10-12",
         10,
         215,
         1
        ],
        [
         "2016-10-13",
         9,
         223,
         1
        ],
        [
         "2016-10-13",
         9,
         383,
         1
        ],
        [
         "2016-10-13",
         10,
         540,
         1
        ],
        [
         "2016-10-14",
         1,
         581,
         1
        ],
        [
         "2016-10-14",
         4,
         215,
         1
        ],
        [
         "2016-10-14",
         9,
         477,
         1
        ],
        [
         "2016-10-15",
         1,
         604,
         1
        ],
        [
         "2016-10-15",
         10,
         352,
         1
        ],
        [
         "2016-10-16",
         4,
         479,
         1
        ],
        [
         "2016-10-16",
         4,
         485,
         1
        ],
        [
         "2016-10-16",
         9,
         489,
         1
        ],
        [
         "2016-10-16",
         10,
         381,
         1
        ],
        [
         "2016-10-17",
         6,
         480,
         1
        ],
        [
         "2016-10-17",
         8,
         530,
         1
        ],
        [
         "2016-10-17",
         9,
         485,
         1
        ],
        [
         "2016-10-17",
         9,
         538,
         1
        ],
        [
         "2016-10-18",
         7,
         482,
         1
        ],
        [
         "2016-10-19",
         4,
         589,
         1
        ],
        [
         "2016-10-19",
         9,
         220,
         1
        ],
        [
         "2016-10-19",
         9,
         354,
         1
        ],
        [
         "2016-10-20",
         1,
         466,
         1
        ],
        [
         "2016-10-20",
         1,
         480,
         1
        ],
        [
         "2016-10-20",
         1,
         535,
         1
        ],
        [
         "2016-10-20",
         9,
         464,
         1
        ],
        [
         "2016-10-20",
         10,
         478,
         1
        ],
        [
         "2016-10-21",
         1,
         223,
         1
        ],
        [
         "2016-10-21",
         4,
         482,
         1
        ],
        [
         "2016-10-21",
         6,
         215,
         1
        ],
        [
         "2016-10-21",
         9,
         537,
         1
        ],
        [
         "2016-10-21",
         9,
         539,
         1
        ],
        [
         "2016-10-22",
         1,
         605,
         1
        ],
        [
         "2016-10-22",
         6,
         530,
         1
        ],
        [
         "2016-10-22",
         7,
         605,
         1
        ],
        [
         "2016-10-22",
         9,
         479,
         1
        ],
        [
         "2016-10-22",
         9,
         537,
         1
        ],
        [
         "2016-10-23",
         1,
         223,
         1
        ],
        [
         "2016-10-23",
         4,
         360,
         1
        ],
        [
         "2016-10-23",
         4,
         485,
         1
        ],
        [
         "2016-10-24",
         4,
         214,
         1
        ],
        [
         "2016-10-24",
         7,
         466,
         1
        ],
        [
         "2016-10-24",
         8,
         541,
         1
        ],
        [
         "2016-10-25",
         4,
         540,
         1
        ],
        [
         "2016-10-25",
         4,
         606,
         1
        ],
        [
         "2016-10-25",
         9,
         477,
         1
        ],
        [
         "2016-10-25",
         9,
         481,
         1
        ],
        [
         "2016-10-25",
         10,
         485,
         1
        ],
        [
         "2016-10-26",
         1,
         389,
         1
        ],
        [
         "2016-10-26",
         1,
         528,
         1
        ],
        [
         "2016-10-26",
         1,
         529,
         1
        ],
        [
         "2016-10-26",
         1,
         530,
         1
        ],
        [
         "2016-10-26",
         4,
         488,
         1
        ],
        [
         "2016-10-26",
         8,
         478,
         1
        ],
        [
         "2016-10-26",
         9,
         541,
         1
        ],
        [
         "2016-10-27",
         6,
         220,
         1
        ],
        [
         "2016-10-27",
         9,
         489,
         1
        ],
        [
         "2016-10-28",
         4,
         223,
         1
        ],
        [
         "2016-10-28",
         7,
         480,
         1
        ],
        [
         "2016-10-28",
         7,
         484,
         1
        ],
        [
         "2016-10-28",
         7,
         577,
         1
        ],
        [
         "2016-10-28",
         9,
         220,
         1
        ],
        [
         "2016-10-28",
         9,
         477,
         1
        ],
        [
         "2016-10-28",
         10,
         471,
         1
        ],
        [
         "2016-10-29",
         4,
         581,
         1
        ],
        [
         "2016-10-29",
         6,
         541,
         1
        ],
        [
         "2016-10-29",
         8,
         235,
         1
        ],
        [
         "2016-10-29",
         9,
         538,
         1
        ],
        [
         "2016-10-29",
         10,
         477,
         1
        ],
        [
         "2016-10-30",
         4,
         537,
         1
        ],
        [
         "2016-10-30",
         6,
         475,
         1
        ],
        [
         "2016-10-30",
         9,
         358,
         1
        ],
        [
         "2016-10-30",
         10,
         371,
         1
        ],
        [
         "2016-10-31",
         1,
         596,
         1
        ],
        [
         "2016-10-31",
         4,
         215,
         1
        ],
        [
         "2016-10-31",
         7,
         530,
         1
        ],
        [
         "2016-10-31",
         8,
         358,
         1
        ],
        [
         "2016-10-31",
         8,
         528,
         1
        ],
        [
         "2016-10-31",
         8,
         584,
         1
        ],
        [
         "2016-10-31",
         9,
         604,
         1
        ],
        [
         "2016-11-01",
         6,
         477,
         1
        ],
        [
         "2016-11-01",
         6,
         478,
         1
        ],
        [
         "2016-11-01",
         6,
         528,
         1
        ],
        [
         "2016-11-01",
         6,
         529,
         1
        ],
        [
         "2016-11-02",
         4,
         215,
         1
        ],
        [
         "2016-11-02",
         6,
         360,
         1
        ],
        [
         "2016-11-02",
         7,
         477,
         1
        ],
        [
         "2016-11-02",
         9,
         214,
         1
        ],
        [
         "2016-11-02",
         10,
         385,
         1
        ],
        [
         "2016-11-03",
         4,
         474,
         1
        ],
        [
         "2016-11-03",
         4,
         541,
         1
        ],
        [
         "2016-11-03",
         8,
         375,
         1
        ],
        [
         "2016-11-03",
         9,
         489,
         1
        ],
        [
         "2016-11-04",
         4,
         466,
         1
        ],
        [
         "2016-11-04",
         10,
         528,
         1
        ],
        [
         "2016-11-05",
         1,
         478,
         1
        ],
        [
         "2016-11-05",
         9,
         480,
         1
        ],
        [
         "2016-11-05",
         10,
         529,
         1
        ],
        [
         "2016-11-06",
         1,
         485,
         1
        ],
        [
         "2016-11-06",
         4,
         477,
         2
        ],
        [
         "2016-11-07",
         1,
         354,
         1
        ],
        [
         "2016-11-07",
         4,
         477,
         2
        ],
        [
         "2016-11-07",
         6,
         478,
         1
        ],
        [
         "2016-11-07",
         6,
         540,
         1
        ],
        [
         "2016-11-07",
         8,
         477,
         1
        ],
        [
         "2016-11-07",
         9,
         477,
         1
        ],
        [
         "2016-11-07",
         9,
         535,
         1
        ],
        [
         "2016-11-07",
         9,
         537,
         1
        ],
        [
         "2016-11-07",
         9,
         604,
         1
        ],
        [
         "2016-11-08",
         1,
         478,
         1
        ],
        [
         "2016-11-08",
         4,
         472,
         1
        ],
        [
         "2016-11-08",
         10,
         536,
         1
        ],
        [
         "2016-11-09",
         1,
         478,
         1
        ],
        [
         "2016-11-09",
         7,
         220,
         1
        ],
        [
         "2016-11-09",
         9,
         477,
         1
        ],
        [
         "2016-11-09",
         10,
         477,
         1
        ],
        [
         "2016-11-10",
         1,
         362,
         1
        ],
        [
         "2016-11-10",
         4,
         530,
         1
        ],
        [
         "2016-11-10",
         6,
         528,
         1
        ],
        [
         "2016-11-10",
         7,
         479,
         1
        ],
        [
         "2016-11-10",
         10,
         485,
         1
        ],
        [
         "2016-11-11",
         1,
         220,
         1
        ],
        [
         "2016-11-12",
         4,
         480,
         1
        ],
        [
         "2016-11-12",
         6,
         606,
         1
        ],
        [
         "2016-11-12",
         8,
         477,
         1
        ],
        [
         "2016-11-12",
         9,
         535,
         1
        ],
        [
         "2016-11-12",
         10,
         541,
         1
        ],
        [
         "2016-11-13",
         1,
         479,
         1
        ],
        [
         "2016-11-13",
         1,
         562,
         1
        ],
        [
         "2016-11-13",
         9,
         375,
         1
        ],
        [
         "2016-11-14",
         1,
         466,
         1
        ],
        [
         "2016-11-14",
         1,
         589,
         1
        ],
        [
         "2016-11-14",
         4,
         478,
         1
        ],
        [
         "2016-11-14",
         7,
         215,
         1
        ],
        [
         "2016-11-14",
         7,
         538,
         1
        ],
        [
         "2016-11-14",
         9,
         537,
         1
        ],
        [
         "2016-11-14",
         9,
         592,
         1
        ],
        [
         "2016-11-14",
         10,
         215,
         1
        ],
        [
         "2016-11-14",
         10,
         477,
         1
        ],
        [
         "2016-11-15",
         1,
         480,
         1
        ],
        [
         "2016-11-15",
         4,
         478,
         1
        ],
        [
         "2016-11-15",
         4,
         560,
         1
        ],
        [
         "2016-11-16",
         1,
         528,
         1
        ],
        [
         "2016-11-16",
         4,
         538,
         1
        ],
        [
         "2016-11-17",
         1,
         480,
         1
        ],
        [
         "2016-11-17",
         6,
         605,
         1
        ],
        [
         "2016-11-17",
         8,
         584,
         1
        ],
        [
         "2016-11-17",
         9,
         487,
         1
        ],
        [
         "2016-11-17",
         10,
         385,
         1
        ],
        [
         "2016-11-18",
         1,
         479,
         1
        ],
        [
         "2016-11-18",
         6,
         480,
         1
        ],
        [
         "2016-11-18",
         7,
         220,
         1
        ],
        [
         "2016-11-18",
         7,
         487,
         1
        ],
        [
         "2016-11-18",
         8,
         541,
         1
        ],
        [
         "2016-11-18",
         9,
         220,
         1
        ],
        [
         "2016-11-18",
         10,
         529,
         1
        ],
        [
         "2016-11-18",
         10,
         583,
         1
        ],
        [
         "2016-11-18",
         10,
         584,
         1
        ],
        [
         "2016-11-19",
         4,
         220,
         1
        ],
        [
         "2016-11-19",
         4,
         377,
         1
        ],
        [
         "2016-11-19",
         4,
         486,
         1
        ],
        [
         "2016-11-19",
         4,
         541,
         1
        ],
        [
         "2016-11-19",
         6,
         584,
         1
        ],
        [
         "2016-11-19",
         8,
         214,
         1
        ],
        [
         "2016-11-19",
         9,
         214,
         1
        ],
        [
         "2016-11-19",
         9,
         582,
         1
        ],
        [
         "2016-11-20",
         4,
         481,
         1
        ],
        [
         "2016-11-20",
         6,
         462,
         1
        ],
        [
         "2016-11-20",
         6,
         538,
         1
        ],
        [
         "2016-11-20",
         8,
         529,
         1
        ],
        [
         "2016-11-20",
         9,
         487,
         1
        ],
        [
         "2016-11-21",
         1,
         220,
         1
        ],
        [
         "2016-11-21",
         1,
         226,
         1
        ],
        [
         "2016-11-21",
         4,
         362,
         1
        ],
        [
         "2016-11-21",
         4,
         464,
         1
        ],
        [
         "2016-11-22",
         4,
         356,
         1
        ],
        [
         "2016-11-22",
         4,
         485,
         1
        ],
        [
         "2016-11-22",
         6,
         220,
         1
        ],
        [
         "2016-11-22",
         9,
         489,
         1
        ],
        [
         "2016-11-22",
         10,
         214,
         1
        ],
        [
         "2016-11-23",
         1,
         478,
         1
        ],
        [
         "2016-11-23",
         1,
         479,
         1
        ],
        [
         "2016-11-23",
         4,
         215,
         1
        ],
        [
         "2016-11-23",
         4,
         476,
         1
        ],
        [
         "2016-11-23",
         9,
         214,
         1
        ],
        [
         "2016-11-24",
         1,
         220,
         1
        ],
        [
         "2016-11-24",
         1,
         528,
         1
        ],
        [
         "2016-11-24",
         9,
         536,
         1
        ],
        [
         "2016-11-24",
         10,
         358,
         1
        ],
        [
         "2016-11-24",
         10,
         478,
         1
        ],
        [
         "2016-11-25",
         4,
         485,
         1
        ],
        [
         "2016-11-25",
         6,
         484,
         1
        ],
        [
         "2016-11-25",
         6,
         528,
         1
        ],
        [
         "2016-11-26",
         4,
         529,
         1
        ],
        [
         "2016-11-26",
         7,
         479,
         1
        ],
        [
         "2016-11-26",
         8,
         484,
         1
        ],
        [
         "2016-11-27",
         6,
         528,
         1
        ],
        [
         "2016-11-27",
         9,
         462,
         1
        ],
        [
         "2016-11-28",
         1,
         480,
         1
        ],
        [
         "2016-11-28",
         1,
         483,
         1
        ],
        [
         "2016-11-28",
         1,
         530,
         1
        ],
        [
         "2016-11-28",
         4,
         477,
         1
        ],
        [
         "2016-11-28",
         9,
         215,
         1
        ],
        [
         "2016-11-28",
         9,
         589,
         1
        ],
        [
         "2016-11-28",
         10,
         477,
         1
        ],
        [
         "2016-11-28",
         10,
         478,
         1
        ],
        [
         "2016-11-29",
         1,
         535,
         1
        ],
        [
         "2016-11-29",
         10,
         477,
         1
        ],
        [
         "2016-11-29",
         10,
         479,
         1
        ],
        [
         "2016-11-30",
         1,
         476,
         1
        ],
        [
         "2016-11-30",
         4,
         214,
         1
        ],
        [
         "2016-11-30",
         4,
         535,
         1
        ],
        [
         "2016-11-30",
         7,
         476,
         1
        ],
        [
         "2016-11-30",
         9,
         606,
         1
        ],
        [
         "2016-12-01",
         1,
         215,
         1
        ],
        [
         "2016-12-01",
         6,
         535,
         1
        ],
        [
         "2016-12-01",
         7,
         220,
         1
        ],
        [
         "2016-12-01",
         7,
         586,
         1
        ],
        [
         "2016-12-01",
         8,
         223,
         1
        ],
        [
         "2016-12-01",
         8,
         477,
         1
        ],
        [
         "2016-12-01",
         9,
         214,
         1
        ],
        [
         "2016-12-01",
         9,
         540,
         1
        ],
        [
         "2016-12-02",
         6,
         474,
         1
        ],
        [
         "2016-12-03",
         1,
         528,
         1
        ],
        [
         "2016-12-03",
         1,
         535,
         1
        ],
        [
         "2016-12-03",
         6,
         464,
         1
        ],
        [
         "2016-12-03",
         6,
         528,
         1
        ],
        [
         "2016-12-03",
         9,
         488,
         1
        ],
        [
         "2016-12-03",
         10,
         220,
         1
        ],
        [
         "2016-12-04",
         1,
         478,
         1
        ],
        [
         "2016-12-04",
         1,
         539,
         1
        ],
        [
         "2016-12-04",
         8,
         477,
         1
        ],
        [
         "2016-12-04",
         9,
         529,
         1
        ],
        [
         "2016-12-05",
         4,
         214,
         1
        ],
        [
         "2016-12-05",
         4,
         528,
         1
        ],
        [
         "2016-12-05",
         6,
         478,
         1
        ],
        [
         "2016-12-05",
         8,
         385,
         1
        ],
        [
         "2016-12-05",
         9,
         477,
         1
        ],
        [
         "2016-12-05",
         10,
         214,
         1
        ],
        [
         "2016-12-05",
         10,
         215,
         1
        ],
        [
         "2016-12-06",
         1,
         528,
         1
        ],
        [
         "2016-12-06",
         4,
         215,
         1
        ],
        [
         "2016-12-06",
         6,
         485,
         1
        ],
        [
         "2016-12-06",
         8,
         563,
         1
        ],
        [
         "2016-12-07",
         4,
         466,
         1
        ],
        [
         "2016-12-07",
         4,
         528,
         1
        ],
        [
         "2016-12-07",
         4,
         540,
         1
        ],
        [
         "2016-12-07",
         6,
         474,
         1
        ],
        [
         "2016-12-07",
         7,
         220,
         1
        ],
        [
         "2016-12-07",
         7,
         595,
         1
        ],
        [
         "2016-12-07",
         9,
         564,
         1
        ],
        [
         "2016-12-07",
         10,
         598,
         1
        ],
        [
         "2016-12-08",
         4,
         214,
         1
        ],
        [
         "2016-12-08",
         9,
         490,
         1
        ],
        [
         "2016-12-08",
         9,
         577,
         1
        ],
        [
         "2016-12-08",
         10,
         462,
         1
        ],
        [
         "2016-12-09",
         4,
         223,
         1
        ],
        [
         "2016-12-09",
         4,
         480,
         1
        ],
        [
         "2016-12-09",
         4,
         530,
         1
        ],
        [
         "2016-12-09",
         4,
         537,
         1
        ],
        [
         "2016-12-09",
         6,
         471,
         1
        ],
        [
         "2016-12-09",
         6,
         475,
         1
        ],
        [
         "2016-12-09",
         8,
         479,
         1
        ],
        [
         "2016-12-09",
         9,
         479,
         1
        ],
        [
         "2016-12-09",
         9,
         530,
         1
        ],
        [
         "2016-12-10",
         7,
         537,
         1
        ],
        [
         "2016-12-10",
         9,
         478,
         1
        ],
        [
         "2016-12-11",
         1,
         371,
         1
        ],
        [
         "2016-12-11",
         9,
         476,
         1
        ],
        [
         "2016-12-11",
         9,
         477,
         1
        ],
        [
         "2016-12-12",
         4,
         220,
         1
        ],
        [
         "2016-12-12",
         6,
         214,
         1
        ],
        [
         "2016-12-12",
         7,
         214,
         1
        ],
        [
         "2016-12-12",
         7,
         530,
         1
        ],
        [
         "2016-12-12",
         7,
         536,
         1
        ],
        [
         "2016-12-12",
         8,
         478,
         1
        ],
        [
         "2016-12-12",
         10,
         485,
         1
        ],
        [
         "2016-12-13",
         1,
         480,
         1
        ],
        [
         "2016-12-13",
         1,
         485,
         1
        ],
        [
         "2016-12-13",
         4,
         535,
         1
        ],
        [
         "2016-12-13",
         6,
         529,
         1
        ],
        [
         "2016-12-13",
         8,
         223,
         1
        ],
        [
         "2016-12-13",
         9,
         486,
         1
        ],
        [
         "2016-12-13",
         9,
         530,
         1
        ],
        [
         "2016-12-14",
         1,
         540,
         1
        ],
        [
         "2016-12-14",
         4,
         479,
         1
        ],
        [
         "2016-12-14",
         6,
         220,
         1
        ],
        [
         "2016-12-15",
         1,
         362,
         1
        ],
        [
         "2016-12-15",
         1,
         478,
         1
        ],
        [
         "2016-12-15",
         6,
         577,
         1
        ],
        [
         "2016-12-15",
         7,
         489,
         1
        ],
        [
         "2016-12-15",
         8,
         528,
         1
        ],
        [
         "2016-12-15",
         8,
         538,
         1
        ],
        [
         "2016-12-15",
         9,
         535,
         1
        ],
        [
         "2016-12-15",
         9,
         572,
         1
        ],
        [
         "2016-12-15",
         10,
         480,
         1
        ],
        [
         "2016-12-16",
         1,
         480,
         1
        ],
        [
         "2016-12-16",
         6,
         530,
         1
        ],
        [
         "2016-12-16",
         9,
         385,
         1
        ],
        [
         "2016-12-16",
         10,
         484,
         1
        ],
        [
         "2016-12-17",
         1,
         474,
         1
        ],
        [
         "2016-12-17",
         1,
         539,
         1
        ],
        [
         "2016-12-17",
         4,
         220,
         1
        ],
        [
         "2016-12-17",
         4,
         583,
         1
        ],
        [
         "2016-12-17",
         6,
         528,
         1
        ],
        [
         "2016-12-17",
         6,
         537,
         1
        ],
        [
         "2016-12-17",
         10,
         477,
         1
        ],
        [
         "2016-12-18",
         1,
         358,
         1
        ],
        [
         "2016-12-18",
         6,
         477,
         1
        ],
        [
         "2016-12-19",
         8,
         220,
         1
        ],
        [
         "2016-12-19",
         9,
         576,
         1
        ],
        [
         "2016-12-19",
         10,
         356,
         1
        ],
        [
         "2016-12-20",
         1,
         529,
         1
        ],
        [
         "2016-12-20",
         6,
         478,
         1
        ],
        [
         "2016-12-20",
         8,
         223,
         1
        ],
        [
         "2016-12-20",
         9,
         535,
         1
        ],
        [
         "2016-12-20",
         10,
         575,
         1
        ],
        [
         "2016-12-21",
         1,
         477,
         1
        ],
        [
         "2016-12-21",
         6,
         360,
         1
        ],
        [
         "2016-12-21",
         7,
         477,
         1
        ],
        [
         "2016-12-21",
         10,
         480,
         1
        ],
        [
         "2016-12-22",
         1,
         385,
         1
        ],
        [
         "2016-12-23",
         4,
         215,
         1
        ],
        [
         "2016-12-23",
         4,
         477,
         1
        ],
        [
         "2016-12-23",
         4,
         488,
         1
        ],
        [
         "2016-12-23",
         7,
         215,
         1
        ],
        [
         "2016-12-23",
         9,
         484,
         1
        ],
        [
         "2016-12-24",
         1,
         480,
         1
        ],
        [
         "2016-12-24",
         1,
         537,
         1
        ],
        [
         "2016-12-24",
         1,
         539,
         1
        ],
        [
         "2016-12-24",
         4,
         481,
         1
        ],
        [
         "2016-12-24",
         6,
         462,
         1
        ],
        [
         "2016-12-24",
         6,
         477,
         1
        ],
        [
         "2016-12-24",
         9,
         529,
         1
        ],
        [
         "2016-12-24",
         9,
         530,
         1
        ],
        [
         "2016-12-25",
         1,
         214,
         1
        ],
        [
         "2016-12-25",
         1,
         220,
         1
        ],
        [
         "2016-12-25",
         4,
         476,
         1
        ],
        [
         "2016-12-25",
         4,
         588,
         1
        ],
        [
         "2016-12-25",
         7,
         215,
         1
        ],
        [
         "2016-12-25",
         8,
         223,
         1
        ],
        [
         "2016-12-25",
         9,
         229,
         1
        ],
        [
         "2016-12-25",
         9,
         530,
         1
        ],
        [
         "2016-12-25",
         10,
         232,
         1
        ],
        [
         "2016-12-26",
         1,
         232,
         1
        ],
        [
         "2016-12-26",
         1,
         479,
         1
        ],
        [
         "2016-12-26",
         4,
         214,
         1
        ],
        [
         "2016-12-26",
         6,
         528,
         1
        ],
        [
         "2016-12-26",
         8,
         479,
         1
        ],
        [
         "2016-12-26",
         9,
         387,
         1
        ],
        [
         "2016-12-26",
         10,
         528,
         1
        ],
        [
         "2016-12-27",
         6,
         528,
         1
        ],
        [
         "2016-12-27",
         9,
         479,
         1
        ],
        [
         "2016-12-27",
         9,
         480,
         1
        ],
        [
         "2016-12-28",
         1,
         584,
         1
        ],
        [
         "2016-12-28",
         4,
         214,
         1
        ],
        [
         "2016-12-28",
         4,
         538,
         1
        ],
        [
         "2016-12-28",
         6,
         537,
         1
        ],
        [
         "2016-12-28",
         7,
         477,
         1
        ],
        [
         "2016-12-28",
         8,
         214,
         1
        ],
        [
         "2016-12-28",
         9,
         562,
         1
        ],
        [
         "2016-12-28",
         9,
         605,
         1
        ],
        [
         "2016-12-29",
         1,
         484,
         1
        ],
        [
         "2016-12-29",
         1,
         528,
         1
        ],
        [
         "2016-12-30",
         1,
         215,
         1
        ],
        [
         "2016-12-30",
         1,
         535,
         1
        ],
        [
         "2016-12-30",
         1,
         540,
         1
        ],
        [
         "2016-12-30",
         4,
         381,
         1
        ],
        [
         "2016-12-30",
         4,
         484,
         1
        ],
        [
         "2016-12-30",
         6,
         482,
         1
        ],
        [
         "2016-12-30",
         7,
         229,
         1
        ],
        [
         "2016-12-31",
         4,
         223,
         1
        ],
        [
         "2016-12-31",
         4,
         537,
         1
        ],
        [
         "2016-12-31",
         6,
         539,
         1
        ],
        [
         "2016-12-31",
         7,
         477,
         1
        ],
        [
         "2016-12-31",
         8,
         580,
         1
        ],
        [
         "2016-12-31",
         10,
         479,
         1
        ],
        [
         "2017-01-01",
         6,
         528,
         1
        ],
        [
         "2017-01-01",
         9,
         477,
         1
        ],
        [
         "2017-01-01",
         9,
         479,
         2
        ],
        [
         "2017-01-01",
         9,
         528,
         1
        ],
        [
         "2017-01-01",
         10,
         485,
         1
        ],
        [
         "2017-01-02",
         1,
         537,
         1
        ],
        [
         "2017-01-02",
         4,
         215,
         1
        ],
        [
         "2017-01-02",
         4,
         479,
         1
        ],
        [
         "2017-01-02",
         8,
         214,
         1
        ],
        [
         "2017-01-02",
         8,
         528,
         1
        ],
        [
         "2017-01-02",
         9,
         214,
         1
        ],
        [
         "2017-01-02",
         9,
         561,
         1
        ],
        [
         "2017-01-03",
         1,
         487,
         1
        ],
        [
         "2017-01-03",
         4,
         485,
         1
        ],
        [
         "2017-01-03",
         6,
         477,
         1
        ],
        [
         "2017-01-03",
         7,
         540,
         1
        ],
        [
         "2017-01-03",
         8,
         480,
         1
        ],
        [
         "2017-01-03",
         9,
         477,
         1
        ],
        [
         "2017-01-04",
         4,
         536,
         1
        ],
        [
         "2017-01-04",
         9,
         484,
         1
        ],
        [
         "2017-01-05",
         1,
         479,
         1
        ],
        [
         "2017-01-05",
         6,
         536,
         1
        ],
        [
         "2017-01-05",
         7,
         214,
         1
        ],
        [
         "2017-01-05",
         10,
         480,
         1
        ],
        [
         "2017-01-06",
         7,
         479,
         1
        ],
        [
         "2017-01-06",
         7,
         486,
         1
        ],
        [
         "2017-01-06",
         9,
         223,
         1
        ],
        [
         "2017-01-06",
         9,
         385,
         1
        ],
        [
         "2017-01-07",
         1,
         220,
         1
        ],
        [
         "2017-01-07",
         1,
         490,
         1
        ],
        [
         "2017-01-07",
         7,
         373,
         1
        ],
        [
         "2017-01-08",
         1,
         480,
         1
        ],
        [
         "2017-01-08",
         1,
         489,
         1
        ],
        [
         "2017-01-08",
         8,
         485,
         1
        ],
        [
         "2017-01-08",
         10,
         535,
         1
        ],
        [
         "2017-01-09",
         4,
         478,
         1
        ],
        [
         "2017-01-09",
         4,
         479,
         1
        ],
        [
         "2017-01-09",
         6,
         474,
         1
        ],
        [
         "2017-01-09",
         9,
         214,
         1
        ],
        [
         "2017-01-10",
         1,
         220,
         1
        ],
        [
         "2017-01-10",
         4,
         577,
         1
        ],
        [
         "2017-01-10",
         6,
         462,
         1
        ],
        [
         "2017-01-10",
         6,
         536,
         1
        ],
        [
         "2017-01-10",
         6,
         538,
         1
        ],
        [
         "2017-01-10",
         8,
         215,
         1
        ],
        [
         "2017-01-10",
         10,
         535,
         1
        ],
        [
         "2017-01-11",
         1,
         484,
         1
        ],
        [
         "2017-01-11",
         1,
         588,
         1
        ],
        [
         "2017-01-11",
         4,
         529,
         1
        ],
        [
         "2017-01-11",
         4,
         537,
         1
        ],
        [
         "2017-01-11",
         7,
         220,
         1
        ],
        [
         "2017-01-11",
         7,
         478,
         1
        ],
        [
         "2017-01-11",
         9,
         215,
         1
        ],
        [
         "2017-01-11",
         9,
         477,
         1
        ],
        [
         "2017-01-11",
         9,
         484,
         1
        ],
        [
         "2017-01-11",
         9,
         576,
         1
        ],
        [
         "2017-01-11",
         10,
         464,
         1
        ],
        [
         "2017-01-12",
         4,
         484,
         1
        ],
        [
         "2017-01-12",
         6,
         537,
         1
        ],
        [
         "2017-01-12",
         9,
         473,
         1
        ],
        [
         "2017-01-12",
         9,
         479,
         1
        ],
        [
         "2017-01-13",
         4,
         529,
         1
        ],
        [
         "2017-01-13",
         9,
         473,
         1
        ],
        [
         "2017-01-14",
         1,
         358,
         1
        ],
        [
         "2017-01-14",
         6,
         485,
         1
        ],
        [
         "2017-01-14",
         9,
         371,
         1
        ],
        [
         "2017-01-14",
         10,
         229,
         1
        ],
        [
         "2017-01-14",
         10,
         529,
         1
        ],
        [
         "2017-01-15",
         1,
         232,
         1
        ],
        [
         "2017-01-15",
         1,
         541,
         1
        ],
        [
         "2017-01-15",
         6,
         477,
         1
        ],
        [
         "2017-01-15",
         7,
         538,
         1
        ],
        [
         "2017-01-15",
         8,
         530,
         1
        ],
        [
         "2017-01-15",
         9,
         360,
         1
        ],
        [
         "2017-01-15",
         9,
         488,
         1
        ],
        [
         "2017-01-15",
         9,
         529,
         1
        ],
        [
         "2017-01-15",
         10,
         478,
         1
        ],
        [
         "2017-01-16",
         9,
         540,
         1
        ],
        [
         "2017-01-16",
         10,
         588,
         1
        ],
        [
         "2017-01-17",
         4,
         214,
         1
        ],
        [
         "2017-01-17",
         4,
         220,
         1
        ],
        [
         "2017-01-17",
         4,
         528,
         1
        ],
        [
         "2017-01-17",
         6,
         477,
         1
        ],
        [
         "2017-01-17",
         6,
         529,
         1
        ],
        [
         "2017-01-17",
         8,
         484,
         1
        ],
        [
         "2017-01-17",
         9,
         477,
         1
        ],
        [
         "2017-01-17",
         9,
         485,
         1
        ],
        [
         "2017-01-18",
         1,
         528,
         1
        ],
        [
         "2017-01-18",
         4,
         487,
         1
        ],
        [
         "2017-01-18",
         4,
         528,
         1
        ],
        [
         "2017-01-18",
         6,
         481,
         2
        ],
        [
         "2017-01-18",
         8,
         220,
         1
        ],
        [
         "2017-01-18",
         9,
         471,
         1
        ],
        [
         "2017-01-18",
         9,
         474,
         1
        ],
        [
         "2017-01-18",
         9,
         477,
         1
        ],
        [
         "2017-01-18",
         10,
         529,
         1
        ],
        [
         "2017-01-19",
         1,
         478,
         1
        ],
        [
         "2017-01-19",
         9,
         214,
         1
        ],
        [
         "2017-01-19",
         9,
         541,
         1
        ],
        [
         "2017-01-19",
         10,
         475,
         1
        ],
        [
         "2017-01-19",
         10,
         539,
         1
        ],
        [
         "2017-01-20",
         7,
         229,
         1
        ],
        [
         "2017-01-20",
         8,
         484,
         1
        ],
        [
         "2017-01-20",
         8,
         538,
         1
        ],
        [
         "2017-01-20",
         9,
         485,
         1
        ],
        [
         "2017-01-20",
         10,
         215,
         1
        ],
        [
         "2017-01-20",
         10,
         573,
         1
        ],
        [
         "2017-01-21",
         4,
         477,
         1
        ],
        [
         "2017-01-21",
         7,
         214,
         1
        ],
        [
         "2017-01-21",
         8,
         529,
         1
        ],
        [
         "2017-01-21",
         9,
         489,
         1
        ],
        [
         "2017-01-21",
         10,
         479,
         1
        ],
        [
         "2017-01-22",
         4,
         529,
         1
        ],
        [
         "2017-01-22",
         6,
         535,
         1
        ],
        [
         "2017-01-22",
         6,
         540,
         1
        ],
        [
         "2017-01-22",
         8,
         529,
         1
        ],
        [
         "2017-01-22",
         9,
         215,
         1
        ],
        [
         "2017-01-22",
         9,
         477,
         1
        ],
        [
         "2017-01-22",
         10,
         215,
         1
        ],
        [
         "2017-01-23",
         6,
         223,
         1
        ],
        [
         "2017-01-23",
         7,
         530,
         1
        ],
        [
         "2017-01-24",
         6,
         214,
         1
        ],
        [
         "2017-01-24",
         9,
         477,
         2
        ],
        [
         "2017-01-25",
         1,
         529,
         1
        ],
        [
         "2017-01-25",
         6,
         479,
         1
        ],
        [
         "2017-01-26",
         4,
         480,
         1
        ],
        [
         "2017-01-26",
         4,
         530,
         1
        ],
        [
         "2017-01-26",
         6,
         226,
         1
        ],
        [
         "2017-01-26",
         6,
         477,
         1
        ],
        [
         "2017-01-26",
         6,
         537,
         1
        ],
        [
         "2017-01-26",
         7,
         537,
         1
        ],
        [
         "2017-01-27",
         1,
         472,
         1
        ],
        [
         "2017-01-27",
         1,
         528,
         1
        ],
        [
         "2017-01-27",
         6,
         485,
         1
        ],
        [
         "2017-01-28",
         1,
         537,
         1
        ],
        [
         "2017-01-28",
         4,
         485,
         1
        ],
        [
         "2017-01-28",
         6,
         536,
         1
        ],
        [
         "2017-01-28",
         8,
         477,
         1
        ],
        [
         "2017-01-28",
         9,
         358,
         1
        ],
        [
         "2017-01-28",
         9,
         371,
         1
        ],
        [
         "2017-01-28",
         9,
         487,
         1
        ],
        [
         "2017-01-28",
         10,
         481,
         1
        ],
        [
         "2017-01-28",
         10,
         530,
         1
        ],
        [
         "2017-01-29",
         4,
         606,
         1
        ],
        [
         "2017-01-29",
         6,
         528,
         1
        ],
        [
         "2017-01-29",
         6,
         537,
         1
        ],
        [
         "2017-01-29",
         7,
         536,
         1
        ],
        [
         "2017-01-29",
         9,
         466,
         1
        ],
        [
         "2017-01-29",
         10,
         530,
         1
        ],
        [
         "2017-01-30",
         4,
         528,
         1
        ],
        [
         "2017-01-30",
         9,
         462,
         1
        ],
        [
         "2017-01-31",
         4,
         477,
         1
        ],
        [
         "2017-01-31",
         6,
         537,
         1
        ],
        [
         "2017-01-31",
         8,
         479,
         1
        ],
        [
         "2017-01-31",
         8,
         535,
         1
        ],
        [
         "2017-02-01",
         1,
         477,
         1
        ],
        [
         "2017-02-01",
         1,
         480,
         1
        ],
        [
         "2017-02-01",
         1,
         600,
         1
        ],
        [
         "2017-02-01",
         4,
         477,
         1
        ],
        [
         "2017-02-01",
         4,
         485,
         1
        ],
        [
         "2017-02-01",
         7,
         223,
         1
        ],
        [
         "2017-02-01",
         9,
         528,
         1
        ],
        [
         "2017-02-02",
         7,
         477,
         1
        ],
        [
         "2017-02-02",
         8,
         232,
         1
        ],
        [
         "2017-02-02",
         10,
         529,
         1
        ],
        [
         "2017-02-02",
         10,
         538,
         1
        ],
        [
         "2017-02-03",
         10,
         480,
         1
        ],
        [
         "2017-02-04",
         4,
         529,
         1
        ],
        [
         "2017-02-04",
         8,
         480,
         2
        ],
        [
         "2017-02-04",
         9,
         560,
         1
        ],
        [
         "2017-02-05",
         4,
         477,
         1
        ],
        [
         "2017-02-05",
         4,
         541,
         1
        ],
        [
         "2017-02-05",
         6,
         214,
         1
        ],
        [
         "2017-02-05",
         6,
         478,
         1
        ],
        [
         "2017-02-05",
         6,
         481,
         1
        ],
        [
         "2017-02-05",
         6,
         535,
         1
        ],
        [
         "2017-02-05",
         9,
         478,
         1
        ],
        [
         "2017-02-05",
         9,
         604,
         1
        ],
        [
         "2017-02-06",
         1,
         223,
         1
        ],
        [
         "2017-02-06",
         1,
         485,
         1
        ],
        [
         "2017-02-06",
         4,
         479,
         1
        ],
        [
         "2017-02-06",
         4,
         528,
         1
        ],
        [
         "2017-02-06",
         4,
         530,
         1
        ],
        [
         "2017-02-06",
         4,
         539,
         1
        ],
        [
         "2017-02-06",
         8,
         535,
         1
        ],
        [
         "2017-02-06",
         10,
         487,
         1
        ],
        [
         "2017-02-06",
         10,
         600,
         1
        ],
        [
         "2017-02-07",
         1,
         582,
         1
        ],
        [
         "2017-02-07",
         4,
         476,
         1
        ],
        [
         "2017-02-07",
         4,
         487,
         1
        ],
        [
         "2017-02-07",
         8,
         539,
         1
        ],
        [
         "2017-02-07",
         8,
         562,
         1
        ],
        [
         "2017-02-07",
         9,
         472,
         1
        ],
        [
         "2017-02-07",
         9,
         528,
         1
        ],
        [
         "2017-02-07",
         10,
         478,
         1
        ],
        [
         "2017-02-07",
         10,
         539,
         1
        ],
        [
         "2017-02-08",
         4,
         215,
         1
        ],
        [
         "2017-02-08",
         4,
         478,
         1
        ],
        [
         "2017-02-08",
         6,
         478,
         1
        ],
        [
         "2017-02-08",
         7,
         215,
         1
        ],
        [
         "2017-02-08",
         9,
         477,
         1
        ],
        [
         "2017-02-09",
         7,
         377,
         1
        ],
        [
         "2017-02-09",
         7,
         477,
         1
        ],
        [
         "2017-02-09",
         8,
         226,
         1
        ],
        [
         "2017-02-10",
         1,
         223,
         1
        ],
        [
         "2017-02-10",
         7,
         481,
         1
        ],
        [
         "2017-02-11",
         1,
         476,
         1
        ],
        [
         "2017-02-11",
         6,
         477,
         1
        ],
        [
         "2017-02-11",
         6,
         478,
         2
        ],
        [
         "2017-02-11",
         6,
         529,
         1
        ],
        [
         "2017-02-11",
         7,
         356,
         1
        ],
        [
         "2017-02-11",
         10,
         539,
         1
        ],
        [
         "2017-02-12",
         1,
         477,
         1
        ],
        [
         "2017-02-12",
         4,
         477,
         1
        ],
        [
         "2017-02-12",
         4,
         480,
         1
        ],
        [
         "2017-02-12",
         6,
         485,
         1
        ],
        [
         "2017-02-12",
         7,
         529,
         1
        ],
        [
         "2017-02-12",
         9,
         480,
         1
        ],
        [
         "2017-02-12",
         9,
         485,
         1
        ],
        [
         "2017-02-12",
         10,
         479,
         1
        ],
        [
         "2017-02-13",
         7,
         529,
         1
        ],
        [
         "2017-02-13",
         9,
         214,
         1
        ],
        [
         "2017-02-13",
         9,
         528,
         1
        ],
        [
         "2017-02-14",
         1,
         229,
         1
        ],
        [
         "2017-02-14",
         4,
         530,
         1
        ],
        [
         "2017-02-14",
         6,
         535,
         1
        ],
        [
         "2017-02-14",
         7,
         362,
         1
        ],
        [
         "2017-02-14",
         9,
         477,
         1
        ],
        [
         "2017-02-14",
         10,
         480,
         1
        ],
        [
         "2017-02-15",
         4,
         223,
         1
        ],
        [
         "2017-02-15",
         4,
         536,
         1
        ],
        [
         "2017-02-15",
         4,
         541,
         1
        ],
        [
         "2017-02-15",
         6,
         477,
         1
        ],
        [
         "2017-02-15",
         9,
         606,
         1
        ],
        [
         "2017-02-16",
         8,
         538,
         1
        ],
        [
         "2017-02-17",
         1,
         214,
         1
        ],
        [
         "2017-02-17",
         1,
         530,
         1
        ],
        [
         "2017-02-17",
         1,
         536,
         1
        ],
        [
         "2017-02-17",
         4,
         214,
         1
        ],
        [
         "2017-02-17",
         4,
         605,
         2
        ],
        [
         "2017-02-17",
         6,
         485,
         1
        ],
        [
         "2017-02-17",
         6,
         490,
         1
        ],
        [
         "2017-02-17",
         9,
         385,
         1
        ],
        [
         "2017-02-17",
         9,
         477,
         1
        ],
        [
         "2017-02-18",
         4,
         220,
         1
        ],
        [
         "2017-02-18",
         6,
         530,
         1
        ],
        [
         "2017-02-19",
         4,
         528,
         1
        ],
        [
         "2017-02-19",
         4,
         529,
         1
        ],
        [
         "2017-02-19",
         4,
         537,
         1
        ],
        [
         "2017-02-19",
         7,
         354,
         1
        ],
        [
         "2017-02-19",
         9,
         583,
         1
        ],
        [
         "2017-02-20",
         1,
         214,
         1
        ],
        [
         "2017-02-20",
         1,
         371,
         1
        ],
        [
         "2017-02-20",
         4,
         573,
         1
        ],
        [
         "2017-02-20",
         7,
         528,
         1
        ],
        [
         "2017-02-20",
         8,
         229,
         1
        ],
        [
         "2017-02-20",
         9,
         477,
         1
        ],
        [
         "2017-02-20",
         9,
         530,
         1
        ],
        [
         "2017-02-20",
         10,
         485,
         1
        ],
        [
         "2017-02-21",
         6,
         477,
         1
        ],
        [
         "2017-02-21",
         9,
         477,
         1
        ],
        [
         "2017-02-21",
         9,
         580,
         1
        ],
        [
         "2017-02-22",
         4,
         223,
         1
        ],
        [
         "2017-02-22",
         4,
         232,
         1
        ],
        [
         "2017-02-22",
         8,
         485,
         1
        ],
        [
         "2017-02-22",
         9,
         479,
         1
        ],
        [
         "2017-02-22",
         9,
         484,
         1
        ],
        [
         "2017-02-23",
         4,
         226,
         1
        ],
        [
         "2017-02-23",
         4,
         462,
         1
        ],
        [
         "2017-02-23",
         4,
         475,
         1
        ],
        [
         "2017-02-23",
         9,
         539,
         1
        ],
        [
         "2017-02-23",
         10,
         475,
         1
        ],
        [
         "2017-02-23",
         10,
         477,
         1
        ],
        [
         "2017-02-24",
         1,
         530,
         1
        ],
        [
         "2017-02-24",
         4,
         220,
         1
        ],
        [
         "2017-02-24",
         6,
         475,
         1
        ],
        [
         "2017-02-24",
         7,
         540,
         1
        ],
        [
         "2017-02-24",
         8,
         478,
         1
        ],
        [
         "2017-02-24",
         8,
         484,
         1
        ],
        [
         "2017-02-24",
         8,
         588,
         1
        ],
        [
         "2017-02-24",
         8,
         599,
         1
        ],
        [
         "2017-02-24",
         9,
         477,
         2
        ],
        [
         "2017-02-24",
         9,
         562,
         1
        ],
        [
         "2017-02-25",
         1,
         466,
         1
        ],
        [
         "2017-02-25",
         1,
         477,
         1
        ],
        [
         "2017-02-25",
         1,
         480,
         1
        ],
        [
         "2017-02-26",
         1,
         537,
         1
        ],
        [
         "2017-02-26",
         5,
         540,
         1
        ],
        [
         "2017-02-26",
         6,
         477,
         1
        ],
        [
         "2017-02-26",
         7,
         480,
         1
        ],
        [
         "2017-02-27",
         1,
         235,
         1
        ],
        [
         "2017-02-27",
         1,
         528,
         1
        ],
        [
         "2017-02-27",
         1,
         538,
         1
        ],
        [
         "2017-02-27",
         4,
         529,
         1
        ],
        [
         "2017-02-27",
         6,
         477,
         1
        ],
        [
         "2017-02-27",
         6,
         528,
         1
        ],
        [
         "2017-02-27",
         6,
         583,
         1
        ],
        [
         "2017-02-27",
         9,
         226,
         1
        ],
        [
         "2017-02-27",
         9,
         478,
         1
        ],
        [
         "2017-02-28",
         4,
         478,
         1
        ],
        [
         "2017-02-28",
         6,
         478,
         1
        ],
        [
         "2017-02-28",
         7,
         536,
         1
        ],
        [
         "2017-02-28",
         9,
         479,
         1
        ],
        [
         "2017-02-28",
         9,
         482,
         1
        ],
        [
         "2017-02-28",
         9,
         539,
         1
        ],
        [
         "2017-03-01",
         4,
         477,
         2
        ],
        [
         "2017-03-01",
         4,
         535,
         1
        ],
        [
         "2017-03-01",
         4,
         595,
         1
        ],
        [
         "2017-03-01",
         8,
         215,
         1
        ],
        [
         "2017-03-01",
         8,
         529,
         1
        ],
        [
         "2017-03-01",
         9,
         220,
         1
        ],
        [
         "2017-03-01",
         1,
         480,
         1
        ],
        [
         "2017-03-01",
         6,
         530,
         1
        ],
        [
         "2017-03-01",
         8,
         582,
         1
        ],
        [
         "2017-03-01",
         10,
         485,
         1
        ],
        [
         "2017-03-02",
         1,
         485,
         1
        ],
        [
         "2017-03-02",
         4,
         528,
         1
        ],
        [
         "2017-03-02",
         6,
         530,
         1
        ],
        [
         "2017-03-02",
         9,
         474,
         1
        ],
        [
         "2017-03-03",
         1,
         215,
         1
        ],
        [
         "2017-03-03",
         1,
         540,
         1
        ],
        [
         "2017-03-03",
         4,
         528,
         1
        ],
        [
         "2017-03-03",
         6,
         462,
         1
        ],
        [
         "2017-03-03",
         7,
         375,
         1
        ],
        [
         "2017-03-03",
         10,
         223,
         1
        ],
        [
         "2017-03-04",
         4,
         479,
         1
        ],
        [
         "2017-03-04",
         6,
         232,
         1
        ],
        [
         "2017-03-04",
         6,
         528,
         1
        ],
        [
         "2017-03-04",
         9,
         528,
         1
        ],
        [
         "2017-03-04",
         10,
         487,
         1
        ],
        [
         "2017-03-05",
         4,
         354,
         1
        ],
        [
         "2017-03-05",
         4,
         477,
         1
        ],
        [
         "2017-03-05",
         6,
         580,
         1
        ],
        [
         "2017-03-05",
         9,
         223,
         1
        ],
        [
         "2017-03-06",
         6,
         220,
         1
        ],
        [
         "2017-03-06",
         7,
         536,
         1
        ],
        [
         "2017-03-07",
         1,
         223,
         1
        ],
        [
         "2017-03-07",
         4,
         491,
         1
        ],
        [
         "2017-03-07",
         4,
         535,
         1
        ],
        [
         "2017-03-07",
         4,
         575,
         1
        ],
        [
         "2017-03-07",
         6,
         476,
         1
        ],
        [
         "2017-03-07",
         9,
         214,
         1
        ],
        [
         "2017-03-08",
         1,
         490,
         1
        ],
        [
         "2017-03-08",
         4,
         538,
         1
        ],
        [
         "2017-03-08",
         8,
         215,
         1
        ],
        [
         "2017-03-08",
         9,
         354,
         1
        ],
        [
         "2017-03-08",
         9,
         605,
         1
        ],
        [
         "2017-03-08",
         10,
         606,
         1
        ],
        [
         "2017-03-09",
         1,
         352,
         1
        ],
        [
         "2017-03-09",
         6,
         472,
         1
        ],
        [
         "2017-03-09",
         7,
         214,
         1
        ],
        [
         "2017-03-09",
         7,
         528,
         1
        ],
        [
         "2017-03-09",
         7,
         537,
         1
        ],
        [
         "2017-03-09",
         9,
         536,
         1
        ],
        [
         "2017-03-10",
         6,
         478,
         1
        ],
        [
         "2017-03-10",
         10,
         528,
         1
        ],
        [
         "2017-03-11",
         4,
         478,
         1
        ],
        [
         "2017-03-11",
         4,
         485,
         1
        ],
        [
         "2017-03-11",
         6,
         214,
         1
        ],
        [
         "2017-03-11",
         7,
         541,
         1
        ],
        [
         "2017-03-12",
         1,
         477,
         1
        ],
        [
         "2017-03-12",
         4,
         232,
         1
        ],
        [
         "2017-03-12",
         4,
         577,
         1
        ],
        [
         "2017-03-12",
         8,
         479,
         1
        ],
        [
         "2017-03-12",
         10,
         360,
         1
        ],
        [
         "2017-03-13",
         4,
         482,
         1
        ],
        [
         "2017-03-13",
         7,
         541,
         1
        ],
        [
         "2017-03-13",
         8,
         480,
         2
        ],
        [
         "2017-03-13",
         9,
         352,
         1
        ],
        [
         "2017-03-13",
         9,
         358,
         1
        ],
        [
         "2017-03-14",
         4,
         232,
         1
        ],
        [
         "2017-03-14",
         4,
         477,
         1
        ],
        [
         "2017-03-14",
         6,
         529,
         1
        ],
        [
         "2017-03-14",
         9,
         530,
         1
        ],
        [
         "2017-03-14",
         9,
         606,
         1
        ],
        [
         "2017-03-15",
         6,
         215,
         1
        ],
        [
         "2017-03-15",
         6,
         480,
         1
        ],
        [
         "2017-03-16",
         1,
         471,
         1
        ],
        [
         "2017-03-16",
         4,
         538,
         1
        ],
        [
         "2017-03-16",
         4,
         571,
         1
        ],
        [
         "2017-03-16",
         4,
         587,
         1
        ],
        [
         "2017-03-16",
         9,
         489,
         1
        ],
        [
         "2017-03-16",
         9,
         537,
         1
        ],
        [
         "2017-03-17",
         4,
         480,
         1
        ],
        [
         "2017-03-17",
         4,
         535,
         1
        ],
        [
         "2017-03-17",
         6,
         214,
         1
        ],
        [
         "2017-03-17",
         9,
         541,
         1
        ],
        [
         "2017-03-18",
         1,
         356,
         1
        ],
        [
         "2017-03-18",
         4,
         529,
         1
        ],
        [
         "2017-03-18",
         6,
         464,
         1
        ],
        [
         "2017-03-18",
         7,
         473,
         1
        ],
        [
         "2017-03-18",
         7,
         477,
         1
        ],
        [
         "2017-03-18",
         7,
         538,
         1
        ],
        [
         "2017-03-18",
         9,
         538,
         1
        ],
        [
         "2017-03-18",
         10,
         479,
         1
        ],
        [
         "2017-03-19",
         1,
         528,
         1
        ],
        [
         "2017-03-19",
         4,
         477,
         1
        ],
        [
         "2017-03-19",
         4,
         478,
         1
        ],
        [
         "2017-03-19",
         9,
         475,
         1
        ],
        [
         "2017-03-20",
         1,
         480,
         1
        ],
        [
         "2017-03-20",
         4,
         490,
         1
        ],
        [
         "2017-03-20",
         4,
         605,
         1
        ],
        [
         "2017-03-20",
         7,
         360,
         1
        ],
        [
         "2017-03-20",
         9,
         466,
         1
        ],
        [
         "2017-03-20",
         10,
         538,
         1
        ],
        [
         "2017-03-21",
         1,
         540,
         1
        ],
        [
         "2017-03-21",
         1,
         604,
         1
        ],
        [
         "2017-03-21",
         6,
         538,
         1
        ],
        [
         "2017-03-21",
         7,
         528,
         1
        ],
        [
         "2017-03-21",
         9,
         220,
         1
        ],
        [
         "2017-03-21",
         9,
         573,
         1
        ],
        [
         "2017-03-21",
         10,
         581,
         1
        ],
        [
         "2017-03-22",
         1,
         478,
         1
        ],
        [
         "2017-03-22",
         6,
         538,
         1
        ],
        [
         "2017-03-22",
         9,
         220,
         1
        ],
        [
         "2017-03-22",
         9,
         480,
         1
        ],
        [
         "2017-03-22",
         10,
         485,
         1
        ],
        [
         "2017-03-23",
         4,
         477,
         1
        ],
        [
         "2017-03-23",
         6,
         487,
         1
        ],
        [
         "2017-03-23",
         8,
         536,
         1
        ],
        [
         "2017-03-24",
         9,
         477,
         1
        ],
        [
         "2017-03-25",
         4,
         530,
         1
        ],
        [
         "2017-03-25",
         6,
         214,
         1
        ],
        [
         "2017-03-25",
         6,
         530,
         1
        ],
        [
         "2017-03-25",
         9,
         477,
         1
        ],
        [
         "2017-03-25",
         9,
         538,
         1
        ],
        [
         "2017-03-26",
         1,
         220,
         1
        ],
        [
         "2017-03-26",
         4,
         483,
         1
        ],
        [
         "2017-03-26",
         7,
         223,
         1
        ],
        [
         "2017-03-26",
         8,
         485,
         1
        ],
        [
         "2017-03-27",
         4,
         479,
         1
        ],
        [
         "2017-03-27",
         6,
         223,
         1
        ],
        [
         "2017-03-27",
         6,
         477,
         1
        ],
        [
         "2017-03-27",
         7,
         472,
         1
        ],
        [
         "2017-03-27",
         7,
         477,
         1
        ],
        [
         "2017-03-27",
         7,
         537,
         1
        ],
        [
         "2017-03-27",
         10,
         214,
         1
        ],
        [
         "2017-03-28",
         1,
         215,
         1
        ],
        [
         "2017-03-28",
         4,
         214,
         1
        ],
        [
         "2017-03-28",
         4,
         537,
         1
        ],
        [
         "2017-03-28",
         7,
         362,
         1
        ],
        [
         "2017-03-28",
         9,
         223,
         1
        ],
        [
         "2017-03-28",
         9,
         473,
         1
        ],
        [
         "2017-03-28",
         9,
         476,
         1
        ],
        [
         "2017-03-28",
         10,
         223,
         1
        ],
        [
         "2017-03-29",
         1,
         220,
         1
        ],
        [
         "2017-03-29",
         1,
         475,
         1
        ],
        [
         "2017-03-29",
         1,
         528,
         1
        ],
        [
         "2017-03-29",
         4,
         475,
         1
        ],
        [
         "2017-03-29",
         6,
         480,
         1
        ],
        [
         "2017-03-29",
         7,
         220,
         1
        ],
        [
         "2017-03-29",
         10,
         214,
         1
        ],
        [
         "2017-03-29",
         10,
         596,
         1
        ],
        [
         "2017-03-30",
         1,
         479,
         1
        ],
        [
         "2017-03-30",
         1,
         566,
         1
        ],
        [
         "2017-03-30",
         6,
         485,
         1
        ],
        [
         "2017-03-30",
         6,
         537,
         1
        ],
        [
         "2017-03-30",
         7,
         529,
         1
        ],
        [
         "2017-03-31",
         1,
         387,
         1
        ],
        [
         "2017-03-31",
         4,
         482,
         1
        ],
        [
         "2017-03-31",
         4,
         528,
         1
        ],
        [
         "2017-03-31",
         6,
         480,
         1
        ],
        [
         "2017-03-31",
         7,
         482,
         1
        ],
        [
         "2017-04-01",
         4,
         215,
         1
        ],
        [
         "2017-04-01",
         4,
         354,
         1
        ],
        [
         "2017-04-01",
         4,
         580,
         1
        ],
        [
         "2017-04-01",
         6,
         229,
         1
        ],
        [
         "2017-04-01",
         6,
         528,
         1
        ],
        [
         "2017-04-01",
         8,
         383,
         1
        ],
        [
         "2017-04-02",
         8,
         220,
         1
        ],
        [
         "2017-04-02",
         10,
         480,
         1
        ],
        [
         "2017-04-03",
         4,
         477,
         1
        ],
        [
         "2017-04-03",
         4,
         491,
         1
        ],
        [
         "2017-04-03",
         6,
         486,
         1
        ],
        [
         "2017-04-03",
         9,
         235,
         1
        ],
        [
         "2017-04-03",
         9,
         536,
         1
        ],
        [
         "2017-04-03",
         9,
         564,
         1
        ],
        [
         "2017-04-03",
         10,
         480,
         1
        ],
        [
         "2017-04-03",
         10,
         535,
         1
        ],
        [
         "2017-04-04",
         4,
         480,
         1
        ],
        [
         "2017-04-04",
         4,
         538,
         1
        ],
        [
         "2017-04-04",
         7,
         561,
         1
        ],
        [
         "2017-04-04",
         8,
         360,
         1
        ],
        [
         "2017-04-04",
         8,
         477,
         1
        ],
        [
         "2017-04-04",
         9,
         477,
         1
        ],
        [
         "2017-04-05",
         6,
         480,
         1
        ],
        [
         "2017-04-05",
         7,
         539,
         1
        ],
        [
         "2017-04-05",
         8,
         539,
         1
        ],
        [
         "2017-04-06",
         1,
         220,
         1
        ],
        [
         "2017-04-06",
         1,
         356,
         1
        ],
        [
         "2017-04-06",
         1,
         477,
         1
        ],
        [
         "2017-04-06",
         4,
         214,
         1
        ],
        [
         "2017-04-06",
         4,
         223,
         2
        ],
        [
         "2017-04-06",
         4,
         574,
         1
        ],
        [
         "2017-04-06",
         8,
         605,
         1
        ],
        [
         "2017-04-07",
         8,
         214,
         1
        ],
        [
         "2017-04-07",
         8,
         480,
         1
        ],
        [
         "2017-04-07",
         10,
         528,
         1
        ],
        [
         "2017-04-07",
         10,
         530,
         1
        ],
        [
         "2017-04-07",
         10,
         577,
         1
        ],
        [
         "2017-04-08",
         4,
         476,
         1
        ],
        [
         "2017-04-08",
         4,
         540,
         1
        ],
        [
         "2017-04-08",
         7,
         215,
         1
        ],
        [
         "2017-04-08",
         9,
         488,
         1
        ],
        [
         "2017-04-08",
         10,
         215,
         1
        ],
        [
         "2017-04-09",
         7,
         220,
         1
        ],
        [
         "2017-04-09",
         9,
         539,
         1
        ],
        [
         "2017-04-10",
         4,
         528,
         1
        ],
        [
         "2017-04-10",
         6,
         220,
         1
        ],
        [
         "2017-04-10",
         8,
         471,
         1
        ],
        [
         "2017-04-10",
         8,
         560,
         1
        ],
        [
         "2017-04-10",
         9,
         484,
         1
        ],
        [
         "2017-04-10",
         10,
         383,
         1
        ],
        [
         "2017-04-10",
         10,
         566,
         1
        ],
        [
         "2017-04-11",
         1,
         537,
         1
        ],
        [
         "2017-04-11",
         4,
         536,
         1
        ],
        [
         "2017-04-11",
         4,
         588,
         1
        ],
        [
         "2017-04-11",
         7,
         479,
         1
        ],
        [
         "2017-04-11",
         7,
         480,
         1
        ],
        [
         "2017-04-11",
         9,
         375,
         1
        ],
        [
         "2017-04-11",
         9,
         484,
         1
        ],
        [
         "2017-04-11",
         9,
         563,
         1
        ],
        [
         "2017-04-12",
         4,
         530,
         1
        ],
        [
         "2017-04-12",
         6,
         576,
         1
        ],
        [
         "2017-04-12",
         7,
         575,
         1
        ],
        [
         "2017-04-12",
         9,
         477,
         1
        ],
        [
         "2017-04-12",
         10,
         478,
         1
        ],
        [
         "2017-04-12",
         10,
         606,
         1
        ],
        [
         "2017-04-13",
         1,
         477,
         1
        ],
        [
         "2017-04-13",
         4,
         478,
         2
        ],
        [
         "2017-04-13",
         9,
         483,
         1
        ],
        [
         "2017-04-14",
         4,
         590,
         1
        ],
        [
         "2017-04-14",
         6,
         480,
         1
        ],
        [
         "2017-04-14",
         10,
         215,
         1
        ],
        [
         "2017-04-14",
         10,
         529,
         1
        ],
        [
         "2017-04-14",
         10,
         590,
         1
        ],
        [
         "2017-04-15",
         1,
         490,
         1
        ],
        [
         "2017-04-15",
         7,
         477,
         1
        ],
        [
         "2017-04-15",
         7,
         488,
         1
        ],
        [
         "2017-04-15",
         7,
         489,
         1
        ],
        [
         "2017-04-15",
         9,
         480,
         1
        ],
        [
         "2017-04-16",
         4,
         479,
         1
        ],
        [
         "2017-04-16",
         4,
         537,
         1
        ],
        [
         "2017-04-16",
         4,
         581,
         1
        ],
        [
         "2017-04-16",
         8,
         529,
         1
        ],
        [
         "2017-04-17",
         1,
         539,
         1
        ],
        [
         "2017-04-17",
         8,
         472,
         1
        ],
        [
         "2017-04-17",
         8,
         605,
         1
        ],
        [
         "2017-04-17",
         9,
         565,
         1
        ],
        [
         "2017-04-17",
         9,
         567,
         1
        ],
        [
         "2017-04-18",
         1,
         383,
         1
        ],
        [
         "2017-04-18",
         4,
         561,
         1
        ],
        [
         "2017-04-18",
         7,
         464,
         1
        ],
        [
         "2017-04-18",
         9,
         479,
         1
        ],
        [
         "2017-04-18",
         10,
         479,
         1
        ],
        [
         "2017-04-18",
         10,
         577,
         1
        ],
        [
         "2017-04-19",
         4,
         214,
         1
        ],
        [
         "2017-04-19",
         4,
         478,
         1
        ],
        [
         "2017-04-19",
         6,
         528,
         1
        ],
        [
         "2017-04-19",
         7,
         486,
         1
        ],
        [
         "2017-04-19",
         7,
         530,
         1
        ],
        [
         "2017-04-19",
         10,
         487,
         1
        ],
        [
         "2017-04-20",
         8,
         583,
         1
        ],
        [
         "2017-04-20",
         10,
         482,
         1
        ],
        [
         "2017-04-21",
         4,
         235,
         1
        ],
        [
         "2017-04-21",
         4,
         477,
         1
        ],
        [
         "2017-04-21",
         9,
         383,
         1
        ],
        [
         "2017-04-22",
         4,
         528,
         1
        ],
        [
         "2017-04-22",
         7,
         541,
         1
        ],
        [
         "2017-04-22",
         8,
         530,
         1
        ],
        [
         "2017-04-22",
         8,
         584,
         1
        ],
        [
         "2017-04-23",
         1,
         484,
         1
        ],
        [
         "2017-04-23",
         4,
         215,
         1
        ],
        [
         "2017-04-23",
         4,
         226,
         1
        ],
        [
         "2017-04-23",
         4,
         480,
         1
        ],
        [
         "2017-04-23",
         6,
         220,
         1
        ],
        [
         "2017-04-23",
         6,
         466,
         1
        ],
        [
         "2017-04-23",
         7,
         529,
         1
        ],
        [
         "2017-04-23",
         8,
         538,
         1
        ],
        [
         "2017-04-23",
         9,
         480,
         1
        ],
        [
         "2017-04-24",
         4,
         220,
         1
        ],
        [
         "2017-04-24",
         4,
         477,
         1
        ],
        [
         "2017-04-24",
         7,
         215,
         1
        ],
        [
         "2017-04-24",
         7,
         352,
         1
        ],
        [
         "2017-04-24",
         7,
         477,
         1
        ],
        [
         "2017-04-24",
         9,
         589,
         1
        ],
        [
         "2017-04-25",
         1,
         485,
         1
        ],
        [
         "2017-04-25",
         6,
         464,
         1
        ],
        [
         "2017-04-25",
         7,
         477,
         1
        ],
        [
         "2017-04-25",
         7,
         484,
         1
        ],
        [
         "2017-04-25",
         7,
         530,
         1
        ],
        [
         "2017-04-25",
         9,
         479,
         1
        ],
        [
         "2017-04-25",
         9,
         538,
         1
        ],
        [
         "2017-04-25",
         10,
         481,
         1
        ],
        [
         "2017-04-26",
         1,
         220,
         1
        ],
        [
         "2017-04-26",
         1,
         480,
         1
        ],
        [
         "2017-04-26",
         4,
         478,
         1
        ],
        [
         "2017-04-26",
         4,
         480,
         1
        ],
        [
         "2017-04-26",
         7,
         480,
         1
        ],
        [
         "2017-04-26",
         9,
         488,
         1
        ],
        [
         "2017-04-27",
         1,
         480,
         1
        ],
        [
         "2017-04-27",
         1,
         529,
         1
        ],
        [
         "2017-04-27",
         4,
         215,
         1
        ],
        [
         "2017-04-27",
         4,
         529,
         1
        ],
        [
         "2017-04-27",
         7,
         215,
         1
        ],
        [
         "2017-04-27",
         9,
         214,
         1
        ],
        [
         "2017-04-27",
         9,
         580,
         1
        ],
        [
         "2017-04-28",
         4,
         358,
         1
        ],
        [
         "2017-04-28",
         8,
         528,
         1
        ],
        [
         "2017-04-28",
         9,
         377,
         1
        ],
        [
         "2017-04-28",
         9,
         535,
         1
        ],
        [
         "2017-04-28",
         10,
         215,
         1
        ],
        [
         "2017-04-28",
         10,
         480,
         1
        ],
        [
         "2017-04-28",
         10,
         528,
         1
        ],
        [
         "2017-04-29",
         1,
         541,
         1
        ],
        [
         "2017-04-29",
         4,
         474,
         1
        ],
        [
         "2017-04-29",
         4,
         490,
         1
        ],
        [
         "2017-04-29",
         4,
         528,
         1
        ],
        [
         "2017-04-29",
         10,
         358,
         1
        ],
        [
         "2017-04-30",
         1,
         480,
         1
        ],
        [
         "2017-04-30",
         4,
         215,
         1
        ],
        [
         "2017-04-30",
         4,
         478,
         1
        ],
        [
         "2017-04-30",
         7,
         489,
         1
        ],
        [
         "2017-04-30",
         8,
         581,
         1
        ],
        [
         "2017-04-30",
         9,
         480,
         1
        ],
        [
         "2017-05-01",
         1,
         485,
         1
        ],
        [
         "2017-05-01",
         4,
         215,
         1
        ],
        [
         "2017-05-01",
         4,
         360,
         1
        ],
        [
         "2017-05-01",
         10,
         479,
         1
        ],
        [
         "2017-05-02",
         4,
         214,
         1
        ],
        [
         "2017-05-02",
         4,
         477,
         1
        ],
        [
         "2017-05-02",
         4,
         528,
         1
        ],
        [
         "2017-05-02",
         9,
         480,
         1
        ],
        [
         "2017-05-03",
         9,
         529,
         1
        ],
        [
         "2017-05-04",
         4,
         606,
         1
        ],
        [
         "2017-05-04",
         6,
         476,
         1
        ],
        [
         "2017-05-04",
         7,
         539,
         1
        ],
        [
         "2017-05-04",
         8,
         538,
         1
        ],
        [
         "2017-05-04",
         8,
         571,
         1
        ],
        [
         "2017-05-05",
         1,
         483,
         1
        ],
        [
         "2017-05-05",
         4,
         480,
         1
        ],
        [
         "2017-05-05",
         4,
         483,
         1
        ],
        [
         "2017-05-05",
         8,
         223,
         1
        ],
        [
         "2017-05-05",
         8,
         541,
         1
        ],
        [
         "2017-05-05",
         9,
         480,
         1
        ],
        [
         "2017-05-05",
         9,
         487,
         1
        ],
        [
         "2017-05-06",
         4,
         215,
         1
        ],
        [
         "2017-05-06",
         4,
         477,
         1
        ],
        [
         "2017-05-06",
         6,
         466,
         1
        ],
        [
         "2017-05-06",
         6,
         485,
         1
        ],
        [
         "2017-05-06",
         7,
         220,
         1
        ],
        [
         "2017-05-06",
         7,
         528,
         1
        ],
        [
         "2017-05-06",
         8,
         528,
         1
        ],
        [
         "2017-05-06",
         9,
         480,
         1
        ],
        [
         "2017-05-07",
         4,
         578,
         1
        ],
        [
         "2017-05-07",
         7,
         538,
         1
        ],
        [
         "2017-05-07",
         10,
         214,
         1
        ],
        [
         "2017-05-08",
         4,
         476,
         1
        ],
        [
         "2017-05-08",
         4,
         537,
         1
        ],
        [
         "2017-05-08",
         9,
         223,
         1
        ],
        [
         "2017-05-08",
         9,
         535,
         1
        ],
        [
         "2017-05-09",
         1,
         484,
         1
        ],
        [
         "2017-05-09",
         4,
         220,
         1
        ],
        [
         "2017-05-09",
         6,
         530,
         1
        ],
        [
         "2017-05-09",
         7,
         362,
         1
        ],
        [
         "2017-05-09",
         9,
         480,
         1
        ],
        [
         "2017-05-09",
         9,
         528,
         1
        ],
        [
         "2017-05-09",
         9,
         537,
         1
        ],
        [
         "2017-05-10",
         1,
         578,
         1
        ],
        [
         "2017-05-10",
         4,
         385,
         1
        ],
        [
         "2017-05-10",
         4,
         480,
         1
        ],
        [
         "2017-05-10",
         6,
         478,
         1
        ],
        [
         "2017-05-10",
         6,
         537,
         1
        ],
        [
         "2017-05-10",
         7,
         215,
         1
        ],
        [
         "2017-05-11",
         1,
         223,
         1
        ],
        [
         "2017-05-11",
         1,
         480,
         1
        ],
        [
         "2017-05-11",
         6,
         536,
         1
        ],
        [
         "2017-05-11",
         10,
         541,
         1
        ],
        [
         "2017-05-12",
         4,
         214,
         1
        ],
        [
         "2017-05-12",
         4,
         229,
         1
        ],
        [
         "2017-05-12",
         4,
         479,
         1
        ],
        [
         "2017-05-12",
         4,
         606,
         1
        ],
        [
         "2017-05-12",
         10,
         360,
         1
        ],
        [
         "2017-05-12",
         10,
         604,
         1
        ],
        [
         "2017-05-13",
         7,
         220,
         1
        ],
        [
         "2017-05-14",
         4,
         485,
         1
        ],
        [
         "2017-05-14",
         4,
         529,
         1
        ],
        [
         "2017-05-14",
         6,
         483,
         1
        ],
        [
         "2017-05-14",
         6,
         485,
         1
        ],
        [
         "2017-05-14",
         6,
         536,
         1
        ],
        [
         "2017-05-14",
         7,
         580,
         1
        ],
        [
         "2017-05-14",
         9,
         477,
         1
        ],
        [
         "2017-05-15",
         1,
         480,
         1
        ],
        [
         "2017-05-15",
         1,
         489,
         1
        ],
        [
         "2017-05-15",
         6,
         214,
         1
        ],
        [
         "2017-05-15",
         6,
         235,
         1
        ],
        [
         "2017-05-15",
         6,
         485,
         1
        ],
        [
         "2017-05-15",
         9,
         214,
         1
        ],
        [
         "2017-05-16",
         1,
         569,
         1
        ],
        [
         "2017-05-16",
         6,
         480,
         1
        ],
        [
         "2017-05-16",
         6,
         537,
         1
        ],
        [
         "2017-05-16",
         8,
         466,
         1
        ],
        [
         "2017-05-16",
         9,
         214,
         1
        ],
        [
         "2017-05-16",
         9,
         487,
         1
        ],
        [
         "2017-05-16",
         9,
         488,
         1
        ],
        [
         "2017-05-17",
         1,
         478,
         1
        ],
        [
         "2017-05-17",
         6,
         477,
         1
        ],
        [
         "2017-05-17",
         7,
         220,
         1
        ],
        [
         "2017-05-17",
         7,
         568,
         1
        ],
        [
         "2017-05-17",
         10,
         214,
         1
        ],
        [
         "2017-05-18",
         9,
         536,
         1
        ],
        [
         "2017-05-19",
         1,
         480,
         1
        ],
        [
         "2017-05-19",
         4,
         223,
         1
        ],
        [
         "2017-05-19",
         9,
         214,
         1
        ],
        [
         "2017-05-19",
         9,
         389,
         1
        ],
        [
         "2017-05-20",
         1,
         471,
         1
        ],
        [
         "2017-05-20",
         4,
         573,
         1
        ],
        [
         "2017-05-20",
         4,
         582,
         1
        ],
        [
         "2017-05-20",
         6,
         226,
         1
        ],
        [
         "2017-05-20",
         7,
         576,
         1
        ],
        [
         "2017-05-21",
         1,
         358,
         1
        ],
        [
         "2017-05-21",
         1,
         535,
         1
        ],
        [
         "2017-05-21",
         4,
         226,
         1
        ],
        [
         "2017-05-21",
         4,
         537,
         1
        ],
        [
         "2017-05-21",
         6,
         214,
         1
        ],
        [
         "2017-05-21",
         9,
         487,
         1
        ],
        [
         "2017-05-22",
         4,
         214,
         1
        ],
        [
         "2017-05-22",
         4,
         478,
         1
        ],
        [
         "2017-05-22",
         4,
         487,
         1
        ],
        [
         "2017-05-22",
         9,
         215,
         1
        ],
        [
         "2017-05-23",
         1,
         354,
         1
        ],
        [
         "2017-05-23",
         1,
         606,
         1
        ],
        [
         "2017-05-23",
         4,
         574,
         1
        ],
        [
         "2017-05-23",
         4,
         577,
         1
        ],
        [
         "2017-05-23",
         7,
         572,
         1
        ],
        [
         "2017-05-24",
         1,
         462,
         1
        ],
        [
         "2017-05-24",
         6,
         362,
         1
        ],
        [
         "2017-05-24",
         6,
         528,
         1
        ],
        [
         "2017-05-24",
         7,
         573,
         1
        ],
        [
         "2017-05-24",
         8,
         536,
         1
        ],
        [
         "2017-05-24",
         9,
         562,
         1
        ],
        [
         "2017-05-24",
         9,
         579,
         1
        ],
        [
         "2017-05-25",
         1,
         474,
         1
        ],
        [
         "2017-05-25",
         7,
         466,
         1
        ],
        [
         "2017-05-25",
         8,
         215,
         1
        ],
        [
         "2017-05-25",
         9,
         223,
         1
        ],
        [
         "2017-05-25",
         9,
         488,
         1
        ],
        [
         "2017-05-25",
         10,
         564,
         1
        ],
        [
         "2017-05-26",
         1,
         528,
         1
        ],
        [
         "2017-05-26",
         6,
         528,
         1
        ],
        [
         "2017-05-26",
         7,
         478,
         1
        ],
        [
         "2017-05-26",
         8,
         539,
         1
        ],
        [
         "2017-05-26",
         9,
         479,
         1
        ],
        [
         "2017-05-26",
         10,
         220,
         1
        ],
        [
         "2017-05-26",
         10,
         235,
         1
        ],
        [
         "2017-05-26",
         10,
         530,
         1
        ],
        [
         "2017-05-27",
         1,
         214,
         1
        ],
        [
         "2017-05-27",
         1,
         528,
         1
        ],
        [
         "2017-05-27",
         4,
         538,
         1
        ],
        [
         "2017-05-27",
         8,
         229,
         1
        ],
        [
         "2017-05-28",
         4,
         226,
         1
        ],
        [
         "2017-05-28",
         4,
         477,
         1
        ],
        [
         "2017-05-28",
         7,
         371,
         1
        ],
        [
         "2017-05-28",
         7,
         540,
         1
        ],
        [
         "2017-05-28",
         9,
         220,
         1
        ],
        [
         "2017-05-28",
         9,
         482,
         1
        ],
        [
         "2017-05-28",
         10,
         529,
         1
        ],
        [
         "2017-05-29",
         1,
         362,
         1
        ],
        [
         "2017-05-29",
         8,
         214,
         1
        ],
        [
         "2017-05-29",
         9,
         214,
         1
        ],
        [
         "2017-05-29",
         9,
         220,
         1
        ],
        [
         "2017-05-29",
         9,
         379,
         1
        ],
        [
         "2017-05-29",
         9,
         462,
         1
        ],
        [
         "2017-05-29",
         9,
         478,
         1
        ],
        [
         "2017-05-29",
         10,
         485,
         1
        ],
        [
         "2017-05-30",
         1,
         479,
         1
        ],
        [
         "2017-05-30",
         1,
         529,
         1
        ],
        [
         "2017-05-30",
         1,
         538,
         1
        ],
        [
         "2017-05-30",
         4,
         478,
         1
        ],
        [
         "2017-05-30",
         4,
         480,
         1
        ],
        [
         "2017-05-30",
         4,
         605,
         1
        ],
        [
         "2017-05-30",
         9,
         220,
         1
        ],
        [
         "2017-05-30",
         9,
         480,
         1
        ],
        [
         "2017-05-30",
         9,
         537,
         1
        ],
        [
         "2017-05-30",
         9,
         582,
         1
        ],
        [
         "2017-05-30",
         10,
         530,
         1
        ],
        [
         "2017-05-31",
         1,
         528,
         1
        ],
        [
         "2017-05-31",
         6,
         360,
         1
        ],
        [
         "2017-05-31",
         6,
         535,
         1
        ],
        [
         "2017-05-31",
         6,
         536,
         1
        ],
        [
         "2017-05-31",
         7,
         568,
         1
        ],
        [
         "2017-05-31",
         9,
         484,
         1
        ],
        [
         "2017-05-31",
         9,
         584,
         1
        ],
        [
         "2017-05-31",
         10,
         477,
         1
        ],
        [
         "2017-06-01",
         6,
         582,
         1
        ],
        [
         "2017-06-01",
         8,
         358,
         1
        ],
        [
         "2017-06-01",
         8,
         578,
         1
        ],
        [
         "2017-06-02",
         1,
         481,
         1
        ],
        [
         "2017-06-02",
         6,
         477,
         1
        ],
        [
         "2017-06-03",
         1,
         538,
         1
        ],
        [
         "2017-06-03",
         7,
         477,
         1
        ],
        [
         "2017-06-03",
         7,
         538,
         1
        ],
        [
         "2017-06-03",
         9,
         478,
         1
        ],
        [
         "2017-06-03",
         9,
         479,
         1
        ],
        [
         "2017-06-03",
         9,
         488,
         1
        ],
        [
         "2017-06-03",
         10,
         537,
         1
        ],
        [
         "2017-06-04",
         6,
         466,
         1
        ],
        [
         "2017-06-05",
         1,
         220,
         1
        ],
        [
         "2017-06-05",
         1,
         477,
         1
        ],
        [
         "2017-06-05",
         7,
         214,
         1
        ],
        [
         "2017-06-06",
         6,
         476,
         1
        ],
        [
         "2017-06-06",
         6,
         485,
         1
        ],
        [
         "2017-06-06",
         7,
         223,
         1
        ],
        [
         "2017-06-06",
         8,
         530,
         1
        ],
        [
         "2017-06-06",
         9,
         360,
         1
        ],
        [
         "2017-06-06",
         10,
         536,
         1
        ],
        [
         "2017-06-07",
         1,
         462,
         1
        ],
        [
         "2017-06-07",
         1,
         539,
         1
        ],
        [
         "2017-06-07",
         1,
         574,
         1
        ],
        [
         "2017-06-07",
         4,
         352,
         1
        ],
        [
         "2017-06-07",
         4,
         464,
         1
        ],
        [
         "2017-06-07",
         4,
         478,
         1
        ],
        [
         "2017-06-07",
         4,
         485,
         1
        ],
        [
         "2017-06-07",
         6,
         235,
         1
        ],
        [
         "2017-06-07",
         9,
         352,
         1
        ],
        [
         "2017-06-07",
         9,
         464,
         1
        ],
        [
         "2017-06-07",
         9,
         537,
         1
        ],
        [
         "2017-06-07",
         9,
         538,
         1
        ],
        [
         "2017-06-08",
         1,
         356,
         1
        ],
        [
         "2017-06-08",
         1,
         537,
         1
        ],
        [
         "2017-06-08",
         4,
         360,
         1
        ],
        [
         "2017-06-08",
         8,
         563,
         1
        ],
        [
         "2017-06-08",
         8,
         605,
         1
        ],
        [
         "2017-06-08",
         9,
         477,
         1
        ],
        [
         "2017-06-08",
         9,
         485,
         1
        ],
        [
         "2017-06-09",
         1,
         478,
         1
        ],
        [
         "2017-06-09",
         1,
         535,
         1
        ],
        [
         "2017-06-09",
         6,
         528,
         1
        ],
        [
         "2017-06-09",
         7,
         528,
         1
        ],
        [
         "2017-06-09",
         9,
         387,
         1
        ],
        [
         "2017-06-09",
         9,
         471,
         1
        ],
        [
         "2017-06-10",
         1,
         466,
         1
        ],
        [
         "2017-06-10",
         1,
         477,
         1
        ],
        [
         "2017-06-10",
         1,
         581,
         1
        ],
        [
         "2017-06-10",
         4,
         477,
         1
        ],
        [
         "2017-06-11",
         4,
         479,
         1
        ],
        [
         "2017-06-11",
         6,
         223,
         1
        ],
        [
         "2017-06-11",
         7,
         485,
         1
        ],
        [
         "2017-06-11",
         9,
         485,
         1
        ],
        [
         "2017-06-11",
         9,
         529,
         1
        ],
        [
         "2017-06-11",
         9,
         584,
         1
        ],
        [
         "2017-06-12",
         4,
         478,
         1
        ],
        [
         "2017-06-12",
         9,
         214,
         1
        ],
        [
         "2017-06-12",
         9,
         529,
         1
        ],
        [
         "2017-06-12",
         9,
         537,
         1
        ],
        [
         "2017-06-12",
         10,
         477,
         1
        ],
        [
         "2017-06-13",
         4,
         220,
         1
        ],
        [
         "2017-06-13",
         8,
         476,
         1
        ],
        [
         "2017-06-13",
         8,
         581,
         1
        ],
        [
         "2017-06-13",
         9,
         214,
         1
        ],
        [
         "2017-06-13",
         9,
         215,
         1
        ],
        [
         "2017-06-14",
         1,
         537,
         1
        ],
        [
         "2017-06-14",
         4,
         462,
         1
        ],
        [
         "2017-06-14",
         6,
         229,
         1
        ],
        [
         "2017-06-14",
         7,
         528,
         1
        ],
        [
         "2017-06-14",
         9,
         491,
         1
        ],
        [
         "2017-06-14",
         10,
         214,
         1
        ],
        [
         "2017-06-14",
         10,
         477,
         1
        ],
        [
         "2017-06-15",
         1,
         223,
         1
        ],
        [
         "2017-06-15",
         6,
         220,
         1
        ],
        [
         "2017-06-15",
         6,
         529,
         1
        ],
        [
         "2017-06-15",
         7,
         475,
         1
        ],
        [
         "2017-06-15",
         7,
         477,
         1
        ],
        [
         "2017-06-15",
         8,
         485,
         1
        ],
        [
         "2017-06-15",
         9,
         480,
         1
        ],
        [
         "2017-06-15",
         10,
         478,
         1
        ],
        [
         "2017-06-16",
         7,
         490,
         1
        ],
        [
         "2017-06-16",
         7,
         535,
         1
        ],
        [
         "2017-06-16",
         8,
         480,
         1
        ],
        [
         "2017-06-16",
         9,
         479,
         1
        ],
        [
         "2017-06-16",
         10,
         466,
         1
        ],
        [
         "2017-06-17",
         1,
         354,
         1
        ],
        [
         "2017-06-17",
         1,
         481,
         1
        ],
        [
         "2017-06-17",
         9,
         489,
         1
        ],
        [
         "2017-06-17",
         9,
         528,
         1
        ],
        [
         "2017-06-17",
         9,
         535,
         1
        ],
        [
         "2017-06-17",
         10,
         352,
         1
        ],
        [
         "2017-06-17",
         10,
         597,
         1
        ],
        [
         "2017-06-18",
         10,
         535,
         1
        ],
        [
         "2017-06-19",
         1,
         356,
         1
        ],
        [
         "2017-06-19",
         7,
         462,
         1
        ],
        [
         "2017-06-19",
         9,
         487,
         1
        ],
        [
         "2017-06-19",
         10,
         563,
         1
        ],
        [
         "2017-06-20",
         1,
         528,
         1
        ],
        [
         "2017-06-20",
         4,
         479,
         1
        ],
        [
         "2017-06-20",
         8,
         586,
         1
        ],
        [
         "2017-06-20",
         9,
         362,
         1
        ],
        [
         "2017-06-21",
         7,
         220,
         1
        ],
        [
         "2017-06-21",
         7,
         593,
         1
        ],
        [
         "2017-06-21",
         8,
         482,
         1
        ],
        [
         "2017-06-21",
         8,
         536,
         1
        ],
        [
         "2017-06-21",
         9,
         462,
         1
        ],
        [
         "2017-06-21",
         9,
         477,
         1
        ],
        [
         "2017-06-21",
         10,
         220,
         1
        ],
        [
         "2017-06-21",
         10,
         477,
         1
        ],
        [
         "2017-06-22",
         1,
         232,
         1
        ],
        [
         "2017-06-22",
         1,
         485,
         1
        ],
        [
         "2017-06-22",
         4,
         529,
         1
        ],
        [
         "2017-06-22",
         6,
         220,
         1
        ],
        [
         "2017-06-22",
         6,
         476,
         1
        ],
        [
         "2017-06-22",
         6,
         488,
         1
        ],
        [
         "2017-06-22",
         7,
         540,
         1
        ],
        [
         "2017-06-22",
         9,
         477,
         1
        ],
        [
         "2017-06-22",
         9,
         584,
         1
        ],
        [
         "2017-06-23",
         6,
         528,
         1
        ],
        [
         "2017-06-23",
         9,
         539,
         1
        ],
        [
         "2017-06-23",
         9,
         562,
         1
        ],
        [
         "2017-06-23",
         9,
         563,
         1
        ],
        [
         "2017-06-24",
         1,
         479,
         1
        ],
        [
         "2017-06-24",
         1,
         480,
         1
        ],
        [
         "2017-06-24",
         1,
         485,
         1
        ],
        [
         "2017-06-24",
         1,
         487,
         1
        ],
        [
         "2017-06-24",
         9,
         474,
         1
        ],
        [
         "2017-06-24",
         10,
         581,
         1
        ],
        [
         "2017-06-25",
         6,
         223,
         1
        ],
        [
         "2017-06-25",
         7,
         223,
         1
        ],
        [
         "2017-06-25",
         7,
         477,
         1
        ],
        [
         "2017-06-25",
         7,
         529,
         1
        ],
        [
         "2017-06-25",
         9,
         477,
         1
        ],
        [
         "2017-06-25",
         9,
         478,
         1
        ],
        [
         "2017-06-25",
         9,
         484,
         1
        ],
        [
         "2017-06-25",
         9,
         539,
         1
        ],
        [
         "2017-06-26",
         1,
         472,
         1
        ],
        [
         "2017-06-26",
         6,
         477,
         1
        ],
        [
         "2017-06-26",
         7,
         529,
         1
        ],
        [
         "2017-06-26",
         9,
         538,
         1
        ],
        [
         "2017-06-27",
         4,
         478,
         1
        ],
        [
         "2017-06-27",
         4,
         537,
         1
        ],
        [
         "2017-06-27",
         10,
         220,
         1
        ],
        [
         "2017-06-28",
         1,
         214,
         1
        ],
        [
         "2017-06-28",
         1,
         480,
         1
        ],
        [
         "2017-06-28",
         1,
         587,
         1
        ],
        [
         "2017-06-28",
         4,
         387,
         1
        ],
        [
         "2017-06-28",
         4,
         528,
         2
        ],
        [
         "2017-06-28",
         7,
         575,
         1
        ],
        [
         "2017-06-28",
         7,
         591,
         1
        ],
        [
         "2017-06-28",
         8,
         381,
         1
        ],
        [
         "2017-06-28",
         10,
         477,
         1
        ],
        [
         "2017-06-28",
         10,
         487,
         1
        ],
        [
         "2017-06-29",
         4,
         356,
         1
        ],
        [
         "2017-06-29",
         4,
         587,
         1
        ],
        [
         "2017-06-29",
         7,
         477,
         1
        ],
        [
         "2017-06-29",
         7,
         479,
         1
        ],
        [
         "2017-06-29",
         8,
         541,
         1
        ],
        [
         "2017-06-29",
         9,
         477,
         1
        ],
        [
         "2017-06-30",
         6,
         491,
         1
        ],
        [
         "2017-06-30",
         8,
         477,
         1
        ],
        [
         "2017-06-30",
         9,
         477,
         1
        ],
        [
         "2017-06-30",
         10,
         223,
         1
        ],
        [
         "2017-06-30",
         10,
         477,
         1
        ]
       ],
       "datasetInfos": [],
       "dbfsResultPath": null,
       "isJsonSchema": true,
       "metadata": {},
       "overflow": false,
       "plotOptions": {
        "customPlotOptions": {},
        "displayType": "table",
        "pivotAggregation": null,
        "pivotColumns": null,
        "xColumns": null,
        "yColumns": null
       },
       "removedWidgets": [],
       "schema": [
        {
         "metadata": "{\"__detected_date_formats\":\"M/d/yyyy\"}",
         "name": "ReturnDate",
         "type": "\"date\""
        },
        {
         "metadata": "{}",
         "name": "TerritoryKey",
         "type": "\"integer\""
        },
        {
         "metadata": "{}",
         "name": "ProductKey",
         "type": "\"integer\""
        },
        {
         "metadata": "{}",
         "name": "ReturnQuantity",
         "type": "\"integer\""
        }
       ],
       "type": "table"
      }
     },
     "output_type": "display_data"
    }
   ],
   "source": [
    "df_returns.display()"
   ]
  },
  {
   "cell_type": "code",
   "execution_count": null,
   "metadata": {
    "application/vnd.databricks.v1+cell": {
     "cellMetadata": {
      "byteLimit": 2048000,
      "rowLimit": 10000
     },
     "inputWidgets": {},
     "nuid": "4233e1db-0b30-4294-a9f8-4f502304dc10",
     "showTitle": false,
     "tableResultSettingsMap": {},
     "title": ""
    }
   },
   "outputs": [],
   "source": [
    "df_returns.write.format('parquet')\\\n",
    "                 .mode('append')\\\n",
    "                 .option('path', \"abfss://silver@awdataprojectbasit.dfs.core.windows.net/returns/\")\\\n",
    "                 .save()"
   ]
  },
  {
   "cell_type": "code",
   "execution_count": null,
   "metadata": {
    "application/vnd.databricks.v1+cell": {
     "cellMetadata": {
      "byteLimit": 2048000,
      "rowLimit": 10000
     },
     "inputWidgets": {},
     "nuid": "e197d0c7-7e56-4d71-901f-dd39e688c27b",
     "showTitle": false,
     "tableResultSettingsMap": {},
     "title": ""
    }
   },
   "outputs": [],
   "source": [
    "df_territories.write.format('parquet')\\\n",
    "                 .mode('append')\\\n",
    "                 .option('path', \"abfss://silver@awdataprojectbasit.dfs.core.windows.net/territories/\")\\\n",
    "                 .save()"
   ]
  },
  {
   "cell_type": "markdown",
   "metadata": {
    "application/vnd.databricks.v1+cell": {
     "cellMetadata": {},
     "inputWidgets": {},
     "nuid": "baf949a5-eb47-4a01-901d-a6447a891a41",
     "showTitle": false,
     "tableResultSettingsMap": {},
     "title": ""
    }
   },
   "source": [
    "#### Sales Data"
   ]
  },
  {
   "cell_type": "code",
   "execution_count": null,
   "metadata": {
    "application/vnd.databricks.v1+cell": {
     "cellMetadata": {
      "byteLimit": 2048000,
      "rowLimit": 10000
     },
     "inputWidgets": {},
     "nuid": "29504779-db71-4ecf-a826-802633a38de1",
     "showTitle": false,
     "tableResultSettingsMap": {},
     "title": ""
    }
   },
   "outputs": [
    {
     "name": "stdout",
     "output_type": "stream",
     "text": [
      "+----------+----------+-----------+----------+-----------+------------+-------------+-------------+\n",
      "| OrderDate| StockDate|OrderNumber|ProductKey|CustomerKey|TerritoryKey|OrderLineItem|OrderQuantity|\n",
      "+----------+----------+-----------+----------+-----------+------------+-------------+-------------+\n",
      "|2015-01-01|2001-09-21|    SO45080|       332|      14657|           1|            1|            1|\n",
      "|2015-01-01|2001-12-05|    SO45079|       312|      29255|           4|            1|            1|\n",
      "|2015-01-01|2001-10-29|    SO45082|       350|      11455|           9|            1|            1|\n",
      "|2015-01-01|2001-11-16|    SO45081|       338|      26782|           6|            1|            1|\n",
      "|2015-01-02|2001-12-15|    SO45083|       312|      14947|          10|            1|            1|\n",
      "|2015-01-02|2001-10-12|    SO45084|       310|      29143|           4|            1|            1|\n",
      "|2015-01-02|2001-12-18|    SO45086|       314|      18747|           9|            1|            1|\n",
      "|2015-01-02|2001-10-09|    SO45085|       312|      18746|           9|            1|            1|\n",
      "|2015-01-03|2001-10-03|    SO45093|       312|      18906|           9|            1|            1|\n",
      "|2015-01-03|2001-09-29|    SO45090|       310|      29170|           4|            1|            1|\n",
      "|2015-01-03|2001-12-11|    SO45088|       345|      11398|          10|            1|            1|\n",
      "|2015-01-03|2001-10-24|    SO45092|       313|      18899|           9|            1|            1|\n",
      "|2015-01-03|2001-12-16|    SO45089|       351|      25977|           4|            1|            1|\n",
      "|2015-01-03|2001-10-26|    SO45091|       314|      18909|           9|            1|            1|\n",
      "|2015-01-03|2001-09-11|    SO45087|       350|      11388|          10|            1|            1|\n",
      "|2015-01-03|2001-09-11|    SO45094|       310|      22785|           6|            1|            1|\n",
      "|2015-01-04|2001-10-30|    SO45096|       312|      12483|           7|            1|            1|\n",
      "|2015-01-04|2001-10-30|    SO45097|       313|      29151|           4|            1|            1|\n",
      "|2015-01-04|2001-09-15|    SO45098|       310|      29167|           1|            1|            1|\n",
      "|2015-01-04|2001-12-07|    SO45095|       344|      11394|          10|            1|            1|\n",
      "+----------+----------+-----------+----------+-----------+------------+-------------+-------------+\n",
      "only showing top 20 rows\n",
      "\n"
     ]
    }
   ],
   "source": [
    "df_sales_2015.show()"
   ]
  },
  {
   "cell_type": "code",
   "execution_count": null,
   "metadata": {
    "application/vnd.databricks.v1+cell": {
     "cellMetadata": {
      "byteLimit": 2048000,
      "rowLimit": 10000
     },
     "inputWidgets": {},
     "nuid": "9b2c05c8-86fb-4f2e-9f6e-0ee261b76aca",
     "showTitle": false,
     "tableResultSettingsMap": {},
     "title": ""
    }
   },
   "outputs": [],
   "source": [
    "df_sales = df_sales_2015.union(df_sales_2016).union(df_sales_2017)"
   ]
  },
  {
   "cell_type": "code",
   "execution_count": null,
   "metadata": {
    "application/vnd.databricks.v1+cell": {
     "cellMetadata": {
      "byteLimit": 2048000,
      "rowLimit": 10000
     },
     "inputWidgets": {},
     "nuid": "b9e457e4-21c6-43fd-a05f-0effc649e6ac",
     "showTitle": false,
     "tableResultSettingsMap": {},
     "title": ""
    }
   },
   "outputs": [
    {
     "name": "stdout",
     "output_type": "stream",
     "text": [
      "root\n",
      " |-- OrderDate: date (nullable = true)\n",
      " |-- StockDate: date (nullable = true)\n",
      " |-- OrderNumber: string (nullable = true)\n",
      " |-- ProductKey: integer (nullable = true)\n",
      " |-- CustomerKey: integer (nullable = true)\n",
      " |-- TerritoryKey: integer (nullable = true)\n",
      " |-- OrderLineItem: integer (nullable = true)\n",
      " |-- OrderQuantity: integer (nullable = true)\n",
      "\n"
     ]
    }
   ],
   "source": [
    "df_sales.printSchema()"
   ]
  },
  {
   "cell_type": "code",
   "execution_count": null,
   "metadata": {
    "application/vnd.databricks.v1+cell": {
     "cellMetadata": {
      "byteLimit": 2048000,
      "rowLimit": 10000
     },
     "inputWidgets": {},
     "nuid": "3616eabf-49d0-4cc6-88c0-13b84691f9d3",
     "showTitle": false,
     "tableResultSettingsMap": {},
     "title": ""
    }
   },
   "outputs": [],
   "source": [
    "from pyspark.sql.functions import *"
   ]
  },
  {
   "cell_type": "code",
   "execution_count": null,
   "metadata": {
    "application/vnd.databricks.v1+cell": {
     "cellMetadata": {
      "byteLimit": 2048000,
      "rowLimit": 10000
     },
     "inputWidgets": {},
     "nuid": "b706be6a-5c6d-4126-a94d-0f050b020cdf",
     "showTitle": false,
     "tableResultSettingsMap": {},
     "title": ""
    }
   },
   "outputs": [],
   "source": [
    "df_sales = df_sales.withColumn(\"Year\", year('OrderDate'))"
   ]
  },
  {
   "cell_type": "code",
   "execution_count": null,
   "metadata": {
    "application/vnd.databricks.v1+cell": {
     "cellMetadata": {
      "byteLimit": 2048000,
      "rowLimit": 10000
     },
     "inputWidgets": {},
     "nuid": "058def58-1094-4619-ae74-e5c9e2e882fe",
     "showTitle": false,
     "tableResultSettingsMap": {},
     "title": ""
    }
   },
   "outputs": [
    {
     "name": "stdout",
     "output_type": "stream",
     "text": [
      "root\n",
      " |-- OrderDate: date (nullable = true)\n",
      " |-- StockDate: date (nullable = true)\n",
      " |-- OrderNumber: string (nullable = true)\n",
      " |-- ProductKey: integer (nullable = true)\n",
      " |-- CustomerKey: integer (nullable = true)\n",
      " |-- TerritoryKey: integer (nullable = true)\n",
      " |-- OrderLineItem: integer (nullable = true)\n",
      " |-- OrderQuantity: integer (nullable = true)\n",
      " |-- Year: integer (nullable = true)\n",
      "\n"
     ]
    }
   ],
   "source": [
    "df_sales.printSchema()"
   ]
  },
  {
   "cell_type": "code",
   "execution_count": null,
   "metadata": {
    "application/vnd.databricks.v1+cell": {
     "cellMetadata": {
      "byteLimit": 2048000,
      "rowLimit": 10000
     },
     "inputWidgets": {},
     "nuid": "23d2a2a3-09ab-4ea4-8af9-c8c8767c4d88",
     "showTitle": false,
     "tableResultSettingsMap": {},
     "title": ""
    }
   },
   "outputs": [],
   "source": [
    "product_sales = df_sales.groupBy(\"ProductKey\").agg(\n",
    "    sum(\"OrderQuantity\").alias(\"TotalQuantityOrdered\")\n",
    ")"
   ]
  },
  {
   "cell_type": "code",
   "execution_count": null,
   "metadata": {
    "application/vnd.databricks.v1+cell": {
     "cellMetadata": {
      "byteLimit": 2048000,
      "rowLimit": 10000
     },
     "inputWidgets": {},
     "nuid": "98124fde-d1c5-4bb6-a8fb-2a3b1e74082e",
     "showTitle": false,
     "tableResultSettingsMap": {},
     "title": ""
    }
   },
   "outputs": [
    {
     "name": "stdout",
     "output_type": "stream",
     "text": [
      "+----------+----------+-----------+----------+-----------+------------+-------------+-------------+----+-----------------+\n",
      "| OrderDate| StockDate|OrderNumber|ProductKey|CustomerKey|TerritoryKey|OrderLineItem|OrderQuantity|Year|TotalLineQuantity|\n",
      "+----------+----------+-----------+----------+-----------+------------+-------------+-------------+----+-----------------+\n",
      "|2016-07-01|2003-03-08|    SO51176|       479|      18239|           9|            2|            1|2016|                2|\n",
      "|2016-07-01|2003-04-06|    SO51179|       529|      22430|           7|            3|            2|2016|                6|\n",
      "|2016-07-01|2003-04-27|    SO51179|       486|      22430|           7|            4|            1|2016|                4|\n",
      "|2016-07-01|2003-04-06|    SO51179|       540|      22430|           7|            2|            1|2016|                2|\n",
      "|2016-07-01|2003-04-06|    SO51185|       541|      27767|           8|            2|            3|2016|                6|\n",
      "|2016-07-01|2003-03-08|    SO51185|       530|      27767|           8|            3|            1|2016|                3|\n",
      "|2016-07-01|2003-03-04|    SO51177|       215|      27873|           9|            2|            1|2016|                2|\n",
      "|2016-07-01|2003-06-05|    SO51180|       479|      16313|           8|            2|            2|2016|                4|\n",
      "|2016-07-01|2003-04-25|    SO51180|       214|      16313|           8|            4|            1|2016|                4|\n",
      "|2016-07-01|2003-04-03|    SO51180|       229|      16313|           8|            5|            1|2016|                5|\n",
      "|2016-07-01|2003-03-13|    SO51180|       477|      16313|           8|            3|            1|2016|                3|\n",
      "|2016-07-01|2003-06-13|    SO51187|       538|      22261|           4|            2|            2|2016|                4|\n",
      "|2016-07-01|2003-06-14|    SO51181|       529|      12132|           7|            2|            2|2016|                4|\n",
      "|2016-07-01|2003-03-08|    SO51181|       214|      12132|           7|            4|            1|2016|                4|\n",
      "|2016-07-01|2003-05-25|    SO51181|       540|      12132|           7|            3|            1|2016|                3|\n",
      "|2016-07-01|2003-04-04|    SO51182|       232|      22998|           6|            2|            1|2016|                2|\n",
      "|2016-07-01|2003-03-26|    SO51178|       477|      11245|           8|            3|            2|2016|                6|\n",
      "|2016-07-01|2003-06-02|    SO51178|       478|      11245|           8|            2|            2|2016|                4|\n",
      "|2016-07-01|2003-03-15|    SO51183|       232|      20662|           1|            2|            1|2016|                2|\n",
      "|2016-07-01|2003-05-22|    SO51184|       528|      11263|           1|            3|            2|2016|                6|\n",
      "+----------+----------+-----------+----------+-----------+------------+-------------+-------------+----+-----------------+\n",
      "only showing top 20 rows\n",
      "\n"
     ]
    }
   ],
   "source": [
    "df_sales.withColumn(\"TotalLineQuantity\", col('OrderLineItem')*col('OrderQuantity')).filter(col('TotalLineQuantity') != 1).show()"
   ]
  },
  {
   "cell_type": "code",
   "execution_count": null,
   "metadata": {
    "application/vnd.databricks.v1+cell": {
     "cellMetadata": {
      "byteLimit": 2048000,
      "rowLimit": 10000
     },
     "inputWidgets": {},
     "nuid": "57d56065-e88c-429e-b8fe-53dfecb9fd4e",
     "showTitle": false,
     "tableResultSettingsMap": {},
     "title": ""
    }
   },
   "outputs": [],
   "source": [
    "df_sales = df_sales.withColumn(\"TotalLineQuantity\", col('OrderLineItem')*col('OrderQuantity'))"
   ]
  },
  {
   "cell_type": "code",
   "execution_count": null,
   "metadata": {
    "application/vnd.databricks.v1+cell": {
     "cellMetadata": {
      "byteLimit": 2048000,
      "rowLimit": 10000
     },
     "inputWidgets": {},
     "nuid": "69bdccd0-84d4-415c-b9e0-0d42d39765e0",
     "showTitle": false,
     "tableResultSettingsMap": {},
     "title": ""
    }
   },
   "outputs": [],
   "source": [
    "df_sales.write.format('parquet')\\\n",
    "                 .mode('append')\\\n",
    "                 .option('path', \"abfss://silver@awdataprojectbasit.dfs.core.windows.net/sales/\")\\\n",
    "                 .save() "
   ]
  },
  {
   "cell_type": "markdown",
   "metadata": {
    "application/vnd.databricks.v1+cell": {
     "cellMetadata": {},
     "inputWidgets": {},
     "nuid": "364ac15b-e51c-4c48-b7e0-596e816c5539",
     "showTitle": false,
     "tableResultSettingsMap": {},
     "title": ""
    }
   },
   "source": [
    "#### Sales Analysis"
   ]
  },
  {
   "cell_type": "code",
   "execution_count": null,
   "metadata": {
    "application/vnd.databricks.v1+cell": {
     "cellMetadata": {
      "byteLimit": 2048000,
      "rowLimit": 10000
     },
     "inputWidgets": {},
     "nuid": "7fbba678-30e0-4647-a4da-8e43958a3ef6",
     "showTitle": false,
     "tableResultSettingsMap": {},
     "title": ""
    }
   },
   "outputs": [
    {
     "data": {
      "text/html": [
       "<style scoped>\n",
       "  .table-result-container {\n",
       "    max-height: 300px;\n",
       "    overflow: auto;\n",
       "  }\n",
       "  table, th, td {\n",
       "    border: 1px solid black;\n",
       "    border-collapse: collapse;\n",
       "  }\n",
       "  th, td {\n",
       "    padding: 5px;\n",
       "  }\n",
       "  th {\n",
       "    text-align: left;\n",
       "  }\n",
       "</style><div class='table-result-container'><table class='table-result'><thead style='background-color: white'><tr><th>OrderDate</th><th>total_order</th></tr></thead><tbody><tr><td>2015-03-09</td><td>6</td></tr><tr><td>2015-05-19</td><td>6</td></tr><tr><td>2015-03-06</td><td>9</td></tr><tr><td>2015-04-09</td><td>5</td></tr><tr><td>2015-09-02</td><td>7</td></tr><tr><td>2015-12-22</td><td>12</td></tr><tr><td>2015-05-10</td><td>3</td></tr><tr><td>2015-09-28</td><td>2</td></tr><tr><td>2015-03-12</td><td>5</td></tr><tr><td>2015-03-16</td><td>5</td></tr><tr><td>2015-04-01</td><td>5</td></tr><tr><td>2015-04-24</td><td>3</td></tr><tr><td>2015-03-11</td><td>6</td></tr><tr><td>2015-06-15</td><td>6</td></tr><tr><td>2015-10-16</td><td>9</td></tr><tr><td>2015-11-02</td><td>4</td></tr><tr><td>2015-11-27</td><td>14</td></tr><tr><td>2015-12-31</td><td>7</td></tr><tr><td>2015-08-01</td><td>9</td></tr><tr><td>2015-04-19</td><td>4</td></tr><tr><td>2015-10-30</td><td>12</td></tr><tr><td>2015-12-29</td><td>14</td></tr><tr><td>2015-06-19</td><td>13</td></tr><tr><td>2015-10-13</td><td>13</td></tr><tr><td>2015-04-07</td><td>9</td></tr><tr><td>2015-08-24</td><td>10</td></tr><tr><td>2015-09-29</td><td>7</td></tr><tr><td>2015-01-20</td><td>6</td></tr><tr><td>2015-09-06</td><td>4</td></tr><tr><td>2015-09-21</td><td>5</td></tr><tr><td>2015-12-05</td><td>13</td></tr><tr><td>2015-04-28</td><td>7</td></tr><tr><td>2015-06-22</td><td>5</td></tr><tr><td>2015-11-21</td><td>7</td></tr><tr><td>2015-05-16</td><td>11</td></tr><tr><td>2015-12-30</td><td>7</td></tr><tr><td>2015-09-20</td><td>7</td></tr><tr><td>2015-02-25</td><td>5</td></tr><tr><td>2015-03-21</td><td>4</td></tr><tr><td>2015-09-15</td><td>4</td></tr><tr><td>2015-11-30</td><td>9</td></tr><tr><td>2015-02-03</td><td>7</td></tr><tr><td>2015-02-09</td><td>2</td></tr><tr><td>2015-02-17</td><td>4</td></tr><tr><td>2015-09-04</td><td>6</td></tr><tr><td>2015-05-25</td><td>9</td></tr><tr><td>2015-09-17</td><td>5</td></tr><tr><td>2015-02-04</td><td>7</td></tr><tr><td>2015-06-23</td><td>15</td></tr><tr><td>2015-02-07</td><td>6</td></tr><tr><td>2015-05-06</td><td>8</td></tr><tr><td>2015-02-01</td><td>5</td></tr><tr><td>2015-12-06</td><td>5</td></tr><tr><td>2015-07-21</td><td>10</td></tr><tr><td>2015-08-10</td><td>4</td></tr><tr><td>2015-09-10</td><td>9</td></tr><tr><td>2015-10-24</td><td>9</td></tr><tr><td>2015-02-10</td><td>9</td></tr><tr><td>2015-03-22</td><td>6</td></tr><tr><td>2015-04-18</td><td>7</td></tr><tr><td>2015-01-24</td><td>8</td></tr><tr><td>2015-04-08</td><td>3</td></tr><tr><td>2015-05-03</td><td>4</td></tr><tr><td>2015-09-07</td><td>2</td></tr><tr><td>2015-09-09</td><td>9</td></tr><tr><td>2015-11-15</td><td>2</td></tr><tr><td>2015-05-18</td><td>8</td></tr><tr><td>2015-06-05</td><td>6</td></tr><tr><td>2015-06-09</td><td>5</td></tr><tr><td>2015-12-17</td><td>11</td></tr><tr><td>2015-06-24</td><td>7</td></tr><tr><td>2015-07-06</td><td>10</td></tr><tr><td>2015-01-23</td><td>3</td></tr><tr><td>2015-08-21</td><td>10</td></tr><tr><td>2015-07-27</td><td>10</td></tr><tr><td>2015-05-23</td><td>7</td></tr><tr><td>2015-07-24</td><td>5</td></tr><tr><td>2015-08-02</td><td>8</td></tr><tr><td>2015-12-11</td><td>13</td></tr><tr><td>2015-04-22</td><td>4</td></tr><tr><td>2015-06-27</td><td>9</td></tr><tr><td>2015-11-17</td><td>6</td></tr><tr><td>2015-06-11</td><td>5</td></tr><tr><td>2015-11-06</td><td>8</td></tr><tr><td>2015-03-19</td><td>4</td></tr><tr><td>2015-08-17</td><td>10</td></tr><tr><td>2015-03-13</td><td>10</td></tr><tr><td>2015-05-21</td><td>6</td></tr><tr><td>2015-06-01</td><td>4</td></tr><tr><td>2015-11-08</td><td>7</td></tr><tr><td>2015-04-11</td><td>6</td></tr><tr><td>2015-11-28</td><td>6</td></tr><tr><td>2015-01-11</td><td>9</td></tr><tr><td>2015-09-16</td><td>5</td></tr><tr><td>2015-10-08</td><td>7</td></tr><tr><td>2015-10-28</td><td>6</td></tr><tr><td>2015-04-15</td><td>13</td></tr><tr><td>2015-08-08</td><td>8</td></tr><tr><td>2015-04-27</td><td>9</td></tr><tr><td>2015-04-16</td><td>7</td></tr><tr><td>2015-10-11</td><td>7</td></tr><tr><td>2015-08-19</td><td>11</td></tr><tr><td>2015-10-25</td><td>7</td></tr><tr><td>2015-11-07</td><td>5</td></tr><tr><td>2015-09-19</td><td>9</td></tr><tr><td>2015-11-25</td><td>8</td></tr><tr><td>2015-06-26</td><td>7</td></tr><tr><td>2015-07-12</td><td>7</td></tr><tr><td>2015-07-11</td><td>12</td></tr><tr><td>2015-10-12</td><td>11</td></tr><tr><td>2015-01-10</td><td>4</td></tr><tr><td>2015-01-22</td><td>9</td></tr><tr><td>2015-10-18</td><td>7</td></tr><tr><td>2015-11-22</td><td>4</td></tr><tr><td>2015-12-01</td><td>11</td></tr><tr><td>2015-03-15</td><td>10</td></tr><tr><td>2015-07-29</td><td>6</td></tr><tr><td>2015-12-08</td><td>11</td></tr><tr><td>2015-04-14</td><td>3</td></tr><tr><td>2015-01-29</td><td>4</td></tr><tr><td>2015-03-18</td><td>8</td></tr><tr><td>2015-04-29</td><td>11</td></tr><tr><td>2015-01-08</td><td>8</td></tr><tr><td>2015-01-26</td><td>4</td></tr><tr><td>2015-06-06</td><td>7</td></tr><tr><td>2015-03-01</td><td>6</td></tr><tr><td>2015-08-06</td><td>12</td></tr><tr><td>2015-12-12</td><td>17</td></tr><tr><td>2015-08-31</td><td>12</td></tr><tr><td>2015-07-10</td><td>7</td></tr><tr><td>2015-01-17</td><td>8</td></tr><tr><td>2015-07-18</td><td>7</td></tr><tr><td>2015-12-02</td><td>9</td></tr><tr><td>2015-04-20</td><td>11</td></tr><tr><td>2015-10-20</td><td>9</td></tr><tr><td>2015-12-26</td><td>8</td></tr><tr><td>2015-12-27</td><td>9</td></tr><tr><td>2015-05-09</td><td>6</td></tr><tr><td>2015-01-15</td><td>7</td></tr><tr><td>2015-07-15</td><td>4</td></tr><tr><td>2015-12-15</td><td>5</td></tr><tr><td>2015-01-25</td><td>4</td></tr><tr><td>2015-05-29</td><td>1</td></tr><tr><td>2015-11-04</td><td>1</td></tr><tr><td>2015-11-26</td><td>6</td></tr><tr><td>2015-12-04</td><td>3</td></tr><tr><td>2015-12-23</td><td>12</td></tr><tr><td>2015-02-11</td><td>12</td></tr><tr><td>2015-12-07</td><td>17</td></tr><tr><td>2015-01-14</td><td>9</td></tr><tr><td>2015-12-10</td><td>9</td></tr><tr><td>2015-05-11</td><td>4</td></tr><tr><td>2015-02-28</td><td>5</td></tr><tr><td>2015-03-05</td><td>3</td></tr><tr><td>2015-03-28</td><td>8</td></tr><tr><td>2015-10-07</td><td>6</td></tr><tr><td>2015-07-30</td><td>10</td></tr><tr><td>2015-04-23</td><td>10</td></tr><tr><td>2015-07-13</td><td>12</td></tr><tr><td>2015-08-30</td><td>8</td></tr><tr><td>2015-05-05</td><td>3</td></tr><tr><td>2015-09-22</td><td>5</td></tr><tr><td>2015-10-14</td><td>6</td></tr><tr><td>2015-02-20</td><td>5</td></tr><tr><td>2015-06-20</td><td>7</td></tr><tr><td>2015-07-01</td><td>8</td></tr><tr><td>2015-10-03</td><td>7</td></tr><tr><td>2015-12-24</td><td>12</td></tr><tr><td>2015-01-30</td><td>10</td></tr><tr><td>2015-02-14</td><td>8</td></tr><tr><td>2015-04-02</td><td>3</td></tr><tr><td>2015-06-25</td><td>4</td></tr><tr><td>2015-04-25</td><td>8</td></tr><tr><td>2015-07-08</td><td>6</td></tr><tr><td>2015-12-25</td><td>8</td></tr><tr><td>2015-05-14</td><td>6</td></tr><tr><td>2015-08-14</td><td>10</td></tr><tr><td>2015-01-03</td><td>8</td></tr><tr><td>2015-01-06</td><td>6</td></tr><tr><td>2015-10-27</td><td>3</td></tr><tr><td>2015-12-19</td><td>14</td></tr><tr><td>2015-03-24</td><td>12</td></tr><tr><td>2015-04-13</td><td>4</td></tr><tr><td>2015-02-24</td><td>9</td></tr><tr><td>2015-05-22</td><td>5</td></tr><tr><td>2015-07-17</td><td>11</td></tr><tr><td>2015-07-31</td><td>9</td></tr><tr><td>2015-09-03</td><td>8</td></tr><tr><td>2015-08-16</td><td>5</td></tr><tr><td>2015-09-12</td><td>7</td></tr><tr><td>2015-11-11</td><td>11</td></tr><tr><td>2015-04-06</td><td>5</td></tr><tr><td>2015-05-13</td><td>13</td></tr><tr><td>2015-09-05</td><td>3</td></tr><tr><td>2015-10-26</td><td>9</td></tr><tr><td>2015-06-17</td><td>6</td></tr><tr><td>2015-08-03</td><td>5</td></tr><tr><td>2015-08-20</td><td>12</td></tr><tr><td>2015-09-23</td><td>7</td></tr><tr><td>2015-03-02</td><td>7</td></tr><tr><td>2015-08-27</td><td>11</td></tr><tr><td>2015-09-14</td><td>9</td></tr><tr><td>2015-12-20</td><td>14</td></tr><tr><td>2015-08-22</td><td>10</td></tr><tr><td>2015-10-17</td><td>6</td></tr><tr><td>2015-04-03</td><td>9</td></tr><tr><td>2015-09-26</td><td>10</td></tr><tr><td>2015-10-21</td><td>9</td></tr><tr><td>2015-11-19</td><td>4</td></tr><tr><td>2015-10-01</td><td>8</td></tr><tr><td>2015-10-02</td><td>8</td></tr><tr><td>2015-05-12</td><td>8</td></tr><tr><td>2015-07-23</td><td>7</td></tr><tr><td>2015-05-02</td><td>5</td></tr><tr><td>2015-07-20</td><td>9</td></tr><tr><td>2015-12-14</td><td>16</td></tr><tr><td>2015-03-04</td><td>8</td></tr><tr><td>2015-03-23</td><td>5</td></tr><tr><td>2015-04-17</td><td>9</td></tr><tr><td>2015-08-09</td><td>8</td></tr><tr><td>2015-10-19</td><td>10</td></tr><tr><td>2015-12-09</td><td>7</td></tr><tr><td>2015-02-23</td><td>5</td></tr><tr><td>2015-03-14</td><td>4</td></tr><tr><td>2015-11-03</td><td>6</td></tr><tr><td>2015-06-04</td><td>6</td></tr><tr><td>2015-02-27</td><td>3</td></tr><tr><td>2015-07-28</td><td>5</td></tr><tr><td>2015-06-28</td><td>5</td></tr><tr><td>2015-02-13</td><td>6</td></tr><tr><td>2015-03-17</td><td>9</td></tr><tr><td>2015-04-12</td><td>11</td></tr><tr><td>2015-10-09</td><td>3</td></tr><tr><td>2015-06-03</td><td>3</td></tr><tr><td>2015-02-26</td><td>11</td></tr><tr><td>2015-06-07</td><td>8</td></tr><tr><td>2015-07-22</td><td>7</td></tr><tr><td>2015-09-24</td><td>9</td></tr><tr><td>2015-11-20</td><td>9</td></tr><tr><td>2015-03-26</td><td>9</td></tr><tr><td>2015-10-22</td><td>7</td></tr><tr><td>2015-05-24</td><td>8</td></tr><tr><td>2015-01-05</td><td>3</td></tr><tr><td>2015-06-21</td><td>9</td></tr><tr><td>2015-07-04</td><td>9</td></tr><tr><td>2015-07-26</td><td>5</td></tr><tr><td>2015-12-16</td><td>11</td></tr><tr><td>2015-05-28</td><td>5</td></tr><tr><td>2015-08-26</td><td>13</td></tr><tr><td>2015-02-19</td><td>5</td></tr><tr><td>2015-08-12</td><td>9</td></tr><tr><td>2015-02-02</td><td>6</td></tr><tr><td>2015-01-04</td><td>5</td></tr><tr><td>2015-09-13</td><td>11</td></tr><tr><td>2015-11-10</td><td>7</td></tr><tr><td>2015-04-26</td><td>4</td></tr><tr><td>2015-02-06</td><td>10</td></tr><tr><td>2015-09-30</td><td>9</td></tr><tr><td>2015-04-30</td><td>13</td></tr><tr><td>2015-10-29</td><td>6</td></tr><tr><td>2015-01-16</td><td>7</td></tr><tr><td>2015-03-20</td><td>9</td></tr><tr><td>2015-05-31</td><td>3</td></tr><tr><td>2015-07-09</td><td>5</td></tr><tr><td>2015-08-13</td><td>12</td></tr><tr><td>2015-02-15</td><td>6</td></tr><tr><td>2015-09-01</td><td>2</td></tr><tr><td>2015-09-27</td><td>3</td></tr><tr><td>2015-10-04</td><td>6</td></tr><tr><td>2015-10-31</td><td>5</td></tr><tr><td>2015-01-19</td><td>6</td></tr><tr><td>2015-11-13</td><td>4</td></tr><tr><td>2015-03-08</td><td>4</td></tr><tr><td>2015-09-08</td><td>9</td></tr><tr><td>2015-04-21</td><td>5</td></tr><tr><td>2015-06-30</td><td>6</td></tr><tr><td>2015-07-02</td><td>3</td></tr><tr><td>2015-08-07</td><td>11</td></tr><tr><td>2015-02-05</td><td>6</td></tr><tr><td>2015-02-16</td><td>3</td></tr><tr><td>2015-05-01</td><td>12</td></tr><tr><td>2015-07-16</td><td>6</td></tr><tr><td>2015-01-02</td><td>4</td></tr><tr><td>2015-01-21</td><td>7</td></tr><tr><td>2015-04-10</td><td>5</td></tr><tr><td>2015-10-23</td><td>7</td></tr><tr><td>2015-02-18</td><td>2</td></tr><tr><td>2015-06-13</td><td>4</td></tr><tr><td>2015-12-13</td><td>12</td></tr><tr><td>2015-01-13</td><td>3</td></tr><tr><td>2015-01-12</td><td>7</td></tr><tr><td>2015-11-29</td><td>6</td></tr><tr><td>2015-03-07</td><td>9</td></tr><tr><td>2015-07-19</td><td>7</td></tr><tr><td>2015-11-18</td><td>7</td></tr><tr><td>2015-05-26</td><td>5</td></tr><tr><td>2015-08-11</td><td>5</td></tr><tr><td>2015-12-21</td><td>3</td></tr><tr><td>2015-12-03</td><td>16</td></tr><tr><td>2015-06-12</td><td>12</td></tr><tr><td>2015-03-10</td><td>2</td></tr><tr><td>2015-07-25</td><td>9</td></tr><tr><td>2015-05-15</td><td>7</td></tr><tr><td>2015-10-05</td><td>3</td></tr><tr><td>2015-03-27</td><td>3</td></tr><tr><td>2015-05-04</td><td>11</td></tr><tr><td>2015-11-24</td><td>10</td></tr><tr><td>2015-07-14</td><td>9</td></tr><tr><td>2015-10-10</td><td>4</td></tr><tr><td>2015-02-12</td><td>3</td></tr><tr><td>2015-07-03</td><td>13</td></tr><tr><td>2015-09-11</td><td>8</td></tr><tr><td>2015-12-28</td><td>10</td></tr><tr><td>2015-02-22</td><td>10</td></tr><tr><td>2015-05-20</td><td>6</td></tr><tr><td>2015-08-04</td><td>8</td></tr><tr><td>2015-01-28</td><td>5</td></tr><tr><td>2015-03-31</td><td>4</td></tr><tr><td>2015-05-27</td><td>5</td></tr><tr><td>2015-08-05</td><td>7</td></tr><tr><td>2015-08-25</td><td>11</td></tr><tr><td>2015-06-14</td><td>4</td></tr><tr><td>2015-01-01</td><td>4</td></tr><tr><td>2015-02-21</td><td>1</td></tr><tr><td>2015-03-25</td><td>5</td></tr><tr><td>2015-01-18</td><td>6</td></tr><tr><td>2015-03-30</td><td>4</td></tr><tr><td>2015-07-05</td><td>10</td></tr><tr><td>2015-11-09</td><td>4</td></tr><tr><td>2015-03-29</td><td>6</td></tr><tr><td>2015-08-18</td><td>8</td></tr><tr><td>2015-01-09</td><td>4</td></tr><tr><td>2015-08-28</td><td>8</td></tr><tr><td>2015-01-27</td><td>5</td></tr><tr><td>2015-02-08</td><td>4</td></tr><tr><td>2015-05-08</td><td>10</td></tr><tr><td>2015-06-08</td><td>8</td></tr><tr><td>2015-12-18</td><td>10</td></tr><tr><td>2015-04-05</td><td>4</td></tr><tr><td>2015-06-16</td><td>2</td></tr><tr><td>2015-08-29</td><td>6</td></tr><tr><td>2015-08-23</td><td>5</td></tr><tr><td>2015-06-29</td><td>8</td></tr><tr><td>2015-11-01</td><td>6</td></tr><tr><td>2015-04-04</td><td>7</td></tr><tr><td>2015-06-02</td><td>12</td></tr><tr><td>2015-09-18</td><td>9</td></tr><tr><td>2015-10-15</td><td>6</td></tr><tr><td>2015-01-07</td><td>4</td></tr><tr><td>2015-03-03</td><td>8</td></tr><tr><td>2015-05-30</td><td>7</td></tr><tr><td>2015-09-25</td><td>6</td></tr><tr><td>2015-11-23</td><td>5</td></tr><tr><td>2015-05-07</td><td>5</td></tr><tr><td>2015-11-12</td><td>6</td></tr><tr><td>2015-11-14</td><td>5</td></tr><tr><td>2015-11-16</td><td>8</td></tr><tr><td>2015-06-18</td><td>11</td></tr><tr><td>2015-07-07</td><td>9</td></tr><tr><td>2015-01-31</td><td>7</td></tr><tr><td>2015-08-15</td><td>12</td></tr><tr><td>2015-10-06</td><td>7</td></tr><tr><td>2015-11-05</td><td>6</td></tr><tr><td>2015-05-17</td><td>9</td></tr><tr><td>2015-06-10</td><td>8</td></tr><tr><td>2016-03-01</td><td>8</td></tr><tr><td>2016-04-25</td><td>15</td></tr><tr><td>2016-05-03</td><td>15</td></tr><tr><td>2016-07-26</td><td>44</td></tr><tr><td>2016-08-15</td><td>93</td></tr><tr><td>2016-08-31</td><td>126</td></tr><tr><td>2016-10-03</td><td>130</td></tr><tr><td>2016-01-28</td><td>5</td></tr><tr><td>2016-07-17</td><td>39</td></tr><tr><td>2016-11-08</td><td>101</td></tr><tr><td>2016-12-19</td><td>169</td></tr><tr><td>2016-07-03</td><td>64</td></tr><tr><td>2016-08-23</td><td>89</td></tr><tr><td>2016-02-04</td><td>17</td></tr><tr><td>2016-05-26</td><td>10</td></tr><tr><td>2016-06-02</td><td>13</td></tr><tr><td>2016-01-13</td><td>12</td></tr><tr><td>2016-09-23</td><td>149</td></tr><tr><td>2016-01-01</td><td>8</td></tr><tr><td>2016-04-22</td><td>6</td></tr><tr><td>2016-06-16</td><td>7</td></tr><tr><td>2016-09-30</td><td>126</td></tr><tr><td>2016-01-19</td><td>5</td></tr><tr><td>2016-05-09</td><td>8</td></tr><tr><td>2016-07-19</td><td>37</td></tr><tr><td>2016-09-15</td><td>128</td></tr><tr><td>2016-02-08</td><td>11</td></tr><tr><td>2016-10-07</td><td>118</td></tr><tr><td>2016-12-12</td><td>188</td></tr><tr><td>2016-05-23</td><td>12</td></tr><tr><td>2016-09-26</td><td>114</td></tr><tr><td>2016-12-13</td><td>189</td></tr><tr><td>2016-02-03</td><td>9</td></tr><tr><td>2016-03-25</td><td>4</td></tr><tr><td>2016-08-26</td><td>122</td></tr><tr><td>2016-08-01</td><td>105</td></tr><tr><td>2016-09-09</td><td>153</td></tr><tr><td>2016-06-17</td><td>9</td></tr><tr><td>2016-09-27</td><td>145</td></tr><tr><td>2016-08-16</td><td>132</td></tr><tr><td>2016-10-23</td><td>142</td></tr><tr><td>2016-04-30</td><td>11</td></tr><tr><td>2016-07-21</td><td>21</td></tr><tr><td>2016-05-27</td><td>10</td></tr><tr><td>2016-07-02</td><td>37</td></tr><tr><td>2016-08-06</td><td>106</td></tr><tr><td>2016-10-20</td><td>126</td></tr><tr><td>2016-05-07</td><td>9</td></tr><tr><td>2016-04-26</td><td>9</td></tr><tr><td>2016-05-13</td><td>9</td></tr><tr><td>2016-05-31</td><td>16</td></tr><tr><td>2016-08-05</td><td>90</td></tr><tr><td>2016-02-22</td><td>11</td></tr><tr><td>2016-10-24</td><td>101</td></tr><tr><td>2016-10-27</td><td>102</td></tr><tr><td>2016-11-14</td><td>152</td></tr><tr><td>2016-03-22</td><td>7</td></tr><tr><td>2016-08-20</td><td>99</td></tr><tr><td>2016-09-05</td><td>112</td></tr><tr><td>2016-05-21</td><td>10</td></tr><tr><td>2016-12-15</td><td>194</td></tr><tr><td>2016-05-11</td><td>11</td></tr><tr><td>2016-11-24</td><td>182</td></tr><tr><td>2016-06-22</td><td>6</td></tr><tr><td>2016-11-25</td><td>104</td></tr><tr><td>2016-11-30</td><td>152</td></tr><tr><td>2016-05-28</td><td>12</td></tr><tr><td>2016-06-19</td><td>13</td></tr><tr><td>2016-03-11</td><td>8</td></tr><tr><td>2016-03-27</td><td>3</td></tr><tr><td>2016-06-08</td><td>17</td></tr><tr><td>2016-11-19</td><td>148</td></tr><tr><td>2016-12-20</td><td>156</td></tr><tr><td>2016-12-21</td><td>157</td></tr><tr><td>2016-06-15</td><td>14</td></tr><tr><td>2016-07-31</td><td>46</td></tr><tr><td>2016-08-03</td><td>126</td></tr><tr><td>2016-04-04</td><td>12</td></tr><tr><td>2016-06-13</td><td>9</td></tr><tr><td>2016-01-11</td><td>7</td></tr><tr><td>2016-12-22</td><td>103</td></tr><tr><td>2016-03-14</td><td>9</td></tr><tr><td>2016-04-16</td><td>7</td></tr><tr><td>2016-04-18</td><td>11</td></tr><tr><td>2016-08-12</td><td>148</td></tr><tr><td>2016-09-22</td><td>126</td></tr><tr><td>2016-10-17</td><td>120</td></tr><tr><td>2016-08-19</td><td>149</td></tr><tr><td>2016-04-11</td><td>12</td></tr><tr><td>2016-09-14</td><td>129</td></tr><tr><td>2016-06-29</td><td>7</td></tr><tr><td>2016-03-03</td><td>6</td></tr><tr><td>2016-01-05</td><td>7</td></tr><tr><td>2016-01-06</td><td>2</td></tr><tr><td>2016-06-27</td><td>13</td></tr><tr><td>2016-04-29</td><td>7</td></tr><tr><td>2016-08-10</td><td>88</td></tr><tr><td>2016-10-30</td><td>121</td></tr><tr><td>2016-01-20</td><td>7</td></tr><tr><td>2016-05-05</td><td>14</td></tr><tr><td>2016-02-11</td><td>4</td></tr><tr><td>2016-04-19</td><td>7</td></tr><tr><td>2016-09-12</td><td>162</td></tr><tr><td>2016-10-06</td><td>185</td></tr><tr><td>2016-02-09</td><td>10</td></tr><tr><td>2016-04-14</td><td>7</td></tr><tr><td>2016-01-29</td><td>8</td></tr><tr><td>2016-01-26</td><td>9</td></tr><tr><td>2016-08-13</td><td>129</td></tr><tr><td>2016-11-15</td><td>147</td></tr><tr><td>2016-02-15</td><td>11</td></tr><tr><td>2016-09-18</td><td>148</td></tr><tr><td>2016-12-03</td><td>178</td></tr><tr><td>2016-03-20</td><td>11</td></tr><tr><td>2016-07-13</td><td>44</td></tr><tr><td>2016-09-08</td><td>139</td></tr><tr><td>2016-10-21</td><td>125</td></tr><tr><td>2016-05-08</td><td>15</td></tr><tr><td>2016-09-01</td><td>83</td></tr><tr><td>2016-02-25</td><td>15</td></tr><tr><td>2016-03-16</td><td>7</td></tr><tr><td>2016-04-08</td><td>13</td></tr><tr><td>2016-12-25</td><td>163</td></tr><tr><td>2016-11-21</td><td>147</td></tr><tr><td>2016-12-31</td><td>195</td></tr><tr><td>2016-09-25</td><td>100</td></tr><tr><td>2016-03-19</td><td>11</td></tr><tr><td>2016-08-30</td><td>131</td></tr><tr><td>2016-10-29</td><td>109</td></tr><tr><td>2016-04-02</td><td>13</td></tr><tr><td>2016-08-07</td><td>140</td></tr><tr><td>2016-11-06</td><td>125</td></tr><tr><td>2016-10-26</td><td>154</td></tr><tr><td>2016-03-31</td><td>10</td></tr><tr><td>2016-09-02</td><td>140</td></tr><tr><td>2016-02-18</td><td>13</td></tr><tr><td>2016-07-10</td><td>34</td></tr><tr><td>2016-07-16</td><td>40</td></tr><tr><td>2016-12-30</td><td>158</td></tr><tr><td>2016-05-12</td><td>13</td></tr><tr><td>2016-12-17</td><td>165</td></tr><tr><td>2016-07-24</td><td>85</td></tr><tr><td>2016-02-28</td><td>8</td></tr><tr><td>2016-12-02</td><td>172</td></tr><tr><td>2016-01-24</td><td>7</td></tr><tr><td>2016-08-27</td><td>112</td></tr><tr><td>2016-10-09</td><td>142</td></tr><tr><td>2016-05-01</td><td>13</td></tr><tr><td>2016-08-18</td><td>137</td></tr><tr><td>2016-11-07</td><td>153</td></tr><tr><td>2016-12-18</td><td>182</td></tr><tr><td>2016-02-12</td><td>10</td></tr><tr><td>2016-04-20</td><td>9</td></tr><tr><td>2016-09-16</td><td>102</td></tr><tr><td>2016-11-04</td><td>136</td></tr><tr><td>2016-12-29</td><td>181</td></tr><tr><td>2016-03-02</td><td>10</td></tr><tr><td>2016-08-04</td><td>99</td></tr><tr><td>2016-12-27</td><td>131</td></tr><tr><td>2016-06-05</td><td>7</td></tr><tr><td>2016-06-14</td><td>11</td></tr><tr><td>2016-12-05</td><td>167</td></tr><tr><td>2016-04-13</td><td>18</td></tr><tr><td>2016-09-13</td><td>168</td></tr><tr><td>2016-10-14</td><td>143</td></tr><tr><td>2016-04-09</td><td>10</td></tr><tr><td>2016-07-29</td><td>64</td></tr><tr><td>2016-08-21</td><td>115</td></tr><tr><td>2016-08-22</td><td>62</td></tr><tr><td>2016-09-24</td><td>107</td></tr><tr><td>2016-05-02</td><td>11</td></tr><tr><td>2016-07-08</td><td>38</td></tr><tr><td>2016-08-29</td><td>147</td></tr><tr><td>2016-01-03</td><td>7</td></tr><tr><td>2016-07-04</td><td>58</td></tr><tr><td>2016-10-11</td><td>117</td></tr><tr><td>2016-03-24</td><td>5</td></tr><tr><td>2016-08-14</td><td>128</td></tr><tr><td>2016-11-23</td><td>116</td></tr><tr><td>2016-07-12</td><td>47</td></tr><tr><td>2016-12-11</td><td>178</td></tr><tr><td>2016-01-21</td><td>7</td></tr><tr><td>2016-04-17</td><td>16</td></tr><tr><td>2016-07-30</td><td>31</td></tr><tr><td>2016-03-04</td><td>6</td></tr><tr><td>2016-08-08</td><td>180</td></tr><tr><td>2016-01-27</td><td>3</td></tr><tr><td>2016-11-18</td><td>161</td></tr><tr><td>2016-04-01</td><td>11</td></tr><tr><td>2016-07-14</td><td>39</td></tr><tr><td>2016-11-01</td><td>119</td></tr><tr><td>2016-01-14</td><td>6</td></tr><tr><td>2016-06-18</td><td>8</td></tr><tr><td>2016-08-09</td><td>124</td></tr><tr><td>2016-03-21</td><td>5</td></tr><tr><td>2016-05-15</td><td>8</td></tr><tr><td>2016-06-10</td><td>14</td></tr><tr><td>2016-10-12</td><td>121</td></tr><tr><td>2016-02-19</td><td>10</td></tr><tr><td>2016-02-21</td><td>13</td></tr><tr><td>2016-03-26</td><td>8</td></tr><tr><td>2016-04-07</td><td>11</td></tr><tr><td>2016-11-28</td><td>153</td></tr><tr><td>2016-05-16</td><td>8</td></tr><tr><td>2016-11-17</td><td>139</td></tr><tr><td>2016-09-03</td><td>115</td></tr><tr><td>2016-10-16</td><td>89</td></tr><tr><td>2016-05-14</td><td>12</td></tr><tr><td>2016-06-23</td><td>9</td></tr><tr><td>2016-10-22</td><td>161</td></tr><tr><td>2016-08-02</td><td>104</td></tr><tr><td>2016-12-04</td><td>166</td></tr><tr><td>2016-02-13</td><td>10</td></tr><tr><td>2016-04-12</td><td>7</td></tr><tr><td>2016-07-27</td><td>40</td></tr><tr><td>2016-02-26</td><td>7</td></tr><tr><td>2016-05-10</td><td>6</td></tr><tr><td>2016-09-17</td><td>129</td></tr><tr><td>2016-05-17</td><td>8</td></tr><tr><td>2016-11-27</td><td>152</td></tr><tr><td>2016-04-03</td><td>5</td></tr><tr><td>2016-10-13</td><td>118</td></tr><tr><td>2016-02-02</td><td>10</td></tr><tr><td>2016-11-26</td><td>136</td></tr><tr><td>2016-12-06</td><td>193</td></tr><tr><td>2016-03-10</td><td>5</td></tr><tr><td>2016-06-24</td><td>10</td></tr><tr><td>2016-11-02</td><td>126</td></tr><tr><td>2016-12-14</td><td>150</td></tr><tr><td>2016-02-07</td><td>8</td></tr><tr><td>2016-09-19</td><td>170</td></tr><tr><td>2016-08-11</td><td>91</td></tr><tr><td>2016-10-10</td><td>129</td></tr><tr><td>2016-01-17</td><td>7</td></tr><tr><td>2016-10-19</td><td>112</td></tr><tr><td>2016-01-12</td><td>7</td></tr><tr><td>2016-06-09</td><td>6</td></tr><tr><td>2016-07-11</td><td>69</td></tr><tr><td>2016-11-10</td><td>140</td></tr><tr><td>2016-01-08</td><td>10</td></tr><tr><td>2016-05-04</td><td>9</td></tr><tr><td>2016-02-17</td><td>12</td></tr><tr><td>2016-02-23</td><td>3</td></tr><tr><td>2016-07-18</td><td>21</td></tr><tr><td>2016-11-05</td><td>119</td></tr><tr><td>2016-12-10</td><td>122</td></tr><tr><td>2016-09-10</td><td>118</td></tr><tr><td>2016-03-28</td><td>13</td></tr><tr><td>2016-05-30</td><td>15</td></tr><tr><td>2016-11-29</td><td>160</td></tr><tr><td>2016-04-15</td><td>9</td></tr><tr><td>2016-04-28</td><td>8</td></tr><tr><td>2016-12-09</td><td>148</td></tr><tr><td>2016-01-30</td><td>6</td></tr><tr><td>2016-03-15</td><td>5</td></tr><tr><td>2016-04-24</td><td>14</td></tr><tr><td>2016-04-23</td><td>6</td></tr><tr><td>2016-03-08</td><td>14</td></tr><tr><td>2016-06-26</td><td>8</td></tr><tr><td>2016-12-16</td><td>130</td></tr><tr><td>2016-03-06</td><td>6</td></tr><tr><td>2016-05-19</td><td>7</td></tr><tr><td>2016-07-07</td><td>45</td></tr><tr><td>2016-01-22</td><td>10</td></tr><tr><td>2016-02-10</td><td>5</td></tr><tr><td>2016-02-24</td><td>11</td></tr><tr><td>2016-07-01</td><td>35</td></tr><tr><td>2016-07-23</td><td>34</td></tr><tr><td>2016-01-02</td><td>12</td></tr><tr><td>2016-09-06</td><td>106</td></tr><tr><td>2016-01-31</td><td>8</td></tr><tr><td>2016-03-17</td><td>8</td></tr><tr><td>2016-04-05</td><td>10</td></tr><tr><td>2016-08-17</td><td>124</td></tr><tr><td>2016-02-05</td><td>8</td></tr><tr><td>2016-06-21</td><td>15</td></tr><tr><td>2016-08-24</td><td>166</td></tr><tr><td>2016-09-21</td><td>133</td></tr><tr><td>2016-10-08</td><td>180</td></tr><tr><td>2016-04-06</td><td>5</td></tr><tr><td>2016-05-24</td><td>15</td></tr><tr><td>2016-03-30</td><td>10</td></tr><tr><td>2016-10-28</td><td>119</td></tr><tr><td>2016-12-08</td><td>162</td></tr><tr><td>2016-06-03</td><td>8</td></tr><tr><td>2016-06-30</td><td>10</td></tr><tr><td>2016-07-06</td><td>24</td></tr><tr><td>2016-07-20</td><td>72</td></tr><tr><td>2016-03-13</td><td>6</td></tr><tr><td>2016-03-05</td><td>17</td></tr><tr><td>2016-03-07</td><td>9</td></tr><tr><td>2016-06-28</td><td>13</td></tr><tr><td>2016-12-24</td><td>170</td></tr><tr><td>2016-01-23</td><td>14</td></tr><tr><td>2016-10-05</td><td>148</td></tr><tr><td>2016-02-06</td><td>14</td></tr><tr><td>2016-03-12</td><td>19</td></tr><tr><td>2016-01-04</td><td>8</td></tr><tr><td>2016-05-20</td><td>9</td></tr><tr><td>2016-06-12</td><td>11</td></tr><tr><td>2016-07-05</td><td>39</td></tr><tr><td>2016-10-31</td><td>118</td></tr><tr><td>2016-11-13</td><td>136</td></tr><tr><td>2016-12-28</td><td>161</td></tr><tr><td>2016-02-14</td><td>10</td></tr><tr><td>2016-05-29</td><td>8</td></tr><tr><td>2016-11-12</td><td>132</td></tr><tr><td>2016-06-11</td><td>10</td></tr><tr><td>2016-09-28</td><td>121</td></tr><tr><td>2016-05-25</td><td>7</td></tr><tr><td>2016-01-15</td><td>10</td></tr><tr><td>2016-01-25</td><td>4</td></tr><tr><td>2016-12-01</td><td>167</td></tr><tr><td>2016-02-20</td><td>10</td></tr><tr><td>2016-06-25</td><td>9</td></tr><tr><td>2016-10-04</td><td>112</td></tr><tr><td>2016-02-01</td><td>10</td></tr><tr><td>2016-11-20</td><td>87</td></tr><tr><td>2016-01-16</td><td>11</td></tr><tr><td>2016-07-22</td><td>45</td></tr><tr><td>2016-11-11</td><td>85</td></tr><tr><td>2016-04-21</td><td>5</td></tr><tr><td>2016-08-25</td><td>152</td></tr><tr><td>2016-01-10</td><td>10</td></tr><tr><td>2016-03-09</td><td>5</td></tr><tr><td>2016-01-18</td><td>7</td></tr><tr><td>2016-05-22</td><td>12</td></tr><tr><td>2016-07-28</td><td>39</td></tr><tr><td>2016-09-20</td><td>136</td></tr><tr><td>2016-09-29</td><td>81</td></tr><tr><td>2016-02-16</td><td>4</td></tr><tr><td>2016-02-27</td><td>3</td></tr><tr><td>2016-01-07</td><td>9</td></tr><tr><td>2016-10-18</td><td>140</td></tr><tr><td>2016-10-25</td><td>124</td></tr><tr><td>2016-01-09</td><td>9</td></tr><tr><td>2016-04-10</td><td>6</td></tr><tr><td>2016-09-07</td><td>137</td></tr><tr><td>2016-10-01</td><td>127</td></tr><tr><td>2016-12-23</td><td>159</td></tr><tr><td>2016-05-18</td><td>2</td></tr><tr><td>2016-06-01</td><td>15</td></tr><tr><td>2016-06-04</td><td>8</td></tr><tr><td>2016-06-20</td><td>10</td></tr><tr><td>2016-09-04</td><td>136</td></tr><tr><td>2016-10-15</td><td>158</td></tr><tr><td>2016-12-26</td><td>175</td></tr><tr><td>2016-04-27</td><td>10</td></tr><tr><td>2016-07-25</td><td>39</td></tr><tr><td>2016-11-03</td><td>172</td></tr><tr><td>2016-05-06</td><td>15</td></tr><tr><td>2016-06-07</td><td>11</td></tr><tr><td>2016-08-28</td><td>122</td></tr><tr><td>2016-09-11</td><td>87</td></tr><tr><td>2016-03-18</td><td>15</td></tr><tr><td>2016-12-07</td><td>237</td></tr><tr><td>2016-07-09</td><td>58</td></tr><tr><td>2016-11-09</td><td>125</td></tr><tr><td>2016-03-29</td><td>10</td></tr><tr><td>2016-03-23</td><td>6</td></tr><tr><td>2016-06-06</td><td>11</td></tr><tr><td>2016-07-15</td><td>59</td></tr><tr><td>2016-11-22</td><td>170</td></tr><tr><td>2016-10-02</td><td>157</td></tr><tr><td>2016-11-16</td><td>117</td></tr><tr><td>2017-01-06</td><td>151</td></tr><tr><td>2017-01-27</td><td>142</td></tr><tr><td>2017-02-26</td><td>119</td></tr><tr><td>2017-01-24</td><td>173</td></tr><tr><td>2017-06-29</td><td>172</td></tr><tr><td>2017-02-16</td><td>124</td></tr><tr><td>2017-04-09</td><td>140</td></tr><tr><td>2017-02-28</td><td>162</td></tr><tr><td>2017-03-28</td><td>149</td></tr><tr><td>2017-06-30</td><td>136</td></tr><tr><td>2017-01-30</td><td>145</td></tr><tr><td>2017-05-11</td><td>164</td></tr><tr><td>2017-02-10</td><td>168</td></tr><tr><td>2017-04-25</td><td>176</td></tr><tr><td>2017-03-19</td><td>152</td></tr><tr><td>2017-05-26</td><td>175</td></tr><tr><td>2017-01-04</td><td>138</td></tr><tr><td>2017-06-28</td><td>215</td></tr><tr><td>2017-04-03</td><td>246</td></tr><tr><td>2017-06-14</td><td>258</td></tr><tr><td>2017-04-29</td><td>163</td></tr><tr><td>2017-02-07</td><td>161</td></tr><tr><td>2017-01-10</td><td>192</td></tr><tr><td>2017-03-17</td><td>138</td></tr><tr><td>2017-05-10</td><td>150</td></tr><tr><td>2017-01-21</td><td>131</td></tr><tr><td>2017-05-09</td><td>191</td></tr><tr><td>2017-04-07</td><td>160</td></tr><tr><td>2017-06-08</td><td>171</td></tr><tr><td>2017-01-05</td><td>141</td></tr><tr><td>2017-06-01</td><td>122</td></tr><tr><td>2017-04-02</td><td>168</td></tr><tr><td>2017-06-09</td><td>182</td></tr><tr><td>2017-04-11</td><td>137</td></tr><tr><td>2017-04-12</td><td>156</td></tr><tr><td>2017-01-13</td><td>123</td></tr><tr><td>2017-02-08</td><td>164</td></tr><tr><td>2017-03-13</td><td>191</td></tr><tr><td>2017-04-05</td><td>122</td></tr><tr><td>2017-04-20</td><td>165</td></tr><tr><td>2017-06-15</td><td>195</td></tr><tr><td>2017-02-25</td><td>103</td></tr><tr><td>2017-05-21</td><td>185</td></tr><tr><td>2017-03-16</td><td>107</td></tr><tr><td>2017-04-27</td><td>176</td></tr><tr><td>2017-05-27</td><td>148</td></tr><tr><td>2017-02-01</td><td>179</td></tr><tr><td>2017-01-26</td><td>156</td></tr><tr><td>2017-01-01</td><td>98</td></tr><tr><td>2017-06-19</td><td>194</td></tr><tr><td>2017-04-18</td><td>186</td></tr><tr><td>2017-01-20</td><td>195</td></tr><tr><td>2017-06-13</td><td>151</td></tr><tr><td>2017-06-25</td><td>189</td></tr><tr><td>2017-03-05</td><td>146</td></tr><tr><td>2017-03-21</td><td>177</td></tr><tr><td>2017-06-07</td><td>222</td></tr><tr><td>2017-06-02</td><td>137</td></tr><tr><td>2017-03-24</td><td>158</td></tr><tr><td>2017-04-30</td><td>169</td></tr><tr><td>2017-01-11</td><td>162</td></tr><tr><td>2017-02-12</td><td>163</td></tr><tr><td>2017-01-17</td><td>123</td></tr><tr><td>2017-02-24</td><td>152</td></tr><tr><td>2017-06-18</td><td>163</td></tr><tr><td>2017-05-28</td><td>170</td></tr><tr><td>2017-05-05</td><td>204</td></tr><tr><td>2017-05-19</td><td>171</td></tr><tr><td>2017-03-20</td><td>163</td></tr><tr><td>2017-04-15</td><td>181</td></tr><tr><td>2017-06-06</td><td>216</td></tr><tr><td>2017-01-19</td><td>131</td></tr><tr><td>2017-01-25</td><td>121</td></tr><tr><td>2017-04-26</td><td>153</td></tr><tr><td>2017-02-23</td><td>137</td></tr><tr><td>2017-03-30</td><td>157</td></tr><tr><td>2017-02-06</td><td>156</td></tr><tr><td>2017-03-29</td><td>136</td></tr><tr><td>2017-01-23</td><td>113</td></tr><tr><td>2017-01-08</td><td>168</td></tr><tr><td>2017-04-08</td><td>173</td></tr><tr><td>2017-06-17</td><td>215</td></tr><tr><td>2017-03-11</td><td>158</td></tr><tr><td>2017-03-06</td><td>137</td></tr><tr><td>2017-04-23</td><td>178</td></tr><tr><td>2017-02-22</td><td>125</td></tr><tr><td>2017-03-26</td><td>131</td></tr><tr><td>2017-05-07</td><td>188</td></tr><tr><td>2017-01-07</td><td>152</td></tr><tr><td>2017-02-05</td><td>172</td></tr><tr><td>2017-01-12</td><td>121</td></tr><tr><td>2017-03-18</td><td>142</td></tr><tr><td>2017-02-17</td><td>194</td></tr><tr><td>2017-01-31</td><td>148</td></tr><tr><td>2017-02-03</td><td>189</td></tr><tr><td>2017-05-22</td><td>152</td></tr><tr><td>2017-06-22</td><td>191</td></tr><tr><td>2017-06-03</td><td>177</td></tr><tr><td>2017-01-16</td><td>171</td></tr><tr><td>2017-04-22</td><td>161</td></tr><tr><td>2017-06-10</td><td>151</td></tr><tr><td>2017-06-11</td><td>233</td></tr><tr><td>2017-03-07</td><td>159</td></tr><tr><td>2017-05-14</td><td>186</td></tr><tr><td>2017-05-30</td><td>162</td></tr><tr><td>2017-06-21</td><td>218</td></tr><tr><td>2017-02-27</td><td>174</td></tr><tr><td>2017-03-27</td><td>185</td></tr><tr><td>2017-02-18</td><td>195</td></tr><tr><td>2017-05-08</td><td>194</td></tr><tr><td>2017-05-06</td><td>168</td></tr><tr><td>2017-06-26</td><td>187</td></tr><tr><td>2017-01-09</td><td>117</td></tr><tr><td>2017-06-16</td><td>133</td></tr><tr><td>2017-05-23</td><td>158</td></tr><tr><td>2017-04-06</td><td>172</td></tr><tr><td>2017-03-10</td><td>159</td></tr><tr><td>2017-05-03</td><td>172</td></tr><tr><td>2017-05-04</td><td>191</td></tr><tr><td>2017-02-21</td><td>167</td></tr><tr><td>2017-03-03</td><td>129</td></tr><tr><td>2017-03-23</td><td>155</td></tr><tr><td>2017-05-02</td><td>158</td></tr><tr><td>2017-03-22</td><td>141</td></tr><tr><td>2017-06-05</td><td>187</td></tr><tr><td>2017-05-17</td><td>170</td></tr><tr><td>2017-04-24</td><td>167</td></tr><tr><td>2017-06-23</td><td>161</td></tr><tr><td>2017-01-22</td><td>126</td></tr><tr><td>2017-02-02</td><td>148</td></tr><tr><td>2017-03-02</td><td>118</td></tr><tr><td>2017-03-12</td><td>167</td></tr><tr><td>2017-05-24</td><td>148</td></tr><tr><td>2017-01-15</td><td>156</td></tr><tr><td>2017-05-25</td><td>189</td></tr><tr><td>2017-05-18</td><td>136</td></tr><tr><td>2017-05-12</td><td>199</td></tr><tr><td>2017-03-31</td><td>131</td></tr><tr><td>2017-05-20</td><td>193</td></tr><tr><td>2017-01-02</td><td>135</td></tr><tr><td>2017-01-28</td><td>181</td></tr><tr><td>2017-03-09</td><td>179</td></tr><tr><td>2017-02-20</td><td>237</td></tr><tr><td>2017-01-18</td><td>159</td></tr><tr><td>2017-02-19</td><td>165</td></tr><tr><td>2017-03-04</td><td>144</td></tr><tr><td>2017-02-15</td><td>155</td></tr><tr><td>2017-02-13</td><td>150</td></tr><tr><td>2017-04-16</td><td>148</td></tr><tr><td>2017-01-03</td><td>138</td></tr><tr><td>2017-05-29</td><td>157</td></tr><tr><td>2017-04-19</td><td>218</td></tr><tr><td>2017-04-13</td><td>108</td></tr><tr><td>2017-04-04</td><td>156</td></tr><tr><td>2017-03-01</td><td>306</td></tr><tr><td>2017-03-25</td><td>144</td></tr><tr><td>2017-02-11</td><td>124</td></tr><tr><td>2017-06-12</td><td>153</td></tr><tr><td>2017-04-28</td><td>205</td></tr><tr><td>2017-05-31</td><td>192</td></tr><tr><td>2017-02-09</td><td>138</td></tr><tr><td>2017-05-16</td><td>190</td></tr><tr><td>2017-03-14</td><td>137</td></tr><tr><td>2017-03-08</td><td>136</td></tr><tr><td>2017-06-04</td><td>148</td></tr><tr><td>2017-04-17</td><td>168</td></tr><tr><td>2017-04-10</td><td>161</td></tr><tr><td>2017-06-27</td><td>172</td></tr><tr><td>2017-01-14</td><td>143</td></tr><tr><td>2017-05-01</td><td>220</td></tr><tr><td>2017-04-01</td><td>170</td></tr><tr><td>2017-06-24</td><td>196</td></tr><tr><td>2017-05-15</td><td>171</td></tr><tr><td>2017-02-14</td><td>135</td></tr><tr><td>2017-01-29</td><td>142</td></tr><tr><td>2017-05-13</td><td>164</td></tr><tr><td>2017-02-04</td><td>128</td></tr><tr><td>2017-03-15</td><td>141</td></tr><tr><td>2017-06-20</td><td>185</td></tr><tr><td>2017-04-14</td><td>166</td></tr><tr><td>2017-04-21</td><td>137</td></tr></tbody></table></div>"
      ]
     },
     "metadata": {
      "application/vnd.databricks.v1+output": {
       "addedWidgets": {},
       "aggData": [],
       "aggError": "",
       "aggOverflow": false,
       "aggSchema": [],
       "aggSeriesLimitReached": false,
       "aggType": "",
       "arguments": {},
       "columnCustomDisplayInfos": {},
       "data": [
        [
         "2015-03-09",
         6
        ],
        [
         "2015-05-19",
         6
        ],
        [
         "2015-03-06",
         9
        ],
        [
         "2015-04-09",
         5
        ],
        [
         "2015-09-02",
         7
        ],
        [
         "2015-12-22",
         12
        ],
        [
         "2015-05-10",
         3
        ],
        [
         "2015-09-28",
         2
        ],
        [
         "2015-03-12",
         5
        ],
        [
         "2015-03-16",
         5
        ],
        [
         "2015-04-01",
         5
        ],
        [
         "2015-04-24",
         3
        ],
        [
         "2015-03-11",
         6
        ],
        [
         "2015-06-15",
         6
        ],
        [
         "2015-10-16",
         9
        ],
        [
         "2015-11-02",
         4
        ],
        [
         "2015-11-27",
         14
        ],
        [
         "2015-12-31",
         7
        ],
        [
         "2015-08-01",
         9
        ],
        [
         "2015-04-19",
         4
        ],
        [
         "2015-10-30",
         12
        ],
        [
         "2015-12-29",
         14
        ],
        [
         "2015-06-19",
         13
        ],
        [
         "2015-10-13",
         13
        ],
        [
         "2015-04-07",
         9
        ],
        [
         "2015-08-24",
         10
        ],
        [
         "2015-09-29",
         7
        ],
        [
         "2015-01-20",
         6
        ],
        [
         "2015-09-06",
         4
        ],
        [
         "2015-09-21",
         5
        ],
        [
         "2015-12-05",
         13
        ],
        [
         "2015-04-28",
         7
        ],
        [
         "2015-06-22",
         5
        ],
        [
         "2015-11-21",
         7
        ],
        [
         "2015-05-16",
         11
        ],
        [
         "2015-12-30",
         7
        ],
        [
         "2015-09-20",
         7
        ],
        [
         "2015-02-25",
         5
        ],
        [
         "2015-03-21",
         4
        ],
        [
         "2015-09-15",
         4
        ],
        [
         "2015-11-30",
         9
        ],
        [
         "2015-02-03",
         7
        ],
        [
         "2015-02-09",
         2
        ],
        [
         "2015-02-17",
         4
        ],
        [
         "2015-09-04",
         6
        ],
        [
         "2015-05-25",
         9
        ],
        [
         "2015-09-17",
         5
        ],
        [
         "2015-02-04",
         7
        ],
        [
         "2015-06-23",
         15
        ],
        [
         "2015-02-07",
         6
        ],
        [
         "2015-05-06",
         8
        ],
        [
         "2015-02-01",
         5
        ],
        [
         "2015-12-06",
         5
        ],
        [
         "2015-07-21",
         10
        ],
        [
         "2015-08-10",
         4
        ],
        [
         "2015-09-10",
         9
        ],
        [
         "2015-10-24",
         9
        ],
        [
         "2015-02-10",
         9
        ],
        [
         "2015-03-22",
         6
        ],
        [
         "2015-04-18",
         7
        ],
        [
         "2015-01-24",
         8
        ],
        [
         "2015-04-08",
         3
        ],
        [
         "2015-05-03",
         4
        ],
        [
         "2015-09-07",
         2
        ],
        [
         "2015-09-09",
         9
        ],
        [
         "2015-11-15",
         2
        ],
        [
         "2015-05-18",
         8
        ],
        [
         "2015-06-05",
         6
        ],
        [
         "2015-06-09",
         5
        ],
        [
         "2015-12-17",
         11
        ],
        [
         "2015-06-24",
         7
        ],
        [
         "2015-07-06",
         10
        ],
        [
         "2015-01-23",
         3
        ],
        [
         "2015-08-21",
         10
        ],
        [
         "2015-07-27",
         10
        ],
        [
         "2015-05-23",
         7
        ],
        [
         "2015-07-24",
         5
        ],
        [
         "2015-08-02",
         8
        ],
        [
         "2015-12-11",
         13
        ],
        [
         "2015-04-22",
         4
        ],
        [
         "2015-06-27",
         9
        ],
        [
         "2015-11-17",
         6
        ],
        [
         "2015-06-11",
         5
        ],
        [
         "2015-11-06",
         8
        ],
        [
         "2015-03-19",
         4
        ],
        [
         "2015-08-17",
         10
        ],
        [
         "2015-03-13",
         10
        ],
        [
         "2015-05-21",
         6
        ],
        [
         "2015-06-01",
         4
        ],
        [
         "2015-11-08",
         7
        ],
        [
         "2015-04-11",
         6
        ],
        [
         "2015-11-28",
         6
        ],
        [
         "2015-01-11",
         9
        ],
        [
         "2015-09-16",
         5
        ],
        [
         "2015-10-08",
         7
        ],
        [
         "2015-10-28",
         6
        ],
        [
         "2015-04-15",
         13
        ],
        [
         "2015-08-08",
         8
        ],
        [
         "2015-04-27",
         9
        ],
        [
         "2015-04-16",
         7
        ],
        [
         "2015-10-11",
         7
        ],
        [
         "2015-08-19",
         11
        ],
        [
         "2015-10-25",
         7
        ],
        [
         "2015-11-07",
         5
        ],
        [
         "2015-09-19",
         9
        ],
        [
         "2015-11-25",
         8
        ],
        [
         "2015-06-26",
         7
        ],
        [
         "2015-07-12",
         7
        ],
        [
         "2015-07-11",
         12
        ],
        [
         "2015-10-12",
         11
        ],
        [
         "2015-01-10",
         4
        ],
        [
         "2015-01-22",
         9
        ],
        [
         "2015-10-18",
         7
        ],
        [
         "2015-11-22",
         4
        ],
        [
         "2015-12-01",
         11
        ],
        [
         "2015-03-15",
         10
        ],
        [
         "2015-07-29",
         6
        ],
        [
         "2015-12-08",
         11
        ],
        [
         "2015-04-14",
         3
        ],
        [
         "2015-01-29",
         4
        ],
        [
         "2015-03-18",
         8
        ],
        [
         "2015-04-29",
         11
        ],
        [
         "2015-01-08",
         8
        ],
        [
         "2015-01-26",
         4
        ],
        [
         "2015-06-06",
         7
        ],
        [
         "2015-03-01",
         6
        ],
        [
         "2015-08-06",
         12
        ],
        [
         "2015-12-12",
         17
        ],
        [
         "2015-08-31",
         12
        ],
        [
         "2015-07-10",
         7
        ],
        [
         "2015-01-17",
         8
        ],
        [
         "2015-07-18",
         7
        ],
        [
         "2015-12-02",
         9
        ],
        [
         "2015-04-20",
         11
        ],
        [
         "2015-10-20",
         9
        ],
        [
         "2015-12-26",
         8
        ],
        [
         "2015-12-27",
         9
        ],
        [
         "2015-05-09",
         6
        ],
        [
         "2015-01-15",
         7
        ],
        [
         "2015-07-15",
         4
        ],
        [
         "2015-12-15",
         5
        ],
        [
         "2015-01-25",
         4
        ],
        [
         "2015-05-29",
         1
        ],
        [
         "2015-11-04",
         1
        ],
        [
         "2015-11-26",
         6
        ],
        [
         "2015-12-04",
         3
        ],
        [
         "2015-12-23",
         12
        ],
        [
         "2015-02-11",
         12
        ],
        [
         "2015-12-07",
         17
        ],
        [
         "2015-01-14",
         9
        ],
        [
         "2015-12-10",
         9
        ],
        [
         "2015-05-11",
         4
        ],
        [
         "2015-02-28",
         5
        ],
        [
         "2015-03-05",
         3
        ],
        [
         "2015-03-28",
         8
        ],
        [
         "2015-10-07",
         6
        ],
        [
         "2015-07-30",
         10
        ],
        [
         "2015-04-23",
         10
        ],
        [
         "2015-07-13",
         12
        ],
        [
         "2015-08-30",
         8
        ],
        [
         "2015-05-05",
         3
        ],
        [
         "2015-09-22",
         5
        ],
        [
         "2015-10-14",
         6
        ],
        [
         "2015-02-20",
         5
        ],
        [
         "2015-06-20",
         7
        ],
        [
         "2015-07-01",
         8
        ],
        [
         "2015-10-03",
         7
        ],
        [
         "2015-12-24",
         12
        ],
        [
         "2015-01-30",
         10
        ],
        [
         "2015-02-14",
         8
        ],
        [
         "2015-04-02",
         3
        ],
        [
         "2015-06-25",
         4
        ],
        [
         "2015-04-25",
         8
        ],
        [
         "2015-07-08",
         6
        ],
        [
         "2015-12-25",
         8
        ],
        [
         "2015-05-14",
         6
        ],
        [
         "2015-08-14",
         10
        ],
        [
         "2015-01-03",
         8
        ],
        [
         "2015-01-06",
         6
        ],
        [
         "2015-10-27",
         3
        ],
        [
         "2015-12-19",
         14
        ],
        [
         "2015-03-24",
         12
        ],
        [
         "2015-04-13",
         4
        ],
        [
         "2015-02-24",
         9
        ],
        [
         "2015-05-22",
         5
        ],
        [
         "2015-07-17",
         11
        ],
        [
         "2015-07-31",
         9
        ],
        [
         "2015-09-03",
         8
        ],
        [
         "2015-08-16",
         5
        ],
        [
         "2015-09-12",
         7
        ],
        [
         "2015-11-11",
         11
        ],
        [
         "2015-04-06",
         5
        ],
        [
         "2015-05-13",
         13
        ],
        [
         "2015-09-05",
         3
        ],
        [
         "2015-10-26",
         9
        ],
        [
         "2015-06-17",
         6
        ],
        [
         "2015-08-03",
         5
        ],
        [
         "2015-08-20",
         12
        ],
        [
         "2015-09-23",
         7
        ],
        [
         "2015-03-02",
         7
        ],
        [
         "2015-08-27",
         11
        ],
        [
         "2015-09-14",
         9
        ],
        [
         "2015-12-20",
         14
        ],
        [
         "2015-08-22",
         10
        ],
        [
         "2015-10-17",
         6
        ],
        [
         "2015-04-03",
         9
        ],
        [
         "2015-09-26",
         10
        ],
        [
         "2015-10-21",
         9
        ],
        [
         "2015-11-19",
         4
        ],
        [
         "2015-10-01",
         8
        ],
        [
         "2015-10-02",
         8
        ],
        [
         "2015-05-12",
         8
        ],
        [
         "2015-07-23",
         7
        ],
        [
         "2015-05-02",
         5
        ],
        [
         "2015-07-20",
         9
        ],
        [
         "2015-12-14",
         16
        ],
        [
         "2015-03-04",
         8
        ],
        [
         "2015-03-23",
         5
        ],
        [
         "2015-04-17",
         9
        ],
        [
         "2015-08-09",
         8
        ],
        [
         "2015-10-19",
         10
        ],
        [
         "2015-12-09",
         7
        ],
        [
         "2015-02-23",
         5
        ],
        [
         "2015-03-14",
         4
        ],
        [
         "2015-11-03",
         6
        ],
        [
         "2015-06-04",
         6
        ],
        [
         "2015-02-27",
         3
        ],
        [
         "2015-07-28",
         5
        ],
        [
         "2015-06-28",
         5
        ],
        [
         "2015-02-13",
         6
        ],
        [
         "2015-03-17",
         9
        ],
        [
         "2015-04-12",
         11
        ],
        [
         "2015-10-09",
         3
        ],
        [
         "2015-06-03",
         3
        ],
        [
         "2015-02-26",
         11
        ],
        [
         "2015-06-07",
         8
        ],
        [
         "2015-07-22",
         7
        ],
        [
         "2015-09-24",
         9
        ],
        [
         "2015-11-20",
         9
        ],
        [
         "2015-03-26",
         9
        ],
        [
         "2015-10-22",
         7
        ],
        [
         "2015-05-24",
         8
        ],
        [
         "2015-01-05",
         3
        ],
        [
         "2015-06-21",
         9
        ],
        [
         "2015-07-04",
         9
        ],
        [
         "2015-07-26",
         5
        ],
        [
         "2015-12-16",
         11
        ],
        [
         "2015-05-28",
         5
        ],
        [
         "2015-08-26",
         13
        ],
        [
         "2015-02-19",
         5
        ],
        [
         "2015-08-12",
         9
        ],
        [
         "2015-02-02",
         6
        ],
        [
         "2015-01-04",
         5
        ],
        [
         "2015-09-13",
         11
        ],
        [
         "2015-11-10",
         7
        ],
        [
         "2015-04-26",
         4
        ],
        [
         "2015-02-06",
         10
        ],
        [
         "2015-09-30",
         9
        ],
        [
         "2015-04-30",
         13
        ],
        [
         "2015-10-29",
         6
        ],
        [
         "2015-01-16",
         7
        ],
        [
         "2015-03-20",
         9
        ],
        [
         "2015-05-31",
         3
        ],
        [
         "2015-07-09",
         5
        ],
        [
         "2015-08-13",
         12
        ],
        [
         "2015-02-15",
         6
        ],
        [
         "2015-09-01",
         2
        ],
        [
         "2015-09-27",
         3
        ],
        [
         "2015-10-04",
         6
        ],
        [
         "2015-10-31",
         5
        ],
        [
         "2015-01-19",
         6
        ],
        [
         "2015-11-13",
         4
        ],
        [
         "2015-03-08",
         4
        ],
        [
         "2015-09-08",
         9
        ],
        [
         "2015-04-21",
         5
        ],
        [
         "2015-06-30",
         6
        ],
        [
         "2015-07-02",
         3
        ],
        [
         "2015-08-07",
         11
        ],
        [
         "2015-02-05",
         6
        ],
        [
         "2015-02-16",
         3
        ],
        [
         "2015-05-01",
         12
        ],
        [
         "2015-07-16",
         6
        ],
        [
         "2015-01-02",
         4
        ],
        [
         "2015-01-21",
         7
        ],
        [
         "2015-04-10",
         5
        ],
        [
         "2015-10-23",
         7
        ],
        [
         "2015-02-18",
         2
        ],
        [
         "2015-06-13",
         4
        ],
        [
         "2015-12-13",
         12
        ],
        [
         "2015-01-13",
         3
        ],
        [
         "2015-01-12",
         7
        ],
        [
         "2015-11-29",
         6
        ],
        [
         "2015-03-07",
         9
        ],
        [
         "2015-07-19",
         7
        ],
        [
         "2015-11-18",
         7
        ],
        [
         "2015-05-26",
         5
        ],
        [
         "2015-08-11",
         5
        ],
        [
         "2015-12-21",
         3
        ],
        [
         "2015-12-03",
         16
        ],
        [
         "2015-06-12",
         12
        ],
        [
         "2015-03-10",
         2
        ],
        [
         "2015-07-25",
         9
        ],
        [
         "2015-05-15",
         7
        ],
        [
         "2015-10-05",
         3
        ],
        [
         "2015-03-27",
         3
        ],
        [
         "2015-05-04",
         11
        ],
        [
         "2015-11-24",
         10
        ],
        [
         "2015-07-14",
         9
        ],
        [
         "2015-10-10",
         4
        ],
        [
         "2015-02-12",
         3
        ],
        [
         "2015-07-03",
         13
        ],
        [
         "2015-09-11",
         8
        ],
        [
         "2015-12-28",
         10
        ],
        [
         "2015-02-22",
         10
        ],
        [
         "2015-05-20",
         6
        ],
        [
         "2015-08-04",
         8
        ],
        [
         "2015-01-28",
         5
        ],
        [
         "2015-03-31",
         4
        ],
        [
         "2015-05-27",
         5
        ],
        [
         "2015-08-05",
         7
        ],
        [
         "2015-08-25",
         11
        ],
        [
         "2015-06-14",
         4
        ],
        [
         "2015-01-01",
         4
        ],
        [
         "2015-02-21",
         1
        ],
        [
         "2015-03-25",
         5
        ],
        [
         "2015-01-18",
         6
        ],
        [
         "2015-03-30",
         4
        ],
        [
         "2015-07-05",
         10
        ],
        [
         "2015-11-09",
         4
        ],
        [
         "2015-03-29",
         6
        ],
        [
         "2015-08-18",
         8
        ],
        [
         "2015-01-09",
         4
        ],
        [
         "2015-08-28",
         8
        ],
        [
         "2015-01-27",
         5
        ],
        [
         "2015-02-08",
         4
        ],
        [
         "2015-05-08",
         10
        ],
        [
         "2015-06-08",
         8
        ],
        [
         "2015-12-18",
         10
        ],
        [
         "2015-04-05",
         4
        ],
        [
         "2015-06-16",
         2
        ],
        [
         "2015-08-29",
         6
        ],
        [
         "2015-08-23",
         5
        ],
        [
         "2015-06-29",
         8
        ],
        [
         "2015-11-01",
         6
        ],
        [
         "2015-04-04",
         7
        ],
        [
         "2015-06-02",
         12
        ],
        [
         "2015-09-18",
         9
        ],
        [
         "2015-10-15",
         6
        ],
        [
         "2015-01-07",
         4
        ],
        [
         "2015-03-03",
         8
        ],
        [
         "2015-05-30",
         7
        ],
        [
         "2015-09-25",
         6
        ],
        [
         "2015-11-23",
         5
        ],
        [
         "2015-05-07",
         5
        ],
        [
         "2015-11-12",
         6
        ],
        [
         "2015-11-14",
         5
        ],
        [
         "2015-11-16",
         8
        ],
        [
         "2015-06-18",
         11
        ],
        [
         "2015-07-07",
         9
        ],
        [
         "2015-01-31",
         7
        ],
        [
         "2015-08-15",
         12
        ],
        [
         "2015-10-06",
         7
        ],
        [
         "2015-11-05",
         6
        ],
        [
         "2015-05-17",
         9
        ],
        [
         "2015-06-10",
         8
        ],
        [
         "2016-03-01",
         8
        ],
        [
         "2016-04-25",
         15
        ],
        [
         "2016-05-03",
         15
        ],
        [
         "2016-07-26",
         44
        ],
        [
         "2016-08-15",
         93
        ],
        [
         "2016-08-31",
         126
        ],
        [
         "2016-10-03",
         130
        ],
        [
         "2016-01-28",
         5
        ],
        [
         "2016-07-17",
         39
        ],
        [
         "2016-11-08",
         101
        ],
        [
         "2016-12-19",
         169
        ],
        [
         "2016-07-03",
         64
        ],
        [
         "2016-08-23",
         89
        ],
        [
         "2016-02-04",
         17
        ],
        [
         "2016-05-26",
         10
        ],
        [
         "2016-06-02",
         13
        ],
        [
         "2016-01-13",
         12
        ],
        [
         "2016-09-23",
         149
        ],
        [
         "2016-01-01",
         8
        ],
        [
         "2016-04-22",
         6
        ],
        [
         "2016-06-16",
         7
        ],
        [
         "2016-09-30",
         126
        ],
        [
         "2016-01-19",
         5
        ],
        [
         "2016-05-09",
         8
        ],
        [
         "2016-07-19",
         37
        ],
        [
         "2016-09-15",
         128
        ],
        [
         "2016-02-08",
         11
        ],
        [
         "2016-10-07",
         118
        ],
        [
         "2016-12-12",
         188
        ],
        [
         "2016-05-23",
         12
        ],
        [
         "2016-09-26",
         114
        ],
        [
         "2016-12-13",
         189
        ],
        [
         "2016-02-03",
         9
        ],
        [
         "2016-03-25",
         4
        ],
        [
         "2016-08-26",
         122
        ],
        [
         "2016-08-01",
         105
        ],
        [
         "2016-09-09",
         153
        ],
        [
         "2016-06-17",
         9
        ],
        [
         "2016-09-27",
         145
        ],
        [
         "2016-08-16",
         132
        ],
        [
         "2016-10-23",
         142
        ],
        [
         "2016-04-30",
         11
        ],
        [
         "2016-07-21",
         21
        ],
        [
         "2016-05-27",
         10
        ],
        [
         "2016-07-02",
         37
        ],
        [
         "2016-08-06",
         106
        ],
        [
         "2016-10-20",
         126
        ],
        [
         "2016-05-07",
         9
        ],
        [
         "2016-04-26",
         9
        ],
        [
         "2016-05-13",
         9
        ],
        [
         "2016-05-31",
         16
        ],
        [
         "2016-08-05",
         90
        ],
        [
         "2016-02-22",
         11
        ],
        [
         "2016-10-24",
         101
        ],
        [
         "2016-10-27",
         102
        ],
        [
         "2016-11-14",
         152
        ],
        [
         "2016-03-22",
         7
        ],
        [
         "2016-08-20",
         99
        ],
        [
         "2016-09-05",
         112
        ],
        [
         "2016-05-21",
         10
        ],
        [
         "2016-12-15",
         194
        ],
        [
         "2016-05-11",
         11
        ],
        [
         "2016-11-24",
         182
        ],
        [
         "2016-06-22",
         6
        ],
        [
         "2016-11-25",
         104
        ],
        [
         "2016-11-30",
         152
        ],
        [
         "2016-05-28",
         12
        ],
        [
         "2016-06-19",
         13
        ],
        [
         "2016-03-11",
         8
        ],
        [
         "2016-03-27",
         3
        ],
        [
         "2016-06-08",
         17
        ],
        [
         "2016-11-19",
         148
        ],
        [
         "2016-12-20",
         156
        ],
        [
         "2016-12-21",
         157
        ],
        [
         "2016-06-15",
         14
        ],
        [
         "2016-07-31",
         46
        ],
        [
         "2016-08-03",
         126
        ],
        [
         "2016-04-04",
         12
        ],
        [
         "2016-06-13",
         9
        ],
        [
         "2016-01-11",
         7
        ],
        [
         "2016-12-22",
         103
        ],
        [
         "2016-03-14",
         9
        ],
        [
         "2016-04-16",
         7
        ],
        [
         "2016-04-18",
         11
        ],
        [
         "2016-08-12",
         148
        ],
        [
         "2016-09-22",
         126
        ],
        [
         "2016-10-17",
         120
        ],
        [
         "2016-08-19",
         149
        ],
        [
         "2016-04-11",
         12
        ],
        [
         "2016-09-14",
         129
        ],
        [
         "2016-06-29",
         7
        ],
        [
         "2016-03-03",
         6
        ],
        [
         "2016-01-05",
         7
        ],
        [
         "2016-01-06",
         2
        ],
        [
         "2016-06-27",
         13
        ],
        [
         "2016-04-29",
         7
        ],
        [
         "2016-08-10",
         88
        ],
        [
         "2016-10-30",
         121
        ],
        [
         "2016-01-20",
         7
        ],
        [
         "2016-05-05",
         14
        ],
        [
         "2016-02-11",
         4
        ],
        [
         "2016-04-19",
         7
        ],
        [
         "2016-09-12",
         162
        ],
        [
         "2016-10-06",
         185
        ],
        [
         "2016-02-09",
         10
        ],
        [
         "2016-04-14",
         7
        ],
        [
         "2016-01-29",
         8
        ],
        [
         "2016-01-26",
         9
        ],
        [
         "2016-08-13",
         129
        ],
        [
         "2016-11-15",
         147
        ],
        [
         "2016-02-15",
         11
        ],
        [
         "2016-09-18",
         148
        ],
        [
         "2016-12-03",
         178
        ],
        [
         "2016-03-20",
         11
        ],
        [
         "2016-07-13",
         44
        ],
        [
         "2016-09-08",
         139
        ],
        [
         "2016-10-21",
         125
        ],
        [
         "2016-05-08",
         15
        ],
        [
         "2016-09-01",
         83
        ],
        [
         "2016-02-25",
         15
        ],
        [
         "2016-03-16",
         7
        ],
        [
         "2016-04-08",
         13
        ],
        [
         "2016-12-25",
         163
        ],
        [
         "2016-11-21",
         147
        ],
        [
         "2016-12-31",
         195
        ],
        [
         "2016-09-25",
         100
        ],
        [
         "2016-03-19",
         11
        ],
        [
         "2016-08-30",
         131
        ],
        [
         "2016-10-29",
         109
        ],
        [
         "2016-04-02",
         13
        ],
        [
         "2016-08-07",
         140
        ],
        [
         "2016-11-06",
         125
        ],
        [
         "2016-10-26",
         154
        ],
        [
         "2016-03-31",
         10
        ],
        [
         "2016-09-02",
         140
        ],
        [
         "2016-02-18",
         13
        ],
        [
         "2016-07-10",
         34
        ],
        [
         "2016-07-16",
         40
        ],
        [
         "2016-12-30",
         158
        ],
        [
         "2016-05-12",
         13
        ],
        [
         "2016-12-17",
         165
        ],
        [
         "2016-07-24",
         85
        ],
        [
         "2016-02-28",
         8
        ],
        [
         "2016-12-02",
         172
        ],
        [
         "2016-01-24",
         7
        ],
        [
         "2016-08-27",
         112
        ],
        [
         "2016-10-09",
         142
        ],
        [
         "2016-05-01",
         13
        ],
        [
         "2016-08-18",
         137
        ],
        [
         "2016-11-07",
         153
        ],
        [
         "2016-12-18",
         182
        ],
        [
         "2016-02-12",
         10
        ],
        [
         "2016-04-20",
         9
        ],
        [
         "2016-09-16",
         102
        ],
        [
         "2016-11-04",
         136
        ],
        [
         "2016-12-29",
         181
        ],
        [
         "2016-03-02",
         10
        ],
        [
         "2016-08-04",
         99
        ],
        [
         "2016-12-27",
         131
        ],
        [
         "2016-06-05",
         7
        ],
        [
         "2016-06-14",
         11
        ],
        [
         "2016-12-05",
         167
        ],
        [
         "2016-04-13",
         18
        ],
        [
         "2016-09-13",
         168
        ],
        [
         "2016-10-14",
         143
        ],
        [
         "2016-04-09",
         10
        ],
        [
         "2016-07-29",
         64
        ],
        [
         "2016-08-21",
         115
        ],
        [
         "2016-08-22",
         62
        ],
        [
         "2016-09-24",
         107
        ],
        [
         "2016-05-02",
         11
        ],
        [
         "2016-07-08",
         38
        ],
        [
         "2016-08-29",
         147
        ],
        [
         "2016-01-03",
         7
        ],
        [
         "2016-07-04",
         58
        ],
        [
         "2016-10-11",
         117
        ],
        [
         "2016-03-24",
         5
        ],
        [
         "2016-08-14",
         128
        ],
        [
         "2016-11-23",
         116
        ],
        [
         "2016-07-12",
         47
        ],
        [
         "2016-12-11",
         178
        ],
        [
         "2016-01-21",
         7
        ],
        [
         "2016-04-17",
         16
        ],
        [
         "2016-07-30",
         31
        ],
        [
         "2016-03-04",
         6
        ],
        [
         "2016-08-08",
         180
        ],
        [
         "2016-01-27",
         3
        ],
        [
         "2016-11-18",
         161
        ],
        [
         "2016-04-01",
         11
        ],
        [
         "2016-07-14",
         39
        ],
        [
         "2016-11-01",
         119
        ],
        [
         "2016-01-14",
         6
        ],
        [
         "2016-06-18",
         8
        ],
        [
         "2016-08-09",
         124
        ],
        [
         "2016-03-21",
         5
        ],
        [
         "2016-05-15",
         8
        ],
        [
         "2016-06-10",
         14
        ],
        [
         "2016-10-12",
         121
        ],
        [
         "2016-02-19",
         10
        ],
        [
         "2016-02-21",
         13
        ],
        [
         "2016-03-26",
         8
        ],
        [
         "2016-04-07",
         11
        ],
        [
         "2016-11-28",
         153
        ],
        [
         "2016-05-16",
         8
        ],
        [
         "2016-11-17",
         139
        ],
        [
         "2016-09-03",
         115
        ],
        [
         "2016-10-16",
         89
        ],
        [
         "2016-05-14",
         12
        ],
        [
         "2016-06-23",
         9
        ],
        [
         "2016-10-22",
         161
        ],
        [
         "2016-08-02",
         104
        ],
        [
         "2016-12-04",
         166
        ],
        [
         "2016-02-13",
         10
        ],
        [
         "2016-04-12",
         7
        ],
        [
         "2016-07-27",
         40
        ],
        [
         "2016-02-26",
         7
        ],
        [
         "2016-05-10",
         6
        ],
        [
         "2016-09-17",
         129
        ],
        [
         "2016-05-17",
         8
        ],
        [
         "2016-11-27",
         152
        ],
        [
         "2016-04-03",
         5
        ],
        [
         "2016-10-13",
         118
        ],
        [
         "2016-02-02",
         10
        ],
        [
         "2016-11-26",
         136
        ],
        [
         "2016-12-06",
         193
        ],
        [
         "2016-03-10",
         5
        ],
        [
         "2016-06-24",
         10
        ],
        [
         "2016-11-02",
         126
        ],
        [
         "2016-12-14",
         150
        ],
        [
         "2016-02-07",
         8
        ],
        [
         "2016-09-19",
         170
        ],
        [
         "2016-08-11",
         91
        ],
        [
         "2016-10-10",
         129
        ],
        [
         "2016-01-17",
         7
        ],
        [
         "2016-10-19",
         112
        ],
        [
         "2016-01-12",
         7
        ],
        [
         "2016-06-09",
         6
        ],
        [
         "2016-07-11",
         69
        ],
        [
         "2016-11-10",
         140
        ],
        [
         "2016-01-08",
         10
        ],
        [
         "2016-05-04",
         9
        ],
        [
         "2016-02-17",
         12
        ],
        [
         "2016-02-23",
         3
        ],
        [
         "2016-07-18",
         21
        ],
        [
         "2016-11-05",
         119
        ],
        [
         "2016-12-10",
         122
        ],
        [
         "2016-09-10",
         118
        ],
        [
         "2016-03-28",
         13
        ],
        [
         "2016-05-30",
         15
        ],
        [
         "2016-11-29",
         160
        ],
        [
         "2016-04-15",
         9
        ],
        [
         "2016-04-28",
         8
        ],
        [
         "2016-12-09",
         148
        ],
        [
         "2016-01-30",
         6
        ],
        [
         "2016-03-15",
         5
        ],
        [
         "2016-04-24",
         14
        ],
        [
         "2016-04-23",
         6
        ],
        [
         "2016-03-08",
         14
        ],
        [
         "2016-06-26",
         8
        ],
        [
         "2016-12-16",
         130
        ],
        [
         "2016-03-06",
         6
        ],
        [
         "2016-05-19",
         7
        ],
        [
         "2016-07-07",
         45
        ],
        [
         "2016-01-22",
         10
        ],
        [
         "2016-02-10",
         5
        ],
        [
         "2016-02-24",
         11
        ],
        [
         "2016-07-01",
         35
        ],
        [
         "2016-07-23",
         34
        ],
        [
         "2016-01-02",
         12
        ],
        [
         "2016-09-06",
         106
        ],
        [
         "2016-01-31",
         8
        ],
        [
         "2016-03-17",
         8
        ],
        [
         "2016-04-05",
         10
        ],
        [
         "2016-08-17",
         124
        ],
        [
         "2016-02-05",
         8
        ],
        [
         "2016-06-21",
         15
        ],
        [
         "2016-08-24",
         166
        ],
        [
         "2016-09-21",
         133
        ],
        [
         "2016-10-08",
         180
        ],
        [
         "2016-04-06",
         5
        ],
        [
         "2016-05-24",
         15
        ],
        [
         "2016-03-30",
         10
        ],
        [
         "2016-10-28",
         119
        ],
        [
         "2016-12-08",
         162
        ],
        [
         "2016-06-03",
         8
        ],
        [
         "2016-06-30",
         10
        ],
        [
         "2016-07-06",
         24
        ],
        [
         "2016-07-20",
         72
        ],
        [
         "2016-03-13",
         6
        ],
        [
         "2016-03-05",
         17
        ],
        [
         "2016-03-07",
         9
        ],
        [
         "2016-06-28",
         13
        ],
        [
         "2016-12-24",
         170
        ],
        [
         "2016-01-23",
         14
        ],
        [
         "2016-10-05",
         148
        ],
        [
         "2016-02-06",
         14
        ],
        [
         "2016-03-12",
         19
        ],
        [
         "2016-01-04",
         8
        ],
        [
         "2016-05-20",
         9
        ],
        [
         "2016-06-12",
         11
        ],
        [
         "2016-07-05",
         39
        ],
        [
         "2016-10-31",
         118
        ],
        [
         "2016-11-13",
         136
        ],
        [
         "2016-12-28",
         161
        ],
        [
         "2016-02-14",
         10
        ],
        [
         "2016-05-29",
         8
        ],
        [
         "2016-11-12",
         132
        ],
        [
         "2016-06-11",
         10
        ],
        [
         "2016-09-28",
         121
        ],
        [
         "2016-05-25",
         7
        ],
        [
         "2016-01-15",
         10
        ],
        [
         "2016-01-25",
         4
        ],
        [
         "2016-12-01",
         167
        ],
        [
         "2016-02-20",
         10
        ],
        [
         "2016-06-25",
         9
        ],
        [
         "2016-10-04",
         112
        ],
        [
         "2016-02-01",
         10
        ],
        [
         "2016-11-20",
         87
        ],
        [
         "2016-01-16",
         11
        ],
        [
         "2016-07-22",
         45
        ],
        [
         "2016-11-11",
         85
        ],
        [
         "2016-04-21",
         5
        ],
        [
         "2016-08-25",
         152
        ],
        [
         "2016-01-10",
         10
        ],
        [
         "2016-03-09",
         5
        ],
        [
         "2016-01-18",
         7
        ],
        [
         "2016-05-22",
         12
        ],
        [
         "2016-07-28",
         39
        ],
        [
         "2016-09-20",
         136
        ],
        [
         "2016-09-29",
         81
        ],
        [
         "2016-02-16",
         4
        ],
        [
         "2016-02-27",
         3
        ],
        [
         "2016-01-07",
         9
        ],
        [
         "2016-10-18",
         140
        ],
        [
         "2016-10-25",
         124
        ],
        [
         "2016-01-09",
         9
        ],
        [
         "2016-04-10",
         6
        ],
        [
         "2016-09-07",
         137
        ],
        [
         "2016-10-01",
         127
        ],
        [
         "2016-12-23",
         159
        ],
        [
         "2016-05-18",
         2
        ],
        [
         "2016-06-01",
         15
        ],
        [
         "2016-06-04",
         8
        ],
        [
         "2016-06-20",
         10
        ],
        [
         "2016-09-04",
         136
        ],
        [
         "2016-10-15",
         158
        ],
        [
         "2016-12-26",
         175
        ],
        [
         "2016-04-27",
         10
        ],
        [
         "2016-07-25",
         39
        ],
        [
         "2016-11-03",
         172
        ],
        [
         "2016-05-06",
         15
        ],
        [
         "2016-06-07",
         11
        ],
        [
         "2016-08-28",
         122
        ],
        [
         "2016-09-11",
         87
        ],
        [
         "2016-03-18",
         15
        ],
        [
         "2016-12-07",
         237
        ],
        [
         "2016-07-09",
         58
        ],
        [
         "2016-11-09",
         125
        ],
        [
         "2016-03-29",
         10
        ],
        [
         "2016-03-23",
         6
        ],
        [
         "2016-06-06",
         11
        ],
        [
         "2016-07-15",
         59
        ],
        [
         "2016-11-22",
         170
        ],
        [
         "2016-10-02",
         157
        ],
        [
         "2016-11-16",
         117
        ],
        [
         "2017-01-06",
         151
        ],
        [
         "2017-01-27",
         142
        ],
        [
         "2017-02-26",
         119
        ],
        [
         "2017-01-24",
         173
        ],
        [
         "2017-06-29",
         172
        ],
        [
         "2017-02-16",
         124
        ],
        [
         "2017-04-09",
         140
        ],
        [
         "2017-02-28",
         162
        ],
        [
         "2017-03-28",
         149
        ],
        [
         "2017-06-30",
         136
        ],
        [
         "2017-01-30",
         145
        ],
        [
         "2017-05-11",
         164
        ],
        [
         "2017-02-10",
         168
        ],
        [
         "2017-04-25",
         176
        ],
        [
         "2017-03-19",
         152
        ],
        [
         "2017-05-26",
         175
        ],
        [
         "2017-01-04",
         138
        ],
        [
         "2017-06-28",
         215
        ],
        [
         "2017-04-03",
         246
        ],
        [
         "2017-06-14",
         258
        ],
        [
         "2017-04-29",
         163
        ],
        [
         "2017-02-07",
         161
        ],
        [
         "2017-01-10",
         192
        ],
        [
         "2017-03-17",
         138
        ],
        [
         "2017-05-10",
         150
        ],
        [
         "2017-01-21",
         131
        ],
        [
         "2017-05-09",
         191
        ],
        [
         "2017-04-07",
         160
        ],
        [
         "2017-06-08",
         171
        ],
        [
         "2017-01-05",
         141
        ],
        [
         "2017-06-01",
         122
        ],
        [
         "2017-04-02",
         168
        ],
        [
         "2017-06-09",
         182
        ],
        [
         "2017-04-11",
         137
        ],
        [
         "2017-04-12",
         156
        ],
        [
         "2017-01-13",
         123
        ],
        [
         "2017-02-08",
         164
        ],
        [
         "2017-03-13",
         191
        ],
        [
         "2017-04-05",
         122
        ],
        [
         "2017-04-20",
         165
        ],
        [
         "2017-06-15",
         195
        ],
        [
         "2017-02-25",
         103
        ],
        [
         "2017-05-21",
         185
        ],
        [
         "2017-03-16",
         107
        ],
        [
         "2017-04-27",
         176
        ],
        [
         "2017-05-27",
         148
        ],
        [
         "2017-02-01",
         179
        ],
        [
         "2017-01-26",
         156
        ],
        [
         "2017-01-01",
         98
        ],
        [
         "2017-06-19",
         194
        ],
        [
         "2017-04-18",
         186
        ],
        [
         "2017-01-20",
         195
        ],
        [
         "2017-06-13",
         151
        ],
        [
         "2017-06-25",
         189
        ],
        [
         "2017-03-05",
         146
        ],
        [
         "2017-03-21",
         177
        ],
        [
         "2017-06-07",
         222
        ],
        [
         "2017-06-02",
         137
        ],
        [
         "2017-03-24",
         158
        ],
        [
         "2017-04-30",
         169
        ],
        [
         "2017-01-11",
         162
        ],
        [
         "2017-02-12",
         163
        ],
        [
         "2017-01-17",
         123
        ],
        [
         "2017-02-24",
         152
        ],
        [
         "2017-06-18",
         163
        ],
        [
         "2017-05-28",
         170
        ],
        [
         "2017-05-05",
         204
        ],
        [
         "2017-05-19",
         171
        ],
        [
         "2017-03-20",
         163
        ],
        [
         "2017-04-15",
         181
        ],
        [
         "2017-06-06",
         216
        ],
        [
         "2017-01-19",
         131
        ],
        [
         "2017-01-25",
         121
        ],
        [
         "2017-04-26",
         153
        ],
        [
         "2017-02-23",
         137
        ],
        [
         "2017-03-30",
         157
        ],
        [
         "2017-02-06",
         156
        ],
        [
         "2017-03-29",
         136
        ],
        [
         "2017-01-23",
         113
        ],
        [
         "2017-01-08",
         168
        ],
        [
         "2017-04-08",
         173
        ],
        [
         "2017-06-17",
         215
        ],
        [
         "2017-03-11",
         158
        ],
        [
         "2017-03-06",
         137
        ],
        [
         "2017-04-23",
         178
        ],
        [
         "2017-02-22",
         125
        ],
        [
         "2017-03-26",
         131
        ],
        [
         "2017-05-07",
         188
        ],
        [
         "2017-01-07",
         152
        ],
        [
         "2017-02-05",
         172
        ],
        [
         "2017-01-12",
         121
        ],
        [
         "2017-03-18",
         142
        ],
        [
         "2017-02-17",
         194
        ],
        [
         "2017-01-31",
         148
        ],
        [
         "2017-02-03",
         189
        ],
        [
         "2017-05-22",
         152
        ],
        [
         "2017-06-22",
         191
        ],
        [
         "2017-06-03",
         177
        ],
        [
         "2017-01-16",
         171
        ],
        [
         "2017-04-22",
         161
        ],
        [
         "2017-06-10",
         151
        ],
        [
         "2017-06-11",
         233
        ],
        [
         "2017-03-07",
         159
        ],
        [
         "2017-05-14",
         186
        ],
        [
         "2017-05-30",
         162
        ],
        [
         "2017-06-21",
         218
        ],
        [
         "2017-02-27",
         174
        ],
        [
         "2017-03-27",
         185
        ],
        [
         "2017-02-18",
         195
        ],
        [
         "2017-05-08",
         194
        ],
        [
         "2017-05-06",
         168
        ],
        [
         "2017-06-26",
         187
        ],
        [
         "2017-01-09",
         117
        ],
        [
         "2017-06-16",
         133
        ],
        [
         "2017-05-23",
         158
        ],
        [
         "2017-04-06",
         172
        ],
        [
         "2017-03-10",
         159
        ],
        [
         "2017-05-03",
         172
        ],
        [
         "2017-05-04",
         191
        ],
        [
         "2017-02-21",
         167
        ],
        [
         "2017-03-03",
         129
        ],
        [
         "2017-03-23",
         155
        ],
        [
         "2017-05-02",
         158
        ],
        [
         "2017-03-22",
         141
        ],
        [
         "2017-06-05",
         187
        ],
        [
         "2017-05-17",
         170
        ],
        [
         "2017-04-24",
         167
        ],
        [
         "2017-06-23",
         161
        ],
        [
         "2017-01-22",
         126
        ],
        [
         "2017-02-02",
         148
        ],
        [
         "2017-03-02",
         118
        ],
        [
         "2017-03-12",
         167
        ],
        [
         "2017-05-24",
         148
        ],
        [
         "2017-01-15",
         156
        ],
        [
         "2017-05-25",
         189
        ],
        [
         "2017-05-18",
         136
        ],
        [
         "2017-05-12",
         199
        ],
        [
         "2017-03-31",
         131
        ],
        [
         "2017-05-20",
         193
        ],
        [
         "2017-01-02",
         135
        ],
        [
         "2017-01-28",
         181
        ],
        [
         "2017-03-09",
         179
        ],
        [
         "2017-02-20",
         237
        ],
        [
         "2017-01-18",
         159
        ],
        [
         "2017-02-19",
         165
        ],
        [
         "2017-03-04",
         144
        ],
        [
         "2017-02-15",
         155
        ],
        [
         "2017-02-13",
         150
        ],
        [
         "2017-04-16",
         148
        ],
        [
         "2017-01-03",
         138
        ],
        [
         "2017-05-29",
         157
        ],
        [
         "2017-04-19",
         218
        ],
        [
         "2017-04-13",
         108
        ],
        [
         "2017-04-04",
         156
        ],
        [
         "2017-03-01",
         306
        ],
        [
         "2017-03-25",
         144
        ],
        [
         "2017-02-11",
         124
        ],
        [
         "2017-06-12",
         153
        ],
        [
         "2017-04-28",
         205
        ],
        [
         "2017-05-31",
         192
        ],
        [
         "2017-02-09",
         138
        ],
        [
         "2017-05-16",
         190
        ],
        [
         "2017-03-14",
         137
        ],
        [
         "2017-03-08",
         136
        ],
        [
         "2017-06-04",
         148
        ],
        [
         "2017-04-17",
         168
        ],
        [
         "2017-04-10",
         161
        ],
        [
         "2017-06-27",
         172
        ],
        [
         "2017-01-14",
         143
        ],
        [
         "2017-05-01",
         220
        ],
        [
         "2017-04-01",
         170
        ],
        [
         "2017-06-24",
         196
        ],
        [
         "2017-05-15",
         171
        ],
        [
         "2017-02-14",
         135
        ],
        [
         "2017-01-29",
         142
        ],
        [
         "2017-05-13",
         164
        ],
        [
         "2017-02-04",
         128
        ],
        [
         "2017-03-15",
         141
        ],
        [
         "2017-06-20",
         185
        ],
        [
         "2017-04-14",
         166
        ],
        [
         "2017-04-21",
         137
        ]
       ],
       "datasetInfos": [],
       "dbfsResultPath": null,
       "isJsonSchema": true,
       "metadata": {},
       "overflow": false,
       "plotOptions": {
        "customPlotOptions": {},
        "displayType": "table",
        "pivotAggregation": null,
        "pivotColumns": null,
        "xColumns": null,
        "yColumns": null
       },
       "removedWidgets": [],
       "schema": [
        {
         "metadata": "{\"__detected_date_formats\":\"M/d/yyyy\"}",
         "name": "OrderDate",
         "type": "\"date\""
        },
        {
         "metadata": "{}",
         "name": "total_order",
         "type": "\"long\""
        }
       ],
       "type": "table"
      }
     },
     "output_type": "display_data"
    },
    {
     "data": {
      "text/plain": [
       "Databricks visualization. Run in Databricks to view."
      ]
     },
     "metadata": {
      "application/vnd.databricks.v1.subcommand+json": {
       "baseErrorDetails": null,
       "bindings": {},
       "collapsed": false,
       "command": "%python\n__backend_agg_display_orig = display\n__backend_agg_dfs = []\ndef __backend_agg_display_new(df):\n    __backend_agg_df_modules = [\"pandas.core.frame\", \"databricks.koalas.frame\", \"pyspark.sql.dataframe\", \"pyspark.pandas.frame\", \"pyspark.sql.connect.dataframe\"]\n    if (type(df).__module__ in __backend_agg_df_modules and type(df).__name__ == 'DataFrame') or isinstance(df, list):\n        __backend_agg_dfs.append(df)\n\ndisplay = __backend_agg_display_new\n\ndef __backend_agg_user_code_fn():\n    import base64\n    exec(base64.standard_b64decode(\"ZGZfc2FsZXMuZ3JvdXBCeSgnT3JkZXJEYXRlJykuYWdnKGNvdW50KCdPcmRlck51bWJlcicpLmFsaWFzKCd0b3RhbF9vcmRlcicpKS5kaXNwbGF5KCk=\").decode())\n\ntry:\n    # run user code\n    __backend_agg_user_code_fn()\n\n    #reset display function\n    display = __backend_agg_display_orig\n\n    if len(__backend_agg_dfs) > 0:\n        # create a temp view\n        if type(__backend_agg_dfs[0]).__module__ == \"databricks.koalas.frame\":\n            # koalas dataframe\n            __backend_agg_dfs[0].to_spark().createOrReplaceTempView(\"DatabricksViewc3dd34e\")\n        elif type(__backend_agg_dfs[0]).__module__ == \"pandas.core.frame\" or isinstance(__backend_agg_dfs[0], list):\n            # pandas dataframe\n            spark.createDataFrame(__backend_agg_dfs[0]).createOrReplaceTempView(\"DatabricksViewc3dd34e\")\n        else:\n            __backend_agg_dfs[0].createOrReplaceTempView(\"DatabricksViewc3dd34e\")\n        #run backend agg\n        display(spark.sql(\"\"\"WITH q AS (select * from DatabricksViewc3dd34e) SELECT `OrderDate`,SUM(`total_order`) `column_95362627261` FROM q GROUP BY `OrderDate`\"\"\"))\n    else:\n        displayHTML(\"dataframe no longer exists. If you're using dataframe.display(), use display(dataframe) instead.\")\n\n\nfinally:\n    spark.sql(\"drop view if exists DatabricksViewc3dd34e\")\n    display = __backend_agg_display_orig\n    del __backend_agg_display_new\n    del __backend_agg_display_orig\n    del __backend_agg_dfs\n    del __backend_agg_user_code_fn\n\n",
       "commandTitle": "Visualization 1",
       "commandType": "auto",
       "commandVersion": 0,
       "commentThread": [],
       "commentsVisible": false,
       "contentSha256Hex": null,
       "customPlotOptions": {
        "redashChart": [
         {
          "key": "type",
          "value": "CHART"
         },
         {
          "key": "options",
          "value": {
           "alignYAxesAtZero": true,
           "coefficient": 1,
           "columnConfigurationMap": {
            "x": {
             "column": "OrderDate",
             "id": "column_95362627260"
            },
            "y": [
             {
              "column": "total_order",
              "id": "column_95362627261",
              "transform": "SUM"
             }
            ]
           },
           "dateTimeFormat": "DD/MM/YYYY HH:mm",
           "direction": {
            "type": "counterclockwise"
           },
           "error_y": {
            "type": "data",
            "visible": true
           },
           "globalSeriesType": "line",
           "isAggregationOn": true,
           "legend": {
            "traceorder": "normal"
           },
           "missingValuesAsZero": true,
           "numberFormat": "0,0.[00000]",
           "percentFormat": "0[.]00%",
           "series": {
            "error_y": {
             "type": "data",
             "visible": true
            },
            "stacking": null
           },
           "seriesOptions": {
            "column_95362627261": {
             "name": "total_order",
             "yAxis": 0
            }
           },
           "showDataLabels": false,
           "sizemode": "diameter",
           "sortX": true,
           "sortY": true,
           "swappedAxes": false,
           "textFormat": "",
           "useAggregationsUi": true,
           "valuesOptions": {},
           "version": 2,
           "xAxis": {
            "labels": {
             "enabled": true
            },
            "type": "-"
           },
           "yAxis": [
            {
             "type": "-"
            },
            {
             "opposite": true,
             "type": "-"
            }
           ]
          }
         }
        ]
       },
       "datasetPreviewNameToCmdIdMap": {},
       "diffDeletes": [],
       "diffInserts": [],
       "displayType": "redashChart",
       "error": null,
       "errorDetails": null,
       "errorSummary": null,
       "errorTraceType": null,
       "finishTime": 0,
       "globalVars": {},
       "guid": "",
       "height": "auto",
       "hideCommandCode": false,
       "hideCommandResult": false,
       "iPythonMetadata": null,
       "inputWidgets": {},
       "isLockedInExamMode": false,
       "latestUser": "a user",
       "latestUserId": null,
       "listResultMetadata": null,
       "metadata": {},
       "nuid": "53970e16-054a-454e-9d8b-b61b0b794880",
       "origId": 0,
       "parentHierarchy": [],
       "pivotAggregation": null,
       "pivotColumns": null,
       "position": 62,
       "resultDbfsErrorMessage": null,
       "resultDbfsStatus": "INLINED_IN_TREE",
       "results": null,
       "showCommandTitle": false,
       "startTime": 0,
       "state": "input",
       "streamStates": {},
       "subcommandOptions": {
        "queryPlan": {
         "groups": [
          {
           "column": "OrderDate",
           "type": "column"
          }
         ],
         "selects": [
          {
           "column": "OrderDate",
           "type": "column"
          },
          {
           "alias": "column_95362627261",
           "args": [
            {
             "column": "total_order",
             "type": "column"
            }
           ],
           "function": "SUM",
           "type": "function"
          }
         ]
        }
       },
       "submitTime": 0,
       "subtype": "tableResultSubCmd.visualization",
       "tableResultIndex": 0,
       "tableResultSettingsMap": {},
       "useConsistentColors": false,
       "version": "CommandV1",
       "width": "auto",
       "workflows": [],
       "xColumns": null,
       "yColumns": null
      }
     },
     "output_type": "display_data"
    }
   ],
   "source": [
    "df_sales.groupBy('OrderDate').agg(count('OrderNumber').alias('total_order')).display()"
   ]
  },
  {
   "cell_type": "code",
   "execution_count": null,
   "metadata": {
    "application/vnd.databricks.v1+cell": {
     "cellMetadata": {
      "byteLimit": 2048000,
      "rowLimit": 10000
     },
     "inputWidgets": {},
     "nuid": "2e91534a-5f88-49fc-bdbf-b6339512caa1",
     "showTitle": false,
     "tableResultSettingsMap": {},
     "title": ""
    }
   },
   "outputs": [
    {
     "data": {
      "text/html": [
       "<style scoped>\n",
       "  .table-result-container {\n",
       "    max-height: 300px;\n",
       "    overflow: auto;\n",
       "  }\n",
       "  table, th, td {\n",
       "    border: 1px solid black;\n",
       "    border-collapse: collapse;\n",
       "  }\n",
       "  th, td {\n",
       "    padding: 5px;\n",
       "  }\n",
       "  th {\n",
       "    text-align: left;\n",
       "  }\n",
       "</style><div class='table-result-container'><table class='table-result'><thead style='background-color: white'><tr><th>ProductCategoryKey</th><th>CategoryName</th></tr></thead><tbody><tr><td>1</td><td>Bikes</td></tr><tr><td>2</td><td>Components</td></tr><tr><td>3</td><td>Clothing</td></tr><tr><td>4</td><td>Accessories</td></tr></tbody></table></div>"
      ]
     },
     "metadata": {
      "application/vnd.databricks.v1+output": {
       "addedWidgets": {},
       "aggData": [],
       "aggError": "",
       "aggOverflow": false,
       "aggSchema": [],
       "aggSeriesLimitReached": false,
       "aggType": "",
       "arguments": {},
       "columnCustomDisplayInfos": {},
       "data": [
        [
         1,
         "Bikes"
        ],
        [
         2,
         "Components"
        ],
        [
         3,
         "Clothing"
        ],
        [
         4,
         "Accessories"
        ]
       ],
       "datasetInfos": [],
       "dbfsResultPath": null,
       "isJsonSchema": true,
       "metadata": {},
       "overflow": false,
       "plotOptions": {
        "customPlotOptions": {},
        "displayType": "table",
        "pivotAggregation": null,
        "pivotColumns": null,
        "xColumns": null,
        "yColumns": null
       },
       "removedWidgets": [],
       "schema": [
        {
         "metadata": "{}",
         "name": "ProductCategoryKey",
         "type": "\"integer\""
        },
        {
         "metadata": "{}",
         "name": "CategoryName",
         "type": "\"string\""
        }
       ],
       "type": "table"
      }
     },
     "output_type": "display_data"
    },
    {
     "data": {
      "text/plain": [
       "Databricks visualization. Run in Databricks to view."
      ]
     },
     "metadata": {
      "application/vnd.databricks.v1.subcommand+json": {
       "baseErrorDetails": null,
       "bindings": {},
       "collapsed": false,
       "command": "%python\n__backend_agg_display_orig = display\n__backend_agg_dfs = []\ndef __backend_agg_display_new(df):\n    __backend_agg_df_modules = [\"pandas.core.frame\", \"databricks.koalas.frame\", \"pyspark.sql.dataframe\", \"pyspark.pandas.frame\", \"pyspark.sql.connect.dataframe\"]\n    if (type(df).__module__ in __backend_agg_df_modules and type(df).__name__ == 'DataFrame') or isinstance(df, list):\n        __backend_agg_dfs.append(df)\n\ndisplay = __backend_agg_display_new\n\ndef __backend_agg_user_code_fn():\n    import base64\n    exec(base64.standard_b64decode(\"ZGZfcHJvZHVjdF9jYXRlZ29yaWVzLmRpc3BsYXkoKQ==\").decode())\n\ntry:\n    # run user code\n    __backend_agg_user_code_fn()\n\n    #reset display function\n    display = __backend_agg_display_orig\n\n    if len(__backend_agg_dfs) > 0:\n        # create a temp view\n        if type(__backend_agg_dfs[0]).__module__ == \"databricks.koalas.frame\":\n            # koalas dataframe\n            __backend_agg_dfs[0].to_spark().createOrReplaceTempView(\"DatabricksViewe71cbec\")\n        elif type(__backend_agg_dfs[0]).__module__ == \"pandas.core.frame\" or isinstance(__backend_agg_dfs[0], list):\n            # pandas dataframe\n            spark.createDataFrame(__backend_agg_dfs[0]).createOrReplaceTempView(\"DatabricksViewe71cbec\")\n        else:\n            __backend_agg_dfs[0].createOrReplaceTempView(\"DatabricksViewe71cbec\")\n        #run backend agg\n        display(spark.sql(\"\"\"WITH q AS (select * from DatabricksViewe71cbec) SELECT `CategoryName`,SUM(`ProductCategoryKey`) `column_95362627265` FROM q GROUP BY `CategoryName`\"\"\"))\n    else:\n        displayHTML(\"dataframe no longer exists. If you're using dataframe.display(), use display(dataframe) instead.\")\n\n\nfinally:\n    spark.sql(\"drop view if exists DatabricksViewe71cbec\")\n    display = __backend_agg_display_orig\n    del __backend_agg_display_new\n    del __backend_agg_display_orig\n    del __backend_agg_dfs\n    del __backend_agg_user_code_fn\n\n",
       "commandTitle": "Visualization 1",
       "commandType": "auto",
       "commandVersion": 0,
       "commentThread": [],
       "commentsVisible": false,
       "contentSha256Hex": null,
       "customPlotOptions": {
        "redashChart": [
         {
          "key": "type",
          "value": "CHART"
         },
         {
          "key": "options",
          "value": {
           "alignYAxesAtZero": true,
           "coefficient": 1,
           "columnConfigurationMap": {
            "x": {
             "column": "CategoryName",
             "id": "column_95362627264"
            },
            "y": [
             {
              "column": "ProductCategoryKey",
              "id": "column_95362627265",
              "transform": "SUM"
             }
            ]
           },
           "dateTimeFormat": "DD/MM/YYYY HH:mm",
           "direction": {
            "type": "counterclockwise"
           },
           "error_y": {
            "type": "data",
            "visible": true
           },
           "globalSeriesType": "pie",
           "legend": {
            "traceorder": "normal"
           },
           "missingValuesAsZero": true,
           "numberFormat": "0,0.[00000]",
           "percentFormat": "0[.]00%",
           "series": {
            "error_y": {
             "type": "data",
             "visible": true
            },
            "stacking": null
           },
           "seriesOptions": {
            "column_95362627265": {
             "name": "ProductCategoryKey",
             "type": "pie",
             "yAxis": 0
            }
           },
           "showDataLabels": true,
           "sizemode": "diameter",
           "sortX": true,
           "sortY": true,
           "swappedAxes": false,
           "textFormat": "",
           "useAggregationsUi": true,
           "valuesOptions": {},
           "version": 2,
           "xAxis": {
            "labels": {
             "enabled": true
            },
            "type": "-"
           },
           "yAxis": [
            {
             "type": "-"
            },
            {
             "opposite": true,
             "type": "-"
            }
           ]
          }
         }
        ]
       },
       "datasetPreviewNameToCmdIdMap": {},
       "diffDeletes": [],
       "diffInserts": [],
       "displayType": "redashChart",
       "error": null,
       "errorDetails": null,
       "errorSummary": null,
       "errorTraceType": null,
       "finishTime": 0,
       "globalVars": {},
       "guid": "",
       "height": "auto",
       "hideCommandCode": false,
       "hideCommandResult": false,
       "iPythonMetadata": null,
       "inputWidgets": {},
       "isLockedInExamMode": false,
       "latestUser": "a user",
       "latestUserId": null,
       "listResultMetadata": null,
       "metadata": {},
       "nuid": "5ef47add-8998-43c3-8707-5309c2c99e84",
       "origId": 0,
       "parentHierarchy": [],
       "pivotAggregation": null,
       "pivotColumns": null,
       "position": 63,
       "resultDbfsErrorMessage": null,
       "resultDbfsStatus": "INLINED_IN_TREE",
       "results": null,
       "showCommandTitle": false,
       "startTime": 0,
       "state": "input",
       "streamStates": {},
       "subcommandOptions": {
        "queryPlan": {
         "groups": [
          {
           "column": "CategoryName",
           "type": "column"
          }
         ],
         "selects": [
          {
           "column": "CategoryName",
           "type": "column"
          },
          {
           "alias": "column_95362627265",
           "args": [
            {
             "column": "ProductCategoryKey",
             "type": "column"
            }
           ],
           "function": "SUM",
           "type": "function"
          }
         ]
        }
       },
       "submitTime": 0,
       "subtype": "tableResultSubCmd.visualization",
       "tableResultIndex": 0,
       "tableResultSettingsMap": {},
       "useConsistentColors": false,
       "version": "CommandV1",
       "width": "auto",
       "workflows": [],
       "xColumns": null,
       "yColumns": null
      }
     },
     "output_type": "display_data"
    }
   ],
   "source": [
    "df_product_categories.display()"
   ]
  },
  {
   "cell_type": "code",
   "execution_count": null,
   "metadata": {
    "application/vnd.databricks.v1+cell": {
     "cellMetadata": {
      "byteLimit": 2048000,
      "rowLimit": 10000
     },
     "inputWidgets": {},
     "nuid": "4e5f949e-e5ee-4a61-82eb-bb6f206f297a",
     "showTitle": false,
     "tableResultSettingsMap": {},
     "title": ""
    }
   },
   "outputs": [
    {
     "data": {
      "text/html": [
       "<style scoped>\n",
       "  .table-result-container {\n",
       "    max-height: 300px;\n",
       "    overflow: auto;\n",
       "  }\n",
       "  table, th, td {\n",
       "    border: 1px solid black;\n",
       "    border-collapse: collapse;\n",
       "  }\n",
       "  th, td {\n",
       "    padding: 5px;\n",
       "  }\n",
       "  th {\n",
       "    text-align: left;\n",
       "  }\n",
       "</style><div class='table-result-container'><table class='table-result'><thead style='background-color: white'><tr><th>SalesTerritoryKey</th><th>Region</th><th>Country</th><th>Continent</th></tr></thead><tbody><tr><td>1</td><td>Northwest</td><td>United States</td><td>North America</td></tr><tr><td>2</td><td>Northeast</td><td>United States</td><td>North America</td></tr><tr><td>3</td><td>Central</td><td>United States</td><td>North America</td></tr><tr><td>4</td><td>Southwest</td><td>United States</td><td>North America</td></tr><tr><td>5</td><td>Southeast</td><td>United States</td><td>North America</td></tr><tr><td>6</td><td>Canada</td><td>Canada</td><td>North America</td></tr><tr><td>7</td><td>France</td><td>France</td><td>Europe</td></tr><tr><td>8</td><td>Germany</td><td>Germany</td><td>Europe</td></tr><tr><td>9</td><td>Australia</td><td>Australia</td><td>Pacific</td></tr><tr><td>10</td><td>United Kingdom</td><td>United Kingdom</td><td>Europe</td></tr></tbody></table></div>"
      ]
     },
     "metadata": {
      "application/vnd.databricks.v1+output": {
       "addedWidgets": {},
       "aggData": [],
       "aggError": "",
       "aggOverflow": false,
       "aggSchema": [],
       "aggSeriesLimitReached": false,
       "aggType": "",
       "arguments": {},
       "columnCustomDisplayInfos": {},
       "data": [
        [
         1,
         "Northwest",
         "United States",
         "North America"
        ],
        [
         2,
         "Northeast",
         "United States",
         "North America"
        ],
        [
         3,
         "Central",
         "United States",
         "North America"
        ],
        [
         4,
         "Southwest",
         "United States",
         "North America"
        ],
        [
         5,
         "Southeast",
         "United States",
         "North America"
        ],
        [
         6,
         "Canada",
         "Canada",
         "North America"
        ],
        [
         7,
         "France",
         "France",
         "Europe"
        ],
        [
         8,
         "Germany",
         "Germany",
         "Europe"
        ],
        [
         9,
         "Australia",
         "Australia",
         "Pacific"
        ],
        [
         10,
         "United Kingdom",
         "United Kingdom",
         "Europe"
        ]
       ],
       "datasetInfos": [],
       "dbfsResultPath": null,
       "isJsonSchema": true,
       "metadata": {},
       "overflow": false,
       "plotOptions": {
        "customPlotOptions": {},
        "displayType": "table",
        "pivotAggregation": null,
        "pivotColumns": null,
        "xColumns": null,
        "yColumns": null
       },
       "removedWidgets": [],
       "schema": [
        {
         "metadata": "{}",
         "name": "SalesTerritoryKey",
         "type": "\"integer\""
        },
        {
         "metadata": "{}",
         "name": "Region",
         "type": "\"string\""
        },
        {
         "metadata": "{}",
         "name": "Country",
         "type": "\"string\""
        },
        {
         "metadata": "{}",
         "name": "Continent",
         "type": "\"string\""
        }
       ],
       "type": "table"
      }
     },
     "output_type": "display_data"
    },
    {
     "data": {
      "text/plain": [
       "Databricks visualization. Run in Databricks to view."
      ]
     },
     "metadata": {
      "application/vnd.databricks.v1.subcommand+json": {
       "baseErrorDetails": null,
       "bindings": {},
       "collapsed": false,
       "command": "%python\n__backend_agg_display_orig = display\n__backend_agg_dfs = []\ndef __backend_agg_display_new(df):\n    __backend_agg_df_modules = [\"pandas.core.frame\", \"databricks.koalas.frame\", \"pyspark.sql.dataframe\", \"pyspark.pandas.frame\", \"pyspark.sql.connect.dataframe\"]\n    if (type(df).__module__ in __backend_agg_df_modules and type(df).__name__ == 'DataFrame') or isinstance(df, list):\n        __backend_agg_dfs.append(df)\n\ndisplay = __backend_agg_display_new\n\ndef __backend_agg_user_code_fn():\n    import base64\n    exec(base64.standard_b64decode(\"ZGZfdGVycml0b3JpZXMuZGlzcGxheSgp\").decode())\n\ntry:\n    # run user code\n    __backend_agg_user_code_fn()\n\n    #reset display function\n    display = __backend_agg_display_orig\n\n    if len(__backend_agg_dfs) > 0:\n        # create a temp view\n        if type(__backend_agg_dfs[0]).__module__ == \"databricks.koalas.frame\":\n            # koalas dataframe\n            __backend_agg_dfs[0].to_spark().createOrReplaceTempView(\"DatabricksViewb062ac2\")\n        elif type(__backend_agg_dfs[0]).__module__ == \"pandas.core.frame\" or isinstance(__backend_agg_dfs[0], list):\n            # pandas dataframe\n            spark.createDataFrame(__backend_agg_dfs[0]).createOrReplaceTempView(\"DatabricksViewb062ac2\")\n        else:\n            __backend_agg_dfs[0].createOrReplaceTempView(\"DatabricksViewb062ac2\")\n        #run backend agg\n        display(spark.sql(\"\"\"WITH q AS (select * from DatabricksViewb062ac2) SELECT `Country`,AVG(`SalesTerritoryKey`) `column_95362627279` FROM q GROUP BY `Country`\"\"\"))\n    else:\n        displayHTML(\"dataframe no longer exists. If you're using dataframe.display(), use display(dataframe) instead.\")\n\n\nfinally:\n    spark.sql(\"drop view if exists DatabricksViewb062ac2\")\n    display = __backend_agg_display_orig\n    del __backend_agg_display_new\n    del __backend_agg_display_orig\n    del __backend_agg_dfs\n    del __backend_agg_user_code_fn\n\n",
       "commandTitle": "Visualization 1",
       "commandType": "auto",
       "commandVersion": 0,
       "commentThread": [],
       "commentsVisible": false,
       "contentSha256Hex": null,
       "customPlotOptions": {
        "redashChart": [
         {
          "key": "type",
          "value": "CHART"
         },
         {
          "key": "options",
          "value": {
           "alignYAxesAtZero": true,
           "coefficient": 1,
           "columnConfigurationMap": {
            "x": {
             "column": "Country",
             "id": "column_95362627281"
            },
            "y": [
             {
              "column": "SalesTerritoryKey",
              "id": "column_95362627279",
              "transform": "AVG"
             }
            ]
           },
           "dateTimeFormat": "DD/MM/YYYY HH:mm",
           "direction": {
            "type": "counterclockwise"
           },
           "error_y": {
            "type": "data",
            "visible": true
           },
           "globalSeriesType": "column",
           "isAggregationOn": true,
           "legend": {
            "traceorder": "normal"
           },
           "missingValuesAsZero": true,
           "numberFormat": "0,0.[00000]",
           "percentFormat": "0[.]00%",
           "series": {
            "error_y": {
             "type": "data",
             "visible": true
            },
            "stacking": null
           },
           "seriesOptions": {
            "column_95362627276": {
             "type": "column",
             "yAxis": 0
            },
            "column_95362627279": {
             "type": "column",
             "yAxis": 0
            }
           },
           "showDataLabels": false,
           "sizemode": "diameter",
           "sortX": true,
           "sortY": true,
           "swappedAxes": false,
           "textFormat": "",
           "useAggregationsUi": true,
           "valuesOptions": {},
           "version": 2,
           "xAxis": {
            "labels": {
             "enabled": true
            },
            "type": "-"
           },
           "yAxis": [
            {
             "type": "-"
            },
            {
             "opposite": true,
             "type": "-"
            }
           ]
          }
         }
        ]
       },
       "datasetPreviewNameToCmdIdMap": {},
       "diffDeletes": [],
       "diffInserts": [],
       "displayType": "redashChart",
       "error": null,
       "errorDetails": null,
       "errorSummary": null,
       "errorTraceType": null,
       "finishTime": 0,
       "globalVars": {},
       "guid": "",
       "height": "auto",
       "hideCommandCode": false,
       "hideCommandResult": false,
       "iPythonMetadata": null,
       "inputWidgets": {},
       "isLockedInExamMode": false,
       "latestUser": "a user",
       "latestUserId": null,
       "listResultMetadata": null,
       "metadata": {},
       "nuid": "dc5487d1-3af6-429c-93d4-81d5318729e0",
       "origId": 0,
       "parentHierarchy": [],
       "pivotAggregation": null,
       "pivotColumns": null,
       "position": 64,
       "resultDbfsErrorMessage": null,
       "resultDbfsStatus": "INLINED_IN_TREE",
       "results": null,
       "showCommandTitle": false,
       "startTime": 0,
       "state": "input",
       "streamStates": {},
       "subcommandOptions": {
        "queryPlan": {
         "groups": [
          {
           "column": "Country",
           "type": "column"
          }
         ],
         "selects": [
          {
           "column": "Country",
           "type": "column"
          },
          {
           "alias": "column_95362627279",
           "args": [
            {
             "column": "SalesTerritoryKey",
             "type": "column"
            }
           ],
           "function": "AVG",
           "type": "function"
          }
         ]
        }
       },
       "submitTime": 0,
       "subtype": "tableResultSubCmd.visualization",
       "tableResultIndex": 0,
       "tableResultSettingsMap": {},
       "useConsistentColors": false,
       "version": "CommandV1",
       "width": "auto",
       "workflows": [],
       "xColumns": null,
       "yColumns": null
      }
     },
     "output_type": "display_data"
    }
   ],
   "source": [
    "df_territories.display()"
   ]
  },
  {
   "cell_type": "code",
   "execution_count": null,
   "metadata": {
    "application/vnd.databricks.v1+cell": {
     "cellMetadata": {
      "byteLimit": 2048000,
      "rowLimit": 10000
     },
     "inputWidgets": {},
     "nuid": "f529e7c4-2c02-4f45-b520-95d6c2e785e0",
     "showTitle": false,
     "tableResultSettingsMap": {},
     "title": ""
    }
   },
   "outputs": [
    {
     "data": {
      "text/html": [
       "\n",
       "            <div>\n",
       "                <p><b>SparkSession - hive</b></p>\n",
       "                \n",
       "        <div>\n",
       "            <p><b>SparkContext</b></p>\n",
       "\n",
       "            <p><a href=\"/?o=4095235603449085#setting/sparkui/0528-132412-vqyh3mz7/driver-5068988153489497799\">Spark UI</a></p>\n",
       "\n",
       "            <dl>\n",
       "              <dt>Version</dt>\n",
       "                <dd><code>v3.5.0</code></dd>\n",
       "              <dt>Master</dt>\n",
       "                <dd><code>local[*, 4]</code></dd>\n",
       "              <dt>AppName</dt>\n",
       "                <dd><code>Databricks Shell</code></dd>\n",
       "            </dl>\n",
       "        </div>\n",
       "        \n",
       "            </div>\n",
       "        "
      ],
      "text/plain": [
       "<pyspark.sql.session.SparkSession at 0x773f06105ed0>"
      ]
     },
     "execution_count": 83,
     "metadata": {},
     "output_type": "execute_result"
    }
   ],
   "source": []
  }
 ],
 "metadata": {
  "application/vnd.databricks.v1+notebook": {
   "computePreferences": null,
   "dashboards": [
    {
     "elements": [],
     "globalVars": {},
     "guid": "",
     "layoutOption": {
      "grid": true,
      "stack": true
     },
     "nuid": "99e32a34-5f1c-41b8-bec7-ffeee08c0026",
     "origId": 5441492651747266,
     "title": "Untitled",
     "version": "DashboardViewV1",
     "width": 1024
    }
   ],
   "environmentMetadata": {
    "base_environment": "",
    "environment_version": "2"
   },
   "inputWidgetPreferences": null,
   "language": "python",
   "notebookMetadata": {
    "pythonIndentUnit": 4
   },
   "notebookName": "aw-project-transformations",
   "widgets": {}
  },
  "language_info": {
   "name": "python"
  }
 },
 "nbformat": 4,
 "nbformat_minor": 0
}
